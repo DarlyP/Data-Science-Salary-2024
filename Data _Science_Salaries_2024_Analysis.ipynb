{
 "cells": [
  {
   "cell_type": "markdown",
   "metadata": {},
   "source": [
    "# ***Data Science Salaries 2024 Analysis***\n",
    "\n",
    "---"
   ]
  },
  {
   "cell_type": "markdown",
   "metadata": {},
   "source": [
    "## ***Introduction***\n",
    "\n",
    "---\n",
    "\n",
    "By [Darly Guntur Darris Purba](https://github.com/DarlyP)\n",
    "\n",
    "![Data Science](DataScience.jpg)\n",
    "\n",
    "Data : [Latest Data Science Job Salaries 2020 - 2024](https://www.kaggle.com/datasets/saurabhbadole/latest-data-science-job-salaries-2024)\n",
    "\n",
    "---"
   ]
  },
  {
   "cell_type": "markdown",
   "metadata": {},
   "source": [
    "## **Objektif**\n",
    "\n",
    "--- "
   ]
  },
  {
   "cell_type": "markdown",
   "metadata": {},
   "source": [
    "\n",
    "Peningkatan pekerjaan di bidang data science terjadi seiring dengan meningkatnya kebutuhan akan analisis data. Beberapa faktor yang mempengaruhinya meliputi ledakan data, perkembangan data, kesadaran akan pentingnya data, pertumbuhan kecerdasan buatan dan analisis prediktif, serta penerapan data science di berbagai industri. Investasi dalam pelatihan dan pendidikan juga turut memperkuat tren ini. Dampak dari kebutuhan yang terus meningkat dan permintaan yang terus berkembang terhadap ilmu data science, menyebabkan pentingnya analisis pola tren gaji bagi individu yang tertarik memasuki dunia data.\n",
    "\n",
    "---"
   ]
  },
  {
   "cell_type": "markdown",
   "metadata": {},
   "source": [
    "### ***Identifikasi Masalah*** \n",
    "\n",
    "\n",
    "\n",
    "---"
   ]
  },
  {
   "cell_type": "markdown",
   "metadata": {},
   "source": [
    "#### **Metode 5W + 1H**\n",
    "\n",
    "---"
   ]
  },
  {
   "cell_type": "markdown",
   "metadata": {},
   "source": [
    "\n",
    "Metode | Analisis\n",
    "---|---\n",
    "Who | Siapa yang menjadi sumber daya utama untuk memberikan wawasan dan pemahaman tentang tren gaji dalam dunia Data Science?\n",
    "What | Apakah terdapat perbedaan dalam persepsi nilai antara profesional dengan tingkat pengalaman yang berbeda?\n",
    "Where | Wilayah mana yang mempengaruhi tingkat gaji?\n",
    "When | Kapan terjadi perubahan signifikan dalam tren data?\n",
    "Why | \tBagaimana perusahaan menggunakan wawasan dari data gaji ini dalam proses perekrutan karyawan?\n",
    "How | \tBagaimana penggunaan teknik analisis statistik membantu dalam memahami pola atau tren dalam data gaji?\n",
    "\n",
    "---"
   ]
  },
  {
   "cell_type": "markdown",
   "metadata": {},
   "source": [
    "## ***Import Libraries***\n",
    "\n",
    "---"
   ]
  },
  {
   "cell_type": "code",
   "execution_count": 1,
   "metadata": {},
   "outputs": [],
   "source": [
    "import pandas as pd\n",
    "import seaborn as sns\n",
    "import matplotlib.pyplot as plt\n",
    "import random\n",
    "import numpy as np\n",
    "from math import pi\n",
    "from scipy import stats\n",
    "from bokeh.plotting import figure, show, output_notebook\n",
    "from bokeh.models import ColumnDataSource, HoverTool, NumeralTickFormatter\n",
    "from bokeh.transform import factor_cmap, cumsum\n",
    "from collections import Counter\n",
    "from bokeh.layouts import gridplot\n",
    "from bokeh.palettes import Category20\n",
    "from feature_engine.outliers import Winsorizer"
   ]
  },
  {
   "cell_type": "markdown",
   "metadata": {},
   "source": [
    "---"
   ]
  },
  {
   "cell_type": "markdown",
   "metadata": {},
   "source": [
    "## ***Data Loading*** \n",
    "\n",
    "---"
   ]
  },
  {
   "cell_type": "markdown",
   "metadata": {},
   "source": [
    "### ***Analisis Tabel*** \n",
    "\n",
    "---"
   ]
  },
  {
   "cell_type": "code",
   "execution_count": 2,
   "metadata": {},
   "outputs": [],
   "source": [
    "# Membuka Data CSV\n",
    "pd.set_option('display.max_rows', None)\n",
    "df = pd.read_csv('DataScience_salaries_2024.csv', na_values=['N/A', 'NA'])"
   ]
  },
  {
   "cell_type": "code",
   "execution_count": 3,
   "metadata": {},
   "outputs": [
    {
     "data": {
      "text/html": [
       "<div>\n",
       "<style scoped>\n",
       "    .dataframe tbody tr th:only-of-type {\n",
       "        vertical-align: middle;\n",
       "    }\n",
       "\n",
       "    .dataframe tbody tr th {\n",
       "        vertical-align: top;\n",
       "    }\n",
       "\n",
       "    .dataframe thead th {\n",
       "        text-align: right;\n",
       "    }\n",
       "</style>\n",
       "<table border=\"1\" class=\"dataframe\">\n",
       "  <thead>\n",
       "    <tr style=\"text-align: right;\">\n",
       "      <th></th>\n",
       "      <th>work_year</th>\n",
       "      <th>experience_level</th>\n",
       "      <th>employment_type</th>\n",
       "      <th>job_title</th>\n",
       "      <th>salary</th>\n",
       "      <th>salary_currency</th>\n",
       "      <th>salary_in_usd</th>\n",
       "      <th>employee_residence</th>\n",
       "      <th>remote_ratio</th>\n",
       "      <th>company_location</th>\n",
       "      <th>company_size</th>\n",
       "    </tr>\n",
       "  </thead>\n",
       "  <tbody>\n",
       "    <tr>\n",
       "      <th>0</th>\n",
       "      <td>2021</td>\n",
       "      <td>MI</td>\n",
       "      <td>FT</td>\n",
       "      <td>Data Scientist</td>\n",
       "      <td>30400000</td>\n",
       "      <td>CLP</td>\n",
       "      <td>40038</td>\n",
       "      <td>CL</td>\n",
       "      <td>100</td>\n",
       "      <td>CL</td>\n",
       "      <td>L</td>\n",
       "    </tr>\n",
       "    <tr>\n",
       "      <th>1</th>\n",
       "      <td>2021</td>\n",
       "      <td>MI</td>\n",
       "      <td>FT</td>\n",
       "      <td>BI Data Analyst</td>\n",
       "      <td>11000000</td>\n",
       "      <td>HUF</td>\n",
       "      <td>36259</td>\n",
       "      <td>HU</td>\n",
       "      <td>50</td>\n",
       "      <td>US</td>\n",
       "      <td>L</td>\n",
       "    </tr>\n",
       "    <tr>\n",
       "      <th>2</th>\n",
       "      <td>2020</td>\n",
       "      <td>MI</td>\n",
       "      <td>FT</td>\n",
       "      <td>Data Scientist</td>\n",
       "      <td>11000000</td>\n",
       "      <td>HUF</td>\n",
       "      <td>35735</td>\n",
       "      <td>HU</td>\n",
       "      <td>50</td>\n",
       "      <td>HU</td>\n",
       "      <td>L</td>\n",
       "    </tr>\n",
       "    <tr>\n",
       "      <th>3</th>\n",
       "      <td>2021</td>\n",
       "      <td>MI</td>\n",
       "      <td>FT</td>\n",
       "      <td>ML Engineer</td>\n",
       "      <td>8500000</td>\n",
       "      <td>JPY</td>\n",
       "      <td>77364</td>\n",
       "      <td>JP</td>\n",
       "      <td>50</td>\n",
       "      <td>JP</td>\n",
       "      <td>S</td>\n",
       "    </tr>\n",
       "    <tr>\n",
       "      <th>4</th>\n",
       "      <td>2022</td>\n",
       "      <td>SE</td>\n",
       "      <td>FT</td>\n",
       "      <td>Lead Machine Learning Engineer</td>\n",
       "      <td>7500000</td>\n",
       "      <td>INR</td>\n",
       "      <td>95386</td>\n",
       "      <td>IN</td>\n",
       "      <td>50</td>\n",
       "      <td>IN</td>\n",
       "      <td>L</td>\n",
       "    </tr>\n",
       "  </tbody>\n",
       "</table>\n",
       "</div>"
      ],
      "text/plain": [
       "   work_year experience_level employment_type                       job_title  \\\n",
       "0       2021               MI              FT                  Data Scientist   \n",
       "1       2021               MI              FT                 BI Data Analyst   \n",
       "2       2020               MI              FT                  Data Scientist   \n",
       "3       2021               MI              FT                     ML Engineer   \n",
       "4       2022               SE              FT  Lead Machine Learning Engineer   \n",
       "\n",
       "     salary salary_currency  salary_in_usd employee_residence  remote_ratio  \\\n",
       "0  30400000             CLP          40038                 CL           100   \n",
       "1  11000000             HUF          36259                 HU            50   \n",
       "2  11000000             HUF          35735                 HU            50   \n",
       "3   8500000             JPY          77364                 JP            50   \n",
       "4   7500000             INR          95386                 IN            50   \n",
       "\n",
       "  company_location company_size  \n",
       "0               CL            L  \n",
       "1               US            L  \n",
       "2               HU            L  \n",
       "3               JP            S  \n",
       "4               IN            L  "
      ]
     },
     "execution_count": 3,
     "metadata": {},
     "output_type": "execute_result"
    }
   ],
   "source": [
    "# Menampilkan 5 Data Teratas\n",
    "df.head(5)"
   ]
  },
  {
   "cell_type": "code",
   "execution_count": 4,
   "metadata": {},
   "outputs": [
    {
     "data": {
      "text/html": [
       "<div>\n",
       "<style scoped>\n",
       "    .dataframe tbody tr th:only-of-type {\n",
       "        vertical-align: middle;\n",
       "    }\n",
       "\n",
       "    .dataframe tbody tr th {\n",
       "        vertical-align: top;\n",
       "    }\n",
       "\n",
       "    .dataframe thead th {\n",
       "        text-align: right;\n",
       "    }\n",
       "</style>\n",
       "<table border=\"1\" class=\"dataframe\">\n",
       "  <thead>\n",
       "    <tr style=\"text-align: right;\">\n",
       "      <th></th>\n",
       "      <th>work_year</th>\n",
       "      <th>experience_level</th>\n",
       "      <th>employment_type</th>\n",
       "      <th>job_title</th>\n",
       "      <th>salary</th>\n",
       "      <th>salary_currency</th>\n",
       "      <th>salary_in_usd</th>\n",
       "      <th>employee_residence</th>\n",
       "      <th>remote_ratio</th>\n",
       "      <th>company_location</th>\n",
       "      <th>company_size</th>\n",
       "    </tr>\n",
       "  </thead>\n",
       "  <tbody>\n",
       "    <tr>\n",
       "      <th>14833</th>\n",
       "      <td>2022</td>\n",
       "      <td>MI</td>\n",
       "      <td>FT</td>\n",
       "      <td>Business Intelligence Developer</td>\n",
       "      <td>15000</td>\n",
       "      <td>USD</td>\n",
       "      <td>15000</td>\n",
       "      <td>GH</td>\n",
       "      <td>100</td>\n",
       "      <td>GH</td>\n",
       "      <td>M</td>\n",
       "    </tr>\n",
       "    <tr>\n",
       "      <th>14834</th>\n",
       "      <td>2020</td>\n",
       "      <td>EX</td>\n",
       "      <td>FT</td>\n",
       "      <td>Staff Data Analyst</td>\n",
       "      <td>15000</td>\n",
       "      <td>USD</td>\n",
       "      <td>15000</td>\n",
       "      <td>NG</td>\n",
       "      <td>0</td>\n",
       "      <td>CA</td>\n",
       "      <td>M</td>\n",
       "    </tr>\n",
       "    <tr>\n",
       "      <th>14835</th>\n",
       "      <td>2021</td>\n",
       "      <td>EN</td>\n",
       "      <td>FT</td>\n",
       "      <td>Machine Learning Developer</td>\n",
       "      <td>15000</td>\n",
       "      <td>USD</td>\n",
       "      <td>15000</td>\n",
       "      <td>TH</td>\n",
       "      <td>100</td>\n",
       "      <td>TH</td>\n",
       "      <td>L</td>\n",
       "    </tr>\n",
       "    <tr>\n",
       "      <th>14836</th>\n",
       "      <td>2022</td>\n",
       "      <td>EN</td>\n",
       "      <td>FT</td>\n",
       "      <td>Data Analyst</td>\n",
       "      <td>15000</td>\n",
       "      <td>USD</td>\n",
       "      <td>15000</td>\n",
       "      <td>ID</td>\n",
       "      <td>0</td>\n",
       "      <td>ID</td>\n",
       "      <td>L</td>\n",
       "    </tr>\n",
       "    <tr>\n",
       "      <th>14837</th>\n",
       "      <td>2020</td>\n",
       "      <td>EN</td>\n",
       "      <td>PT</td>\n",
       "      <td>ML Engineer</td>\n",
       "      <td>14000</td>\n",
       "      <td>EUR</td>\n",
       "      <td>15966</td>\n",
       "      <td>DE</td>\n",
       "      <td>100</td>\n",
       "      <td>DE</td>\n",
       "      <td>S</td>\n",
       "    </tr>\n",
       "  </tbody>\n",
       "</table>\n",
       "</div>"
      ],
      "text/plain": [
       "       work_year experience_level employment_type  \\\n",
       "14833       2022               MI              FT   \n",
       "14834       2020               EX              FT   \n",
       "14835       2021               EN              FT   \n",
       "14836       2022               EN              FT   \n",
       "14837       2020               EN              PT   \n",
       "\n",
       "                             job_title  salary salary_currency  salary_in_usd  \\\n",
       "14833  Business Intelligence Developer   15000             USD          15000   \n",
       "14834               Staff Data Analyst   15000             USD          15000   \n",
       "14835       Machine Learning Developer   15000             USD          15000   \n",
       "14836                     Data Analyst   15000             USD          15000   \n",
       "14837                      ML Engineer   14000             EUR          15966   \n",
       "\n",
       "      employee_residence  remote_ratio company_location company_size  \n",
       "14833                 GH           100               GH            M  \n",
       "14834                 NG             0               CA            M  \n",
       "14835                 TH           100               TH            L  \n",
       "14836                 ID             0               ID            L  \n",
       "14837                 DE           100               DE            S  "
      ]
     },
     "execution_count": 4,
     "metadata": {},
     "output_type": "execute_result"
    }
   ],
   "source": [
    "# Menampilkan 5 Data Terbawah\n",
    "df.tail(5)"
   ]
  },
  {
   "cell_type": "code",
   "execution_count": 5,
   "metadata": {},
   "outputs": [
    {
     "data": {
      "text/html": [
       "<div>\n",
       "<style scoped>\n",
       "    .dataframe tbody tr th:only-of-type {\n",
       "        vertical-align: middle;\n",
       "    }\n",
       "\n",
       "    .dataframe tbody tr th {\n",
       "        vertical-align: top;\n",
       "    }\n",
       "\n",
       "    .dataframe thead th {\n",
       "        text-align: right;\n",
       "    }\n",
       "</style>\n",
       "<table border=\"1\" class=\"dataframe\">\n",
       "  <thead>\n",
       "    <tr style=\"text-align: right;\">\n",
       "      <th></th>\n",
       "      <th>work_year</th>\n",
       "      <th>experience_level</th>\n",
       "      <th>employment_type</th>\n",
       "      <th>job_title</th>\n",
       "      <th>salary</th>\n",
       "      <th>salary_currency</th>\n",
       "      <th>salary_in_usd</th>\n",
       "      <th>employee_residence</th>\n",
       "      <th>remote_ratio</th>\n",
       "      <th>company_location</th>\n",
       "      <th>company_size</th>\n",
       "    </tr>\n",
       "  </thead>\n",
       "  <tbody>\n",
       "    <tr>\n",
       "      <th>100</th>\n",
       "      <td>2024</td>\n",
       "      <td>SE</td>\n",
       "      <td>FT</td>\n",
       "      <td>Research Engineer</td>\n",
       "      <td>450000</td>\n",
       "      <td>USD</td>\n",
       "      <td>450000</td>\n",
       "      <td>US</td>\n",
       "      <td>0</td>\n",
       "      <td>US</td>\n",
       "      <td>M</td>\n",
       "    </tr>\n",
       "    <tr>\n",
       "      <th>101</th>\n",
       "      <td>2020</td>\n",
       "      <td>MI</td>\n",
       "      <td>FT</td>\n",
       "      <td>Research Scientist</td>\n",
       "      <td>450000</td>\n",
       "      <td>USD</td>\n",
       "      <td>450000</td>\n",
       "      <td>US</td>\n",
       "      <td>0</td>\n",
       "      <td>US</td>\n",
       "      <td>M</td>\n",
       "    </tr>\n",
       "    <tr>\n",
       "      <th>102</th>\n",
       "      <td>2024</td>\n",
       "      <td>SE</td>\n",
       "      <td>FT</td>\n",
       "      <td>AI Architect</td>\n",
       "      <td>449000</td>\n",
       "      <td>USD</td>\n",
       "      <td>449000</td>\n",
       "      <td>US</td>\n",
       "      <td>0</td>\n",
       "      <td>US</td>\n",
       "      <td>M</td>\n",
       "    </tr>\n",
       "    <tr>\n",
       "      <th>103</th>\n",
       "      <td>2024</td>\n",
       "      <td>EX</td>\n",
       "      <td>FT</td>\n",
       "      <td>Head of Machine Learning</td>\n",
       "      <td>448000</td>\n",
       "      <td>USD</td>\n",
       "      <td>448000</td>\n",
       "      <td>US</td>\n",
       "      <td>100</td>\n",
       "      <td>US</td>\n",
       "      <td>M</td>\n",
       "    </tr>\n",
       "    <tr>\n",
       "      <th>104</th>\n",
       "      <td>2024</td>\n",
       "      <td>MI</td>\n",
       "      <td>FT</td>\n",
       "      <td>Research Engineer</td>\n",
       "      <td>440000</td>\n",
       "      <td>USD</td>\n",
       "      <td>440000</td>\n",
       "      <td>US</td>\n",
       "      <td>0</td>\n",
       "      <td>US</td>\n",
       "      <td>M</td>\n",
       "    </tr>\n",
       "    <tr>\n",
       "      <th>105</th>\n",
       "      <td>2024</td>\n",
       "      <td>MI</td>\n",
       "      <td>FT</td>\n",
       "      <td>Research Engineer</td>\n",
       "      <td>440000</td>\n",
       "      <td>USD</td>\n",
       "      <td>440000</td>\n",
       "      <td>US</td>\n",
       "      <td>0</td>\n",
       "      <td>US</td>\n",
       "      <td>M</td>\n",
       "    </tr>\n",
       "    <tr>\n",
       "      <th>106</th>\n",
       "      <td>2024</td>\n",
       "      <td>MI</td>\n",
       "      <td>FT</td>\n",
       "      <td>ML Engineer</td>\n",
       "      <td>440000</td>\n",
       "      <td>USD</td>\n",
       "      <td>440000</td>\n",
       "      <td>US</td>\n",
       "      <td>0</td>\n",
       "      <td>US</td>\n",
       "      <td>M</td>\n",
       "    </tr>\n",
       "    <tr>\n",
       "      <th>107</th>\n",
       "      <td>2024</td>\n",
       "      <td>MI</td>\n",
       "      <td>FT</td>\n",
       "      <td>Research Engineer</td>\n",
       "      <td>440000</td>\n",
       "      <td>USD</td>\n",
       "      <td>440000</td>\n",
       "      <td>US</td>\n",
       "      <td>0</td>\n",
       "      <td>US</td>\n",
       "      <td>M</td>\n",
       "    </tr>\n",
       "    <tr>\n",
       "      <th>108</th>\n",
       "      <td>2024</td>\n",
       "      <td>SE</td>\n",
       "      <td>FT</td>\n",
       "      <td>Research Scientist</td>\n",
       "      <td>440000</td>\n",
       "      <td>USD</td>\n",
       "      <td>440000</td>\n",
       "      <td>US</td>\n",
       "      <td>0</td>\n",
       "      <td>US</td>\n",
       "      <td>M</td>\n",
       "    </tr>\n",
       "    <tr>\n",
       "      <th>109</th>\n",
       "      <td>2024</td>\n",
       "      <td>MI</td>\n",
       "      <td>FT</td>\n",
       "      <td>Research Engineer</td>\n",
       "      <td>440000</td>\n",
       "      <td>USD</td>\n",
       "      <td>440000</td>\n",
       "      <td>US</td>\n",
       "      <td>0</td>\n",
       "      <td>US</td>\n",
       "      <td>M</td>\n",
       "    </tr>\n",
       "    <tr>\n",
       "      <th>110</th>\n",
       "      <td>2024</td>\n",
       "      <td>MI</td>\n",
       "      <td>FT</td>\n",
       "      <td>Research Scientist</td>\n",
       "      <td>440000</td>\n",
       "      <td>USD</td>\n",
       "      <td>440000</td>\n",
       "      <td>US</td>\n",
       "      <td>0</td>\n",
       "      <td>US</td>\n",
       "      <td>M</td>\n",
       "    </tr>\n",
       "    <tr>\n",
       "      <th>111</th>\n",
       "      <td>2024</td>\n",
       "      <td>SE</td>\n",
       "      <td>FT</td>\n",
       "      <td>Research Engineer</td>\n",
       "      <td>440000</td>\n",
       "      <td>USD</td>\n",
       "      <td>440000</td>\n",
       "      <td>US</td>\n",
       "      <td>0</td>\n",
       "      <td>US</td>\n",
       "      <td>M</td>\n",
       "    </tr>\n",
       "    <tr>\n",
       "      <th>112</th>\n",
       "      <td>2024</td>\n",
       "      <td>MI</td>\n",
       "      <td>FT</td>\n",
       "      <td>Research Engineer</td>\n",
       "      <td>440000</td>\n",
       "      <td>USD</td>\n",
       "      <td>440000</td>\n",
       "      <td>US</td>\n",
       "      <td>0</td>\n",
       "      <td>US</td>\n",
       "      <td>M</td>\n",
       "    </tr>\n",
       "    <tr>\n",
       "      <th>113</th>\n",
       "      <td>2024</td>\n",
       "      <td>MI</td>\n",
       "      <td>FT</td>\n",
       "      <td>Research Engineer</td>\n",
       "      <td>440000</td>\n",
       "      <td>USD</td>\n",
       "      <td>440000</td>\n",
       "      <td>US</td>\n",
       "      <td>0</td>\n",
       "      <td>US</td>\n",
       "      <td>M</td>\n",
       "    </tr>\n",
       "    <tr>\n",
       "      <th>114</th>\n",
       "      <td>2024</td>\n",
       "      <td>SE</td>\n",
       "      <td>FT</td>\n",
       "      <td>Research Scientist</td>\n",
       "      <td>440000</td>\n",
       "      <td>USD</td>\n",
       "      <td>440000</td>\n",
       "      <td>US</td>\n",
       "      <td>0</td>\n",
       "      <td>US</td>\n",
       "      <td>M</td>\n",
       "    </tr>\n",
       "  </tbody>\n",
       "</table>\n",
       "</div>"
      ],
      "text/plain": [
       "     work_year experience_level employment_type                 job_title  \\\n",
       "100       2024               SE              FT         Research Engineer   \n",
       "101       2020               MI              FT        Research Scientist   \n",
       "102       2024               SE              FT              AI Architect   \n",
       "103       2024               EX              FT  Head of Machine Learning   \n",
       "104       2024               MI              FT         Research Engineer   \n",
       "105       2024               MI              FT         Research Engineer   \n",
       "106       2024               MI              FT               ML Engineer   \n",
       "107       2024               MI              FT         Research Engineer   \n",
       "108       2024               SE              FT        Research Scientist   \n",
       "109       2024               MI              FT         Research Engineer   \n",
       "110       2024               MI              FT        Research Scientist   \n",
       "111       2024               SE              FT         Research Engineer   \n",
       "112       2024               MI              FT         Research Engineer   \n",
       "113       2024               MI              FT         Research Engineer   \n",
       "114       2024               SE              FT        Research Scientist   \n",
       "\n",
       "     salary salary_currency  salary_in_usd employee_residence  remote_ratio  \\\n",
       "100  450000             USD         450000                 US             0   \n",
       "101  450000             USD         450000                 US             0   \n",
       "102  449000             USD         449000                 US             0   \n",
       "103  448000             USD         448000                 US           100   \n",
       "104  440000             USD         440000                 US             0   \n",
       "105  440000             USD         440000                 US             0   \n",
       "106  440000             USD         440000                 US             0   \n",
       "107  440000             USD         440000                 US             0   \n",
       "108  440000             USD         440000                 US             0   \n",
       "109  440000             USD         440000                 US             0   \n",
       "110  440000             USD         440000                 US             0   \n",
       "111  440000             USD         440000                 US             0   \n",
       "112  440000             USD         440000                 US             0   \n",
       "113  440000             USD         440000                 US             0   \n",
       "114  440000             USD         440000                 US             0   \n",
       "\n",
       "    company_location company_size  \n",
       "100               US            M  \n",
       "101               US            M  \n",
       "102               US            M  \n",
       "103               US            M  \n",
       "104               US            M  \n",
       "105               US            M  \n",
       "106               US            M  \n",
       "107               US            M  \n",
       "108               US            M  \n",
       "109               US            M  \n",
       "110               US            M  \n",
       "111               US            M  \n",
       "112               US            M  \n",
       "113               US            M  \n",
       "114               US            M  "
      ]
     },
     "execution_count": 5,
     "metadata": {},
     "output_type": "execute_result"
    }
   ],
   "source": [
    "# Menampilkan Data Pada Rentang Tertentu \n",
    "df.iloc[100:115]"
   ]
  },
  {
   "cell_type": "code",
   "execution_count": 6,
   "metadata": {},
   "outputs": [
    {
     "data": {
      "text/plain": [
       "Index(['work_year', 'experience_level', 'employment_type', 'job_title',\n",
       "       'salary', 'salary_currency', 'salary_in_usd', 'employee_residence',\n",
       "       'remote_ratio', 'company_location', 'company_size'],\n",
       "      dtype='object')"
      ]
     },
     "execution_count": 6,
     "metadata": {},
     "output_type": "execute_result"
    }
   ],
   "source": [
    "# Menampilkan Kolom pada Data\n",
    "df.columns"
   ]
  },
  {
   "cell_type": "code",
   "execution_count": 7,
   "metadata": {},
   "outputs": [
    {
     "data": {
      "text/plain": [
       "(14838, 11)"
      ]
     },
     "execution_count": 7,
     "metadata": {},
     "output_type": "execute_result"
    }
   ],
   "source": [
    "# Menampilkan Jumlah Baris dan Kolom\n",
    "df.shape"
   ]
  },
  {
   "cell_type": "markdown",
   "metadata": {},
   "source": [
    "***Insight :***\n",
    "\n",
    "Pada dataframe `DataScience_salaries_2024.csv` ditemukan ada 14838 baris dan 11 kolom. Penjelasan untuk setiap kolomnya adalah sebagai berikut:\n",
    "\n",
    "Kolom | Penjelasan\n",
    "--- | ---\n",
    "`work_year` | Data tahun yang terkait dengan gaji pekerjaan.\n",
    "`experience_level` | Tingkat pengalaman karyawan (pemula, menengah, senior)\n",
    "`employment_type` | Jenis Pekerjaan (kontrak, paruh waktu, kontrak)\n",
    "`job_title` | Jabatan atau peran karyawan terkait Data Science\n",
    "`salary` | Gaji karyawan\n",
    "`salary_currency` | Mata uang yang menunjukkan gaji\n",
    "`salary_in_usd` | Konversi gaji ke USD (untuk standarisasi)\n",
    "`employee_residence` | Lokasi tempat tinggal karyawan\n",
    "`remote_ratio` | Rasio pekerjaan jarak jauh yang diperbolehkan \n",
    "`company_location` | Lokasi perusahaan\n",
    "`company_size` | Ukuran perusahaan bedasarkan jumlah karyawan atau pendapatan\n",
    "\n",
    "---"
   ]
  },
  {
   "cell_type": "markdown",
   "metadata": {},
   "source": [
    "## ***Exploratory Data Analysis***\n",
    "\n",
    "---"
   ]
  },
  {
   "cell_type": "markdown",
   "metadata": {},
   "source": [
    "### **Analisis Deskripsi Kolom**\n",
    "\n",
    "---"
   ]
  },
  {
   "cell_type": "markdown",
   "metadata": {},
   "source": [
    "#### **Menampilkan Negara Pekerja**\n",
    "\n",
    "---"
   ]
  },
  {
   "cell_type": "code",
   "execution_count": 8,
   "metadata": {},
   "outputs": [
    {
     "data": {
      "text/plain": [
       "['CL',\n",
       " 'HU',\n",
       " 'JP',\n",
       " 'IN',\n",
       " 'IL',\n",
       " 'NO',\n",
       " 'TH',\n",
       " 'PH',\n",
       " 'CA',\n",
       " 'MX',\n",
       " 'US',\n",
       " 'ZA',\n",
       " 'HK',\n",
       " 'TR',\n",
       " 'GB',\n",
       " 'QA',\n",
       " 'AU',\n",
       " 'FR',\n",
       " 'DK',\n",
       " 'CH',\n",
       " 'DE',\n",
       " 'ES',\n",
       " 'EG',\n",
       " 'UA',\n",
       " 'RU',\n",
       " 'PL',\n",
       " 'NZ',\n",
       " 'BE',\n",
       " 'NG',\n",
       " 'PR',\n",
       " 'MY',\n",
       " 'BR',\n",
       " 'SA',\n",
       " 'IE',\n",
       " 'SG',\n",
       " 'TN',\n",
       " 'PT',\n",
       " 'NL',\n",
       " 'CO',\n",
       " 'SE',\n",
       " 'IT',\n",
       " 'CN',\n",
       " 'BA',\n",
       " 'AE',\n",
       " 'MD',\n",
       " 'LT',\n",
       " 'DO',\n",
       " 'UZ',\n",
       " 'MU',\n",
       " 'FI',\n",
       " 'IR',\n",
       " 'DZ',\n",
       " 'IQ',\n",
       " 'JE',\n",
       " 'AR',\n",
       " 'HR',\n",
       " 'SI',\n",
       " 'LB',\n",
       " 'AT',\n",
       " 'VN',\n",
       " 'KE',\n",
       " 'GR',\n",
       " 'BG',\n",
       " 'MT',\n",
       " 'LV',\n",
       " 'BO',\n",
       " 'CZ',\n",
       " 'RO',\n",
       " 'CY',\n",
       " 'GE',\n",
       " 'GH',\n",
       " 'KR',\n",
       " 'EE',\n",
       " 'PK',\n",
       " 'KW',\n",
       " 'AM',\n",
       " 'LU',\n",
       " 'AD',\n",
       " 'OM',\n",
       " 'AS',\n",
       " 'CF',\n",
       " 'UG',\n",
       " 'PE',\n",
       " 'RS',\n",
       " 'CR',\n",
       " 'HN',\n",
       " 'EC',\n",
       " 'ID']"
      ]
     },
     "execution_count": 8,
     "metadata": {},
     "output_type": "execute_result"
    }
   ],
   "source": [
    "# Menampilkan Nilai Unik untuk employee residence \n",
    "df[\"employee_residence\"].unique().tolist()"
   ]
  },
  {
   "cell_type": "code",
   "execution_count": 9,
   "metadata": {},
   "outputs": [
    {
     "data": {
      "text/plain": [
       "['CL',\n",
       " 'US',\n",
       " 'HU',\n",
       " 'JP',\n",
       " 'IN',\n",
       " 'ID',\n",
       " 'DE',\n",
       " 'CH',\n",
       " 'IL',\n",
       " 'SG',\n",
       " 'AS',\n",
       " 'NO',\n",
       " 'TH',\n",
       " 'PH',\n",
       " 'CA',\n",
       " 'MX',\n",
       " 'ZA',\n",
       " 'HK',\n",
       " 'TR',\n",
       " 'GB',\n",
       " 'QA',\n",
       " 'AU',\n",
       " 'DK',\n",
       " 'ES',\n",
       " 'FR',\n",
       " 'EG',\n",
       " 'UA',\n",
       " 'RU',\n",
       " 'PL',\n",
       " 'NZ',\n",
       " 'NG',\n",
       " 'PR',\n",
       " 'BR',\n",
       " 'SA',\n",
       " 'IE',\n",
       " 'NL',\n",
       " 'CO',\n",
       " 'SE',\n",
       " 'BA',\n",
       " 'AE',\n",
       " 'LT',\n",
       " 'PT',\n",
       " 'MU',\n",
       " 'CZ',\n",
       " 'FI',\n",
       " 'IR',\n",
       " 'DZ',\n",
       " 'IQ',\n",
       " 'CN',\n",
       " 'AR',\n",
       " 'HR',\n",
       " 'SI',\n",
       " 'LB',\n",
       " 'AT',\n",
       " 'VN',\n",
       " 'KE',\n",
       " 'GR',\n",
       " 'BE',\n",
       " 'MT',\n",
       " 'LV',\n",
       " 'IT',\n",
       " 'GI',\n",
       " 'RO',\n",
       " 'EE',\n",
       " 'LU',\n",
       " 'KR',\n",
       " 'AM',\n",
       " 'AD',\n",
       " 'OM',\n",
       " 'BS',\n",
       " 'CF',\n",
       " 'PK',\n",
       " 'MY',\n",
       " 'GH',\n",
       " 'HN',\n",
       " 'MD',\n",
       " 'EC']"
      ]
     },
     "execution_count": 9,
     "metadata": {},
     "output_type": "execute_result"
    }
   ],
   "source": [
    "# Menampilkan Nilai Unik untuk company location\n",
    "df[\"company_location\"].unique().tolist()"
   ]
  },
  {
   "cell_type": "markdown",
   "metadata": {},
   "source": [
    "***Insight* :**\n",
    "\n",
    "Dari tabel `employee_residence` dan `company_location` diketahui terdapat banyak kode negara yang menjadi objek dari data ini. Adapun rincian kode ini akan ditampilkan pada tabel berikut:\n",
    "\n",
    "| Kode Negara | Nama Negara               |\n",
    "|-------------|---------------------------|\n",
    "| CL          | Chile                     |\n",
    "| HU          | Hungaria                  |\n",
    "| JP          | Jepang                    |\n",
    "| IN          | India                     |\n",
    "| IL          | Israel                    |\n",
    "| NO          | Norwegia                  |\n",
    "| TH          | Thailand                  |\n",
    "| PH          | Filipina                  |\n",
    "| CA          | Kanada                    |\n",
    "| MX          | Meksiko                   |\n",
    "| US          | Amerika Serikat           |\n",
    "| ZA          | Afrika Selatan            |\n",
    "| HK          | Hong Kong                 |\n",
    "| TR          | Turki                     |\n",
    "| GB          | Britania Raya             |\n",
    "| QA          | Qatar                     |\n",
    "| AU          | Australia                 |\n",
    "| FR          | Prancis                   |\n",
    "| DK          | Denmark                   |\n",
    "| CH          | Swiss                     |\n",
    "| DE          | Jerman                    |\n",
    "| ES          | Spanyol                   |\n",
    "| EG          | Mesir                     |\n",
    "| UA          | Ukraina                   |\n",
    "| RU          | Rusia                     |\n",
    "| PL          | Polandia                  |\n",
    "| NZ          | Selandia Baru             |\n",
    "| NG          | Nigeria                   |\n",
    "| PR          | Puerto Riko               |\n",
    "| BR          | Brasil                    |\n",
    "| SA          | Arab Saudi                |\n",
    "| IE          | Irlandia                  |\n",
    "| NL          | Belanda                   |\n",
    "| CO          | Kolombia                  |\n",
    "| SE          | Swedia                    |\n",
    "| BA          | Bosnia dan Herzegovina    |\n",
    "| AE          | Uni Emirat Arab           |\n",
    "| LT          | Lituania                  |\n",
    "| PT          | Portugal                  |\n",
    "| MU          | Mauritius                 |\n",
    "| CZ          | Republik Ceko             |\n",
    "| FI          | Finlandia                 |\n",
    "| IR          | Iran                      |\n",
    "| DZ          | Aljazair                  |\n",
    "| IQ          | Irak                      |\n",
    "| CN          | Tiongkok                  |\n",
    "| AR          | Argentina                 |\n",
    "| HR          | Kroasia                   |\n",
    "| SI          | Slovenia                  |\n",
    "| LB          | Lebanon                   |\n",
    "| AT          | Austria                   |\n",
    "| VN          | Vietnam                   |\n",
    "| KE          | Kenya                     |\n",
    "| GR          | Yunani                    |\n",
    "| BE          | Belgia                    |\n",
    "| MT          | Malta                     |\n",
    "| LV          | Latvia                    |\n",
    "| IT          | Italia                    |\n",
    "| RO          | Rumania                   |\n",
    "| EE          | Estonia                   |\n",
    "| LU          | Luksemburg                |\n",
    "| KR          | Korea Selatan             |\n",
    "| AM          | Armenia                   |\n",
    "| AD          | Andorra                   |\n",
    "| OM          | Oman                      |\n",
    "| CF          | Republik Afrika Tengah    |\n",
    "| PK          | Pakistan                  |\n",
    "| MY          | Malaysia                  |\n",
    "| GH          | Ghana                     |\n",
    "| HN          | Honduras                  |\n",
    "| MD          | Moldova                   |\n",
    "| EC          | Ekuador                   |\n",
    "| ID          | Indonesia                 |\n",
    "| GI          | Gibraltar                 |\n",
    "| BS          | Bahamas                   |\n",
    "\n",
    "---\n"
   ]
  },
  {
   "cell_type": "markdown",
   "metadata": {},
   "source": [
    "#### **Menampilkan Pengalaman Pekerja**\n",
    "\n",
    "---"
   ]
  },
  {
   "cell_type": "code",
   "execution_count": 10,
   "metadata": {},
   "outputs": [
    {
     "data": {
      "text/plain": [
       "['MI', 'SE', 'EN', 'EX']"
      ]
     },
     "execution_count": 10,
     "metadata": {},
     "output_type": "execute_result"
    }
   ],
   "source": [
    "# Menampilkan Nilai Unik untuk experience level\n",
    "df[\"experience_level\"].unique().tolist()"
   ]
  },
  {
   "cell_type": "markdown",
   "metadata": {},
   "source": [
    "***Insight :***\n",
    "\n",
    "Dari tabel `experience_level` diketahui terdapat level pengalaman yang menjadi objek dari data ini. Adapun rincian akan ditampilkan pada tabel berikut:\n",
    "\n",
    "Level Pengalaman | Keterangan\n",
    "--- | ---\n",
    "MI | Mid Level\n",
    "SE | Senior Level\n",
    "EN | Entry Level\n",
    "EX | Expert Level\n",
    "\n",
    "---"
   ]
  },
  {
   "cell_type": "markdown",
   "metadata": {},
   "source": [
    "#### **Menampilkan Status Pekerjaan Pekerja**\n",
    "\n",
    "---"
   ]
  },
  {
   "cell_type": "code",
   "execution_count": 11,
   "metadata": {},
   "outputs": [
    {
     "data": {
      "text/plain": [
       "['FT', 'FL', 'CT', 'PT']"
      ]
     },
     "execution_count": 11,
     "metadata": {},
     "output_type": "execute_result"
    }
   ],
   "source": [
    "# Menampilkan Nilai Unik untuk employment type\n",
    "df[\"employment_type\"].unique().tolist()"
   ]
  },
  {
   "cell_type": "markdown",
   "metadata": {},
   "source": [
    "***Insight :***\n",
    "\n",
    "\n",
    "Dari tabel `employment_type` diketahui terdapat jenis pekerjaan yang menjadi objek dari data ini. Adapun rincian akan ditampilkan pada tabel berikut:\n",
    "\n",
    "Jenis Pekerjaan | Keterangan\n",
    "--- | ---\n",
    "FT | Full Time\n",
    "FL | Freelance\n",
    "CT | Contract\n",
    "PT | Part Time\n",
    "\n",
    "---"
   ]
  },
  {
   "cell_type": "markdown",
   "metadata": {},
   "source": [
    "#### **Menampilkan Jabatan Pekerjaan Pekerja**\n",
    "\n",
    "---"
   ]
  },
  {
   "cell_type": "code",
   "execution_count": 12,
   "metadata": {},
   "outputs": [
    {
     "data": {
      "text/plain": [
       "['Data Scientist',\n",
       " 'BI Data Analyst',\n",
       " 'ML Engineer',\n",
       " 'Lead Machine Learning Engineer',\n",
       " 'Data Science Manager',\n",
       " 'Head of Machine Learning',\n",
       " 'Research Engineer',\n",
       " 'Head of Data Science',\n",
       " 'AI Programmer',\n",
       " 'Machine Learning Engineer',\n",
       " 'Lead Data Scientist',\n",
       " 'Data Engineer',\n",
       " 'Applied Machine Learning Scientist',\n",
       " 'Lead Data Analyst',\n",
       " 'Data Analytics Manager',\n",
       " 'Data Integration Specialist',\n",
       " 'Principal Data Architect',\n",
       " 'NLP Engineer',\n",
       " 'Big Data Engineer',\n",
       " 'AI Research Engineer',\n",
       " 'Machine Learning Software Engineer',\n",
       " 'Data Analyst',\n",
       " 'Applied Data Scientist',\n",
       " 'AI Scientist',\n",
       " 'Data Analytics Lead',\n",
       " 'Business Data Analyst',\n",
       " 'Product Data Analyst',\n",
       " 'Computer Vision Engineer',\n",
       " 'Data Science Consultant',\n",
       " 'AI Architect',\n",
       " 'Analytics Engineer',\n",
       " 'Machine Learning Scientist',\n",
       " 'Research Scientist',\n",
       " 'Prompt Engineer',\n",
       " 'Principal Data Scientist',\n",
       " 'Applied Scientist',\n",
       " 'Deep Learning Engineer',\n",
       " 'Data Architect',\n",
       " 'AI Engineer',\n",
       " 'Data Infrastructure Engineer',\n",
       " 'Data Science',\n",
       " 'Director of Data Science',\n",
       " 'Data Science Tech Lead',\n",
       " 'BI Analyst',\n",
       " 'Data Lead',\n",
       " 'Head of Data',\n",
       " 'Analytics Engineering Manager',\n",
       " 'Data Product Owner',\n",
       " 'Business Intelligence',\n",
       " 'Machine Learning Infrastructure Engineer',\n",
       " 'Research Analyst',\n",
       " 'Managing Director Data Science',\n",
       " 'Finance Data Analyst',\n",
       " 'Data Operations Engineer',\n",
       " 'Robotics Software Engineer',\n",
       " 'MLOps Engineer',\n",
       " 'Lead Data Engineer',\n",
       " 'AI Developer',\n",
       " 'Data Science Lead',\n",
       " 'Data Science Engineer',\n",
       " 'Business Intelligence Manager',\n",
       " 'Business Intelligence Specialist',\n",
       " 'Business Intelligence Engineer',\n",
       " 'Data Modeler',\n",
       " 'AWS Data Architect',\n",
       " 'Machine Learning Researcher',\n",
       " 'Data Product Manager',\n",
       " 'Data Strategy Manager',\n",
       " 'ETL Developer',\n",
       " 'Cloud Data Architect',\n",
       " 'Computational Biologist',\n",
       " 'AI Software Engineer',\n",
       " 'Data Strategist',\n",
       " 'Data Manager',\n",
       " 'Business Intelligence Analyst',\n",
       " 'Applied Machine Learning Engineer',\n",
       " 'Data Specialist',\n",
       " 'AI Product Manager',\n",
       " 'Data Science Director',\n",
       " 'Software Data Engineer',\n",
       " 'Data Operations Specialist',\n",
       " 'BI Developer',\n",
       " 'Machine Learning Modeler',\n",
       " 'Decision Scientist',\n",
       " 'Data Management Specialist',\n",
       " 'Data Analyst Lead',\n",
       " 'Marketing Data Analyst',\n",
       " 'Machine Learning Manager',\n",
       " 'Principal Data Engineer',\n",
       " 'Data Science Practitioner',\n",
       " 'ML Ops Engineer',\n",
       " 'Principal Machine Learning Engineer',\n",
       " 'Data Quality Engineer',\n",
       " 'Cloud Database Engineer',\n",
       " 'Staff Machine Learning Engineer',\n",
       " 'Data Visualization Specialist',\n",
       " 'Data Scientist Lead',\n",
       " 'Robotics Engineer',\n",
       " 'Data Integration Developer',\n",
       " 'Data Developer',\n",
       " 'Machine Learning Developer',\n",
       " 'Staff Data Analyst',\n",
       " 'Business Intelligence Developer',\n",
       " 'Business Intelligence Lead',\n",
       " 'Data Pipeline Engineer',\n",
       " 'Data Quality Analyst',\n",
       " 'Data Visualization Engineer',\n",
       " 'Principal Data Analyst',\n",
       " 'Staff Data Scientist',\n",
       " 'Data Integration Engineer',\n",
       " 'Machine Learning Operations Engineer',\n",
       " 'Consultant Data Engineer',\n",
       " 'Cloud Data Engineer',\n",
       " 'Data Analytics Specialist',\n",
       " 'Data Operations Analyst',\n",
       " 'Data Science Analyst',\n",
       " 'AI Research Scientist',\n",
       " 'ETL Engineer',\n",
       " 'Computer Vision Software Engineer',\n",
       " 'Data Management Analyst',\n",
       " 'Data Operations Manager',\n",
       " 'Data Analytics Engineer',\n",
       " 'Data Visualization Analyst',\n",
       " 'Financial Data Analyst',\n",
       " 'Manager Data Management',\n",
       " 'Big Data Architect',\n",
       " 'Data Analytics Consultant',\n",
       " 'Autonomous Vehicle Technician',\n",
       " 'Big Data Developer',\n",
       " 'Deep Learning Researcher',\n",
       " 'Machine Learning Research Engineer',\n",
       " 'Data Management Consultant',\n",
       " 'Azure Data Engineer',\n",
       " 'Business Intelligence Data Analyst',\n",
       " 'Data Analytics Associate',\n",
       " 'Data Reporting Analyst',\n",
       " 'Marketing Data Scientist',\n",
       " 'Data Modeller',\n",
       " 'Marketing Data Engineer',\n",
       " 'Data DevOps Engineer',\n",
       " 'Data Operations Associate',\n",
       " 'Machine Learning Specialist',\n",
       " 'Encounter Data Management Professional',\n",
       " 'Applied Research Scientist',\n",
       " 'Admin & Data Analyst',\n",
       " 'Power BI Developer',\n",
       " 'Compliance Data Analyst',\n",
       " 'Sales Data Analyst',\n",
       " 'BI Data Engineer',\n",
       " 'Data Quality Manager',\n",
       " 'Quantitative Research Analyst',\n",
       " 'Insight Analyst',\n",
       " 'CRM Data Analyst']"
      ]
     },
     "execution_count": 12,
     "metadata": {},
     "output_type": "execute_result"
    }
   ],
   "source": [
    "# Menampilkan Nilai Unik untuk job title\n",
    "df[\"job_title\"].unique().tolist()"
   ]
  },
  {
   "cell_type": "code",
   "execution_count": 13,
   "metadata": {},
   "outputs": [
    {
     "data": {
      "text/plain": [
       "153"
      ]
     },
     "execution_count": 13,
     "metadata": {},
     "output_type": "execute_result"
    }
   ],
   "source": [
    "# Menampilkan Panjang Nilai Unik untuk job title\n",
    "len(df[\"job_title\"].unique())"
   ]
  },
  {
   "cell_type": "markdown",
   "metadata": {},
   "source": [
    "***Insight :***\n",
    "\n",
    "Dari tabel `job_title` diketahui judul pekerjaan yang menjadi objek data ini. Terdapat 153 entri unik mulai dari `Data Science` hingga `Insight Analyst`.\n",
    "\n",
    "---"
   ]
  },
  {
   "cell_type": "markdown",
   "metadata": {},
   "source": [
    "#### **Menampilkan Ukuran Perusahaan Pekerja1**\n",
    "\n",
    "---"
   ]
  },
  {
   "cell_type": "code",
   "execution_count": 14,
   "metadata": {},
   "outputs": [
    {
     "data": {
      "text/plain": [
       "array(['L', 'S', 'M'], dtype=object)"
      ]
     },
     "execution_count": 14,
     "metadata": {},
     "output_type": "execute_result"
    }
   ],
   "source": [
    "# Menampilkan Panjang Nilai Unik untuk company size\n",
    "df[\"company_size\"].unique()"
   ]
  },
  {
   "cell_type": "markdown",
   "metadata": {},
   "source": [
    "***Insight :***\n",
    "\n",
    "Informasi tentang ukuran perusahaan dapat diperoleh dari kolom `company_size` dalam tabel ini. Kolom ini membagi ukuran perusahaan menjadi tiga kategori berdasarkan jumlah karyawan atau pendapatan perusahaan.\n",
    "\n",
    "Kode | Keterangan\n",
    "--- | ---\n",
    "S | Small\n",
    "M | Medium\n",
    "L | Large\n",
    "\n",
    "---"
   ]
  },
  {
   "cell_type": "markdown",
   "metadata": {},
   "source": [
    "#### **Menampilkan Rasio Kerja Jarak Jauh Pekerja**\n",
    "\n",
    "---"
   ]
  },
  {
   "cell_type": "code",
   "execution_count": 15,
   "metadata": {},
   "outputs": [
    {
     "data": {
      "text/plain": [
       "array([100,  50,   0], dtype=int64)"
      ]
     },
     "execution_count": 15,
     "metadata": {},
     "output_type": "execute_result"
    }
   ],
   "source": [
    "# Menampilkan Panjang Nilai Unik untuk remote ratio\n",
    "df[\"remote_ratio\"].unique()"
   ]
  },
  {
   "cell_type": "markdown",
   "metadata": {},
   "source": [
    "***Insight :***\n",
    "\n",
    "Dari tabel `remote ratio` diketahui persentase kemungkinan untuk bekerja secara remote atau WFH. Kolom ini dibagi menjadi tiga tipe.\n",
    "\n",
    "Kode | Keterangan\n",
    "--- | ---\n",
    "100 | Bekerja secara *remote*\n",
    "50 | Bekerja setengah *remote* setengah kantor\n",
    "0 | Bekerja di kantor\n",
    "\n",
    "---"
   ]
  },
  {
   "cell_type": "markdown",
   "metadata": {},
   "source": [
    "#### **Menampilkan *Employee Residence & Company Location* di Indonesia**\n",
    "\n",
    "---"
   ]
  },
  {
   "cell_type": "code",
   "execution_count": 16,
   "metadata": {},
   "outputs": [
    {
     "data": {
      "text/html": [
       "<div>\n",
       "<style scoped>\n",
       "    .dataframe tbody tr th:only-of-type {\n",
       "        vertical-align: middle;\n",
       "    }\n",
       "\n",
       "    .dataframe tbody tr th {\n",
       "        vertical-align: top;\n",
       "    }\n",
       "\n",
       "    .dataframe thead th {\n",
       "        text-align: right;\n",
       "    }\n",
       "</style>\n",
       "<table border=\"1\" class=\"dataframe\">\n",
       "  <thead>\n",
       "    <tr style=\"text-align: right;\">\n",
       "      <th></th>\n",
       "      <th>work_year</th>\n",
       "      <th>experience_level</th>\n",
       "      <th>employment_type</th>\n",
       "      <th>job_title</th>\n",
       "      <th>salary</th>\n",
       "      <th>salary_currency</th>\n",
       "      <th>salary_in_usd</th>\n",
       "      <th>employee_residence</th>\n",
       "      <th>remote_ratio</th>\n",
       "      <th>company_location</th>\n",
       "      <th>company_size</th>\n",
       "    </tr>\n",
       "  </thead>\n",
       "  <tbody>\n",
       "    <tr>\n",
       "      <th>14836</th>\n",
       "      <td>2022</td>\n",
       "      <td>EN</td>\n",
       "      <td>FT</td>\n",
       "      <td>Data Analyst</td>\n",
       "      <td>15000</td>\n",
       "      <td>USD</td>\n",
       "      <td>15000</td>\n",
       "      <td>ID</td>\n",
       "      <td>0</td>\n",
       "      <td>ID</td>\n",
       "      <td>L</td>\n",
       "    </tr>\n",
       "  </tbody>\n",
       "</table>\n",
       "</div>"
      ],
      "text/plain": [
       "       work_year experience_level employment_type     job_title  salary  \\\n",
       "14836       2022               EN              FT  Data Analyst   15000   \n",
       "\n",
       "      salary_currency  salary_in_usd employee_residence  remote_ratio  \\\n",
       "14836             USD          15000                 ID             0   \n",
       "\n",
       "      company_location company_size  \n",
       "14836               ID            L  "
      ]
     },
     "execution_count": 16,
     "metadata": {},
     "output_type": "execute_result"
    }
   ],
   "source": [
    "# Menampilkan lokasi Tempat Tinggal Karyawan yang Berada di Indonesia\n",
    "df[df[\"employee_residence\"].isin([\"ID\"])]"
   ]
  },
  {
   "cell_type": "code",
   "execution_count": 17,
   "metadata": {},
   "outputs": [
    {
     "data": {
      "text/html": [
       "<div>\n",
       "<style scoped>\n",
       "    .dataframe tbody tr th:only-of-type {\n",
       "        vertical-align: middle;\n",
       "    }\n",
       "\n",
       "    .dataframe tbody tr th {\n",
       "        vertical-align: top;\n",
       "    }\n",
       "\n",
       "    .dataframe thead th {\n",
       "        text-align: right;\n",
       "    }\n",
       "</style>\n",
       "<table border=\"1\" class=\"dataframe\">\n",
       "  <thead>\n",
       "    <tr style=\"text-align: right;\">\n",
       "      <th></th>\n",
       "      <th>work_year</th>\n",
       "      <th>experience_level</th>\n",
       "      <th>employment_type</th>\n",
       "      <th>job_title</th>\n",
       "      <th>salary</th>\n",
       "      <th>salary_currency</th>\n",
       "      <th>salary_in_usd</th>\n",
       "      <th>employee_residence</th>\n",
       "      <th>remote_ratio</th>\n",
       "      <th>company_location</th>\n",
       "      <th>company_size</th>\n",
       "    </tr>\n",
       "  </thead>\n",
       "  <tbody>\n",
       "    <tr>\n",
       "      <th>15</th>\n",
       "      <td>2022</td>\n",
       "      <td>MI</td>\n",
       "      <td>FT</td>\n",
       "      <td>Data Scientist</td>\n",
       "      <td>4200000</td>\n",
       "      <td>INR</td>\n",
       "      <td>53416</td>\n",
       "      <td>IN</td>\n",
       "      <td>100</td>\n",
       "      <td>ID</td>\n",
       "      <td>L</td>\n",
       "    </tr>\n",
       "    <tr>\n",
       "      <th>14836</th>\n",
       "      <td>2022</td>\n",
       "      <td>EN</td>\n",
       "      <td>FT</td>\n",
       "      <td>Data Analyst</td>\n",
       "      <td>15000</td>\n",
       "      <td>USD</td>\n",
       "      <td>15000</td>\n",
       "      <td>ID</td>\n",
       "      <td>0</td>\n",
       "      <td>ID</td>\n",
       "      <td>L</td>\n",
       "    </tr>\n",
       "  </tbody>\n",
       "</table>\n",
       "</div>"
      ],
      "text/plain": [
       "       work_year experience_level employment_type       job_title   salary  \\\n",
       "15          2022               MI              FT  Data Scientist  4200000   \n",
       "14836       2022               EN              FT    Data Analyst    15000   \n",
       "\n",
       "      salary_currency  salary_in_usd employee_residence  remote_ratio  \\\n",
       "15                INR          53416                 IN           100   \n",
       "14836             USD          15000                 ID             0   \n",
       "\n",
       "      company_location company_size  \n",
       "15                  ID            L  \n",
       "14836               ID            L  "
      ]
     },
     "execution_count": 17,
     "metadata": {},
     "output_type": "execute_result"
    }
   ],
   "source": [
    "# Menampilkan Lokasi Perusahaan yang Berada di Indonesia\n",
    "df[df[\"company_location\"].isin([\"ID\"])]"
   ]
  },
  {
   "cell_type": "markdown",
   "metadata": {},
   "source": [
    "***Insight :***\n",
    "\n",
    "Ketersediaan data mengenai lokasi perusahaan maupun tempat tinggal karyawan di Indonesia masih terbatas. Oleh karena itu, menjelaskan data yang lebih spesifik mengenai pekerja *Data Science* dan kaitannya dengan gaji di Indonesia cukup sulit. Sebagai gantinya, akan dilakukan pendekatan yang lebih umum.\n",
    "\n",
    "---"
   ]
  },
  {
   "cell_type": "markdown",
   "metadata": {},
   "source": [
    "### **Visualisasi Data**\n",
    "\n",
    "---"
   ]
  },
  {
   "cell_type": "markdown",
   "metadata": {},
   "source": [
    "#### **Fungsi Grafik Visualiasi**\n",
    "\n",
    "---"
   ]
  },
  {
   "cell_type": "code",
   "execution_count": 18,
   "metadata": {},
   "outputs": [],
   "source": [
    "# Fungsi EDA Untuk Barplot 1 Kolom\n",
    "def plot_bar(df, x_column, title=\"Contoh Bar Plot\"):\n",
    "\t\t# Aktifkan output_notebook\n",
    "    output_notebook()\n",
    "    \n",
    "    # Menghitung jumlah nilai unik pada kolom 'x_column'\n",
    "    category_counts = Counter(df[x_column])\n",
    "    categories = list(category_counts.keys())\n",
    "    \n",
    "    # Membuat sumber data\n",
    "    source = ColumnDataSource(data=dict(x=categories, y=list(category_counts.values())))\n",
    "\n",
    "    # Generate random colors\n",
    "    random.seed(42)  # Memberikan seed agar warna acak konsisten\n",
    "    colors = [\"#%06x\" % random.randint(0, 0xFFFFFF) for i in range(len(categories))]\n",
    "\n",
    "    # Membuat plot\n",
    "    p = figure(x_range=categories, title=title,\n",
    "               toolbar_location=\"below\", tools=\"pan,box_zoom,wheel_zoom,reset,save\")\n",
    "\n",
    "    # Menambahkan bar plot dengan warna yang dihasilkan secara acak\n",
    "    p.vbar(x='x', top='y', width=0.9, source=source, \n",
    "           line_color='white', fill_color=factor_cmap('x', palette=colors, factors=categories), \n",
    "           legend_field=\"x\")\n",
    "\n",
    "    # Menambahkan hover tool\n",
    "    hover = HoverTool()\n",
    "    hover.tooltips = [(\"Kategori\", \"@x\"), (\"Jumlah\", \"@y{0,0}\")]\n",
    "    p.add_tools(hover)\n",
    "\n",
    "    p.xaxis.axis_label = title\n",
    "    p.yaxis.axis_label = 'Count'\n",
    "    p.xaxis.major_label_orientation = 1\n",
    "\n",
    "    # Mengatur tulisan axis-x dan axis-y menjadi tebal (bold)\n",
    "    p.xaxis.axis_label_text_font_style = \"bold\"\n",
    "    p.yaxis.axis_label_text_font_style = \"bold\"\n",
    "\n",
    "    # Mengatur ketebalan garis axis\n",
    "    p.xaxis.axis_line_width = 1.1\n",
    "    p.yaxis.axis_line_width = 1.1\n",
    "\n",
    "    # Mengatur label axis menjadi tebal\n",
    "    p.xaxis.major_label_text_font_style = \"bold\"\n",
    "    p.yaxis.major_label_text_font_style = \"bold\"\n",
    "\n",
    "    p.xgrid.grid_line_color = None\n",
    "    p.y_range.start = 0\n",
    "    p.y_range.end = max(category_counts.values()) + 0.2 * max(category_counts.values())\n",
    "\n",
    "    # Mengatur judul plot\n",
    "    p.title.text_font_size = '16pt'  # Ubah ukuran font judul\n",
    "    p.title.text_font_style = 'bold'  # Ubah gaya font judul menjadi tebal\n",
    "    p.title.align = \"center\"\n",
    "\n",
    "    # Mengatur posisi legenda di luar plot\n",
    "    p.legend.orientation = \"vertical\"\n",
    "    p.legend.location = \"top_right\"\n",
    "    p.legend.spacing = 10  # Menambahkan ruang antara legenda dan plot\n",
    "\n",
    "    show(p)\n"
   ]
  },
  {
   "cell_type": "code",
   "execution_count": 19,
   "metadata": {},
   "outputs": [],
   "source": [
    "# Fungsi EDA Untuk IQR plot & Histogram 1 Kolom\n",
    "def histogram_boxplot(df, nama_kolom, judul=\"Contoh Bar Plot\"):\n",
    "    # Mengaktifkan output di notebook\n",
    "    output_notebook()\n",
    "\n",
    "    # Ekstrak data kolom\n",
    "    data_kolom = df[nama_kolom]\n",
    "\n",
    "    # Plot histogram\n",
    "    hist, edges = np.histogram(data_kolom, bins=20)\n",
    "\n",
    "    # Generate random colors for the bars\n",
    "    colors = random.choices(Category20[20], k=len(hist))\n",
    "\n",
    "    p1 = figure(title=f\"{judul} (Histogram)\", tools=\"save,hover\", background_fill_color=\"#fafafa\",\n",
    "                width=600, height=400, tooltips=[(\"Jumlah\", \"@top\"), (\"Interval\", \"@left{0.00} hingga @right{0.00}\")],\n",
    "                x_axis_label=judul, y_axis_label=\"Frequency\")\n",
    "\n",
    "    # Konversi edges ke string untuk faktor\n",
    "    edges_str = [f\"{edges[i]:.2f} hingga {edges[i+1]:.2f}\" for i in range(len(edges)-1)]\n",
    "\n",
    "    p1.quad(top=hist, bottom=0, left=edges[:-1], right=edges[1:], \n",
    "            fill_color=colors, line_color=\"white\", alpha=0.7)\n",
    "\n",
    "    # Box plot\n",
    "    q1 = data_kolom.quantile(0.25)\n",
    "    q2 = data_kolom.quantile(0.50)\n",
    "    q3 = data_kolom.quantile(0.75)\n",
    "    iqr = q3 - q1\n",
    "\n",
    "    lower_whisker = data_kolom[data_kolom >= (q1 - 1.5 * iqr)].min()\n",
    "    upper_whisker = data_kolom[data_kolom <= (q3 + 1.5 * iqr)].max()\n",
    "\n",
    "    outliers = data_kolom[(data_kolom > upper_whisker) | (data_kolom < lower_whisker)]\n",
    "\n",
    "    p2 = figure(title=f\"{judul} (Boxplot)\", tools=\"save,hover\", background_fill_color=\"#fafafa\",\n",
    "                width=400, height=400, tooltips=[(\"Nilai\", \"@y\"), (\"Q1\", f\"{q1:.2f}\"), \n",
    "                                                 (\"Q2 (Median)\", f\"{q2:.2f}\"), (\"Q3\", f\"{q3:.2f}\"), \n",
    "                                                 (\"Lower Whisker\", f\"{lower_whisker:.2f}\"), \n",
    "                                                 (\"Upper Whisker\", f\"{upper_whisker:.2f}\")])\n",
    "\n",
    "    # Menambahkan elemen diagram kotak\n",
    "    p2.segment(1, lower_whisker, 1, q1, line_color=\"black\")\n",
    "    p2.segment(1, q3, 1, upper_whisker, line_color=\"black\")\n",
    "    p2.vbar(1, 0.7, q1, q3, fill_color=\"navy\", line_color=\"black\")\n",
    "    p2.vbar(1, 0.7, q2, q2, line_color=\"black\")\n",
    "\n",
    "    # Whiskers\n",
    "    p2.rect(1, lower_whisker, 0.2, 0.01, line_color=\"black\")\n",
    "    p2.rect(1, upper_whisker, 0.2, 0.01, line_color=\"black\")\n",
    "\n",
    "    # Outliers\n",
    "    p2.scatter([1]*len(outliers), outliers, size=6, color=\"red\", fill_alpha=0.6)\n",
    "\n",
    "    # Menghapus label sumbu dan tanda sumbu pada boxplot\n",
    "    p2.xaxis.axis_label = \"\"\n",
    "    p2.yaxis.axis_label = \"\"\n",
    "    p2.xaxis.visible = False\n",
    "    p2.yaxis.visible = False\n",
    "\n",
    "    # Set gaya label sumbu dan tanda sumbu\n",
    "    p1.xaxis.axis_label_text_font_style = \"bold\"\n",
    "    p1.xaxis.axis_label_text_font_size = \"10pt\"\n",
    "    p1.xaxis.major_label_text_font_style = \"bold\"\n",
    "    p1.xaxis.major_label_text_font_size = \"8pt\"\n",
    "    p1.yaxis.axis_label_text_font_style = \"bold\"\n",
    "    p1.yaxis.axis_label_text_font_size = \"10pt\"\n",
    "    p1.yaxis.major_label_text_font_style = \"bold\"\n",
    "    p1.yaxis.major_label_text_font_size = \"8pt\"\n",
    "\n",
    "    # Menghapus garis grid\n",
    "    p1.grid.grid_line_color = None\n",
    "    p2.grid.grid_line_color = None\n",
    "\n",
    "    # Mengatur formatter sumbu agar tidak menggunakan notasi ilmiah\n",
    "    p1.yaxis.formatter.use_scientific = False\n",
    "    p1.xaxis.formatter.use_scientific = False\n",
    "\n",
    "    # Menata plot dalam grid\n",
    "    grid = gridplot([[p1, p2]])\n",
    "\n",
    "    # Menampilkan plot\n",
    "    show(grid)\n",
    "\n",
    "# Contoh penggunaan:\n",
    "# Diasumsikan df adalah DataFrame dan sudah dimuat\n",
    "# df = pd.read_csv('file.csv')  # Gantilah ini dengan cara yang sesuai untuk memuat DataFrame Anda\n",
    "# histogram_boxplot(df, 'salary_in_usd', \"Salary in USD\")\n"
   ]
  },
  {
   "cell_type": "code",
   "execution_count": 20,
   "metadata": {},
   "outputs": [],
   "source": [
    "# Fungsi EDA Scatterplot dengan Regresi\n",
    "def scatter_plot_regression(df, x_col='Year', y_col='Salary', x_label='Tahun', y_label='Gaji Rata-rata', title='Diagram Sebaran dengan Garis Regresi'):\n",
    "    # Konversi data menjadi array numpy\n",
    "    x_data = df[x_col].values\n",
    "    y_data = df[y_col].values\n",
    "    \n",
    "    # Hitung garis regresi\n",
    "    m, b = np.polyfit(x_data, y_data, 1)\n",
    "    regression_line = m * x_data + b\n",
    "    \n",
    "    # Buat ColumnDataSource\n",
    "    source = ColumnDataSource(data={x_col: x_data, y_col: y_data, 'regression_line': regression_line})\n",
    "    \n",
    "    # Buat plot baru dengan judul dan label sumbu\n",
    "    p = figure(title=title, x_axis_label=x_label, y_axis_label=y_label, width=800, height=400,\n",
    "               tools=\"pan,box_zoom,wheel_zoom,reset,save\")\n",
    "    \n",
    "    # Tambahkan diagram sebaran\n",
    "    p.scatter(x_col, y_col, source=source, size=10, color=\"navy\", alpha=0.5, legend_label=y_label)\n",
    "    \n",
    "    # Tambahkan garis regresi\n",
    "    p.line(x_col, 'regression_line', source=source, line_width=2, line_color=\"red\", legend_label=\"Garis Regresi\")\n",
    "    \n",
    "    # Tambahkan alat hover untuk menampilkan nilai data\n",
    "    hover = HoverTool()\n",
    "    hover.tooltips = [(x_label, f\"@{x_col}\"), (y_label, f\"@{y_col}\")]\n",
    "    p.add_tools(hover)\n",
    "    \n",
    "    # Sesuaikan gaya label sumbu\n",
    "    p.xaxis.axis_label_text_font_style = \"bold\"\n",
    "    p.yaxis.axis_label_text_font_style = \"bold\"\n",
    "    \n",
    "    # Atur format untuk sumbu Y agar menampilkan nilai tanpa notasi ilmiah\n",
    "    p.yaxis.formatter = NumeralTickFormatter(format=\"0\")\n",
    "    \n",
    "    # Sesuaikan plot\n",
    "    p.legend.location = \"top_left\"\n",
    "    p.legend.click_policy = \"hide\"\n",
    "    \n",
    "    # Tampilkan plot langsung di notebook\n",
    "    show(p)\n",
    "    output_notebook()  # Untuk menampilkan plot di dalam notebook\n",
    "\n",
    "\n",
    "# # Data contoh\n",
    "# data = {\n",
    "#     'Year': [2021, 2021, 2021, 2022, 2022, 2023, 2023, 2024, 2024, 2024],\n",
    "#     'Salary': [50000, 55000, 60000, 65000, 70000, 72000, 75000, 78000, 80000, 85000]\n",
    "# }\n",
    "\n",
    "# # Buat DataFrame\n",
    "# df = pd.DataFrame(data)\n",
    "\n",
    "# # Menghitung rata-rata gaji untuk setiap tahun\n",
    "# avg_salaries = df.groupby('Year')['Salary'].mean().reset_index()\n",
    "\n",
    "# # Panggil fungsi dengan data rata-rata gaji per tahun\n",
    "# scatter_plot_with_regression(avg_salaries, x_col='Year', y_col='Salary', x_label='Tahun', y_label='Gaji Rata-rata', title='Perubahan Gaji Rata-rata dari Tahun 2021 hingga 2024')"
   ]
  },
  {
   "cell_type": "code",
   "execution_count": 21,
   "metadata": {},
   "outputs": [],
   "source": [
    "# Fungsi EDA Untuk Barplot 2 Kolom\n",
    "def plot_bar_2_column(df, x_column, y_column, title=\"Contoh Bar Plot\", x_label=\"X-axis\", y_label=\"Y-axis\"):\n",
    "    # Aktifkan output_notebook\n",
    "    output_notebook()\n",
    "    \n",
    "    # Membuat sumber data\n",
    "    source = ColumnDataSource(data=dict(\n",
    "        x=df[x_column].astype(str),  # Convert categories to strings\n",
    "        y=df[y_column]\n",
    "    ))\n",
    "\n",
    "    # Generate random colors\n",
    "    random.seed(42)  # Memberikan seed agar warna acak konsisten\n",
    "    colors = [\"#%06x\" % random.randint(0, 0xFFFFFF) for _ in range(len(df))]\n",
    "\n",
    "    # Membuat plot\n",
    "    p = figure(x_range=df[x_column].astype(str), title=title,\n",
    "               toolbar_location=\"below\", tools=\"pan,box_zoom,wheel_zoom,reset,save\")\n",
    "\n",
    "    # Menambahkan bar plot dengan warna yang dihasilkan secara acak\n",
    "    p.vbar(x='x', top='y', width=0.9, source=source, \n",
    "           line_color='white', fill_color=factor_cmap('x', palette=colors, factors=df[x_column].astype(str)), \n",
    "           legend_field=\"x\")\n",
    "\n",
    "    # Menambahkan hover tool dengan formatter untuk menghindari notasi ilmiah\n",
    "    hover = HoverTool()\n",
    "    hover.tooltips = [(\"Kategori\", \"@x\"), (\"Jumlah\", \"@y{0,0}\")]\n",
    "    p.add_tools(hover)\n",
    "\n",
    "    p.xaxis.axis_label = x_label\n",
    "    p.yaxis.axis_label = y_label\n",
    "    p.xaxis.major_label_orientation = 1\n",
    "\n",
    "    # Mengatur tulisan axis-x dan axis-y menjadi tebal (bold)\n",
    "    p.xaxis.axis_label_text_font_style = \"bold\"\n",
    "    p.yaxis.axis_label_text_font_style = \"bold\"\n",
    "\n",
    "    # Mengatur ketebalan garis axis\n",
    "    p.xaxis.axis_line_width = 1.1\n",
    "    p.yaxis.axis_line_width = 1.1\n",
    "\n",
    "    # Mengatur label axis menjadi tebal\n",
    "    p.xaxis.major_label_text_font_style = \"bold\"\n",
    "    p.yaxis.major_label_text_font_style = \"bold\"\n",
    "\n",
    "    p.xgrid.grid_line_color = None\n",
    "    p.y_range.start = 0\n",
    "    p.y_range.end = max(df[y_column]) + 0.2 * max(df[y_column])  # Mengatur kisaran sumbu y\n",
    "\n",
    "    # Mengatur format angka pada sumbu y\n",
    "    p.yaxis.formatter = NumeralTickFormatter(format=\"0,0\")\n",
    "\n",
    "    # Mengatur judul plot\n",
    "    p.title.text_font_size = '12pt'  # Ubah ukuran font judul\n",
    "    p.title.text_font_style = 'bold'  # Ubah gaya font judul menjadi tebal\n",
    "    p.title.align = \"center\"\n",
    "\n",
    "    # Mengatur posisi legenda di tengah atas\n",
    "    p.legend.orientation = \"horizontal\"\n",
    "    p.legend.location = \"top_center\"\n",
    "    p.legend.spacing = 10  # Menambahkan ruang antara legenda dan plot\n",
    "\n",
    "    show(p)"
   ]
  },
  {
   "cell_type": "code",
   "execution_count": 22,
   "metadata": {},
   "outputs": [],
   "source": [
    "# Fungsi EDA Untuk Piechart\n",
    "def pie_chart(data, title=\"Interactive Pie Chart\"):\n",
    "    categories = data.index\n",
    "    values = data.values\n",
    "\n",
    "    # Membuat data frame dari data yang diberikan\n",
    "    df = pd.DataFrame({'category': categories, 'value': values})\n",
    "\n",
    "    # Menghitung persentase untuk setiap kategori\n",
    "    df['percentage'] = (df['value'] / df['value'].sum()) * 100\n",
    "\n",
    "    # Menghitung sudut untuk setiap kategori\n",
    "    df['angle'] = df['value'] / df['value'].sum() * 2 * pi\n",
    "\n",
    "    # Membuat warna secara acak untuk setiap kategori\n",
    "    colors = [f\"#{random.randint(0, 0xFFFFFF):06x}\" for _ in range(len(df))]\n",
    "    df['color'] = colors\n",
    "\n",
    "    # Buat figure untuk diagram pie\n",
    "    p = figure(width=800, height=500, title=title, toolbar_location=None,\n",
    "               tools=\"hover\", tooltips=\"@category: @percentage{0.0}%, @value\", x_range=(-0.5, 1.0))\n",
    "\n",
    "    # Tambahkan wedge (irisan) ke figure\n",
    "    p.wedge(x=0, y=1, radius=0.4,\n",
    "            start_angle=cumsum('angle', include_zero=True),\n",
    "            end_angle=cumsum('angle'),\n",
    "            line_color=\"white\", fill_color='color', legend_field='category', source=df)\n",
    "\n",
    "    # Tambahkan HoverTool untuk menampilkan informasi tambahan\n",
    "    hover = p.select(dict(type=HoverTool))\n",
    "    hover.tooltips = [(\"Category\", \"@category\"), (\"Percentage\", \"@percentage{0.0}%\"), (\"Value\", \"@value\")]\n",
    "\n",
    "    # Gaya dan pengaturan figure\n",
    "    p.axis.axis_label = None\n",
    "    p.axis.visible = False\n",
    "    p.grid.grid_line_color = None\n",
    "    p.title.align = 'center'\n",
    "    p.title.text_font_size = '15pt'\n",
    "    p.legend.title = 'Legend'\n",
    "    p.legend.label_text_font_size = '10pt'\n",
    "\n",
    "    # Tampilkan plot\n",
    "    show(p)\n",
    "    output_notebook()"
   ]
  },
  {
   "cell_type": "markdown",
   "metadata": {},
   "source": [
    "***Insight :***\n",
    "\n",
    "Sebelum melangkah ke tahap *Exploratory Data Analysis*, dilakukan penyusunan fungsi-fungsi penting untuk mencakup berbagai jenis visualisasi. Fungsi-fungsi tersebut meliputi *Barplot*, *Histogram*, *Boxplot*, *Pie*, dan *Scatterplot*, yang semuanya akan diterapkan menggunakan library Bokeh. Dengan menyusun fungsi-fungsi ini, kita dapat dengan mudah menerapkan visualisasi yang sesuai untuk menganalisis dan memahami data dengan lebih mendalam.\n",
    "\n",
    "---"
   ]
  },
  {
   "cell_type": "markdown",
   "metadata": {},
   "source": [
    "#### **Visualisasi Pengalaman Kerja**\n",
    "\n",
    "---"
   ]
  },
  {
   "cell_type": "code",
   "execution_count": 23,
   "metadata": {},
   "outputs": [
    {
     "data": {
      "text/html": [
       "    <style>\n",
       "        .bk-notebook-logo {\n",
       "            display: block;\n",
       "            width: 20px;\n",
       "            height: 20px;\n",
       "            background-image: url(data:image/png;base64,iVBORw0KGgoAAAANSUhEUgAAABQAAAAUCAYAAACNiR0NAAAABHNCSVQICAgIfAhkiAAAAAlwSFlzAAALEgAACxIB0t1+/AAAABx0RVh0U29mdHdhcmUAQWRvYmUgRmlyZXdvcmtzIENTNui8sowAAAOkSURBVDiNjZRtaJVlGMd/1/08zzln5zjP1LWcU9N0NkN8m2CYjpgQYQXqSs0I84OLIC0hkEKoPtiH3gmKoiJDU7QpLgoLjLIQCpEsNJ1vqUOdO7ppbuec5+V+rj4ctwzd8IIbbi6u+8f1539dt3A78eXC7QizUF7gyV1fD1Yqg4JWz84yffhm0qkFqBogB9rM8tZdtwVsPUhWhGcFJngGeWrPzHm5oaMmkfEg1usvLFyc8jLRqDOMru7AyC8saQr7GG7f5fvDeH7Ej8CM66nIF+8yngt6HWaKh7k49Soy9nXurCi1o3qUbS3zWfrYeQDTB/Qj6kX6Ybhw4B+bOYoLKCC9H3Nu/leUTZ1JdRWkkn2ldcCamzrcf47KKXdAJllSlxAOkRgyHsGC/zRday5Qld9DyoM4/q/rUoy/CXh3jzOu3bHUVZeU+DEn8FInkPBFlu3+nW3Nw0mk6vCDiWg8CeJaxEwuHS3+z5RgY+YBR6V1Z1nxSOfoaPa4LASWxxdNp+VWTk7+4vzaou8v8PN+xo+KY2xsw6une2frhw05CTYOmQvsEhjhWjn0bmXPjpE1+kplmmkP3suftwTubK9Vq22qKmrBhpY4jvd5afdRA3wGjFAgcnTK2s4hY0/GPNIb0nErGMCRxWOOX64Z8RAC4oCXdklmEvcL8o0BfkNK4lUg9HTl+oPlQxdNo3Mg4Nv175e/1LDGzZen30MEjRUtmXSfiTVu1kK8W4txyV6BMKlbgk3lMwYCiusNy9fVfvvwMxv8Ynl6vxoByANLTWplvuj/nF9m2+PDtt1eiHPBr1oIfhCChQMBw6Aw0UulqTKZdfVvfG7VcfIqLG9bcldL/+pdWTLxLUy8Qq38heUIjh4XlzZxzQm19lLFlr8vdQ97rjZVOLf8nclzckbcD4wxXMidpX30sFd37Fv/GtwwhzhxGVAprjbg0gCAEeIgwCZyTV2Z1REEW8O4py0wsjeloKoMr6iCY6dP92H6Vw/oTyICIthibxjm/DfN9lVz8IqtqKYLUXfoKVMVQVVJOElGjrnnUt9T9wbgp8AyYKaGlqingHZU/uG2NTZSVqwHQTWkx9hxjkpWDaCg6Ckj5qebgBVbT3V3NNXMSiWSDdGV3hrtzla7J+duwPOToIg42ChPQOQjspnSlp1V+Gjdged7+8UN5CRAV7a5EdFNwCjEaBR27b3W890TE7g24NAP/mMDXRWrGoFPQI9ls/MWO2dWFAar/xcOIImbbpA3zgAAAABJRU5ErkJggg==);\n",
       "        }\n",
       "    </style>\n",
       "    <div>\n",
       "        <a href=\"https://bokeh.org\" target=\"_blank\" class=\"bk-notebook-logo\"></a>\n",
       "        <span id=\"d2c97404-0e07-4c81-876c-20246643fb2a\">Loading BokehJS ...</span>\n",
       "    </div>\n"
      ]
     },
     "metadata": {},
     "output_type": "display_data"
    },
    {
     "data": {
      "application/javascript": "'use strict';\n(function(root) {\n  function now() {\n    return new Date();\n  }\n\n  const force = true;\n\n  if (typeof root._bokeh_onload_callbacks === \"undefined\" || force === true) {\n    root._bokeh_onload_callbacks = [];\n    root._bokeh_is_loading = undefined;\n  }\n\nconst JS_MIME_TYPE = 'application/javascript';\n  const HTML_MIME_TYPE = 'text/html';\n  const EXEC_MIME_TYPE = 'application/vnd.bokehjs_exec.v0+json';\n  const CLASS_NAME = 'output_bokeh rendered_html';\n\n  /**\n   * Render data to the DOM node\n   */\n  function render(props, node) {\n    const script = document.createElement(\"script\");\n    node.appendChild(script);\n  }\n\n  /**\n   * Handle when an output is cleared or removed\n   */\n  function handleClearOutput(event, handle) {\n    function drop(id) {\n      const view = Bokeh.index.get_by_id(id)\n      if (view != null) {\n        view.model.document.clear()\n        Bokeh.index.delete(view)\n      }\n    }\n\n    const cell = handle.cell;\n\n    const id = cell.output_area._bokeh_element_id;\n    const server_id = cell.output_area._bokeh_server_id;\n\n    // Clean up Bokeh references\n    if (id != null) {\n      drop(id)\n    }\n\n    if (server_id !== undefined) {\n      // Clean up Bokeh references\n      const cmd_clean = \"from bokeh.io.state import curstate; print(curstate().uuid_to_server['\" + server_id + \"'].get_sessions()[0].document.roots[0]._id)\";\n      cell.notebook.kernel.execute(cmd_clean, {\n        iopub: {\n          output: function(msg) {\n            const id = msg.content.text.trim()\n            drop(id)\n          }\n        }\n      });\n      // Destroy server and session\n      const cmd_destroy = \"import bokeh.io.notebook as ion; ion.destroy_server('\" + server_id + \"')\";\n      cell.notebook.kernel.execute(cmd_destroy);\n    }\n  }\n\n  /**\n   * Handle when a new output is added\n   */\n  function handleAddOutput(event, handle) {\n    const output_area = handle.output_area;\n    const output = handle.output;\n\n    // limit handleAddOutput to display_data with EXEC_MIME_TYPE content only\n    if ((output.output_type != \"display_data\") || (!Object.prototype.hasOwnProperty.call(output.data, EXEC_MIME_TYPE))) {\n      return\n    }\n\n    const toinsert = output_area.element.find(\".\" + CLASS_NAME.split(' ')[0]);\n\n    if (output.metadata[EXEC_MIME_TYPE][\"id\"] !== undefined) {\n      toinsert[toinsert.length - 1].firstChild.textContent = output.data[JS_MIME_TYPE];\n      // store reference to embed id on output_area\n      output_area._bokeh_element_id = output.metadata[EXEC_MIME_TYPE][\"id\"];\n    }\n    if (output.metadata[EXEC_MIME_TYPE][\"server_id\"] !== undefined) {\n      const bk_div = document.createElement(\"div\");\n      bk_div.innerHTML = output.data[HTML_MIME_TYPE];\n      const script_attrs = bk_div.children[0].attributes;\n      for (let i = 0; i < script_attrs.length; i++) {\n        toinsert[toinsert.length - 1].firstChild.setAttribute(script_attrs[i].name, script_attrs[i].value);\n        toinsert[toinsert.length - 1].firstChild.textContent = bk_div.children[0].textContent\n      }\n      // store reference to server id on output_area\n      output_area._bokeh_server_id = output.metadata[EXEC_MIME_TYPE][\"server_id\"];\n    }\n  }\n\n  function register_renderer(events, OutputArea) {\n\n    function append_mime(data, metadata, element) {\n      // create a DOM node to render to\n      const toinsert = this.create_output_subarea(\n        metadata,\n        CLASS_NAME,\n        EXEC_MIME_TYPE\n      );\n      this.keyboard_manager.register_events(toinsert);\n      // Render to node\n      const props = {data: data, metadata: metadata[EXEC_MIME_TYPE]};\n      render(props, toinsert[toinsert.length - 1]);\n      element.append(toinsert);\n      return toinsert\n    }\n\n    /* Handle when an output is cleared or removed */\n    events.on('clear_output.CodeCell', handleClearOutput);\n    events.on('delete.Cell', handleClearOutput);\n\n    /* Handle when a new output is added */\n    events.on('output_added.OutputArea', handleAddOutput);\n\n    /**\n     * Register the mime type and append_mime function with output_area\n     */\n    OutputArea.prototype.register_mime_type(EXEC_MIME_TYPE, append_mime, {\n      /* Is output safe? */\n      safe: true,\n      /* Index of renderer in `output_area.display_order` */\n      index: 0\n    });\n  }\n\n  // register the mime type if in Jupyter Notebook environment and previously unregistered\n  if (root.Jupyter !== undefined) {\n    const events = require('base/js/events');\n    const OutputArea = require('notebook/js/outputarea').OutputArea;\n\n    if (OutputArea.prototype.mime_types().indexOf(EXEC_MIME_TYPE) == -1) {\n      register_renderer(events, OutputArea);\n    }\n  }\n  if (typeof (root._bokeh_timeout) === \"undefined\" || force === true) {\n    root._bokeh_timeout = Date.now() + 5000;\n    root._bokeh_failed_load = false;\n  }\n\n  const NB_LOAD_WARNING = {'data': {'text/html':\n     \"<div style='background-color: #fdd'>\\n\"+\n     \"<p>\\n\"+\n     \"BokehJS does not appear to have successfully loaded. If loading BokehJS from CDN, this \\n\"+\n     \"may be due to a slow or bad network connection. Possible fixes:\\n\"+\n     \"</p>\\n\"+\n     \"<ul>\\n\"+\n     \"<li>re-rerun `output_notebook()` to attempt to load from CDN again, or</li>\\n\"+\n     \"<li>use INLINE resources instead, as so:</li>\\n\"+\n     \"</ul>\\n\"+\n     \"<code>\\n\"+\n     \"from bokeh.resources import INLINE\\n\"+\n     \"output_notebook(resources=INLINE)\\n\"+\n     \"</code>\\n\"+\n     \"</div>\"}};\n\n  function display_loaded(error = null) {\n    const el = document.getElementById(\"d2c97404-0e07-4c81-876c-20246643fb2a\");\n    if (el != null) {\n      const html = (() => {\n        if (typeof root.Bokeh === \"undefined\") {\n          if (error == null) {\n            return \"BokehJS is loading ...\";\n          } else {\n            return \"BokehJS failed to load.\";\n          }\n        } else {\n          const prefix = `BokehJS ${root.Bokeh.version}`;\n          if (error == null) {\n            return `${prefix} successfully loaded.`;\n          } else {\n            return `${prefix} <b>encountered errors</b> while loading and may not function as expected.`;\n          }\n        }\n      })();\n      el.innerHTML = html;\n\n      if (error != null) {\n        const wrapper = document.createElement(\"div\");\n        wrapper.style.overflow = \"auto\";\n        wrapper.style.height = \"5em\";\n        wrapper.style.resize = \"vertical\";\n        const content = document.createElement(\"div\");\n        content.style.fontFamily = \"monospace\";\n        content.style.whiteSpace = \"pre-wrap\";\n        content.style.backgroundColor = \"rgb(255, 221, 221)\";\n        content.textContent = error.stack ?? error.toString();\n        wrapper.append(content);\n        el.append(wrapper);\n      }\n    } else if (Date.now() < root._bokeh_timeout) {\n      setTimeout(() => display_loaded(error), 100);\n    }\n  }\n\n  function run_callbacks() {\n    try {\n      root._bokeh_onload_callbacks.forEach(function(callback) {\n        if (callback != null)\n          callback();\n      });\n    } finally {\n      delete root._bokeh_onload_callbacks\n    }\n    console.debug(\"Bokeh: all callbacks have finished\");\n  }\n\n  function load_libs(css_urls, js_urls, callback) {\n    if (css_urls == null) css_urls = [];\n    if (js_urls == null) js_urls = [];\n\n    root._bokeh_onload_callbacks.push(callback);\n    if (root._bokeh_is_loading > 0) {\n      console.debug(\"Bokeh: BokehJS is being loaded, scheduling callback at\", now());\n      return null;\n    }\n    if (js_urls == null || js_urls.length === 0) {\n      run_callbacks();\n      return null;\n    }\n    console.debug(\"Bokeh: BokehJS not loaded, scheduling load and callback at\", now());\n    root._bokeh_is_loading = css_urls.length + js_urls.length;\n\n    function on_load() {\n      root._bokeh_is_loading--;\n      if (root._bokeh_is_loading === 0) {\n        console.debug(\"Bokeh: all BokehJS libraries/stylesheets loaded\");\n        run_callbacks()\n      }\n    }\n\n    function on_error(url) {\n      console.error(\"failed to load \" + url);\n    }\n\n    for (let i = 0; i < css_urls.length; i++) {\n      const url = css_urls[i];\n      const element = document.createElement(\"link\");\n      element.onload = on_load;\n      element.onerror = on_error.bind(null, url);\n      element.rel = \"stylesheet\";\n      element.type = \"text/css\";\n      element.href = url;\n      console.debug(\"Bokeh: injecting link tag for BokehJS stylesheet: \", url);\n      document.body.appendChild(element);\n    }\n\n    for (let i = 0; i < js_urls.length; i++) {\n      const url = js_urls[i];\n      const element = document.createElement('script');\n      element.onload = on_load;\n      element.onerror = on_error.bind(null, url);\n      element.async = false;\n      element.src = url;\n      console.debug(\"Bokeh: injecting script tag for BokehJS library: \", url);\n      document.head.appendChild(element);\n    }\n  };\n\n  function inject_raw_css(css) {\n    const element = document.createElement(\"style\");\n    element.appendChild(document.createTextNode(css));\n    document.body.appendChild(element);\n  }\n\n  const js_urls = [\"https://cdn.bokeh.org/bokeh/release/bokeh-3.4.1.min.js\", \"https://cdn.bokeh.org/bokeh/release/bokeh-gl-3.4.1.min.js\", \"https://cdn.bokeh.org/bokeh/release/bokeh-widgets-3.4.1.min.js\", \"https://cdn.bokeh.org/bokeh/release/bokeh-tables-3.4.1.min.js\", \"https://cdn.bokeh.org/bokeh/release/bokeh-mathjax-3.4.1.min.js\"];\n  const css_urls = [];\n\n  const inline_js = [    function(Bokeh) {\n      Bokeh.set_log_level(\"info\");\n    },\nfunction(Bokeh) {\n    }\n  ];\n\n  function run_inline_js() {\n    if (root.Bokeh !== undefined || force === true) {\n      try {\n            for (let i = 0; i < inline_js.length; i++) {\n      inline_js[i].call(root, root.Bokeh);\n    }\n\n      } catch (error) {display_loaded(error);throw error;\n      }if (force === true) {\n        display_loaded();\n      }} else if (Date.now() < root._bokeh_timeout) {\n      setTimeout(run_inline_js, 100);\n    } else if (!root._bokeh_failed_load) {\n      console.log(\"Bokeh: BokehJS failed to load within specified timeout.\");\n      root._bokeh_failed_load = true;\n    } else if (force !== true) {\n      const cell = $(document.getElementById(\"d2c97404-0e07-4c81-876c-20246643fb2a\")).parents('.cell').data().cell;\n      cell.output_area.append_execute_result(NB_LOAD_WARNING)\n    }\n  }\n\n  if (root._bokeh_is_loading === 0) {\n    console.debug(\"Bokeh: BokehJS loaded, going straight to plotting\");\n    run_inline_js();\n  } else {\n    load_libs(css_urls, js_urls, function() {\n      console.debug(\"Bokeh: BokehJS plotting callback run at\", now());\n      run_inline_js();\n    });\n  }\n}(window));",
      "application/vnd.bokehjs_load.v0+json": ""
     },
     "metadata": {},
     "output_type": "display_data"
    },
    {
     "data": {
      "text/html": [
       "\n",
       "  <div id=\"b85e986e-9cf9-4594-9cf0-25c8a0956184\" data-root-id=\"p1004\" style=\"display: contents;\"></div>\n"
      ]
     },
     "metadata": {},
     "output_type": "display_data"
    },
    {
     "data": {
      "application/javascript": "(function(root) {\n  function embed_document(root) {\n  const docs_json = {\"fd74e1a1-d5d3-419b-8cf8-40f9e3ae65a9\":{\"version\":\"3.4.1\",\"title\":\"Bokeh Application\",\"roots\":[{\"type\":\"object\",\"name\":\"Figure\",\"id\":\"p1004\",\"attributes\":{\"x_range\":{\"type\":\"object\",\"name\":\"FactorRange\",\"id\":\"p1014\",\"attributes\":{\"factors\":[\"MI\",\"SE\",\"EN\",\"EX\"]}},\"y_range\":{\"type\":\"object\",\"name\":\"DataRange1d\",\"id\":\"p1006\",\"attributes\":{\"start\":0,\"end\":11635.2}},\"x_scale\":{\"type\":\"object\",\"name\":\"CategoricalScale\",\"id\":\"p1015\"},\"y_scale\":{\"type\":\"object\",\"name\":\"LinearScale\",\"id\":\"p1016\"},\"title\":{\"type\":\"object\",\"name\":\"Title\",\"id\":\"p1007\",\"attributes\":{\"text\":\"Pengalaman Kerja\",\"text_font_size\":\"16pt\",\"align\":\"center\"}},\"renderers\":[{\"type\":\"object\",\"name\":\"GlyphRenderer\",\"id\":\"p1044\",\"attributes\":{\"data_source\":{\"type\":\"object\",\"name\":\"ColumnDataSource\",\"id\":\"p1001\",\"attributes\":{\"selected\":{\"type\":\"object\",\"name\":\"Selection\",\"id\":\"p1002\",\"attributes\":{\"indices\":[],\"line_indices\":[]}},\"selection_policy\":{\"type\":\"object\",\"name\":\"UnionRenderers\",\"id\":\"p1003\"},\"data\":{\"type\":\"map\",\"entries\":[[\"x\",[\"MI\",\"SE\",\"EN\",\"EX\"]],[\"y\",[3553,9696,1148,441]]]}}},\"view\":{\"type\":\"object\",\"name\":\"CDSView\",\"id\":\"p1045\",\"attributes\":{\"filter\":{\"type\":\"object\",\"name\":\"AllIndices\",\"id\":\"p1046\"}}},\"glyph\":{\"type\":\"object\",\"name\":\"VBar\",\"id\":\"p1041\",\"attributes\":{\"x\":{\"type\":\"field\",\"field\":\"x\"},\"width\":{\"type\":\"value\",\"value\":0.9},\"top\":{\"type\":\"field\",\"field\":\"y\"},\"line_color\":{\"type\":\"value\",\"value\":\"white\"},\"fill_color\":{\"type\":\"field\",\"field\":\"x\",\"transform\":{\"type\":\"object\",\"name\":\"CategoricalColorMapper\",\"id\":\"p1037\",\"attributes\":{\"palette\":[\"#390062\",\"#0cce35\",\"#8cd0a4\",\"#7d6277\"],\"factors\":[\"MI\",\"SE\",\"EN\",\"EX\"]}}}}},\"nonselection_glyph\":{\"type\":\"object\",\"name\":\"VBar\",\"id\":\"p1042\",\"attributes\":{\"x\":{\"type\":\"field\",\"field\":\"x\"},\"width\":{\"type\":\"value\",\"value\":0.9},\"top\":{\"type\":\"field\",\"field\":\"y\"},\"line_color\":{\"type\":\"value\",\"value\":\"white\"},\"line_alpha\":{\"type\":\"value\",\"value\":0.1},\"fill_color\":{\"type\":\"field\",\"field\":\"x\",\"transform\":{\"id\":\"p1037\"}},\"fill_alpha\":{\"type\":\"value\",\"value\":0.1},\"hatch_alpha\":{\"type\":\"value\",\"value\":0.1}}},\"muted_glyph\":{\"type\":\"object\",\"name\":\"VBar\",\"id\":\"p1043\",\"attributes\":{\"x\":{\"type\":\"field\",\"field\":\"x\"},\"width\":{\"type\":\"value\",\"value\":0.9},\"top\":{\"type\":\"field\",\"field\":\"y\"},\"line_color\":{\"type\":\"value\",\"value\":\"white\"},\"line_alpha\":{\"type\":\"value\",\"value\":0.2},\"fill_color\":{\"type\":\"field\",\"field\":\"x\",\"transform\":{\"id\":\"p1037\"}},\"fill_alpha\":{\"type\":\"value\",\"value\":0.2},\"hatch_alpha\":{\"type\":\"value\",\"value\":0.2}}}}}],\"toolbar\":{\"type\":\"object\",\"name\":\"Toolbar\",\"id\":\"p1013\",\"attributes\":{\"tools\":[{\"type\":\"object\",\"name\":\"PanTool\",\"id\":\"p1027\"},{\"type\":\"object\",\"name\":\"BoxZoomTool\",\"id\":\"p1028\",\"attributes\":{\"overlay\":{\"type\":\"object\",\"name\":\"BoxAnnotation\",\"id\":\"p1029\",\"attributes\":{\"syncable\":false,\"level\":\"overlay\",\"visible\":false,\"left\":{\"type\":\"number\",\"value\":\"nan\"},\"right\":{\"type\":\"number\",\"value\":\"nan\"},\"top\":{\"type\":\"number\",\"value\":\"nan\"},\"bottom\":{\"type\":\"number\",\"value\":\"nan\"},\"left_units\":\"canvas\",\"right_units\":\"canvas\",\"top_units\":\"canvas\",\"bottom_units\":\"canvas\",\"line_color\":\"black\",\"line_alpha\":1.0,\"line_width\":2,\"line_dash\":[4,4],\"fill_color\":\"lightgrey\",\"fill_alpha\":0.5}}}},{\"type\":\"object\",\"name\":\"WheelZoomTool\",\"id\":\"p1034\",\"attributes\":{\"renderers\":\"auto\"}},{\"type\":\"object\",\"name\":\"ResetTool\",\"id\":\"p1035\"},{\"type\":\"object\",\"name\":\"SaveTool\",\"id\":\"p1036\"},{\"type\":\"object\",\"name\":\"HoverTool\",\"id\":\"p1049\",\"attributes\":{\"renderers\":\"auto\",\"tooltips\":[[\"Kategori\",\"@x\"],[\"Jumlah\",\"@y{0,0}\"]]}}]}},\"toolbar_location\":\"below\",\"left\":[{\"type\":\"object\",\"name\":\"LinearAxis\",\"id\":\"p1022\",\"attributes\":{\"ticker\":{\"type\":\"object\",\"name\":\"BasicTicker\",\"id\":\"p1023\",\"attributes\":{\"mantissas\":[1,2,5]}},\"formatter\":{\"type\":\"object\",\"name\":\"BasicTickFormatter\",\"id\":\"p1024\"},\"axis_label\":\"Count\",\"axis_label_text_font_style\":\"bold\",\"major_label_policy\":{\"type\":\"object\",\"name\":\"AllLabels\",\"id\":\"p1025\"},\"major_label_text_font_style\":\"bold\",\"axis_line_width\":1.1}}],\"below\":[{\"type\":\"object\",\"name\":\"CategoricalAxis\",\"id\":\"p1017\",\"attributes\":{\"ticker\":{\"type\":\"object\",\"name\":\"CategoricalTicker\",\"id\":\"p1018\"},\"formatter\":{\"type\":\"object\",\"name\":\"CategoricalTickFormatter\",\"id\":\"p1019\"},\"axis_label\":\"Pengalaman Kerja\",\"axis_label_text_font_style\":\"bold\",\"major_label_orientation\":1,\"major_label_policy\":{\"type\":\"object\",\"name\":\"AllLabels\",\"id\":\"p1020\"},\"major_label_text_font_style\":\"bold\",\"axis_line_width\":1.1}}],\"center\":[{\"type\":\"object\",\"name\":\"Grid\",\"id\":\"p1021\",\"attributes\":{\"axis\":{\"id\":\"p1017\"},\"grid_line_color\":null}},{\"type\":\"object\",\"name\":\"Grid\",\"id\":\"p1026\",\"attributes\":{\"dimension\":1,\"axis\":{\"id\":\"p1022\"}}},{\"type\":\"object\",\"name\":\"Legend\",\"id\":\"p1047\",\"attributes\":{\"spacing\":10,\"items\":[{\"type\":\"object\",\"name\":\"LegendItem\",\"id\":\"p1048\",\"attributes\":{\"label\":{\"type\":\"field\",\"field\":\"x\"},\"renderers\":[{\"id\":\"p1044\"}]}}]}}]}}]}};\n  const render_items = [{\"docid\":\"fd74e1a1-d5d3-419b-8cf8-40f9e3ae65a9\",\"roots\":{\"p1004\":\"b85e986e-9cf9-4594-9cf0-25c8a0956184\"},\"root_ids\":[\"p1004\"]}];\n  void root.Bokeh.embed.embed_items_notebook(docs_json, render_items);\n  }\n  if (root.Bokeh !== undefined) {\n    embed_document(root);\n  } else {\n    let attempts = 0;\n    const timer = setInterval(function(root) {\n      if (root.Bokeh !== undefined) {\n        clearInterval(timer);\n        embed_document(root);\n      } else {\n        attempts++;\n        if (attempts > 100) {\n          clearInterval(timer);\n          console.log(\"Bokeh: ERROR: Unable to run BokehJS code because BokehJS library is missing\");\n        }\n      }\n    }, 10, root)\n  }\n})(window);",
      "application/vnd.bokehjs_exec.v0+json": ""
     },
     "metadata": {
      "application/vnd.bokehjs_exec.v0+json": {
       "id": "p1004"
      }
     },
     "output_type": "display_data"
    }
   ],
   "source": [
    "# Menampilkan Kolom Bar\n",
    "plot_bar(df, x_column=\"experience_level\", title=\"Pengalaman Kerja\")"
   ]
  },
  {
   "cell_type": "markdown",
   "metadata": {},
   "source": [
    "***Insight :***\n",
    "\n",
    "Dari plot *Experience Level*, terlihat bahwa kategori *Senior Level* memiliki jumlah data yang lebih tinggi dibandingkan dengan kategori lainnya, diikuti oleh *Mid Level*, *Entry Level*, dan *Expert Level*. Fenomena ini mungkin terjadi karena beberapa alasan yang mendasari dinamika industri Data Science. Kategori *Senior Level* mungkin memiliki jumlah data yang lebih tinggi karena:\n",
    "\n",
    "- Pertumbuhan Industri: Seiring dengan perkembangan industri *Data Science*, permintaan akan profesional berpengalaman yang dapat mengelola proyek-proyek yang kompleks dan memberikan wawasan strategis mungkin meningkat. Ini dapat menghasilkan lebih banyak posisi senior yang tersedia.\n",
    "\n",
    "- Tingkat Pengalaman yang Dibutuhkan: Banyak posisi tingkat senior dalam *Data Science* memerlukan beberapa tahun pengalaman kerja yang relevan. Orang yang telah bekerja dalam industri ini untuk jangka waktu yang lama mungkin cenderung berada dalam kategori *Senior Level*.\n",
    "\n",
    "- Rotasi Pekerjaan: Profesional yang telah bekerja dalam bidang *Data Science* untuk jangka waktu tertentu mungkin telah naik ke tingkat senior melalui promosi internal atau pindah dari perusahaan lain dengan posisi yang lebih tinggi.\n",
    "\n",
    "- Ketersediaan Data: Banyak platform atau sumber data mungkin lebih banyak menyediakan informasi tentang posisi tingkat senior dalam Data Science karena kebutuhan akan analisis yang lebih mendalam dan kompleks.\n",
    "\n",
    "---"
   ]
  },
  {
   "cell_type": "markdown",
   "metadata": {},
   "source": [
    "#### **Visualisasi Status Pekerjaan Pekerja**\n",
    "\n",
    "---"
   ]
  },
  {
   "cell_type": "code",
   "execution_count": 24,
   "metadata": {},
   "outputs": [
    {
     "data": {
      "text/html": [
       "    <style>\n",
       "        .bk-notebook-logo {\n",
       "            display: block;\n",
       "            width: 20px;\n",
       "            height: 20px;\n",
       "            background-image: url(data:image/png;base64,iVBORw0KGgoAAAANSUhEUgAAABQAAAAUCAYAAACNiR0NAAAABHNCSVQICAgIfAhkiAAAAAlwSFlzAAALEgAACxIB0t1+/AAAABx0RVh0U29mdHdhcmUAQWRvYmUgRmlyZXdvcmtzIENTNui8sowAAAOkSURBVDiNjZRtaJVlGMd/1/08zzln5zjP1LWcU9N0NkN8m2CYjpgQYQXqSs0I84OLIC0hkEKoPtiH3gmKoiJDU7QpLgoLjLIQCpEsNJ1vqUOdO7ppbuec5+V+rj4ctwzd8IIbbi6u+8f1539dt3A78eXC7QizUF7gyV1fD1Yqg4JWz84yffhm0qkFqBogB9rM8tZdtwVsPUhWhGcFJngGeWrPzHm5oaMmkfEg1usvLFyc8jLRqDOMru7AyC8saQr7GG7f5fvDeH7Ej8CM66nIF+8yngt6HWaKh7k49Soy9nXurCi1o3qUbS3zWfrYeQDTB/Qj6kX6Ybhw4B+bOYoLKCC9H3Nu/leUTZ1JdRWkkn2ldcCamzrcf47KKXdAJllSlxAOkRgyHsGC/zRday5Qld9DyoM4/q/rUoy/CXh3jzOu3bHUVZeU+DEn8FInkPBFlu3+nW3Nw0mk6vCDiWg8CeJaxEwuHS3+z5RgY+YBR6V1Z1nxSOfoaPa4LASWxxdNp+VWTk7+4vzaou8v8PN+xo+KY2xsw6une2frhw05CTYOmQvsEhjhWjn0bmXPjpE1+kplmmkP3suftwTubK9Vq22qKmrBhpY4jvd5afdRA3wGjFAgcnTK2s4hY0/GPNIb0nErGMCRxWOOX64Z8RAC4oCXdklmEvcL8o0BfkNK4lUg9HTl+oPlQxdNo3Mg4Nv175e/1LDGzZen30MEjRUtmXSfiTVu1kK8W4txyV6BMKlbgk3lMwYCiusNy9fVfvvwMxv8Ynl6vxoByANLTWplvuj/nF9m2+PDtt1eiHPBr1oIfhCChQMBw6Aw0UulqTKZdfVvfG7VcfIqLG9bcldL/+pdWTLxLUy8Qq38heUIjh4XlzZxzQm19lLFlr8vdQ97rjZVOLf8nclzckbcD4wxXMidpX30sFd37Fv/GtwwhzhxGVAprjbg0gCAEeIgwCZyTV2Z1REEW8O4py0wsjeloKoMr6iCY6dP92H6Vw/oTyICIthibxjm/DfN9lVz8IqtqKYLUXfoKVMVQVVJOElGjrnnUt9T9wbgp8AyYKaGlqingHZU/uG2NTZSVqwHQTWkx9hxjkpWDaCg6Ckj5qebgBVbT3V3NNXMSiWSDdGV3hrtzla7J+duwPOToIg42ChPQOQjspnSlp1V+Gjdged7+8UN5CRAV7a5EdFNwCjEaBR27b3W890TE7g24NAP/mMDXRWrGoFPQI9ls/MWO2dWFAar/xcOIImbbpA3zgAAAABJRU5ErkJggg==);\n",
       "        }\n",
       "    </style>\n",
       "    <div>\n",
       "        <a href=\"https://bokeh.org\" target=\"_blank\" class=\"bk-notebook-logo\"></a>\n",
       "        <span id=\"b6442ec5-ccfd-43e4-932e-4bbce1c09291\">Loading BokehJS ...</span>\n",
       "    </div>\n"
      ]
     },
     "metadata": {},
     "output_type": "display_data"
    },
    {
     "data": {
      "application/javascript": "'use strict';\n(function(root) {\n  function now() {\n    return new Date();\n  }\n\n  const force = true;\n\n  if (typeof root._bokeh_onload_callbacks === \"undefined\" || force === true) {\n    root._bokeh_onload_callbacks = [];\n    root._bokeh_is_loading = undefined;\n  }\n\nconst JS_MIME_TYPE = 'application/javascript';\n  const HTML_MIME_TYPE = 'text/html';\n  const EXEC_MIME_TYPE = 'application/vnd.bokehjs_exec.v0+json';\n  const CLASS_NAME = 'output_bokeh rendered_html';\n\n  /**\n   * Render data to the DOM node\n   */\n  function render(props, node) {\n    const script = document.createElement(\"script\");\n    node.appendChild(script);\n  }\n\n  /**\n   * Handle when an output is cleared or removed\n   */\n  function handleClearOutput(event, handle) {\n    function drop(id) {\n      const view = Bokeh.index.get_by_id(id)\n      if (view != null) {\n        view.model.document.clear()\n        Bokeh.index.delete(view)\n      }\n    }\n\n    const cell = handle.cell;\n\n    const id = cell.output_area._bokeh_element_id;\n    const server_id = cell.output_area._bokeh_server_id;\n\n    // Clean up Bokeh references\n    if (id != null) {\n      drop(id)\n    }\n\n    if (server_id !== undefined) {\n      // Clean up Bokeh references\n      const cmd_clean = \"from bokeh.io.state import curstate; print(curstate().uuid_to_server['\" + server_id + \"'].get_sessions()[0].document.roots[0]._id)\";\n      cell.notebook.kernel.execute(cmd_clean, {\n        iopub: {\n          output: function(msg) {\n            const id = msg.content.text.trim()\n            drop(id)\n          }\n        }\n      });\n      // Destroy server and session\n      const cmd_destroy = \"import bokeh.io.notebook as ion; ion.destroy_server('\" + server_id + \"')\";\n      cell.notebook.kernel.execute(cmd_destroy);\n    }\n  }\n\n  /**\n   * Handle when a new output is added\n   */\n  function handleAddOutput(event, handle) {\n    const output_area = handle.output_area;\n    const output = handle.output;\n\n    // limit handleAddOutput to display_data with EXEC_MIME_TYPE content only\n    if ((output.output_type != \"display_data\") || (!Object.prototype.hasOwnProperty.call(output.data, EXEC_MIME_TYPE))) {\n      return\n    }\n\n    const toinsert = output_area.element.find(\".\" + CLASS_NAME.split(' ')[0]);\n\n    if (output.metadata[EXEC_MIME_TYPE][\"id\"] !== undefined) {\n      toinsert[toinsert.length - 1].firstChild.textContent = output.data[JS_MIME_TYPE];\n      // store reference to embed id on output_area\n      output_area._bokeh_element_id = output.metadata[EXEC_MIME_TYPE][\"id\"];\n    }\n    if (output.metadata[EXEC_MIME_TYPE][\"server_id\"] !== undefined) {\n      const bk_div = document.createElement(\"div\");\n      bk_div.innerHTML = output.data[HTML_MIME_TYPE];\n      const script_attrs = bk_div.children[0].attributes;\n      for (let i = 0; i < script_attrs.length; i++) {\n        toinsert[toinsert.length - 1].firstChild.setAttribute(script_attrs[i].name, script_attrs[i].value);\n        toinsert[toinsert.length - 1].firstChild.textContent = bk_div.children[0].textContent\n      }\n      // store reference to server id on output_area\n      output_area._bokeh_server_id = output.metadata[EXEC_MIME_TYPE][\"server_id\"];\n    }\n  }\n\n  function register_renderer(events, OutputArea) {\n\n    function append_mime(data, metadata, element) {\n      // create a DOM node to render to\n      const toinsert = this.create_output_subarea(\n        metadata,\n        CLASS_NAME,\n        EXEC_MIME_TYPE\n      );\n      this.keyboard_manager.register_events(toinsert);\n      // Render to node\n      const props = {data: data, metadata: metadata[EXEC_MIME_TYPE]};\n      render(props, toinsert[toinsert.length - 1]);\n      element.append(toinsert);\n      return toinsert\n    }\n\n    /* Handle when an output is cleared or removed */\n    events.on('clear_output.CodeCell', handleClearOutput);\n    events.on('delete.Cell', handleClearOutput);\n\n    /* Handle when a new output is added */\n    events.on('output_added.OutputArea', handleAddOutput);\n\n    /**\n     * Register the mime type and append_mime function with output_area\n     */\n    OutputArea.prototype.register_mime_type(EXEC_MIME_TYPE, append_mime, {\n      /* Is output safe? */\n      safe: true,\n      /* Index of renderer in `output_area.display_order` */\n      index: 0\n    });\n  }\n\n  // register the mime type if in Jupyter Notebook environment and previously unregistered\n  if (root.Jupyter !== undefined) {\n    const events = require('base/js/events');\n    const OutputArea = require('notebook/js/outputarea').OutputArea;\n\n    if (OutputArea.prototype.mime_types().indexOf(EXEC_MIME_TYPE) == -1) {\n      register_renderer(events, OutputArea);\n    }\n  }\n  if (typeof (root._bokeh_timeout) === \"undefined\" || force === true) {\n    root._bokeh_timeout = Date.now() + 5000;\n    root._bokeh_failed_load = false;\n  }\n\n  const NB_LOAD_WARNING = {'data': {'text/html':\n     \"<div style='background-color: #fdd'>\\n\"+\n     \"<p>\\n\"+\n     \"BokehJS does not appear to have successfully loaded. If loading BokehJS from CDN, this \\n\"+\n     \"may be due to a slow or bad network connection. Possible fixes:\\n\"+\n     \"</p>\\n\"+\n     \"<ul>\\n\"+\n     \"<li>re-rerun `output_notebook()` to attempt to load from CDN again, or</li>\\n\"+\n     \"<li>use INLINE resources instead, as so:</li>\\n\"+\n     \"</ul>\\n\"+\n     \"<code>\\n\"+\n     \"from bokeh.resources import INLINE\\n\"+\n     \"output_notebook(resources=INLINE)\\n\"+\n     \"</code>\\n\"+\n     \"</div>\"}};\n\n  function display_loaded(error = null) {\n    const el = document.getElementById(\"b6442ec5-ccfd-43e4-932e-4bbce1c09291\");\n    if (el != null) {\n      const html = (() => {\n        if (typeof root.Bokeh === \"undefined\") {\n          if (error == null) {\n            return \"BokehJS is loading ...\";\n          } else {\n            return \"BokehJS failed to load.\";\n          }\n        } else {\n          const prefix = `BokehJS ${root.Bokeh.version}`;\n          if (error == null) {\n            return `${prefix} successfully loaded.`;\n          } else {\n            return `${prefix} <b>encountered errors</b> while loading and may not function as expected.`;\n          }\n        }\n      })();\n      el.innerHTML = html;\n\n      if (error != null) {\n        const wrapper = document.createElement(\"div\");\n        wrapper.style.overflow = \"auto\";\n        wrapper.style.height = \"5em\";\n        wrapper.style.resize = \"vertical\";\n        const content = document.createElement(\"div\");\n        content.style.fontFamily = \"monospace\";\n        content.style.whiteSpace = \"pre-wrap\";\n        content.style.backgroundColor = \"rgb(255, 221, 221)\";\n        content.textContent = error.stack ?? error.toString();\n        wrapper.append(content);\n        el.append(wrapper);\n      }\n    } else if (Date.now() < root._bokeh_timeout) {\n      setTimeout(() => display_loaded(error), 100);\n    }\n  }\n\n  function run_callbacks() {\n    try {\n      root._bokeh_onload_callbacks.forEach(function(callback) {\n        if (callback != null)\n          callback();\n      });\n    } finally {\n      delete root._bokeh_onload_callbacks\n    }\n    console.debug(\"Bokeh: all callbacks have finished\");\n  }\n\n  function load_libs(css_urls, js_urls, callback) {\n    if (css_urls == null) css_urls = [];\n    if (js_urls == null) js_urls = [];\n\n    root._bokeh_onload_callbacks.push(callback);\n    if (root._bokeh_is_loading > 0) {\n      console.debug(\"Bokeh: BokehJS is being loaded, scheduling callback at\", now());\n      return null;\n    }\n    if (js_urls == null || js_urls.length === 0) {\n      run_callbacks();\n      return null;\n    }\n    console.debug(\"Bokeh: BokehJS not loaded, scheduling load and callback at\", now());\n    root._bokeh_is_loading = css_urls.length + js_urls.length;\n\n    function on_load() {\n      root._bokeh_is_loading--;\n      if (root._bokeh_is_loading === 0) {\n        console.debug(\"Bokeh: all BokehJS libraries/stylesheets loaded\");\n        run_callbacks()\n      }\n    }\n\n    function on_error(url) {\n      console.error(\"failed to load \" + url);\n    }\n\n    for (let i = 0; i < css_urls.length; i++) {\n      const url = css_urls[i];\n      const element = document.createElement(\"link\");\n      element.onload = on_load;\n      element.onerror = on_error.bind(null, url);\n      element.rel = \"stylesheet\";\n      element.type = \"text/css\";\n      element.href = url;\n      console.debug(\"Bokeh: injecting link tag for BokehJS stylesheet: \", url);\n      document.body.appendChild(element);\n    }\n\n    for (let i = 0; i < js_urls.length; i++) {\n      const url = js_urls[i];\n      const element = document.createElement('script');\n      element.onload = on_load;\n      element.onerror = on_error.bind(null, url);\n      element.async = false;\n      element.src = url;\n      console.debug(\"Bokeh: injecting script tag for BokehJS library: \", url);\n      document.head.appendChild(element);\n    }\n  };\n\n  function inject_raw_css(css) {\n    const element = document.createElement(\"style\");\n    element.appendChild(document.createTextNode(css));\n    document.body.appendChild(element);\n  }\n\n  const js_urls = [\"https://cdn.bokeh.org/bokeh/release/bokeh-3.4.1.min.js\", \"https://cdn.bokeh.org/bokeh/release/bokeh-gl-3.4.1.min.js\", \"https://cdn.bokeh.org/bokeh/release/bokeh-widgets-3.4.1.min.js\", \"https://cdn.bokeh.org/bokeh/release/bokeh-tables-3.4.1.min.js\", \"https://cdn.bokeh.org/bokeh/release/bokeh-mathjax-3.4.1.min.js\"];\n  const css_urls = [];\n\n  const inline_js = [    function(Bokeh) {\n      Bokeh.set_log_level(\"info\");\n    },\nfunction(Bokeh) {\n    }\n  ];\n\n  function run_inline_js() {\n    if (root.Bokeh !== undefined || force === true) {\n      try {\n            for (let i = 0; i < inline_js.length; i++) {\n      inline_js[i].call(root, root.Bokeh);\n    }\n\n      } catch (error) {display_loaded(error);throw error;\n      }if (force === true) {\n        display_loaded();\n      }} else if (Date.now() < root._bokeh_timeout) {\n      setTimeout(run_inline_js, 100);\n    } else if (!root._bokeh_failed_load) {\n      console.log(\"Bokeh: BokehJS failed to load within specified timeout.\");\n      root._bokeh_failed_load = true;\n    } else if (force !== true) {\n      const cell = $(document.getElementById(\"b6442ec5-ccfd-43e4-932e-4bbce1c09291\")).parents('.cell').data().cell;\n      cell.output_area.append_execute_result(NB_LOAD_WARNING)\n    }\n  }\n\n  if (root._bokeh_is_loading === 0) {\n    console.debug(\"Bokeh: BokehJS loaded, going straight to plotting\");\n    run_inline_js();\n  } else {\n    load_libs(css_urls, js_urls, function() {\n      console.debug(\"Bokeh: BokehJS plotting callback run at\", now());\n      run_inline_js();\n    });\n  }\n}(window));",
      "application/vnd.bokehjs_load.v0+json": ""
     },
     "metadata": {},
     "output_type": "display_data"
    },
    {
     "data": {
      "text/html": [
       "\n",
       "  <div id=\"cd050810-1f37-42ab-aa3a-3f2c621453bb\" data-root-id=\"p1053\" style=\"display: contents;\"></div>\n"
      ]
     },
     "metadata": {},
     "output_type": "display_data"
    },
    {
     "data": {
      "application/javascript": "(function(root) {\n  function embed_document(root) {\n  const docs_json = {\"7da23594-42d3-43c8-a7d8-51cfd353b0f7\":{\"version\":\"3.4.1\",\"title\":\"Bokeh Application\",\"roots\":[{\"type\":\"object\",\"name\":\"Figure\",\"id\":\"p1053\",\"attributes\":{\"x_range\":{\"type\":\"object\",\"name\":\"FactorRange\",\"id\":\"p1063\",\"attributes\":{\"factors\":[\"FT\",\"FL\",\"CT\",\"PT\"]}},\"y_range\":{\"type\":\"object\",\"name\":\"DataRange1d\",\"id\":\"p1055\",\"attributes\":{\"start\":0,\"end\":17726.4}},\"x_scale\":{\"type\":\"object\",\"name\":\"CategoricalScale\",\"id\":\"p1064\"},\"y_scale\":{\"type\":\"object\",\"name\":\"LinearScale\",\"id\":\"p1065\"},\"title\":{\"type\":\"object\",\"name\":\"Title\",\"id\":\"p1056\",\"attributes\":{\"text\":\"Status Pekerjaan\",\"text_font_size\":\"16pt\",\"align\":\"center\"}},\"renderers\":[{\"type\":\"object\",\"name\":\"GlyphRenderer\",\"id\":\"p1093\",\"attributes\":{\"data_source\":{\"type\":\"object\",\"name\":\"ColumnDataSource\",\"id\":\"p1050\",\"attributes\":{\"selected\":{\"type\":\"object\",\"name\":\"Selection\",\"id\":\"p1051\",\"attributes\":{\"indices\":[],\"line_indices\":[]}},\"selection_policy\":{\"type\":\"object\",\"name\":\"UnionRenderers\",\"id\":\"p1052\"},\"data\":{\"type\":\"map\",\"entries\":[[\"x\",[\"FT\",\"FL\",\"CT\",\"PT\"]],[\"y\",[14772,13,26,27]]]}}},\"view\":{\"type\":\"object\",\"name\":\"CDSView\",\"id\":\"p1094\",\"attributes\":{\"filter\":{\"type\":\"object\",\"name\":\"AllIndices\",\"id\":\"p1095\"}}},\"glyph\":{\"type\":\"object\",\"name\":\"VBar\",\"id\":\"p1090\",\"attributes\":{\"x\":{\"type\":\"field\",\"field\":\"x\"},\"width\":{\"type\":\"value\",\"value\":0.9},\"top\":{\"type\":\"field\",\"field\":\"y\"},\"line_color\":{\"type\":\"value\",\"value\":\"white\"},\"fill_color\":{\"type\":\"field\",\"field\":\"x\",\"transform\":{\"type\":\"object\",\"name\":\"CategoricalColorMapper\",\"id\":\"p1086\",\"attributes\":{\"palette\":[\"#390062\",\"#0cce35\",\"#8cd0a4\",\"#7d6277\"],\"factors\":[\"FT\",\"FL\",\"CT\",\"PT\"]}}}}},\"nonselection_glyph\":{\"type\":\"object\",\"name\":\"VBar\",\"id\":\"p1091\",\"attributes\":{\"x\":{\"type\":\"field\",\"field\":\"x\"},\"width\":{\"type\":\"value\",\"value\":0.9},\"top\":{\"type\":\"field\",\"field\":\"y\"},\"line_color\":{\"type\":\"value\",\"value\":\"white\"},\"line_alpha\":{\"type\":\"value\",\"value\":0.1},\"fill_color\":{\"type\":\"field\",\"field\":\"x\",\"transform\":{\"id\":\"p1086\"}},\"fill_alpha\":{\"type\":\"value\",\"value\":0.1},\"hatch_alpha\":{\"type\":\"value\",\"value\":0.1}}},\"muted_glyph\":{\"type\":\"object\",\"name\":\"VBar\",\"id\":\"p1092\",\"attributes\":{\"x\":{\"type\":\"field\",\"field\":\"x\"},\"width\":{\"type\":\"value\",\"value\":0.9},\"top\":{\"type\":\"field\",\"field\":\"y\"},\"line_color\":{\"type\":\"value\",\"value\":\"white\"},\"line_alpha\":{\"type\":\"value\",\"value\":0.2},\"fill_color\":{\"type\":\"field\",\"field\":\"x\",\"transform\":{\"id\":\"p1086\"}},\"fill_alpha\":{\"type\":\"value\",\"value\":0.2},\"hatch_alpha\":{\"type\":\"value\",\"value\":0.2}}}}}],\"toolbar\":{\"type\":\"object\",\"name\":\"Toolbar\",\"id\":\"p1062\",\"attributes\":{\"tools\":[{\"type\":\"object\",\"name\":\"PanTool\",\"id\":\"p1076\"},{\"type\":\"object\",\"name\":\"BoxZoomTool\",\"id\":\"p1077\",\"attributes\":{\"overlay\":{\"type\":\"object\",\"name\":\"BoxAnnotation\",\"id\":\"p1078\",\"attributes\":{\"syncable\":false,\"level\":\"overlay\",\"visible\":false,\"left\":{\"type\":\"number\",\"value\":\"nan\"},\"right\":{\"type\":\"number\",\"value\":\"nan\"},\"top\":{\"type\":\"number\",\"value\":\"nan\"},\"bottom\":{\"type\":\"number\",\"value\":\"nan\"},\"left_units\":\"canvas\",\"right_units\":\"canvas\",\"top_units\":\"canvas\",\"bottom_units\":\"canvas\",\"line_color\":\"black\",\"line_alpha\":1.0,\"line_width\":2,\"line_dash\":[4,4],\"fill_color\":\"lightgrey\",\"fill_alpha\":0.5}}}},{\"type\":\"object\",\"name\":\"WheelZoomTool\",\"id\":\"p1083\",\"attributes\":{\"renderers\":\"auto\"}},{\"type\":\"object\",\"name\":\"ResetTool\",\"id\":\"p1084\"},{\"type\":\"object\",\"name\":\"SaveTool\",\"id\":\"p1085\"},{\"type\":\"object\",\"name\":\"HoverTool\",\"id\":\"p1098\",\"attributes\":{\"renderers\":\"auto\",\"tooltips\":[[\"Kategori\",\"@x\"],[\"Jumlah\",\"@y{0,0}\"]]}}]}},\"toolbar_location\":\"below\",\"left\":[{\"type\":\"object\",\"name\":\"LinearAxis\",\"id\":\"p1071\",\"attributes\":{\"ticker\":{\"type\":\"object\",\"name\":\"BasicTicker\",\"id\":\"p1072\",\"attributes\":{\"mantissas\":[1,2,5]}},\"formatter\":{\"type\":\"object\",\"name\":\"BasicTickFormatter\",\"id\":\"p1073\"},\"axis_label\":\"Count\",\"axis_label_text_font_style\":\"bold\",\"major_label_policy\":{\"type\":\"object\",\"name\":\"AllLabels\",\"id\":\"p1074\"},\"major_label_text_font_style\":\"bold\",\"axis_line_width\":1.1}}],\"below\":[{\"type\":\"object\",\"name\":\"CategoricalAxis\",\"id\":\"p1066\",\"attributes\":{\"ticker\":{\"type\":\"object\",\"name\":\"CategoricalTicker\",\"id\":\"p1067\"},\"formatter\":{\"type\":\"object\",\"name\":\"CategoricalTickFormatter\",\"id\":\"p1068\"},\"axis_label\":\"Status Pekerjaan\",\"axis_label_text_font_style\":\"bold\",\"major_label_orientation\":1,\"major_label_policy\":{\"type\":\"object\",\"name\":\"AllLabels\",\"id\":\"p1069\"},\"major_label_text_font_style\":\"bold\",\"axis_line_width\":1.1}}],\"center\":[{\"type\":\"object\",\"name\":\"Grid\",\"id\":\"p1070\",\"attributes\":{\"axis\":{\"id\":\"p1066\"},\"grid_line_color\":null}},{\"type\":\"object\",\"name\":\"Grid\",\"id\":\"p1075\",\"attributes\":{\"dimension\":1,\"axis\":{\"id\":\"p1071\"}}},{\"type\":\"object\",\"name\":\"Legend\",\"id\":\"p1096\",\"attributes\":{\"spacing\":10,\"items\":[{\"type\":\"object\",\"name\":\"LegendItem\",\"id\":\"p1097\",\"attributes\":{\"label\":{\"type\":\"field\",\"field\":\"x\"},\"renderers\":[{\"id\":\"p1093\"}]}}]}}]}}]}};\n  const render_items = [{\"docid\":\"7da23594-42d3-43c8-a7d8-51cfd353b0f7\",\"roots\":{\"p1053\":\"cd050810-1f37-42ab-aa3a-3f2c621453bb\"},\"root_ids\":[\"p1053\"]}];\n  void root.Bokeh.embed.embed_items_notebook(docs_json, render_items);\n  }\n  if (root.Bokeh !== undefined) {\n    embed_document(root);\n  } else {\n    let attempts = 0;\n    const timer = setInterval(function(root) {\n      if (root.Bokeh !== undefined) {\n        clearInterval(timer);\n        embed_document(root);\n      } else {\n        attempts++;\n        if (attempts > 100) {\n          clearInterval(timer);\n          console.log(\"Bokeh: ERROR: Unable to run BokehJS code because BokehJS library is missing\");\n        }\n      }\n    }, 10, root)\n  }\n})(window);",
      "application/vnd.bokehjs_exec.v0+json": ""
     },
     "metadata": {
      "application/vnd.bokehjs_exec.v0+json": {
       "id": "p1053"
      }
     },
     "output_type": "display_data"
    }
   ],
   "source": [
    "# Menampilkan Kolom Bar\n",
    "plot_bar(df, x_column=\"employment_type\", title=\"Status Pekerjaan\")"
   ]
  },
  {
   "cell_type": "code",
   "execution_count": 25,
   "metadata": {},
   "outputs": [
    {
     "data": {
      "text/plain": [
       "employment_type\n",
       "FT    14772\n",
       "PT       27\n",
       "CT       26\n",
       "FL       13\n",
       "Name: count, dtype: int64"
      ]
     },
     "execution_count": 25,
     "metadata": {},
     "output_type": "execute_result"
    }
   ],
   "source": [
    "df.employment_type.value_counts()"
   ]
  },
  {
   "cell_type": "markdown",
   "metadata": {},
   "source": [
    "***Insight :***\n",
    "\n",
    "Status pekerjaan untuk pekerjaan di bidang data science didominasi oleh posisi Full Time dibandingkan dengan yang lainnya. Data menunjukkan bahwa hampir mencapai nilai 14772. Di sisi lain, Freelance, Contract, dan Part Time memiliki jumlah data yang sangat rendah, hanya sekitar 20-an. Fenomena ini mungkin mencerminkan struktur kerja umum dalam industri *Data Science* serta preferensi atau kebutuhan umum dari perusahaan dan profesional di bidang ini. Berikut beberapa penjelasan yang mungkin terkait dengan dominasi status pekerjaan *Full Time*:\n",
    "\n",
    "- Kebutuhan Konsistensi: Banyak proyek di bidang *Data Science* memerlukan keterlibatan yang konsisten dan intensif. Oleh karena itu, perusahaan cenderung mencari karyawan dengan status *Full Time* yang dapat berkomitmen sepenuhnya terhadap proyek-proyek tersebut.\n",
    "\n",
    "- Kemajuan Karir: Banyak profesional *Data Science* mungkin melihat posisi *Full Time sebagai langkah penting dalam kemajuan karir mereka. Posisi ini sering kali menawarkan jaminan keamanan kerja, manfaat tambahan, dan peluang untuk pertumbuhan karir yang lebih terstruktur.\n",
    "\n",
    "- Stabilitas Keuangan: Bagi banyak individu, pekerjaan *Full Time* menawarkan stabilitas finansial yang lebih besar daripada posisi kontrak atau paruh waktu. Hal ini dapat lebih menarik bagi profesional yang memiliki tanggungan finansial yang signifikan.\n",
    "\n",
    "- Kultur Perusahaan: Beberapa perusahaan mungkin memiliki preferensi terhadap karyawan *Full Time* karena konsistensi dan kontinuitas yang mereka bawa ke tim. Ini mungkin lebih sesuai dengan budaya kerja dan nilai-nilai perusahaan tersebut.\n",
    "\n",
    "Sementara itu, jumlah data yang sangat rendah untuk status pekerjaan lain seperti *Freelance*, *Contract*, dan *Part Time* mungkin mencerminkan fokus utama industri *Data Science* pada penggunaan karyawan penuh waktu untuk proyek-proyeknya. Namun, peran-peran non-tradisional seperti kontrak atau freelance juga dapat menjadi pilihan menarik terutama untuk proyek-proyek yang bersifat jangka pendek atau spesifik.\n",
    "\n",
    "\n",
    "---"
   ]
  },
  {
   "cell_type": "markdown",
   "metadata": {},
   "source": [
    "#### **Visualisasi Ukuran Perusahaan Pekerja**\n",
    "\n",
    "---"
   ]
  },
  {
   "cell_type": "code",
   "execution_count": 26,
   "metadata": {},
   "outputs": [
    {
     "data": {
      "text/html": [
       "    <style>\n",
       "        .bk-notebook-logo {\n",
       "            display: block;\n",
       "            width: 20px;\n",
       "            height: 20px;\n",
       "            background-image: url(data:image/png;base64,iVBORw0KGgoAAAANSUhEUgAAABQAAAAUCAYAAACNiR0NAAAABHNCSVQICAgIfAhkiAAAAAlwSFlzAAALEgAACxIB0t1+/AAAABx0RVh0U29mdHdhcmUAQWRvYmUgRmlyZXdvcmtzIENTNui8sowAAAOkSURBVDiNjZRtaJVlGMd/1/08zzln5zjP1LWcU9N0NkN8m2CYjpgQYQXqSs0I84OLIC0hkEKoPtiH3gmKoiJDU7QpLgoLjLIQCpEsNJ1vqUOdO7ppbuec5+V+rj4ctwzd8IIbbi6u+8f1539dt3A78eXC7QizUF7gyV1fD1Yqg4JWz84yffhm0qkFqBogB9rM8tZdtwVsPUhWhGcFJngGeWrPzHm5oaMmkfEg1usvLFyc8jLRqDOMru7AyC8saQr7GG7f5fvDeH7Ej8CM66nIF+8yngt6HWaKh7k49Soy9nXurCi1o3qUbS3zWfrYeQDTB/Qj6kX6Ybhw4B+bOYoLKCC9H3Nu/leUTZ1JdRWkkn2ldcCamzrcf47KKXdAJllSlxAOkRgyHsGC/zRday5Qld9DyoM4/q/rUoy/CXh3jzOu3bHUVZeU+DEn8FInkPBFlu3+nW3Nw0mk6vCDiWg8CeJaxEwuHS3+z5RgY+YBR6V1Z1nxSOfoaPa4LASWxxdNp+VWTk7+4vzaou8v8PN+xo+KY2xsw6une2frhw05CTYOmQvsEhjhWjn0bmXPjpE1+kplmmkP3suftwTubK9Vq22qKmrBhpY4jvd5afdRA3wGjFAgcnTK2s4hY0/GPNIb0nErGMCRxWOOX64Z8RAC4oCXdklmEvcL8o0BfkNK4lUg9HTl+oPlQxdNo3Mg4Nv175e/1LDGzZen30MEjRUtmXSfiTVu1kK8W4txyV6BMKlbgk3lMwYCiusNy9fVfvvwMxv8Ynl6vxoByANLTWplvuj/nF9m2+PDtt1eiHPBr1oIfhCChQMBw6Aw0UulqTKZdfVvfG7VcfIqLG9bcldL/+pdWTLxLUy8Qq38heUIjh4XlzZxzQm19lLFlr8vdQ97rjZVOLf8nclzckbcD4wxXMidpX30sFd37Fv/GtwwhzhxGVAprjbg0gCAEeIgwCZyTV2Z1REEW8O4py0wsjeloKoMr6iCY6dP92H6Vw/oTyICIthibxjm/DfN9lVz8IqtqKYLUXfoKVMVQVVJOElGjrnnUt9T9wbgp8AyYKaGlqingHZU/uG2NTZSVqwHQTWkx9hxjkpWDaCg6Ckj5qebgBVbT3V3NNXMSiWSDdGV3hrtzla7J+duwPOToIg42ChPQOQjspnSlp1V+Gjdged7+8UN5CRAV7a5EdFNwCjEaBR27b3W890TE7g24NAP/mMDXRWrGoFPQI9ls/MWO2dWFAar/xcOIImbbpA3zgAAAABJRU5ErkJggg==);\n",
       "        }\n",
       "    </style>\n",
       "    <div>\n",
       "        <a href=\"https://bokeh.org\" target=\"_blank\" class=\"bk-notebook-logo\"></a>\n",
       "        <span id=\"c208458a-0ea8-4d64-8610-88e635d1f8df\">Loading BokehJS ...</span>\n",
       "    </div>\n"
      ]
     },
     "metadata": {},
     "output_type": "display_data"
    },
    {
     "data": {
      "application/javascript": "'use strict';\n(function(root) {\n  function now() {\n    return new Date();\n  }\n\n  const force = true;\n\n  if (typeof root._bokeh_onload_callbacks === \"undefined\" || force === true) {\n    root._bokeh_onload_callbacks = [];\n    root._bokeh_is_loading = undefined;\n  }\n\nconst JS_MIME_TYPE = 'application/javascript';\n  const HTML_MIME_TYPE = 'text/html';\n  const EXEC_MIME_TYPE = 'application/vnd.bokehjs_exec.v0+json';\n  const CLASS_NAME = 'output_bokeh rendered_html';\n\n  /**\n   * Render data to the DOM node\n   */\n  function render(props, node) {\n    const script = document.createElement(\"script\");\n    node.appendChild(script);\n  }\n\n  /**\n   * Handle when an output is cleared or removed\n   */\n  function handleClearOutput(event, handle) {\n    function drop(id) {\n      const view = Bokeh.index.get_by_id(id)\n      if (view != null) {\n        view.model.document.clear()\n        Bokeh.index.delete(view)\n      }\n    }\n\n    const cell = handle.cell;\n\n    const id = cell.output_area._bokeh_element_id;\n    const server_id = cell.output_area._bokeh_server_id;\n\n    // Clean up Bokeh references\n    if (id != null) {\n      drop(id)\n    }\n\n    if (server_id !== undefined) {\n      // Clean up Bokeh references\n      const cmd_clean = \"from bokeh.io.state import curstate; print(curstate().uuid_to_server['\" + server_id + \"'].get_sessions()[0].document.roots[0]._id)\";\n      cell.notebook.kernel.execute(cmd_clean, {\n        iopub: {\n          output: function(msg) {\n            const id = msg.content.text.trim()\n            drop(id)\n          }\n        }\n      });\n      // Destroy server and session\n      const cmd_destroy = \"import bokeh.io.notebook as ion; ion.destroy_server('\" + server_id + \"')\";\n      cell.notebook.kernel.execute(cmd_destroy);\n    }\n  }\n\n  /**\n   * Handle when a new output is added\n   */\n  function handleAddOutput(event, handle) {\n    const output_area = handle.output_area;\n    const output = handle.output;\n\n    // limit handleAddOutput to display_data with EXEC_MIME_TYPE content only\n    if ((output.output_type != \"display_data\") || (!Object.prototype.hasOwnProperty.call(output.data, EXEC_MIME_TYPE))) {\n      return\n    }\n\n    const toinsert = output_area.element.find(\".\" + CLASS_NAME.split(' ')[0]);\n\n    if (output.metadata[EXEC_MIME_TYPE][\"id\"] !== undefined) {\n      toinsert[toinsert.length - 1].firstChild.textContent = output.data[JS_MIME_TYPE];\n      // store reference to embed id on output_area\n      output_area._bokeh_element_id = output.metadata[EXEC_MIME_TYPE][\"id\"];\n    }\n    if (output.metadata[EXEC_MIME_TYPE][\"server_id\"] !== undefined) {\n      const bk_div = document.createElement(\"div\");\n      bk_div.innerHTML = output.data[HTML_MIME_TYPE];\n      const script_attrs = bk_div.children[0].attributes;\n      for (let i = 0; i < script_attrs.length; i++) {\n        toinsert[toinsert.length - 1].firstChild.setAttribute(script_attrs[i].name, script_attrs[i].value);\n        toinsert[toinsert.length - 1].firstChild.textContent = bk_div.children[0].textContent\n      }\n      // store reference to server id on output_area\n      output_area._bokeh_server_id = output.metadata[EXEC_MIME_TYPE][\"server_id\"];\n    }\n  }\n\n  function register_renderer(events, OutputArea) {\n\n    function append_mime(data, metadata, element) {\n      // create a DOM node to render to\n      const toinsert = this.create_output_subarea(\n        metadata,\n        CLASS_NAME,\n        EXEC_MIME_TYPE\n      );\n      this.keyboard_manager.register_events(toinsert);\n      // Render to node\n      const props = {data: data, metadata: metadata[EXEC_MIME_TYPE]};\n      render(props, toinsert[toinsert.length - 1]);\n      element.append(toinsert);\n      return toinsert\n    }\n\n    /* Handle when an output is cleared or removed */\n    events.on('clear_output.CodeCell', handleClearOutput);\n    events.on('delete.Cell', handleClearOutput);\n\n    /* Handle when a new output is added */\n    events.on('output_added.OutputArea', handleAddOutput);\n\n    /**\n     * Register the mime type and append_mime function with output_area\n     */\n    OutputArea.prototype.register_mime_type(EXEC_MIME_TYPE, append_mime, {\n      /* Is output safe? */\n      safe: true,\n      /* Index of renderer in `output_area.display_order` */\n      index: 0\n    });\n  }\n\n  // register the mime type if in Jupyter Notebook environment and previously unregistered\n  if (root.Jupyter !== undefined) {\n    const events = require('base/js/events');\n    const OutputArea = require('notebook/js/outputarea').OutputArea;\n\n    if (OutputArea.prototype.mime_types().indexOf(EXEC_MIME_TYPE) == -1) {\n      register_renderer(events, OutputArea);\n    }\n  }\n  if (typeof (root._bokeh_timeout) === \"undefined\" || force === true) {\n    root._bokeh_timeout = Date.now() + 5000;\n    root._bokeh_failed_load = false;\n  }\n\n  const NB_LOAD_WARNING = {'data': {'text/html':\n     \"<div style='background-color: #fdd'>\\n\"+\n     \"<p>\\n\"+\n     \"BokehJS does not appear to have successfully loaded. If loading BokehJS from CDN, this \\n\"+\n     \"may be due to a slow or bad network connection. Possible fixes:\\n\"+\n     \"</p>\\n\"+\n     \"<ul>\\n\"+\n     \"<li>re-rerun `output_notebook()` to attempt to load from CDN again, or</li>\\n\"+\n     \"<li>use INLINE resources instead, as so:</li>\\n\"+\n     \"</ul>\\n\"+\n     \"<code>\\n\"+\n     \"from bokeh.resources import INLINE\\n\"+\n     \"output_notebook(resources=INLINE)\\n\"+\n     \"</code>\\n\"+\n     \"</div>\"}};\n\n  function display_loaded(error = null) {\n    const el = document.getElementById(\"c208458a-0ea8-4d64-8610-88e635d1f8df\");\n    if (el != null) {\n      const html = (() => {\n        if (typeof root.Bokeh === \"undefined\") {\n          if (error == null) {\n            return \"BokehJS is loading ...\";\n          } else {\n            return \"BokehJS failed to load.\";\n          }\n        } else {\n          const prefix = `BokehJS ${root.Bokeh.version}`;\n          if (error == null) {\n            return `${prefix} successfully loaded.`;\n          } else {\n            return `${prefix} <b>encountered errors</b> while loading and may not function as expected.`;\n          }\n        }\n      })();\n      el.innerHTML = html;\n\n      if (error != null) {\n        const wrapper = document.createElement(\"div\");\n        wrapper.style.overflow = \"auto\";\n        wrapper.style.height = \"5em\";\n        wrapper.style.resize = \"vertical\";\n        const content = document.createElement(\"div\");\n        content.style.fontFamily = \"monospace\";\n        content.style.whiteSpace = \"pre-wrap\";\n        content.style.backgroundColor = \"rgb(255, 221, 221)\";\n        content.textContent = error.stack ?? error.toString();\n        wrapper.append(content);\n        el.append(wrapper);\n      }\n    } else if (Date.now() < root._bokeh_timeout) {\n      setTimeout(() => display_loaded(error), 100);\n    }\n  }\n\n  function run_callbacks() {\n    try {\n      root._bokeh_onload_callbacks.forEach(function(callback) {\n        if (callback != null)\n          callback();\n      });\n    } finally {\n      delete root._bokeh_onload_callbacks\n    }\n    console.debug(\"Bokeh: all callbacks have finished\");\n  }\n\n  function load_libs(css_urls, js_urls, callback) {\n    if (css_urls == null) css_urls = [];\n    if (js_urls == null) js_urls = [];\n\n    root._bokeh_onload_callbacks.push(callback);\n    if (root._bokeh_is_loading > 0) {\n      console.debug(\"Bokeh: BokehJS is being loaded, scheduling callback at\", now());\n      return null;\n    }\n    if (js_urls == null || js_urls.length === 0) {\n      run_callbacks();\n      return null;\n    }\n    console.debug(\"Bokeh: BokehJS not loaded, scheduling load and callback at\", now());\n    root._bokeh_is_loading = css_urls.length + js_urls.length;\n\n    function on_load() {\n      root._bokeh_is_loading--;\n      if (root._bokeh_is_loading === 0) {\n        console.debug(\"Bokeh: all BokehJS libraries/stylesheets loaded\");\n        run_callbacks()\n      }\n    }\n\n    function on_error(url) {\n      console.error(\"failed to load \" + url);\n    }\n\n    for (let i = 0; i < css_urls.length; i++) {\n      const url = css_urls[i];\n      const element = document.createElement(\"link\");\n      element.onload = on_load;\n      element.onerror = on_error.bind(null, url);\n      element.rel = \"stylesheet\";\n      element.type = \"text/css\";\n      element.href = url;\n      console.debug(\"Bokeh: injecting link tag for BokehJS stylesheet: \", url);\n      document.body.appendChild(element);\n    }\n\n    for (let i = 0; i < js_urls.length; i++) {\n      const url = js_urls[i];\n      const element = document.createElement('script');\n      element.onload = on_load;\n      element.onerror = on_error.bind(null, url);\n      element.async = false;\n      element.src = url;\n      console.debug(\"Bokeh: injecting script tag for BokehJS library: \", url);\n      document.head.appendChild(element);\n    }\n  };\n\n  function inject_raw_css(css) {\n    const element = document.createElement(\"style\");\n    element.appendChild(document.createTextNode(css));\n    document.body.appendChild(element);\n  }\n\n  const js_urls = [\"https://cdn.bokeh.org/bokeh/release/bokeh-3.4.1.min.js\", \"https://cdn.bokeh.org/bokeh/release/bokeh-gl-3.4.1.min.js\", \"https://cdn.bokeh.org/bokeh/release/bokeh-widgets-3.4.1.min.js\", \"https://cdn.bokeh.org/bokeh/release/bokeh-tables-3.4.1.min.js\", \"https://cdn.bokeh.org/bokeh/release/bokeh-mathjax-3.4.1.min.js\"];\n  const css_urls = [];\n\n  const inline_js = [    function(Bokeh) {\n      Bokeh.set_log_level(\"info\");\n    },\nfunction(Bokeh) {\n    }\n  ];\n\n  function run_inline_js() {\n    if (root.Bokeh !== undefined || force === true) {\n      try {\n            for (let i = 0; i < inline_js.length; i++) {\n      inline_js[i].call(root, root.Bokeh);\n    }\n\n      } catch (error) {display_loaded(error);throw error;\n      }if (force === true) {\n        display_loaded();\n      }} else if (Date.now() < root._bokeh_timeout) {\n      setTimeout(run_inline_js, 100);\n    } else if (!root._bokeh_failed_load) {\n      console.log(\"Bokeh: BokehJS failed to load within specified timeout.\");\n      root._bokeh_failed_load = true;\n    } else if (force !== true) {\n      const cell = $(document.getElementById(\"c208458a-0ea8-4d64-8610-88e635d1f8df\")).parents('.cell').data().cell;\n      cell.output_area.append_execute_result(NB_LOAD_WARNING)\n    }\n  }\n\n  if (root._bokeh_is_loading === 0) {\n    console.debug(\"Bokeh: BokehJS loaded, going straight to plotting\");\n    run_inline_js();\n  } else {\n    load_libs(css_urls, js_urls, function() {\n      console.debug(\"Bokeh: BokehJS plotting callback run at\", now());\n      run_inline_js();\n    });\n  }\n}(window));",
      "application/vnd.bokehjs_load.v0+json": ""
     },
     "metadata": {},
     "output_type": "display_data"
    },
    {
     "data": {
      "text/html": [
       "\n",
       "  <div id=\"edc131ef-b377-4d8e-a22a-12debc1a53e6\" data-root-id=\"p1102\" style=\"display: contents;\"></div>\n"
      ]
     },
     "metadata": {},
     "output_type": "display_data"
    },
    {
     "data": {
      "application/javascript": "(function(root) {\n  function embed_document(root) {\n  const docs_json = {\"140c0be8-4af7-4e74-868b-82887ee69fcb\":{\"version\":\"3.4.1\",\"title\":\"Bokeh Application\",\"roots\":[{\"type\":\"object\",\"name\":\"Figure\",\"id\":\"p1102\",\"attributes\":{\"x_range\":{\"type\":\"object\",\"name\":\"FactorRange\",\"id\":\"p1112\",\"attributes\":{\"factors\":[\"L\",\"S\",\"M\"]}},\"y_range\":{\"type\":\"object\",\"name\":\"DataRange1d\",\"id\":\"p1104\",\"attributes\":{\"start\":0,\"end\":16408.8}},\"x_scale\":{\"type\":\"object\",\"name\":\"CategoricalScale\",\"id\":\"p1113\"},\"y_scale\":{\"type\":\"object\",\"name\":\"LinearScale\",\"id\":\"p1114\"},\"title\":{\"type\":\"object\",\"name\":\"Title\",\"id\":\"p1105\",\"attributes\":{\"text\":\"Company Size\",\"text_font_size\":\"16pt\",\"align\":\"center\"}},\"renderers\":[{\"type\":\"object\",\"name\":\"GlyphRenderer\",\"id\":\"p1142\",\"attributes\":{\"data_source\":{\"type\":\"object\",\"name\":\"ColumnDataSource\",\"id\":\"p1099\",\"attributes\":{\"selected\":{\"type\":\"object\",\"name\":\"Selection\",\"id\":\"p1100\",\"attributes\":{\"indices\":[],\"line_indices\":[]}},\"selection_policy\":{\"type\":\"object\",\"name\":\"UnionRenderers\",\"id\":\"p1101\"},\"data\":{\"type\":\"map\",\"entries\":[[\"x\",[\"L\",\"S\",\"M\"]],[\"y\",[983,181,13674]]]}}},\"view\":{\"type\":\"object\",\"name\":\"CDSView\",\"id\":\"p1143\",\"attributes\":{\"filter\":{\"type\":\"object\",\"name\":\"AllIndices\",\"id\":\"p1144\"}}},\"glyph\":{\"type\":\"object\",\"name\":\"VBar\",\"id\":\"p1139\",\"attributes\":{\"x\":{\"type\":\"field\",\"field\":\"x\"},\"width\":{\"type\":\"value\",\"value\":0.9},\"top\":{\"type\":\"field\",\"field\":\"y\"},\"line_color\":{\"type\":\"value\",\"value\":\"white\"},\"fill_color\":{\"type\":\"field\",\"field\":\"x\",\"transform\":{\"type\":\"object\",\"name\":\"CategoricalColorMapper\",\"id\":\"p1135\",\"attributes\":{\"palette\":[\"#390062\",\"#0cce35\",\"#8cd0a4\"],\"factors\":[\"L\",\"S\",\"M\"]}}}}},\"nonselection_glyph\":{\"type\":\"object\",\"name\":\"VBar\",\"id\":\"p1140\",\"attributes\":{\"x\":{\"type\":\"field\",\"field\":\"x\"},\"width\":{\"type\":\"value\",\"value\":0.9},\"top\":{\"type\":\"field\",\"field\":\"y\"},\"line_color\":{\"type\":\"value\",\"value\":\"white\"},\"line_alpha\":{\"type\":\"value\",\"value\":0.1},\"fill_color\":{\"type\":\"field\",\"field\":\"x\",\"transform\":{\"id\":\"p1135\"}},\"fill_alpha\":{\"type\":\"value\",\"value\":0.1},\"hatch_alpha\":{\"type\":\"value\",\"value\":0.1}}},\"muted_glyph\":{\"type\":\"object\",\"name\":\"VBar\",\"id\":\"p1141\",\"attributes\":{\"x\":{\"type\":\"field\",\"field\":\"x\"},\"width\":{\"type\":\"value\",\"value\":0.9},\"top\":{\"type\":\"field\",\"field\":\"y\"},\"line_color\":{\"type\":\"value\",\"value\":\"white\"},\"line_alpha\":{\"type\":\"value\",\"value\":0.2},\"fill_color\":{\"type\":\"field\",\"field\":\"x\",\"transform\":{\"id\":\"p1135\"}},\"fill_alpha\":{\"type\":\"value\",\"value\":0.2},\"hatch_alpha\":{\"type\":\"value\",\"value\":0.2}}}}}],\"toolbar\":{\"type\":\"object\",\"name\":\"Toolbar\",\"id\":\"p1111\",\"attributes\":{\"tools\":[{\"type\":\"object\",\"name\":\"PanTool\",\"id\":\"p1125\"},{\"type\":\"object\",\"name\":\"BoxZoomTool\",\"id\":\"p1126\",\"attributes\":{\"overlay\":{\"type\":\"object\",\"name\":\"BoxAnnotation\",\"id\":\"p1127\",\"attributes\":{\"syncable\":false,\"level\":\"overlay\",\"visible\":false,\"left\":{\"type\":\"number\",\"value\":\"nan\"},\"right\":{\"type\":\"number\",\"value\":\"nan\"},\"top\":{\"type\":\"number\",\"value\":\"nan\"},\"bottom\":{\"type\":\"number\",\"value\":\"nan\"},\"left_units\":\"canvas\",\"right_units\":\"canvas\",\"top_units\":\"canvas\",\"bottom_units\":\"canvas\",\"line_color\":\"black\",\"line_alpha\":1.0,\"line_width\":2,\"line_dash\":[4,4],\"fill_color\":\"lightgrey\",\"fill_alpha\":0.5}}}},{\"type\":\"object\",\"name\":\"WheelZoomTool\",\"id\":\"p1132\",\"attributes\":{\"renderers\":\"auto\"}},{\"type\":\"object\",\"name\":\"ResetTool\",\"id\":\"p1133\"},{\"type\":\"object\",\"name\":\"SaveTool\",\"id\":\"p1134\"},{\"type\":\"object\",\"name\":\"HoverTool\",\"id\":\"p1147\",\"attributes\":{\"renderers\":\"auto\",\"tooltips\":[[\"Kategori\",\"@x\"],[\"Jumlah\",\"@y{0,0}\"]]}}]}},\"toolbar_location\":\"below\",\"left\":[{\"type\":\"object\",\"name\":\"LinearAxis\",\"id\":\"p1120\",\"attributes\":{\"ticker\":{\"type\":\"object\",\"name\":\"BasicTicker\",\"id\":\"p1121\",\"attributes\":{\"mantissas\":[1,2,5]}},\"formatter\":{\"type\":\"object\",\"name\":\"BasicTickFormatter\",\"id\":\"p1122\"},\"axis_label\":\"Count\",\"axis_label_text_font_style\":\"bold\",\"major_label_policy\":{\"type\":\"object\",\"name\":\"AllLabels\",\"id\":\"p1123\"},\"major_label_text_font_style\":\"bold\",\"axis_line_width\":1.1}}],\"below\":[{\"type\":\"object\",\"name\":\"CategoricalAxis\",\"id\":\"p1115\",\"attributes\":{\"ticker\":{\"type\":\"object\",\"name\":\"CategoricalTicker\",\"id\":\"p1116\"},\"formatter\":{\"type\":\"object\",\"name\":\"CategoricalTickFormatter\",\"id\":\"p1117\"},\"axis_label\":\"Company Size\",\"axis_label_text_font_style\":\"bold\",\"major_label_orientation\":1,\"major_label_policy\":{\"type\":\"object\",\"name\":\"AllLabels\",\"id\":\"p1118\"},\"major_label_text_font_style\":\"bold\",\"axis_line_width\":1.1}}],\"center\":[{\"type\":\"object\",\"name\":\"Grid\",\"id\":\"p1119\",\"attributes\":{\"axis\":{\"id\":\"p1115\"},\"grid_line_color\":null}},{\"type\":\"object\",\"name\":\"Grid\",\"id\":\"p1124\",\"attributes\":{\"dimension\":1,\"axis\":{\"id\":\"p1120\"}}},{\"type\":\"object\",\"name\":\"Legend\",\"id\":\"p1145\",\"attributes\":{\"spacing\":10,\"items\":[{\"type\":\"object\",\"name\":\"LegendItem\",\"id\":\"p1146\",\"attributes\":{\"label\":{\"type\":\"field\",\"field\":\"x\"},\"renderers\":[{\"id\":\"p1142\"}]}}]}}]}}]}};\n  const render_items = [{\"docid\":\"140c0be8-4af7-4e74-868b-82887ee69fcb\",\"roots\":{\"p1102\":\"edc131ef-b377-4d8e-a22a-12debc1a53e6\"},\"root_ids\":[\"p1102\"]}];\n  void root.Bokeh.embed.embed_items_notebook(docs_json, render_items);\n  }\n  if (root.Bokeh !== undefined) {\n    embed_document(root);\n  } else {\n    let attempts = 0;\n    const timer = setInterval(function(root) {\n      if (root.Bokeh !== undefined) {\n        clearInterval(timer);\n        embed_document(root);\n      } else {\n        attempts++;\n        if (attempts > 100) {\n          clearInterval(timer);\n          console.log(\"Bokeh: ERROR: Unable to run BokehJS code because BokehJS library is missing\");\n        }\n      }\n    }, 10, root)\n  }\n})(window);",
      "application/vnd.bokehjs_exec.v0+json": ""
     },
     "metadata": {
      "application/vnd.bokehjs_exec.v0+json": {
       "id": "p1102"
      }
     },
     "output_type": "display_data"
    }
   ],
   "source": [
    "# Menampilkan Kolom Bar\n",
    "plot_bar(df, x_column=\"company_size\", title=\"Company Size\")"
   ]
  },
  {
   "cell_type": "markdown",
   "metadata": {},
   "source": [
    "***Insight :***\n",
    "\n",
    "Ukuran perusahaan didominasi oleh kategori Medium dibandingkan dengan Large dan Small. Namun, terdapat ketimpangan data dimana jumlah perusahaan dalam kategori Medium mencapai 13674, sedangkan jumlah perusahaan dalam kategori lain hanya mencapai ratusan. Fenomena ini mungkin mencerminkan sejumlah faktor yang memengaruhi struktur industri Data Science dan preferensi perusahaan serta profesional di dalamnya:\n",
    "\n",
    "- Kebutuhan Kapasitas Tengah: Banyak proyek di industri *Data Science* membutuhkan tim yang memiliki kapasitas sedang untuk menangani volume data yang cukup besar namun tidak sebesar perusahaan besar. Perusahaan *Medium* mungkin dianggap memiliki keseimbangan yang baik antara sumber daya dan fleksibilitas untuk menangani proyek-proyek tersebut.\n",
    "\n",
    "- Kemajuan Teknologi: Perusahaan Medium seringkali sudah berkembang melewati tahap awal startup dan telah membangun infrastruktur dan tim yang cukup untuk menjalankan operasinya. Mereka mungkin mencari solusi dan inovasi di bidang *Data Science* untuk mengoptimalkan operasional mereka.\n",
    "\n",
    "- Fokus pada Pertumbuhan Menengah: Perusahaan Medium mungkin lebih condong pada pertumbuhan yang stabil dan terukur dibandingkan dengan perusahaan besar yang mungkin lebih berfokus pada ekspansi global atau diversifikasi. Oleh karena itu, mereka mungkin lebih berorientasi pada perekrutan talenta di bidang *Data Science* untuk memperkuat inti operasional mereka.\n",
    "\n",
    "- Keterbatasan Sumber Daya: Perusahaan *Small* mungkin memiliki keterbatasan sumber daya, termasuk sumber daya manusia dan keuangan, sehingga mereka mungkin tidak sekuat perusahaan *Medium* dalam mengembangkan tim *Data Science* mereka. Di sisi lain, perusahaan Large mungkin cenderung memiliki infrastruktur dan tim internal yang mapan sehingga mereka mungkin tidak terlalu banyak merekrut dari luar.\n",
    "\n",
    "---"
   ]
  },
  {
   "cell_type": "markdown",
   "metadata": {},
   "source": [
    "#### **Visualisasi Jenis Pekerjaan di Bidang Data**\n",
    "\n",
    "---"
   ]
  },
  {
   "cell_type": "code",
   "execution_count": 27,
   "metadata": {},
   "outputs": [
    {
     "data": {
      "text/plain": [
       "job_title\n",
       "Data Engineer                     3162\n",
       "Data Scientist                    3015\n",
       "Data Analyst                      2189\n",
       "Machine Learning Engineer         1542\n",
       "Research Scientist                 475\n",
       "Analytics Engineer                 403\n",
       "Applied Scientist                  383\n",
       "Data Architect                     369\n",
       "Research Engineer                  276\n",
       "Business Intelligence Engineer     230\n",
       "Name: count, dtype: int64"
      ]
     },
     "execution_count": 27,
     "metadata": {},
     "output_type": "execute_result"
    }
   ],
   "source": [
    "# Menampilkan 10 Jenis Pekerjaan di Bidang Data Science\n",
    "job_title = df['job_title'].value_counts()\n",
    "top_10 = 10\n",
    "top_10_jobs_title = job_title.head(top_10)\n",
    "top_10_jobs_title"
   ]
  },
  {
   "cell_type": "code",
   "execution_count": 28,
   "metadata": {},
   "outputs": [
    {
     "name": "stdout",
     "output_type": "stream",
     "text": [
      "Total 10 Jenis Pekerjaan di Bidang Data : 12044\n",
      "Total Keseluruhan Pekerjaan di Bidang Data : 14838\n",
      "Total jenis pekerjaan lain adalah : 2794\n"
     ]
    }
   ],
   "source": [
    "# Menghitung Nilai Jenis Pekerjaan lain\n",
    "other_job_title = job_title.sum() - top_10_jobs_title.sum()\n",
    "print(f'Total 10 Jenis Pekerjaan di Bidang Data : {top_10_jobs_title.sum()}')\n",
    "print(f'Total Keseluruhan Pekerjaan di Bidang Data : {job_title.sum()}')\n",
    "print(f'Total jenis pekerjaan lain adalah : {other_job_title}')"
   ]
  },
  {
   "cell_type": "code",
   "execution_count": 29,
   "metadata": {},
   "outputs": [
    {
     "data": {
      "text/html": [
       "\n",
       "  <div id=\"c5aae785-c498-4847-8775-c22cf4203290\" data-root-id=\"p1148\" style=\"display: contents;\"></div>\n"
      ]
     },
     "metadata": {},
     "output_type": "display_data"
    },
    {
     "data": {
      "application/javascript": "(function(root) {\n  function embed_document(root) {\n  const docs_json = {\"5b36fd1b-5595-4265-90a8-efca272ee279\":{\"version\":\"3.4.1\",\"title\":\"Bokeh Application\",\"roots\":[{\"type\":\"object\",\"name\":\"Figure\",\"id\":\"p1148\",\"attributes\":{\"width\":800,\"height\":500,\"x_range\":{\"type\":\"object\",\"name\":\"Range1d\",\"id\":\"p1158\",\"attributes\":{\"start\":-0.5}},\"y_range\":{\"type\":\"object\",\"name\":\"DataRange1d\",\"id\":\"p1150\"},\"x_scale\":{\"type\":\"object\",\"name\":\"LinearScale\",\"id\":\"p1159\"},\"y_scale\":{\"type\":\"object\",\"name\":\"LinearScale\",\"id\":\"p1160\"},\"title\":{\"type\":\"object\",\"name\":\"Title\",\"id\":\"p1151\",\"attributes\":{\"text\":\"Top 10 Jenis Pekerjaan di Bidang Data\",\"text_font_size\":\"15pt\",\"align\":\"center\"}},\"renderers\":[{\"type\":\"object\",\"name\":\"GlyphRenderer\",\"id\":\"p1183\",\"attributes\":{\"data_source\":{\"type\":\"object\",\"name\":\"ColumnDataSource\",\"id\":\"p1174\",\"attributes\":{\"selected\":{\"type\":\"object\",\"name\":\"Selection\",\"id\":\"p1175\",\"attributes\":{\"indices\":[],\"line_indices\":[]}},\"selection_policy\":{\"type\":\"object\",\"name\":\"UnionRenderers\",\"id\":\"p1176\"},\"data\":{\"type\":\"map\",\"entries\":[[\"index\",{\"type\":\"ndarray\",\"array\":{\"type\":\"bytes\",\"data\":\"AAAAAAEAAAACAAAAAwAAAAQAAAAFAAAABgAAAAcAAAAIAAAACQAAAA==\"},\"shape\":[10],\"dtype\":\"int32\",\"order\":\"little\"}],[\"category\",{\"type\":\"ndarray\",\"array\":[\"Data Engineer\",\"Data Scientist\",\"Data Analyst\",\"Machine Learning Engineer\",\"Research Scientist\",\"Analytics Engineer\",\"Applied Scientist\",\"Data Architect\",\"Research Engineer\",\"Business Intelligence Engineer\"],\"shape\":[10],\"dtype\":\"object\",\"order\":\"little\"}],[\"value\",{\"type\":\"ndarray\",\"array\":{\"type\":\"bytes\",\"data\":\"WgwAAMcLAACNCAAABgYAANsBAACTAQAAfwEAAHEBAAAUAQAA5gAAAA==\"},\"shape\":[10],\"dtype\":\"int32\",\"order\":\"little\"}],[\"percentage\",{\"type\":\"ndarray\",\"array\":{\"type\":\"bytes\",\"data\":\"ek633PRAOkAA1nmNgAg5QCO3sm7OLDJAfoHvFSqbKUBfIyACDY0PQHjDl229xApAflOOUqdwCUCC6zrZl4IIQKJvtQ4xVQJAYw/ZbfyN/j8=\"},\"shape\":[10],\"dtype\":\"float64\",\"order\":\"little\"}],[\"angle\",{\"type\":\"ndarray\",\"array\":{\"type\":\"bytes\",\"data\":\"xME6daRk+j847UNwhyr5P65zd9qCRfI/Wp8/U/i96T9+9RLn77fPP6/jNicg6co/vN5AxzuTyT9F20e36KPIP0REdl8cbsI/xnEan4S3vj8=\"},\"shape\":[10],\"dtype\":\"float64\",\"order\":\"little\"}],[\"color\",{\"type\":\"ndarray\",\"array\":[\"#7d6277\",\"#7248ad\",\"#477183\",\"#347a3f\",\"#2c833f\",\"#d80623\",\"#1045d1\",\"#0f4194\",\"#2ff8d2\",\"#6ff151\"],\"shape\":[10],\"dtype\":\"object\",\"order\":\"little\"}]]}}},\"view\":{\"type\":\"object\",\"name\":\"CDSView\",\"id\":\"p1184\",\"attributes\":{\"filter\":{\"type\":\"object\",\"name\":\"AllIndices\",\"id\":\"p1185\"}}},\"glyph\":{\"type\":\"object\",\"name\":\"Wedge\",\"id\":\"p1180\",\"attributes\":{\"x\":{\"type\":\"value\",\"value\":0},\"y\":{\"type\":\"value\",\"value\":1},\"radius\":{\"type\":\"value\",\"value\":0.4},\"start_angle\":{\"type\":\"expr\",\"expr\":{\"type\":\"object\",\"name\":\"CumSum\",\"id\":\"p1172\",\"attributes\":{\"field\":\"angle\",\"include_zero\":true}}},\"end_angle\":{\"type\":\"expr\",\"expr\":{\"type\":\"object\",\"name\":\"CumSum\",\"id\":\"p1173\",\"attributes\":{\"field\":\"angle\"}}},\"line_color\":{\"type\":\"value\",\"value\":\"white\"},\"fill_color\":{\"type\":\"field\",\"field\":\"color\"}}},\"nonselection_glyph\":{\"type\":\"object\",\"name\":\"Wedge\",\"id\":\"p1181\",\"attributes\":{\"x\":{\"type\":\"value\",\"value\":0},\"y\":{\"type\":\"value\",\"value\":1},\"radius\":{\"type\":\"value\",\"value\":0.4},\"start_angle\":{\"type\":\"expr\",\"expr\":{\"id\":\"p1172\"}},\"end_angle\":{\"type\":\"expr\",\"expr\":{\"id\":\"p1173\"}},\"line_color\":{\"type\":\"value\",\"value\":\"white\"},\"line_alpha\":{\"type\":\"value\",\"value\":0.1},\"fill_color\":{\"type\":\"field\",\"field\":\"color\"},\"fill_alpha\":{\"type\":\"value\",\"value\":0.1},\"hatch_alpha\":{\"type\":\"value\",\"value\":0.1}}},\"muted_glyph\":{\"type\":\"object\",\"name\":\"Wedge\",\"id\":\"p1182\",\"attributes\":{\"x\":{\"type\":\"value\",\"value\":0},\"y\":{\"type\":\"value\",\"value\":1},\"radius\":{\"type\":\"value\",\"value\":0.4},\"start_angle\":{\"type\":\"expr\",\"expr\":{\"id\":\"p1172\"}},\"end_angle\":{\"type\":\"expr\",\"expr\":{\"id\":\"p1173\"}},\"line_color\":{\"type\":\"value\",\"value\":\"white\"},\"line_alpha\":{\"type\":\"value\",\"value\":0.2},\"fill_color\":{\"type\":\"field\",\"field\":\"color\"},\"fill_alpha\":{\"type\":\"value\",\"value\":0.2},\"hatch_alpha\":{\"type\":\"value\",\"value\":0.2}}}}}],\"toolbar\":{\"type\":\"object\",\"name\":\"Toolbar\",\"id\":\"p1157\",\"attributes\":{\"tools\":[{\"type\":\"object\",\"name\":\"HoverTool\",\"id\":\"p1171\",\"attributes\":{\"renderers\":\"auto\",\"tooltips\":[[\"Category\",\"@category\"],[\"Percentage\",\"@percentage{0.0}%\"],[\"Value\",\"@value\"]]}}]}},\"toolbar_location\":null,\"left\":[{\"type\":\"object\",\"name\":\"LinearAxis\",\"id\":\"p1166\",\"attributes\":{\"visible\":false,\"ticker\":{\"type\":\"object\",\"name\":\"BasicTicker\",\"id\":\"p1167\",\"attributes\":{\"mantissas\":[1,2,5]}},\"formatter\":{\"type\":\"object\",\"name\":\"BasicTickFormatter\",\"id\":\"p1168\"},\"major_label_policy\":{\"type\":\"object\",\"name\":\"AllLabels\",\"id\":\"p1169\"}}}],\"below\":[{\"type\":\"object\",\"name\":\"LinearAxis\",\"id\":\"p1161\",\"attributes\":{\"visible\":false,\"ticker\":{\"type\":\"object\",\"name\":\"BasicTicker\",\"id\":\"p1162\",\"attributes\":{\"mantissas\":[1,2,5]}},\"formatter\":{\"type\":\"object\",\"name\":\"BasicTickFormatter\",\"id\":\"p1163\"},\"major_label_policy\":{\"type\":\"object\",\"name\":\"AllLabels\",\"id\":\"p1164\"}}}],\"center\":[{\"type\":\"object\",\"name\":\"Grid\",\"id\":\"p1165\",\"attributes\":{\"axis\":{\"id\":\"p1161\"},\"grid_line_color\":null}},{\"type\":\"object\",\"name\":\"Grid\",\"id\":\"p1170\",\"attributes\":{\"dimension\":1,\"axis\":{\"id\":\"p1166\"},\"grid_line_color\":null}},{\"type\":\"object\",\"name\":\"Legend\",\"id\":\"p1186\",\"attributes\":{\"title\":\"Legend\",\"label_text_font_size\":\"10pt\",\"items\":[{\"type\":\"object\",\"name\":\"LegendItem\",\"id\":\"p1187\",\"attributes\":{\"label\":{\"type\":\"field\",\"field\":\"category\"},\"renderers\":[{\"id\":\"p1183\"}]}}]}}]}}]}};\n  const render_items = [{\"docid\":\"5b36fd1b-5595-4265-90a8-efca272ee279\",\"roots\":{\"p1148\":\"c5aae785-c498-4847-8775-c22cf4203290\"},\"root_ids\":[\"p1148\"]}];\n  void root.Bokeh.embed.embed_items_notebook(docs_json, render_items);\n  }\n  if (root.Bokeh !== undefined) {\n    embed_document(root);\n  } else {\n    let attempts = 0;\n    const timer = setInterval(function(root) {\n      if (root.Bokeh !== undefined) {\n        clearInterval(timer);\n        embed_document(root);\n      } else {\n        attempts++;\n        if (attempts > 100) {\n          clearInterval(timer);\n          console.log(\"Bokeh: ERROR: Unable to run BokehJS code because BokehJS library is missing\");\n        }\n      }\n    }, 10, root)\n  }\n})(window);",
      "application/vnd.bokehjs_exec.v0+json": ""
     },
     "metadata": {
      "application/vnd.bokehjs_exec.v0+json": {
       "id": "p1148"
      }
     },
     "output_type": "display_data"
    },
    {
     "data": {
      "text/html": [
       "    <style>\n",
       "        .bk-notebook-logo {\n",
       "            display: block;\n",
       "            width: 20px;\n",
       "            height: 20px;\n",
       "            background-image: url(data:image/png;base64,iVBORw0KGgoAAAANSUhEUgAAABQAAAAUCAYAAACNiR0NAAAABHNCSVQICAgIfAhkiAAAAAlwSFlzAAALEgAACxIB0t1+/AAAABx0RVh0U29mdHdhcmUAQWRvYmUgRmlyZXdvcmtzIENTNui8sowAAAOkSURBVDiNjZRtaJVlGMd/1/08zzln5zjP1LWcU9N0NkN8m2CYjpgQYQXqSs0I84OLIC0hkEKoPtiH3gmKoiJDU7QpLgoLjLIQCpEsNJ1vqUOdO7ppbuec5+V+rj4ctwzd8IIbbi6u+8f1539dt3A78eXC7QizUF7gyV1fD1Yqg4JWz84yffhm0qkFqBogB9rM8tZdtwVsPUhWhGcFJngGeWrPzHm5oaMmkfEg1usvLFyc8jLRqDOMru7AyC8saQr7GG7f5fvDeH7Ej8CM66nIF+8yngt6HWaKh7k49Soy9nXurCi1o3qUbS3zWfrYeQDTB/Qj6kX6Ybhw4B+bOYoLKCC9H3Nu/leUTZ1JdRWkkn2ldcCamzrcf47KKXdAJllSlxAOkRgyHsGC/zRday5Qld9DyoM4/q/rUoy/CXh3jzOu3bHUVZeU+DEn8FInkPBFlu3+nW3Nw0mk6vCDiWg8CeJaxEwuHS3+z5RgY+YBR6V1Z1nxSOfoaPa4LASWxxdNp+VWTk7+4vzaou8v8PN+xo+KY2xsw6une2frhw05CTYOmQvsEhjhWjn0bmXPjpE1+kplmmkP3suftwTubK9Vq22qKmrBhpY4jvd5afdRA3wGjFAgcnTK2s4hY0/GPNIb0nErGMCRxWOOX64Z8RAC4oCXdklmEvcL8o0BfkNK4lUg9HTl+oPlQxdNo3Mg4Nv175e/1LDGzZen30MEjRUtmXSfiTVu1kK8W4txyV6BMKlbgk3lMwYCiusNy9fVfvvwMxv8Ynl6vxoByANLTWplvuj/nF9m2+PDtt1eiHPBr1oIfhCChQMBw6Aw0UulqTKZdfVvfG7VcfIqLG9bcldL/+pdWTLxLUy8Qq38heUIjh4XlzZxzQm19lLFlr8vdQ97rjZVOLf8nclzckbcD4wxXMidpX30sFd37Fv/GtwwhzhxGVAprjbg0gCAEeIgwCZyTV2Z1REEW8O4py0wsjeloKoMr6iCY6dP92H6Vw/oTyICIthibxjm/DfN9lVz8IqtqKYLUXfoKVMVQVVJOElGjrnnUt9T9wbgp8AyYKaGlqingHZU/uG2NTZSVqwHQTWkx9hxjkpWDaCg6Ckj5qebgBVbT3V3NNXMSiWSDdGV3hrtzla7J+duwPOToIg42ChPQOQjspnSlp1V+Gjdged7+8UN5CRAV7a5EdFNwCjEaBR27b3W890TE7g24NAP/mMDXRWrGoFPQI9ls/MWO2dWFAar/xcOIImbbpA3zgAAAABJRU5ErkJggg==);\n",
       "        }\n",
       "    </style>\n",
       "    <div>\n",
       "        <a href=\"https://bokeh.org\" target=\"_blank\" class=\"bk-notebook-logo\"></a>\n",
       "        <span id=\"a90e70b5-fce3-43dc-aca8-812956908845\">Loading BokehJS ...</span>\n",
       "    </div>\n"
      ]
     },
     "metadata": {},
     "output_type": "display_data"
    },
    {
     "data": {
      "application/javascript": "'use strict';\n(function(root) {\n  function now() {\n    return new Date();\n  }\n\n  const force = true;\n\n  if (typeof root._bokeh_onload_callbacks === \"undefined\" || force === true) {\n    root._bokeh_onload_callbacks = [];\n    root._bokeh_is_loading = undefined;\n  }\n\nconst JS_MIME_TYPE = 'application/javascript';\n  const HTML_MIME_TYPE = 'text/html';\n  const EXEC_MIME_TYPE = 'application/vnd.bokehjs_exec.v0+json';\n  const CLASS_NAME = 'output_bokeh rendered_html';\n\n  /**\n   * Render data to the DOM node\n   */\n  function render(props, node) {\n    const script = document.createElement(\"script\");\n    node.appendChild(script);\n  }\n\n  /**\n   * Handle when an output is cleared or removed\n   */\n  function handleClearOutput(event, handle) {\n    function drop(id) {\n      const view = Bokeh.index.get_by_id(id)\n      if (view != null) {\n        view.model.document.clear()\n        Bokeh.index.delete(view)\n      }\n    }\n\n    const cell = handle.cell;\n\n    const id = cell.output_area._bokeh_element_id;\n    const server_id = cell.output_area._bokeh_server_id;\n\n    // Clean up Bokeh references\n    if (id != null) {\n      drop(id)\n    }\n\n    if (server_id !== undefined) {\n      // Clean up Bokeh references\n      const cmd_clean = \"from bokeh.io.state import curstate; print(curstate().uuid_to_server['\" + server_id + \"'].get_sessions()[0].document.roots[0]._id)\";\n      cell.notebook.kernel.execute(cmd_clean, {\n        iopub: {\n          output: function(msg) {\n            const id = msg.content.text.trim()\n            drop(id)\n          }\n        }\n      });\n      // Destroy server and session\n      const cmd_destroy = \"import bokeh.io.notebook as ion; ion.destroy_server('\" + server_id + \"')\";\n      cell.notebook.kernel.execute(cmd_destroy);\n    }\n  }\n\n  /**\n   * Handle when a new output is added\n   */\n  function handleAddOutput(event, handle) {\n    const output_area = handle.output_area;\n    const output = handle.output;\n\n    // limit handleAddOutput to display_data with EXEC_MIME_TYPE content only\n    if ((output.output_type != \"display_data\") || (!Object.prototype.hasOwnProperty.call(output.data, EXEC_MIME_TYPE))) {\n      return\n    }\n\n    const toinsert = output_area.element.find(\".\" + CLASS_NAME.split(' ')[0]);\n\n    if (output.metadata[EXEC_MIME_TYPE][\"id\"] !== undefined) {\n      toinsert[toinsert.length - 1].firstChild.textContent = output.data[JS_MIME_TYPE];\n      // store reference to embed id on output_area\n      output_area._bokeh_element_id = output.metadata[EXEC_MIME_TYPE][\"id\"];\n    }\n    if (output.metadata[EXEC_MIME_TYPE][\"server_id\"] !== undefined) {\n      const bk_div = document.createElement(\"div\");\n      bk_div.innerHTML = output.data[HTML_MIME_TYPE];\n      const script_attrs = bk_div.children[0].attributes;\n      for (let i = 0; i < script_attrs.length; i++) {\n        toinsert[toinsert.length - 1].firstChild.setAttribute(script_attrs[i].name, script_attrs[i].value);\n        toinsert[toinsert.length - 1].firstChild.textContent = bk_div.children[0].textContent\n      }\n      // store reference to server id on output_area\n      output_area._bokeh_server_id = output.metadata[EXEC_MIME_TYPE][\"server_id\"];\n    }\n  }\n\n  function register_renderer(events, OutputArea) {\n\n    function append_mime(data, metadata, element) {\n      // create a DOM node to render to\n      const toinsert = this.create_output_subarea(\n        metadata,\n        CLASS_NAME,\n        EXEC_MIME_TYPE\n      );\n      this.keyboard_manager.register_events(toinsert);\n      // Render to node\n      const props = {data: data, metadata: metadata[EXEC_MIME_TYPE]};\n      render(props, toinsert[toinsert.length - 1]);\n      element.append(toinsert);\n      return toinsert\n    }\n\n    /* Handle when an output is cleared or removed */\n    events.on('clear_output.CodeCell', handleClearOutput);\n    events.on('delete.Cell', handleClearOutput);\n\n    /* Handle when a new output is added */\n    events.on('output_added.OutputArea', handleAddOutput);\n\n    /**\n     * Register the mime type and append_mime function with output_area\n     */\n    OutputArea.prototype.register_mime_type(EXEC_MIME_TYPE, append_mime, {\n      /* Is output safe? */\n      safe: true,\n      /* Index of renderer in `output_area.display_order` */\n      index: 0\n    });\n  }\n\n  // register the mime type if in Jupyter Notebook environment and previously unregistered\n  if (root.Jupyter !== undefined) {\n    const events = require('base/js/events');\n    const OutputArea = require('notebook/js/outputarea').OutputArea;\n\n    if (OutputArea.prototype.mime_types().indexOf(EXEC_MIME_TYPE) == -1) {\n      register_renderer(events, OutputArea);\n    }\n  }\n  if (typeof (root._bokeh_timeout) === \"undefined\" || force === true) {\n    root._bokeh_timeout = Date.now() + 5000;\n    root._bokeh_failed_load = false;\n  }\n\n  const NB_LOAD_WARNING = {'data': {'text/html':\n     \"<div style='background-color: #fdd'>\\n\"+\n     \"<p>\\n\"+\n     \"BokehJS does not appear to have successfully loaded. If loading BokehJS from CDN, this \\n\"+\n     \"may be due to a slow or bad network connection. Possible fixes:\\n\"+\n     \"</p>\\n\"+\n     \"<ul>\\n\"+\n     \"<li>re-rerun `output_notebook()` to attempt to load from CDN again, or</li>\\n\"+\n     \"<li>use INLINE resources instead, as so:</li>\\n\"+\n     \"</ul>\\n\"+\n     \"<code>\\n\"+\n     \"from bokeh.resources import INLINE\\n\"+\n     \"output_notebook(resources=INLINE)\\n\"+\n     \"</code>\\n\"+\n     \"</div>\"}};\n\n  function display_loaded(error = null) {\n    const el = document.getElementById(\"a90e70b5-fce3-43dc-aca8-812956908845\");\n    if (el != null) {\n      const html = (() => {\n        if (typeof root.Bokeh === \"undefined\") {\n          if (error == null) {\n            return \"BokehJS is loading ...\";\n          } else {\n            return \"BokehJS failed to load.\";\n          }\n        } else {\n          const prefix = `BokehJS ${root.Bokeh.version}`;\n          if (error == null) {\n            return `${prefix} successfully loaded.`;\n          } else {\n            return `${prefix} <b>encountered errors</b> while loading and may not function as expected.`;\n          }\n        }\n      })();\n      el.innerHTML = html;\n\n      if (error != null) {\n        const wrapper = document.createElement(\"div\");\n        wrapper.style.overflow = \"auto\";\n        wrapper.style.height = \"5em\";\n        wrapper.style.resize = \"vertical\";\n        const content = document.createElement(\"div\");\n        content.style.fontFamily = \"monospace\";\n        content.style.whiteSpace = \"pre-wrap\";\n        content.style.backgroundColor = \"rgb(255, 221, 221)\";\n        content.textContent = error.stack ?? error.toString();\n        wrapper.append(content);\n        el.append(wrapper);\n      }\n    } else if (Date.now() < root._bokeh_timeout) {\n      setTimeout(() => display_loaded(error), 100);\n    }\n  }\n\n  function run_callbacks() {\n    try {\n      root._bokeh_onload_callbacks.forEach(function(callback) {\n        if (callback != null)\n          callback();\n      });\n    } finally {\n      delete root._bokeh_onload_callbacks\n    }\n    console.debug(\"Bokeh: all callbacks have finished\");\n  }\n\n  function load_libs(css_urls, js_urls, callback) {\n    if (css_urls == null) css_urls = [];\n    if (js_urls == null) js_urls = [];\n\n    root._bokeh_onload_callbacks.push(callback);\n    if (root._bokeh_is_loading > 0) {\n      console.debug(\"Bokeh: BokehJS is being loaded, scheduling callback at\", now());\n      return null;\n    }\n    if (js_urls == null || js_urls.length === 0) {\n      run_callbacks();\n      return null;\n    }\n    console.debug(\"Bokeh: BokehJS not loaded, scheduling load and callback at\", now());\n    root._bokeh_is_loading = css_urls.length + js_urls.length;\n\n    function on_load() {\n      root._bokeh_is_loading--;\n      if (root._bokeh_is_loading === 0) {\n        console.debug(\"Bokeh: all BokehJS libraries/stylesheets loaded\");\n        run_callbacks()\n      }\n    }\n\n    function on_error(url) {\n      console.error(\"failed to load \" + url);\n    }\n\n    for (let i = 0; i < css_urls.length; i++) {\n      const url = css_urls[i];\n      const element = document.createElement(\"link\");\n      element.onload = on_load;\n      element.onerror = on_error.bind(null, url);\n      element.rel = \"stylesheet\";\n      element.type = \"text/css\";\n      element.href = url;\n      console.debug(\"Bokeh: injecting link tag for BokehJS stylesheet: \", url);\n      document.body.appendChild(element);\n    }\n\n    for (let i = 0; i < js_urls.length; i++) {\n      const url = js_urls[i];\n      const element = document.createElement('script');\n      element.onload = on_load;\n      element.onerror = on_error.bind(null, url);\n      element.async = false;\n      element.src = url;\n      console.debug(\"Bokeh: injecting script tag for BokehJS library: \", url);\n      document.head.appendChild(element);\n    }\n  };\n\n  function inject_raw_css(css) {\n    const element = document.createElement(\"style\");\n    element.appendChild(document.createTextNode(css));\n    document.body.appendChild(element);\n  }\n\n  const js_urls = [\"https://cdn.bokeh.org/bokeh/release/bokeh-3.4.1.min.js\", \"https://cdn.bokeh.org/bokeh/release/bokeh-gl-3.4.1.min.js\", \"https://cdn.bokeh.org/bokeh/release/bokeh-widgets-3.4.1.min.js\", \"https://cdn.bokeh.org/bokeh/release/bokeh-tables-3.4.1.min.js\", \"https://cdn.bokeh.org/bokeh/release/bokeh-mathjax-3.4.1.min.js\"];\n  const css_urls = [];\n\n  const inline_js = [    function(Bokeh) {\n      Bokeh.set_log_level(\"info\");\n    },\nfunction(Bokeh) {\n    }\n  ];\n\n  function run_inline_js() {\n    if (root.Bokeh !== undefined || force === true) {\n      try {\n            for (let i = 0; i < inline_js.length; i++) {\n      inline_js[i].call(root, root.Bokeh);\n    }\n\n      } catch (error) {display_loaded(error);throw error;\n      }if (force === true) {\n        display_loaded();\n      }} else if (Date.now() < root._bokeh_timeout) {\n      setTimeout(run_inline_js, 100);\n    } else if (!root._bokeh_failed_load) {\n      console.log(\"Bokeh: BokehJS failed to load within specified timeout.\");\n      root._bokeh_failed_load = true;\n    } else if (force !== true) {\n      const cell = $(document.getElementById(\"a90e70b5-fce3-43dc-aca8-812956908845\")).parents('.cell').data().cell;\n      cell.output_area.append_execute_result(NB_LOAD_WARNING)\n    }\n  }\n\n  if (root._bokeh_is_loading === 0) {\n    console.debug(\"Bokeh: BokehJS loaded, going straight to plotting\");\n    run_inline_js();\n  } else {\n    load_libs(css_urls, js_urls, function() {\n      console.debug(\"Bokeh: BokehJS plotting callback run at\", now());\n      run_inline_js();\n    });\n  }\n}(window));",
      "application/vnd.bokehjs_load.v0+json": ""
     },
     "metadata": {},
     "output_type": "display_data"
    }
   ],
   "source": [
    "# Menampilkan Visualisasi Pie Chart\n",
    "pie_chart(top_10_jobs_title, title=\"Top 10 Jenis Pekerjaan di Bidang Data\")\n"
   ]
  },
  {
   "cell_type": "markdown",
   "metadata": {},
   "source": [
    "***Insight :***\n",
    "\n",
    "Bagian ini akan membahas jenis pekerjaan yang paling banyak dicari di bidang data. Ada empat jenis pekerjaan yang memiliki nilai tertinggi, yaitu `Data Engineer`, `Data Scientist`, `Data Analyst`, dan `Machine Learning Engineer` Berdasarkan diagram, nilai yang dimiliki oleh keempat jenis pekerjaan ini mencapai hingga 20% dari total data. Informasi ini dapat menjadi pertimbangan bagi individu yang tertarik untuk terlibat dalam industri data. Fenomena ini menunjukkan tren yang signifikan dalam permintaan tenaga kerja di industri *Data Science*. Berikut adalah beberapa penjelasan yang mungkin terkait dengan dominasi jenis pekerjaan tertentu:\n",
    "\n",
    "- Pentingnya Peran Tertentu: Pekerjaan seperti `Data Engineer`, `Data Scientist`, `Data Analyst`, dan `Machine Learning Engineer` merupakan peran kunci dalam siklus kerja `Data Science`. Mereka memiliki tanggung jawab yang berbeda namun saling terkait dalam mengelola, menganalisis, dan memanfaatkan data untuk mendukung pengambilan keputusan bisnis.\n",
    "\n",
    "- Tingkat Keterampilan yang Dibutuhkan: Keempat jenis pekerjaan ini mungkin membutuhkan tingkat keterampilan dan pengetahuan yang tinggi dalam bidang seperti pemrograman, statistik, dan pemahaman domain bisnis. Oleh karena itu, permintaan untuk posisi-posisi ini cenderung tinggi karena sumber daya manusia yang memiliki kualifikasi yang sesuai mungkin lebih langka.\n",
    "\n",
    "- Pertumbuhan Industri: Industri `Data Science` terus berkembang pesat, baik dalam skala perusahaan besar maupun startup. Permintaan untuk jenis pekerjaan yang terkait dengan pengelolaan dan analisis data semakin meningkat seiring dengan peran data yang semakin krusial dalam pengambilan keputusan bisnis.\n",
    "\n",
    "- Inovasi Teknologi: Peran seperti `Machine Learning Engineer` mungkin semakin dicari karena perkembangan teknologi baru seperti kecerdasan buatan dan analisis prediktif semakin banyak diterapkan dalam berbagai industri. Perusahaan mencari profesional yang dapat mengembangkan dan menerapkan solusi-solusi inovatif ini.\n",
    "\n",
    "---"
   ]
  },
  {
   "cell_type": "markdown",
   "metadata": {},
   "source": [
    "## ***Data Cleaning***\n",
    "\n",
    "---"
   ]
  },
  {
   "cell_type": "markdown",
   "metadata": {},
   "source": [
    "### **Menampilkan Nilai *Missing Value***\n",
    "\n",
    "---"
   ]
  },
  {
   "cell_type": "code",
   "execution_count": 30,
   "metadata": {},
   "outputs": [
    {
     "name": "stdout",
     "output_type": "stream",
     "text": [
      "<class 'pandas.core.frame.DataFrame'>\n",
      "RangeIndex: 14838 entries, 0 to 14837\n",
      "Data columns (total 11 columns):\n",
      " #   Column              Non-Null Count  Dtype \n",
      "---  ------              --------------  ----- \n",
      " 0   work_year           14838 non-null  int64 \n",
      " 1   experience_level    14838 non-null  object\n",
      " 2   employment_type     14838 non-null  object\n",
      " 3   job_title           14838 non-null  object\n",
      " 4   salary              14838 non-null  int64 \n",
      " 5   salary_currency     14838 non-null  object\n",
      " 6   salary_in_usd       14838 non-null  int64 \n",
      " 7   employee_residence  14838 non-null  object\n",
      " 8   remote_ratio        14838 non-null  int64 \n",
      " 9   company_location    14838 non-null  object\n",
      " 10  company_size        14838 non-null  object\n",
      "dtypes: int64(4), object(7)\n",
      "memory usage: 1.2+ MB\n"
     ]
    }
   ],
   "source": [
    "# Menampilkan informasi Data\n",
    "df.info()"
   ]
  },
  {
   "cell_type": "code",
   "execution_count": 31,
   "metadata": {},
   "outputs": [
    {
     "data": {
      "text/plain": [
       "work_year             0\n",
       "experience_level      0\n",
       "employment_type       0\n",
       "job_title             0\n",
       "salary                0\n",
       "salary_currency       0\n",
       "salary_in_usd         0\n",
       "employee_residence    0\n",
       "remote_ratio          0\n",
       "company_location      0\n",
       "company_size          0\n",
       "dtype: int64"
      ]
     },
     "execution_count": 31,
     "metadata": {},
     "output_type": "execute_result"
    }
   ],
   "source": [
    "# Menampilkan Nilai Missing Value\n",
    "df.isnull().sum()"
   ]
  },
  {
   "cell_type": "markdown",
   "metadata": {},
   "source": [
    "***Insight :***\n",
    "\n",
    "`DataScience_salaries_2024.csv` dapat dianggap sebagai data yang berkualitas baik. Hal ini disebabkan oleh tidak adanya nilai yang hilang (*missing value*) dari total 14838 data yang tersedia. Ini menunjukkan bahwa proses pengambilan data dilakukan dengan sangat baik. Selain itu, tidak ada nilai dalam kolom yang menyimpan spasi berlebihan atau nilai yang memiliki anomali.\n",
    "\n",
    "---"
   ]
  },
  {
   "cell_type": "markdown",
   "metadata": {},
   "source": [
    "### **Menampilkan Nilai Duplikasi**\n",
    "\n",
    "---"
   ]
  },
  {
   "cell_type": "code",
   "execution_count": 32,
   "metadata": {},
   "outputs": [
    {
     "data": {
      "text/plain": [
       "5711"
      ]
     },
     "execution_count": 32,
     "metadata": {},
     "output_type": "execute_result"
    }
   ],
   "source": [
    "# Menampilkan Nilai Duplikasi\n",
    "df.duplicated().sum()"
   ]
  },
  {
   "cell_type": "code",
   "execution_count": 33,
   "metadata": {},
   "outputs": [
    {
     "data": {
      "text/html": [
       "<div>\n",
       "<style scoped>\n",
       "    .dataframe tbody tr th:only-of-type {\n",
       "        vertical-align: middle;\n",
       "    }\n",
       "\n",
       "    .dataframe tbody tr th {\n",
       "        vertical-align: top;\n",
       "    }\n",
       "\n",
       "    .dataframe thead th {\n",
       "        text-align: right;\n",
       "    }\n",
       "</style>\n",
       "<table border=\"1\" class=\"dataframe\">\n",
       "  <thead>\n",
       "    <tr style=\"text-align: right;\">\n",
       "      <th></th>\n",
       "      <th>work_year</th>\n",
       "      <th>experience_level</th>\n",
       "      <th>employment_type</th>\n",
       "      <th>job_title</th>\n",
       "      <th>salary</th>\n",
       "      <th>salary_currency</th>\n",
       "      <th>salary_in_usd</th>\n",
       "      <th>employee_residence</th>\n",
       "      <th>remote_ratio</th>\n",
       "      <th>company_location</th>\n",
       "      <th>company_size</th>\n",
       "    </tr>\n",
       "  </thead>\n",
       "  <tbody>\n",
       "    <tr>\n",
       "      <th>70</th>\n",
       "      <td>2024</td>\n",
       "      <td>MI</td>\n",
       "      <td>FT</td>\n",
       "      <td>Machine Learning Scientist</td>\n",
       "      <td>750000</td>\n",
       "      <td>USD</td>\n",
       "      <td>750000</td>\n",
       "      <td>US</td>\n",
       "      <td>0</td>\n",
       "      <td>US</td>\n",
       "      <td>M</td>\n",
       "    </tr>\n",
       "    <tr>\n",
       "      <th>72</th>\n",
       "      <td>2024</td>\n",
       "      <td>MI</td>\n",
       "      <td>FT</td>\n",
       "      <td>Machine Learning Scientist</td>\n",
       "      <td>750000</td>\n",
       "      <td>USD</td>\n",
       "      <td>750000</td>\n",
       "      <td>US</td>\n",
       "      <td>0</td>\n",
       "      <td>US</td>\n",
       "      <td>M</td>\n",
       "    </tr>\n",
       "    <tr>\n",
       "      <th>82</th>\n",
       "      <td>2024</td>\n",
       "      <td>MI</td>\n",
       "      <td>FT</td>\n",
       "      <td>Research Engineer</td>\n",
       "      <td>720000</td>\n",
       "      <td>USD</td>\n",
       "      <td>720000</td>\n",
       "      <td>US</td>\n",
       "      <td>0</td>\n",
       "      <td>US</td>\n",
       "      <td>M</td>\n",
       "    </tr>\n",
       "    <tr>\n",
       "      <th>84</th>\n",
       "      <td>2024</td>\n",
       "      <td>MI</td>\n",
       "      <td>FT</td>\n",
       "      <td>Research Engineer</td>\n",
       "      <td>720000</td>\n",
       "      <td>USD</td>\n",
       "      <td>720000</td>\n",
       "      <td>US</td>\n",
       "      <td>0</td>\n",
       "      <td>US</td>\n",
       "      <td>M</td>\n",
       "    </tr>\n",
       "    <tr>\n",
       "      <th>92</th>\n",
       "      <td>2024</td>\n",
       "      <td>SE</td>\n",
       "      <td>FT</td>\n",
       "      <td>Machine Learning Engineer</td>\n",
       "      <td>550000</td>\n",
       "      <td>USD</td>\n",
       "      <td>550000</td>\n",
       "      <td>US</td>\n",
       "      <td>0</td>\n",
       "      <td>US</td>\n",
       "      <td>M</td>\n",
       "    </tr>\n",
       "  </tbody>\n",
       "</table>\n",
       "</div>"
      ],
      "text/plain": [
       "    work_year experience_level employment_type                   job_title  \\\n",
       "70       2024               MI              FT  Machine Learning Scientist   \n",
       "72       2024               MI              FT  Machine Learning Scientist   \n",
       "82       2024               MI              FT           Research Engineer   \n",
       "84       2024               MI              FT           Research Engineer   \n",
       "92       2024               SE              FT   Machine Learning Engineer   \n",
       "\n",
       "    salary salary_currency  salary_in_usd employee_residence  remote_ratio  \\\n",
       "70  750000             USD         750000                 US             0   \n",
       "72  750000             USD         750000                 US             0   \n",
       "82  720000             USD         720000                 US             0   \n",
       "84  720000             USD         720000                 US             0   \n",
       "92  550000             USD         550000                 US             0   \n",
       "\n",
       "   company_location company_size  \n",
       "70               US            M  \n",
       "72               US            M  \n",
       "82               US            M  \n",
       "84               US            M  \n",
       "92               US            M  "
      ]
     },
     "execution_count": 33,
     "metadata": {},
     "output_type": "execute_result"
    }
   ],
   "source": [
    "# Melakukan Permeriksaan Terhadap Data Duplikasi\n",
    "duplicated_data = df.duplicated(keep=False)\n",
    "duplicate_rows = df[duplicated_data]\n",
    "\n",
    "# Menampilkan Data\n",
    "duplicate_rows.head()"
   ]
  },
  {
   "cell_type": "markdown",
   "metadata": {},
   "source": [
    "***Insight :***\n",
    "\n",
    "Meskipun `DataScience_salaries_2024.csv` bebas dari nilai yang hilang (*missing value*), sayangnya data ini masih mengandung duplikasi. Terdapat total 5711 entri duplikat, yang merupakan jumlah yang cukup signifikan, dengan persentase mencapai 38.489% dari total keseluruhan data. Oleh karena itu, diputuskan untuk tidak menghapus baris yang mengandung duplikasi.\n",
    "\n",
    "---"
   ]
  },
  {
   "cell_type": "markdown",
   "metadata": {},
   "source": [
    "## **Analisis dan Perhitungan**\n",
    "\n",
    "---"
   ]
  },
  {
   "cell_type": "markdown",
   "metadata": {},
   "source": [
    "### **Statistika Deskriptif**\n",
    "\n",
    "---"
   ]
  },
  {
   "cell_type": "code",
   "execution_count": 34,
   "metadata": {},
   "outputs": [
    {
     "name": "stdout",
     "output_type": "stream",
     "text": [
      "Average salary:  149874.719\n",
      "Median salary:  141300.0\n",
      "Standar deviation salary:  69009.181\n",
      "Skewness salary: 1.523\n",
      "Kurtosis salary: 7.844\n"
     ]
    }
   ],
   "source": [
    "# Menampilkan Central Tendency dari Gaji\n",
    "avg_salary = df['salary_in_usd'].mean().round(3)\n",
    "median_salary = df['salary_in_usd'].median()\n",
    "std_salary = df['salary_in_usd'].std().round(3)\n",
    "skew_salary = df['salary_in_usd'].skew().round(3)\n",
    "kurtosis_salary = df['salary_in_usd'].kurtosis().round(3)\n",
    "\n",
    "print(\"Average salary: \", avg_salary)\n",
    "print(\"Median salary: \", median_salary)\n",
    "print(\"Standar deviation salary: \", std_salary)\n",
    "print(\"Skewness salary:\", skew_salary)\n",
    "print(\"Kurtosis salary:\", kurtosis_salary)"
   ]
  },
  {
   "cell_type": "markdown",
   "metadata": {},
   "source": [
    "***Insight :***\n",
    "\n",
    "Variasi sampel yang diperoleh sangat tinggi, mencapai 69009.181. Nilai skewness yang lebih dari 1 mengindikasikan bahwa data tidak terdistribusi normal, sementara nilai kurtosis yang mencapai 7.844 menunjukkan adanya outlier yang ekstrem.\n",
    "\n",
    "---"
   ]
  },
  {
   "cell_type": "markdown",
   "metadata": {},
   "source": [
    "### ***Outlier Handling***\n",
    "\n",
    "---"
   ]
  },
  {
   "cell_type": "markdown",
   "metadata": {},
   "source": [
    "#### **Menampilkan *Outlier***\n",
    "\n",
    "---"
   ]
  },
  {
   "cell_type": "code",
   "execution_count": 35,
   "metadata": {},
   "outputs": [
    {
     "data": {
      "image/png": "[encoded data removed]",
      "text/plain": [
       "<Figure size 2000x1500 with 4 Axes>"
      ]
     },
     "metadata": {},
     "output_type": "display_data"
    }
   ],
   "source": [
    "# Membuat Fungsi Boxplot\n",
    "def boxplot_for_all_columns(df):\n",
    "\n",
    "    # Filter hanya kolom numerik\n",
    "    numeric_columns = df.select_dtypes(include=['int', 'float']).columns\n",
    "    \n",
    "    # Mengatur ukuran plot\n",
    "    plt.figure(figsize=(20, 15))\n",
    "\n",
    "    # Loop melalui setiap kolom numerik dan membuat box plot\n",
    "    for i, column in enumerate(numeric_columns, 1):\n",
    "        plt.subplot(7, 8, i)\n",
    "        sns.boxplot(y=df[column])\n",
    "        plt.title(column)\n",
    "\n",
    "    plt.tight_layout()\n",
    "    plt.show()\n",
    "\n",
    "# Contoh pemanggilan fungsi\n",
    "boxplot_for_all_columns(df)"
   ]
  },
  {
   "cell_type": "code",
   "execution_count": 36,
   "metadata": {},
   "outputs": [
    {
     "data": {
      "text/html": [
       "    <style>\n",
       "        .bk-notebook-logo {\n",
       "            display: block;\n",
       "            width: 20px;\n",
       "            height: 20px;\n",
       "            background-image: url(data:image/png;base64,iVBORw0KGgoAAAANSUhEUgAAABQAAAAUCAYAAACNiR0NAAAABHNCSVQICAgIfAhkiAAAAAlwSFlzAAALEgAACxIB0t1+/AAAABx0RVh0U29mdHdhcmUAQWRvYmUgRmlyZXdvcmtzIENTNui8sowAAAOkSURBVDiNjZRtaJVlGMd/1/08zzln5zjP1LWcU9N0NkN8m2CYjpgQYQXqSs0I84OLIC0hkEKoPtiH3gmKoiJDU7QpLgoLjLIQCpEsNJ1vqUOdO7ppbuec5+V+rj4ctwzd8IIbbi6u+8f1539dt3A78eXC7QizUF7gyV1fD1Yqg4JWz84yffhm0qkFqBogB9rM8tZdtwVsPUhWhGcFJngGeWrPzHm5oaMmkfEg1usvLFyc8jLRqDOMru7AyC8saQr7GG7f5fvDeH7Ej8CM66nIF+8yngt6HWaKh7k49Soy9nXurCi1o3qUbS3zWfrYeQDTB/Qj6kX6Ybhw4B+bOYoLKCC9H3Nu/leUTZ1JdRWkkn2ldcCamzrcf47KKXdAJllSlxAOkRgyHsGC/zRday5Qld9DyoM4/q/rUoy/CXh3jzOu3bHUVZeU+DEn8FInkPBFlu3+nW3Nw0mk6vCDiWg8CeJaxEwuHS3+z5RgY+YBR6V1Z1nxSOfoaPa4LASWxxdNp+VWTk7+4vzaou8v8PN+xo+KY2xsw6une2frhw05CTYOmQvsEhjhWjn0bmXPjpE1+kplmmkP3suftwTubK9Vq22qKmrBhpY4jvd5afdRA3wGjFAgcnTK2s4hY0/GPNIb0nErGMCRxWOOX64Z8RAC4oCXdklmEvcL8o0BfkNK4lUg9HTl+oPlQxdNo3Mg4Nv175e/1LDGzZen30MEjRUtmXSfiTVu1kK8W4txyV6BMKlbgk3lMwYCiusNy9fVfvvwMxv8Ynl6vxoByANLTWplvuj/nF9m2+PDtt1eiHPBr1oIfhCChQMBw6Aw0UulqTKZdfVvfG7VcfIqLG9bcldL/+pdWTLxLUy8Qq38heUIjh4XlzZxzQm19lLFlr8vdQ97rjZVOLf8nclzckbcD4wxXMidpX30sFd37Fv/GtwwhzhxGVAprjbg0gCAEeIgwCZyTV2Z1REEW8O4py0wsjeloKoMr6iCY6dP92H6Vw/oTyICIthibxjm/DfN9lVz8IqtqKYLUXfoKVMVQVVJOElGjrnnUt9T9wbgp8AyYKaGlqingHZU/uG2NTZSVqwHQTWkx9hxjkpWDaCg6Ckj5qebgBVbT3V3NNXMSiWSDdGV3hrtzla7J+duwPOToIg42ChPQOQjspnSlp1V+Gjdged7+8UN5CRAV7a5EdFNwCjEaBR27b3W890TE7g24NAP/mMDXRWrGoFPQI9ls/MWO2dWFAar/xcOIImbbpA3zgAAAABJRU5ErkJggg==);\n",
       "        }\n",
       "    </style>\n",
       "    <div>\n",
       "        <a href=\"https://bokeh.org\" target=\"_blank\" class=\"bk-notebook-logo\"></a>\n",
       "        <span id=\"a83a85fa-4d74-4d1a-bff6-08b2412b331d\">Loading BokehJS ...</span>\n",
       "    </div>\n"
      ]
     },
     "metadata": {},
     "output_type": "display_data"
    },
    {
     "data": {
      "application/javascript": "'use strict';\n(function(root) {\n  function now() {\n    return new Date();\n  }\n\n  const force = true;\n\n  if (typeof root._bokeh_onload_callbacks === \"undefined\" || force === true) {\n    root._bokeh_onload_callbacks = [];\n    root._bokeh_is_loading = undefined;\n  }\n\nconst JS_MIME_TYPE = 'application/javascript';\n  const HTML_MIME_TYPE = 'text/html';\n  const EXEC_MIME_TYPE = 'application/vnd.bokehjs_exec.v0+json';\n  const CLASS_NAME = 'output_bokeh rendered_html';\n\n  /**\n   * Render data to the DOM node\n   */\n  function render(props, node) {\n    const script = document.createElement(\"script\");\n    node.appendChild(script);\n  }\n\n  /**\n   * Handle when an output is cleared or removed\n   */\n  function handleClearOutput(event, handle) {\n    function drop(id) {\n      const view = Bokeh.index.get_by_id(id)\n      if (view != null) {\n        view.model.document.clear()\n        Bokeh.index.delete(view)\n      }\n    }\n\n    const cell = handle.cell;\n\n    const id = cell.output_area._bokeh_element_id;\n    const server_id = cell.output_area._bokeh_server_id;\n\n    // Clean up Bokeh references\n    if (id != null) {\n      drop(id)\n    }\n\n    if (server_id !== undefined) {\n      // Clean up Bokeh references\n      const cmd_clean = \"from bokeh.io.state import curstate; print(curstate().uuid_to_server['\" + server_id + \"'].get_sessions()[0].document.roots[0]._id)\";\n      cell.notebook.kernel.execute(cmd_clean, {\n        iopub: {\n          output: function(msg) {\n            const id = msg.content.text.trim()\n            drop(id)\n          }\n        }\n      });\n      // Destroy server and session\n      const cmd_destroy = \"import bokeh.io.notebook as ion; ion.destroy_server('\" + server_id + \"')\";\n      cell.notebook.kernel.execute(cmd_destroy);\n    }\n  }\n\n  /**\n   * Handle when a new output is added\n   */\n  function handleAddOutput(event, handle) {\n    const output_area = handle.output_area;\n    const output = handle.output;\n\n    // limit handleAddOutput to display_data with EXEC_MIME_TYPE content only\n    if ((output.output_type != \"display_data\") || (!Object.prototype.hasOwnProperty.call(output.data, EXEC_MIME_TYPE))) {\n      return\n    }\n\n    const toinsert = output_area.element.find(\".\" + CLASS_NAME.split(' ')[0]);\n\n    if (output.metadata[EXEC_MIME_TYPE][\"id\"] !== undefined) {\n      toinsert[toinsert.length - 1].firstChild.textContent = output.data[JS_MIME_TYPE];\n      // store reference to embed id on output_area\n      output_area._bokeh_element_id = output.metadata[EXEC_MIME_TYPE][\"id\"];\n    }\n    if (output.metadata[EXEC_MIME_TYPE][\"server_id\"] !== undefined) {\n      const bk_div = document.createElement(\"div\");\n      bk_div.innerHTML = output.data[HTML_MIME_TYPE];\n      const script_attrs = bk_div.children[0].attributes;\n      for (let i = 0; i < script_attrs.length; i++) {\n        toinsert[toinsert.length - 1].firstChild.setAttribute(script_attrs[i].name, script_attrs[i].value);\n        toinsert[toinsert.length - 1].firstChild.textContent = bk_div.children[0].textContent\n      }\n      // store reference to server id on output_area\n      output_area._bokeh_server_id = output.metadata[EXEC_MIME_TYPE][\"server_id\"];\n    }\n  }\n\n  function register_renderer(events, OutputArea) {\n\n    function append_mime(data, metadata, element) {\n      // create a DOM node to render to\n      const toinsert = this.create_output_subarea(\n        metadata,\n        CLASS_NAME,\n        EXEC_MIME_TYPE\n      );\n      this.keyboard_manager.register_events(toinsert);\n      // Render to node\n      const props = {data: data, metadata: metadata[EXEC_MIME_TYPE]};\n      render(props, toinsert[toinsert.length - 1]);\n      element.append(toinsert);\n      return toinsert\n    }\n\n    /* Handle when an output is cleared or removed */\n    events.on('clear_output.CodeCell', handleClearOutput);\n    events.on('delete.Cell', handleClearOutput);\n\n    /* Handle when a new output is added */\n    events.on('output_added.OutputArea', handleAddOutput);\n\n    /**\n     * Register the mime type and append_mime function with output_area\n     */\n    OutputArea.prototype.register_mime_type(EXEC_MIME_TYPE, append_mime, {\n      /* Is output safe? */\n      safe: true,\n      /* Index of renderer in `output_area.display_order` */\n      index: 0\n    });\n  }\n\n  // register the mime type if in Jupyter Notebook environment and previously unregistered\n  if (root.Jupyter !== undefined) {\n    const events = require('base/js/events');\n    const OutputArea = require('notebook/js/outputarea').OutputArea;\n\n    if (OutputArea.prototype.mime_types().indexOf(EXEC_MIME_TYPE) == -1) {\n      register_renderer(events, OutputArea);\n    }\n  }\n  if (typeof (root._bokeh_timeout) === \"undefined\" || force === true) {\n    root._bokeh_timeout = Date.now() + 5000;\n    root._bokeh_failed_load = false;\n  }\n\n  const NB_LOAD_WARNING = {'data': {'text/html':\n     \"<div style='background-color: #fdd'>\\n\"+\n     \"<p>\\n\"+\n     \"BokehJS does not appear to have successfully loaded. If loading BokehJS from CDN, this \\n\"+\n     \"may be due to a slow or bad network connection. Possible fixes:\\n\"+\n     \"</p>\\n\"+\n     \"<ul>\\n\"+\n     \"<li>re-rerun `output_notebook()` to attempt to load from CDN again, or</li>\\n\"+\n     \"<li>use INLINE resources instead, as so:</li>\\n\"+\n     \"</ul>\\n\"+\n     \"<code>\\n\"+\n     \"from bokeh.resources import INLINE\\n\"+\n     \"output_notebook(resources=INLINE)\\n\"+\n     \"</code>\\n\"+\n     \"</div>\"}};\n\n  function display_loaded(error = null) {\n    const el = document.getElementById(\"a83a85fa-4d74-4d1a-bff6-08b2412b331d\");\n    if (el != null) {\n      const html = (() => {\n        if (typeof root.Bokeh === \"undefined\") {\n          if (error == null) {\n            return \"BokehJS is loading ...\";\n          } else {\n            return \"BokehJS failed to load.\";\n          }\n        } else {\n          const prefix = `BokehJS ${root.Bokeh.version}`;\n          if (error == null) {\n            return `${prefix} successfully loaded.`;\n          } else {\n            return `${prefix} <b>encountered errors</b> while loading and may not function as expected.`;\n          }\n        }\n      })();\n      el.innerHTML = html;\n\n      if (error != null) {\n        const wrapper = document.createElement(\"div\");\n        wrapper.style.overflow = \"auto\";\n        wrapper.style.height = \"5em\";\n        wrapper.style.resize = \"vertical\";\n        const content = document.createElement(\"div\");\n        content.style.fontFamily = \"monospace\";\n        content.style.whiteSpace = \"pre-wrap\";\n        content.style.backgroundColor = \"rgb(255, 221, 221)\";\n        content.textContent = error.stack ?? error.toString();\n        wrapper.append(content);\n        el.append(wrapper);\n      }\n    } else if (Date.now() < root._bokeh_timeout) {\n      setTimeout(() => display_loaded(error), 100);\n    }\n  }\n\n  function run_callbacks() {\n    try {\n      root._bokeh_onload_callbacks.forEach(function(callback) {\n        if (callback != null)\n          callback();\n      });\n    } finally {\n      delete root._bokeh_onload_callbacks\n    }\n    console.debug(\"Bokeh: all callbacks have finished\");\n  }\n\n  function load_libs(css_urls, js_urls, callback) {\n    if (css_urls == null) css_urls = [];\n    if (js_urls == null) js_urls = [];\n\n    root._bokeh_onload_callbacks.push(callback);\n    if (root._bokeh_is_loading > 0) {\n      console.debug(\"Bokeh: BokehJS is being loaded, scheduling callback at\", now());\n      return null;\n    }\n    if (js_urls == null || js_urls.length === 0) {\n      run_callbacks();\n      return null;\n    }\n    console.debug(\"Bokeh: BokehJS not loaded, scheduling load and callback at\", now());\n    root._bokeh_is_loading = css_urls.length + js_urls.length;\n\n    function on_load() {\n      root._bokeh_is_loading--;\n      if (root._bokeh_is_loading === 0) {\n        console.debug(\"Bokeh: all BokehJS libraries/stylesheets loaded\");\n        run_callbacks()\n      }\n    }\n\n    function on_error(url) {\n      console.error(\"failed to load \" + url);\n    }\n\n    for (let i = 0; i < css_urls.length; i++) {\n      const url = css_urls[i];\n      const element = document.createElement(\"link\");\n      element.onload = on_load;\n      element.onerror = on_error.bind(null, url);\n      element.rel = \"stylesheet\";\n      element.type = \"text/css\";\n      element.href = url;\n      console.debug(\"Bokeh: injecting link tag for BokehJS stylesheet: \", url);\n      document.body.appendChild(element);\n    }\n\n    for (let i = 0; i < js_urls.length; i++) {\n      const url = js_urls[i];\n      const element = document.createElement('script');\n      element.onload = on_load;\n      element.onerror = on_error.bind(null, url);\n      element.async = false;\n      element.src = url;\n      console.debug(\"Bokeh: injecting script tag for BokehJS library: \", url);\n      document.head.appendChild(element);\n    }\n  };\n\n  function inject_raw_css(css) {\n    const element = document.createElement(\"style\");\n    element.appendChild(document.createTextNode(css));\n    document.body.appendChild(element);\n  }\n\n  const js_urls = [\"https://cdn.bokeh.org/bokeh/release/bokeh-3.4.1.min.js\", \"https://cdn.bokeh.org/bokeh/release/bokeh-gl-3.4.1.min.js\", \"https://cdn.bokeh.org/bokeh/release/bokeh-widgets-3.4.1.min.js\", \"https://cdn.bokeh.org/bokeh/release/bokeh-tables-3.4.1.min.js\", \"https://cdn.bokeh.org/bokeh/release/bokeh-mathjax-3.4.1.min.js\"];\n  const css_urls = [];\n\n  const inline_js = [    function(Bokeh) {\n      Bokeh.set_log_level(\"info\");\n    },\nfunction(Bokeh) {\n    }\n  ];\n\n  function run_inline_js() {\n    if (root.Bokeh !== undefined || force === true) {\n      try {\n            for (let i = 0; i < inline_js.length; i++) {\n      inline_js[i].call(root, root.Bokeh);\n    }\n\n      } catch (error) {display_loaded(error);throw error;\n      }if (force === true) {\n        display_loaded();\n      }} else if (Date.now() < root._bokeh_timeout) {\n      setTimeout(run_inline_js, 100);\n    } else if (!root._bokeh_failed_load) {\n      console.log(\"Bokeh: BokehJS failed to load within specified timeout.\");\n      root._bokeh_failed_load = true;\n    } else if (force !== true) {\n      const cell = $(document.getElementById(\"a83a85fa-4d74-4d1a-bff6-08b2412b331d\")).parents('.cell').data().cell;\n      cell.output_area.append_execute_result(NB_LOAD_WARNING)\n    }\n  }\n\n  if (root._bokeh_is_loading === 0) {\n    console.debug(\"Bokeh: BokehJS loaded, going straight to plotting\");\n    run_inline_js();\n  } else {\n    load_libs(css_urls, js_urls, function() {\n      console.debug(\"Bokeh: BokehJS plotting callback run at\", now());\n      run_inline_js();\n    });\n  }\n}(window));",
      "application/vnd.bokehjs_load.v0+json": ""
     },
     "metadata": {},
     "output_type": "display_data"
    },
    {
     "data": {
      "text/html": [
       "\n",
       "  <div id=\"ea921861-b05c-4d8e-a530-b9db46addf24\" data-root-id=\"p1314\" style=\"display: contents;\"></div>\n"
      ]
     },
     "metadata": {},
     "output_type": "display_data"
    },
    {
     "data": {
      "application/javascript": "(function(root) {\n  function embed_document(root) {\n  const docs_json = {\"6e59882a-0693-4405-b702-972c4bcc6a8f\":{\"version\":\"3.4.1\",\"title\":\"Bokeh Application\",\"roots\":[{\"type\":\"object\",\"name\":\"GridPlot\",\"id\":\"p1314\",\"attributes\":{\"rows\":null,\"cols\":null,\"toolbar\":{\"type\":\"object\",\"name\":\"Toolbar\",\"id\":\"p1313\",\"attributes\":{\"tools\":[{\"type\":\"object\",\"name\":\"SaveTool\",\"id\":\"p1312\"},{\"type\":\"object\",\"name\":\"HoverTool\",\"id\":\"p1215\",\"attributes\":{\"renderers\":\"auto\",\"tooltips\":[[\"Jumlah\",\"@top\"],[\"Interval\",\"@left{0.00} hingga @right{0.00}\"]]}},{\"type\":\"object\",\"name\":\"HoverTool\",\"id\":\"p1248\",\"attributes\":{\"renderers\":\"auto\",\"tooltips\":[[\"Nilai\",\"@y\"],[\"Q1\",\"102000.00\"],[\"Q2 (Median)\",\"141300.00\"],[\"Q3\",\"185900.00\"],[\"Lower Whisker\",\"15000.00\"],[\"Upper Whisker\",\"311000.00\"]]}}]}},\"children\":[[{\"type\":\"object\",\"name\":\"Figure\",\"id\":\"p1192\",\"attributes\":{\"height\":400,\"x_range\":{\"type\":\"object\",\"name\":\"DataRange1d\",\"id\":\"p1193\"},\"y_range\":{\"type\":\"object\",\"name\":\"DataRange1d\",\"id\":\"p1194\"},\"x_scale\":{\"type\":\"object\",\"name\":\"LinearScale\",\"id\":\"p1202\"},\"y_scale\":{\"type\":\"object\",\"name\":\"LinearScale\",\"id\":\"p1203\"},\"title\":{\"type\":\"object\",\"name\":\"Title\",\"id\":\"p1195\",\"attributes\":{\"text\":\"Salary in USD (Histogram)\"}},\"renderers\":[{\"type\":\"object\",\"name\":\"GlyphRenderer\",\"id\":\"p1222\",\"attributes\":{\"data_source\":{\"type\":\"object\",\"name\":\"ColumnDataSource\",\"id\":\"p1216\",\"attributes\":{\"selected\":{\"type\":\"object\",\"name\":\"Selection\",\"id\":\"p1217\",\"attributes\":{\"indices\":[],\"line_indices\":[]}},\"selection_policy\":{\"type\":\"object\",\"name\":\"UnionRenderers\",\"id\":\"p1218\"},\"data\":{\"type\":\"map\",\"entries\":[[\"top\",{\"type\":\"ndarray\",\"array\":{\"type\":\"bytes\",\"data\":\"uAIAAPoIAAB4DQAAIA4AAIwJAAAjBQAAGAIAABwBAABdAAAAMAAAABoAAAAGAAAAAgAAAAMAAAADAAAAAAAAAAAAAAAKAAAACAAAAAIAAAA=\"},\"shape\":[20],\"dtype\":\"int32\",\"order\":\"little\"}],[\"left\",{\"type\":\"ndarray\",\"array\":{\"type\":\"bytes\",\"data\":\"AAAAAABMzUAAAAAAQH3qQAAAAADA0/ZAAAAAAHA0AEEAAAAAAP8EQQAAAACQyQlBAAAAACCUDkEAAAAAWK8RQQAAAACgFBRBAAAAAOh5FkEAAAAAMN8YQQAAAAB4RBtBAAAAAMCpHUEAAAAAhAcgQQAAAAAoOiFBAAAAAMxsIkEAAAAAcJ8jQQAAAAAU0iRBAAAAALgEJkEAAAAAXDcnQQ==\"},\"shape\":[20],\"dtype\":\"float64\",\"order\":\"little\"}],[\"right\",{\"type\":\"ndarray\",\"array\":{\"type\":\"bytes\",\"data\":\"AAAAAEB96kAAAAAAwNP2QAAAAABwNABBAAAAAAD/BEEAAAAAkMkJQQAAAAAglA5BAAAAAFivEUEAAAAAoBQUQQAAAADoeRZBAAAAADDfGEEAAAAAeEQbQQAAAADAqR1BAAAAAIQHIEEAAAAAKDohQQAAAADMbCJBAAAAAHCfI0EAAAAAFNIkQQAAAAC4BCZBAAAAAFw3J0EAAAAAAGooQQ==\"},\"shape\":[20],\"dtype\":\"float64\",\"order\":\"little\"}],[\"fill_color\",[\"#2ca02c\",\"#e377c2\",\"#c49c94\",\"#7f7f7f\",\"#7f7f7f\",\"#9467bd\",\"#9467bd\",\"#98df8a\",\"#dbdb8d\",\"#c7c7c7\",\"#ffbb78\",\"#9467bd\",\"#98df8a\",\"#2ca02c\",\"#c7c7c7\",\"#ff7f0e\",\"#ff9896\",\"#ff9896\",\"#d62728\",\"#98df8a\"]]]}}},\"view\":{\"type\":\"object\",\"name\":\"CDSView\",\"id\":\"p1223\",\"attributes\":{\"filter\":{\"type\":\"object\",\"name\":\"AllIndices\",\"id\":\"p1224\"}}},\"glyph\":{\"type\":\"object\",\"name\":\"Quad\",\"id\":\"p1219\",\"attributes\":{\"left\":{\"type\":\"field\",\"field\":\"left\"},\"right\":{\"type\":\"field\",\"field\":\"right\"},\"bottom\":{\"type\":\"value\",\"value\":0},\"top\":{\"type\":\"field\",\"field\":\"top\"},\"line_color\":{\"type\":\"value\",\"value\":\"white\"},\"line_alpha\":{\"type\":\"value\",\"value\":0.7},\"fill_color\":{\"type\":\"field\",\"field\":\"fill_color\"},\"fill_alpha\":{\"type\":\"value\",\"value\":0.7},\"hatch_alpha\":{\"type\":\"value\",\"value\":0.7}}},\"nonselection_glyph\":{\"type\":\"object\",\"name\":\"Quad\",\"id\":\"p1220\",\"attributes\":{\"left\":{\"type\":\"field\",\"field\":\"left\"},\"right\":{\"type\":\"field\",\"field\":\"right\"},\"bottom\":{\"type\":\"value\",\"value\":0},\"top\":{\"type\":\"field\",\"field\":\"top\"},\"line_color\":{\"type\":\"value\",\"value\":\"white\"},\"line_alpha\":{\"type\":\"value\",\"value\":0.1},\"fill_color\":{\"type\":\"field\",\"field\":\"fill_color\"},\"fill_alpha\":{\"type\":\"value\",\"value\":0.1},\"hatch_alpha\":{\"type\":\"value\",\"value\":0.1}}},\"muted_glyph\":{\"type\":\"object\",\"name\":\"Quad\",\"id\":\"p1221\",\"attributes\":{\"left\":{\"type\":\"field\",\"field\":\"left\"},\"right\":{\"type\":\"field\",\"field\":\"right\"},\"bottom\":{\"type\":\"value\",\"value\":0},\"top\":{\"type\":\"field\",\"field\":\"top\"},\"line_color\":{\"type\":\"value\",\"value\":\"white\"},\"line_alpha\":{\"type\":\"value\",\"value\":0.2},\"fill_color\":{\"type\":\"field\",\"field\":\"fill_color\"},\"fill_alpha\":{\"type\":\"value\",\"value\":0.2},\"hatch_alpha\":{\"type\":\"value\",\"value\":0.2}}}}}],\"toolbar\":{\"type\":\"object\",\"name\":\"Toolbar\",\"id\":\"p1201\",\"attributes\":{\"tools\":[{\"type\":\"object\",\"name\":\"SaveTool\",\"id\":\"p1214\"},{\"id\":\"p1215\"}]}},\"toolbar_location\":null,\"left\":[{\"type\":\"object\",\"name\":\"LinearAxis\",\"id\":\"p1209\",\"attributes\":{\"ticker\":{\"type\":\"object\",\"name\":\"BasicTicker\",\"id\":\"p1210\",\"attributes\":{\"mantissas\":[1,2,5]}},\"formatter\":{\"type\":\"object\",\"name\":\"BasicTickFormatter\",\"id\":\"p1211\",\"attributes\":{\"use_scientific\":false}},\"axis_label\":\"Frequency\",\"axis_label_text_font_size\":\"10pt\",\"axis_label_text_font_style\":\"bold\",\"major_label_policy\":{\"type\":\"object\",\"name\":\"AllLabels\",\"id\":\"p1212\"},\"major_label_text_font_size\":\"8pt\",\"major_label_text_font_style\":\"bold\"}}],\"below\":[{\"type\":\"object\",\"name\":\"LinearAxis\",\"id\":\"p1204\",\"attributes\":{\"ticker\":{\"type\":\"object\",\"name\":\"BasicTicker\",\"id\":\"p1205\",\"attributes\":{\"mantissas\":[1,2,5]}},\"formatter\":{\"type\":\"object\",\"name\":\"BasicTickFormatter\",\"id\":\"p1206\",\"attributes\":{\"use_scientific\":false}},\"axis_label\":\"Salary in USD\",\"axis_label_text_font_size\":\"10pt\",\"axis_label_text_font_style\":\"bold\",\"major_label_policy\":{\"type\":\"object\",\"name\":\"AllLabels\",\"id\":\"p1207\"},\"major_label_text_font_size\":\"8pt\",\"major_label_text_font_style\":\"bold\"}}],\"center\":[{\"type\":\"object\",\"name\":\"Grid\",\"id\":\"p1208\",\"attributes\":{\"axis\":{\"id\":\"p1204\"},\"grid_line_color\":null}},{\"type\":\"object\",\"name\":\"Grid\",\"id\":\"p1213\",\"attributes\":{\"dimension\":1,\"axis\":{\"id\":\"p1209\"},\"grid_line_color\":null}}],\"background_fill_color\":\"#fafafa\"}},0,0],[{\"type\":\"object\",\"name\":\"Figure\",\"id\":\"p1225\",\"attributes\":{\"width\":400,\"height\":400,\"x_range\":{\"type\":\"object\",\"name\":\"DataRange1d\",\"id\":\"p1226\"},\"y_range\":{\"type\":\"object\",\"name\":\"DataRange1d\",\"id\":\"p1227\"},\"x_scale\":{\"type\":\"object\",\"name\":\"LinearScale\",\"id\":\"p1235\"},\"y_scale\":{\"type\":\"object\",\"name\":\"LinearScale\",\"id\":\"p1236\"},\"title\":{\"type\":\"object\",\"name\":\"Title\",\"id\":\"p1228\",\"attributes\":{\"text\":\"Salary in USD (Boxplot)\"}},\"renderers\":[{\"type\":\"object\",\"name\":\"GlyphRenderer\",\"id\":\"p1255\",\"attributes\":{\"data_source\":{\"type\":\"object\",\"name\":\"ColumnDataSource\",\"id\":\"p1249\",\"attributes\":{\"selected\":{\"type\":\"object\",\"name\":\"Selection\",\"id\":\"p1250\",\"attributes\":{\"indices\":[],\"line_indices\":[]}},\"selection_policy\":{\"type\":\"object\",\"name\":\"UnionRenderers\",\"id\":\"p1251\"},\"data\":{\"type\":\"map\"}}},\"view\":{\"type\":\"object\",\"name\":\"CDSView\",\"id\":\"p1256\",\"attributes\":{\"filter\":{\"type\":\"object\",\"name\":\"AllIndices\",\"id\":\"p1257\"}}},\"glyph\":{\"type\":\"object\",\"name\":\"Segment\",\"id\":\"p1252\",\"attributes\":{\"x0\":{\"type\":\"value\",\"value\":1},\"y0\":{\"type\":\"value\",\"value\":15000},\"x1\":{\"type\":\"value\",\"value\":1},\"y1\":{\"type\":\"value\",\"value\":102000.0}}},\"nonselection_glyph\":{\"type\":\"object\",\"name\":\"Segment\",\"id\":\"p1253\",\"attributes\":{\"x0\":{\"type\":\"value\",\"value\":1},\"y0\":{\"type\":\"value\",\"value\":15000},\"x1\":{\"type\":\"value\",\"value\":1},\"y1\":{\"type\":\"value\",\"value\":102000.0},\"line_alpha\":{\"type\":\"value\",\"value\":0.1}}},\"muted_glyph\":{\"type\":\"object\",\"name\":\"Segment\",\"id\":\"p1254\",\"attributes\":{\"x0\":{\"type\":\"value\",\"value\":1},\"y0\":{\"type\":\"value\",\"value\":15000},\"x1\":{\"type\":\"value\",\"value\":1},\"y1\":{\"type\":\"value\",\"value\":102000.0},\"line_alpha\":{\"type\":\"value\",\"value\":0.2}}}}},{\"type\":\"object\",\"name\":\"GlyphRenderer\",\"id\":\"p1264\",\"attributes\":{\"data_source\":{\"type\":\"object\",\"name\":\"ColumnDataSource\",\"id\":\"p1258\",\"attributes\":{\"selected\":{\"type\":\"object\",\"name\":\"Selection\",\"id\":\"p1259\",\"attributes\":{\"indices\":[],\"line_indices\":[]}},\"selection_policy\":{\"type\":\"object\",\"name\":\"UnionRenderers\",\"id\":\"p1260\"},\"data\":{\"type\":\"map\"}}},\"view\":{\"type\":\"object\",\"name\":\"CDSView\",\"id\":\"p1265\",\"attributes\":{\"filter\":{\"type\":\"object\",\"name\":\"AllIndices\",\"id\":\"p1266\"}}},\"glyph\":{\"type\":\"object\",\"name\":\"Segment\",\"id\":\"p1261\",\"attributes\":{\"x0\":{\"type\":\"value\",\"value\":1},\"y0\":{\"type\":\"value\",\"value\":185900.0},\"x1\":{\"type\":\"value\",\"value\":1},\"y1\":{\"type\":\"value\",\"value\":311000}}},\"nonselection_glyph\":{\"type\":\"object\",\"name\":\"Segment\",\"id\":\"p1262\",\"attributes\":{\"x0\":{\"type\":\"value\",\"value\":1},\"y0\":{\"type\":\"value\",\"value\":185900.0},\"x1\":{\"type\":\"value\",\"value\":1},\"y1\":{\"type\":\"value\",\"value\":311000},\"line_alpha\":{\"type\":\"value\",\"value\":0.1}}},\"muted_glyph\":{\"type\":\"object\",\"name\":\"Segment\",\"id\":\"p1263\",\"attributes\":{\"x0\":{\"type\":\"value\",\"value\":1},\"y0\":{\"type\":\"value\",\"value\":185900.0},\"x1\":{\"type\":\"value\",\"value\":1},\"y1\":{\"type\":\"value\",\"value\":311000},\"line_alpha\":{\"type\":\"value\",\"value\":0.2}}}}},{\"type\":\"object\",\"name\":\"GlyphRenderer\",\"id\":\"p1273\",\"attributes\":{\"data_source\":{\"type\":\"object\",\"name\":\"ColumnDataSource\",\"id\":\"p1267\",\"attributes\":{\"selected\":{\"type\":\"object\",\"name\":\"Selection\",\"id\":\"p1268\",\"attributes\":{\"indices\":[],\"line_indices\":[]}},\"selection_policy\":{\"type\":\"object\",\"name\":\"UnionRenderers\",\"id\":\"p1269\"},\"data\":{\"type\":\"map\"}}},\"view\":{\"type\":\"object\",\"name\":\"CDSView\",\"id\":\"p1274\",\"attributes\":{\"filter\":{\"type\":\"object\",\"name\":\"AllIndices\",\"id\":\"p1275\"}}},\"glyph\":{\"type\":\"object\",\"name\":\"VBar\",\"id\":\"p1270\",\"attributes\":{\"x\":{\"type\":\"value\",\"value\":1},\"width\":{\"type\":\"value\",\"value\":0.7},\"bottom\":{\"type\":\"value\",\"value\":185900.0},\"top\":{\"type\":\"value\",\"value\":102000.0},\"fill_color\":{\"type\":\"value\",\"value\":\"navy\"}}},\"nonselection_glyph\":{\"type\":\"object\",\"name\":\"VBar\",\"id\":\"p1271\",\"attributes\":{\"x\":{\"type\":\"value\",\"value\":1},\"width\":{\"type\":\"value\",\"value\":0.7},\"bottom\":{\"type\":\"value\",\"value\":185900.0},\"top\":{\"type\":\"value\",\"value\":102000.0},\"line_alpha\":{\"type\":\"value\",\"value\":0.1},\"fill_color\":{\"type\":\"value\",\"value\":\"navy\"},\"fill_alpha\":{\"type\":\"value\",\"value\":0.1},\"hatch_alpha\":{\"type\":\"value\",\"value\":0.1}}},\"muted_glyph\":{\"type\":\"object\",\"name\":\"VBar\",\"id\":\"p1272\",\"attributes\":{\"x\":{\"type\":\"value\",\"value\":1},\"width\":{\"type\":\"value\",\"value\":0.7},\"bottom\":{\"type\":\"value\",\"value\":185900.0},\"top\":{\"type\":\"value\",\"value\":102000.0},\"line_alpha\":{\"type\":\"value\",\"value\":0.2},\"fill_color\":{\"type\":\"value\",\"value\":\"navy\"},\"fill_alpha\":{\"type\":\"value\",\"value\":0.2},\"hatch_alpha\":{\"type\":\"value\",\"value\":0.2}}}}},{\"type\":\"object\",\"name\":\"GlyphRenderer\",\"id\":\"p1282\",\"attributes\":{\"data_source\":{\"type\":\"object\",\"name\":\"ColumnDataSource\",\"id\":\"p1276\",\"attributes\":{\"selected\":{\"type\":\"object\",\"name\":\"Selection\",\"id\":\"p1277\",\"attributes\":{\"indices\":[],\"line_indices\":[]}},\"selection_policy\":{\"type\":\"object\",\"name\":\"UnionRenderers\",\"id\":\"p1278\"},\"data\":{\"type\":\"map\"}}},\"view\":{\"type\":\"object\",\"name\":\"CDSView\",\"id\":\"p1283\",\"attributes\":{\"filter\":{\"type\":\"object\",\"name\":\"AllIndices\",\"id\":\"p1284\"}}},\"glyph\":{\"type\":\"object\",\"name\":\"VBar\",\"id\":\"p1279\",\"attributes\":{\"x\":{\"type\":\"value\",\"value\":1},\"width\":{\"type\":\"value\",\"value\":0.7},\"bottom\":{\"type\":\"value\",\"value\":141300.0},\"top\":{\"type\":\"value\",\"value\":141300.0},\"fill_color\":{\"type\":\"value\",\"value\":\"#1f77b4\"}}},\"nonselection_glyph\":{\"type\":\"object\",\"name\":\"VBar\",\"id\":\"p1280\",\"attributes\":{\"x\":{\"type\":\"value\",\"value\":1},\"width\":{\"type\":\"value\",\"value\":0.7},\"bottom\":{\"type\":\"value\",\"value\":141300.0},\"top\":{\"type\":\"value\",\"value\":141300.0},\"line_alpha\":{\"type\":\"value\",\"value\":0.1},\"fill_color\":{\"type\":\"value\",\"value\":\"#1f77b4\"},\"fill_alpha\":{\"type\":\"value\",\"value\":0.1},\"hatch_alpha\":{\"type\":\"value\",\"value\":0.1}}},\"muted_glyph\":{\"type\":\"object\",\"name\":\"VBar\",\"id\":\"p1281\",\"attributes\":{\"x\":{\"type\":\"value\",\"value\":1},\"width\":{\"type\":\"value\",\"value\":0.7},\"bottom\":{\"type\":\"value\",\"value\":141300.0},\"top\":{\"type\":\"value\",\"value\":141300.0},\"line_alpha\":{\"type\":\"value\",\"value\":0.2},\"fill_color\":{\"type\":\"value\",\"value\":\"#1f77b4\"},\"fill_alpha\":{\"type\":\"value\",\"value\":0.2},\"hatch_alpha\":{\"type\":\"value\",\"value\":0.2}}}}},{\"type\":\"object\",\"name\":\"GlyphRenderer\",\"id\":\"p1291\",\"attributes\":{\"data_source\":{\"type\":\"object\",\"name\":\"ColumnDataSource\",\"id\":\"p1285\",\"attributes\":{\"selected\":{\"type\":\"object\",\"name\":\"Selection\",\"id\":\"p1286\",\"attributes\":{\"indices\":[],\"line_indices\":[]}},\"selection_policy\":{\"type\":\"object\",\"name\":\"UnionRenderers\",\"id\":\"p1287\"},\"data\":{\"type\":\"map\"}}},\"view\":{\"type\":\"object\",\"name\":\"CDSView\",\"id\":\"p1292\",\"attributes\":{\"filter\":{\"type\":\"object\",\"name\":\"AllIndices\",\"id\":\"p1293\"}}},\"glyph\":{\"type\":\"object\",\"name\":\"Rect\",\"id\":\"p1288\",\"attributes\":{\"x\":{\"type\":\"value\",\"value\":1},\"y\":{\"type\":\"value\",\"value\":15000},\"width\":{\"type\":\"value\",\"value\":0.2},\"height\":{\"type\":\"value\",\"value\":0.01},\"fill_color\":{\"type\":\"value\",\"value\":\"#1f77b4\"}}},\"nonselection_glyph\":{\"type\":\"object\",\"name\":\"Rect\",\"id\":\"p1289\",\"attributes\":{\"x\":{\"type\":\"value\",\"value\":1},\"y\":{\"type\":\"value\",\"value\":15000},\"width\":{\"type\":\"value\",\"value\":0.2},\"height\":{\"type\":\"value\",\"value\":0.01},\"line_alpha\":{\"type\":\"value\",\"value\":0.1},\"fill_color\":{\"type\":\"value\",\"value\":\"#1f77b4\"},\"fill_alpha\":{\"type\":\"value\",\"value\":0.1},\"hatch_alpha\":{\"type\":\"value\",\"value\":0.1}}},\"muted_glyph\":{\"type\":\"object\",\"name\":\"Rect\",\"id\":\"p1290\",\"attributes\":{\"x\":{\"type\":\"value\",\"value\":1},\"y\":{\"type\":\"value\",\"value\":15000},\"width\":{\"type\":\"value\",\"value\":0.2},\"height\":{\"type\":\"value\",\"value\":0.01},\"line_alpha\":{\"type\":\"value\",\"value\":0.2},\"fill_color\":{\"type\":\"value\",\"value\":\"#1f77b4\"},\"fill_alpha\":{\"type\":\"value\",\"value\":0.2},\"hatch_alpha\":{\"type\":\"value\",\"value\":0.2}}}}},{\"type\":\"object\",\"name\":\"GlyphRenderer\",\"id\":\"p1300\",\"attributes\":{\"data_source\":{\"type\":\"object\",\"name\":\"ColumnDataSource\",\"id\":\"p1294\",\"attributes\":{\"selected\":{\"type\":\"object\",\"name\":\"Selection\",\"id\":\"p1295\",\"attributes\":{\"indices\":[],\"line_indices\":[]}},\"selection_policy\":{\"type\":\"object\",\"name\":\"UnionRenderers\",\"id\":\"p1296\"},\"data\":{\"type\":\"map\"}}},\"view\":{\"type\":\"object\",\"name\":\"CDSView\",\"id\":\"p1301\",\"attributes\":{\"filter\":{\"type\":\"object\",\"name\":\"AllIndices\",\"id\":\"p1302\"}}},\"glyph\":{\"type\":\"object\",\"name\":\"Rect\",\"id\":\"p1297\",\"attributes\":{\"x\":{\"type\":\"value\",\"value\":1},\"y\":{\"type\":\"value\",\"value\":311000},\"width\":{\"type\":\"value\",\"value\":0.2},\"height\":{\"type\":\"value\",\"value\":0.01},\"fill_color\":{\"type\":\"value\",\"value\":\"#1f77b4\"}}},\"nonselection_glyph\":{\"type\":\"object\",\"name\":\"Rect\",\"id\":\"p1298\",\"attributes\":{\"x\":{\"type\":\"value\",\"value\":1},\"y\":{\"type\":\"value\",\"value\":311000},\"width\":{\"type\":\"value\",\"value\":0.2},\"height\":{\"type\":\"value\",\"value\":0.01},\"line_alpha\":{\"type\":\"value\",\"value\":0.1},\"fill_color\":{\"type\":\"value\",\"value\":\"#1f77b4\"},\"fill_alpha\":{\"type\":\"value\",\"value\":0.1},\"hatch_alpha\":{\"type\":\"value\",\"value\":0.1}}},\"muted_glyph\":{\"type\":\"object\",\"name\":\"Rect\",\"id\":\"p1299\",\"attributes\":{\"x\":{\"type\":\"value\",\"value\":1},\"y\":{\"type\":\"value\",\"value\":311000},\"width\":{\"type\":\"value\",\"value\":0.2},\"height\":{\"type\":\"value\",\"value\":0.01},\"line_alpha\":{\"type\":\"value\",\"value\":0.2},\"fill_color\":{\"type\":\"value\",\"value\":\"#1f77b4\"},\"fill_alpha\":{\"type\":\"value\",\"value\":0.2},\"hatch_alpha\":{\"type\":\"value\",\"value\":0.2}}}}},{\"type\":\"object\",\"name\":\"GlyphRenderer\",\"id\":\"p1309\",\"attributes\":{\"data_source\":{\"type\":\"object\",\"name\":\"ColumnDataSource\",\"id\":\"p1303\",\"attributes\":{\"selected\":{\"type\":\"object\",\"name\":\"Selection\",\"id\":\"p1304\",\"attributes\":{\"indices\":[],\"line_indices\":[]}},\"selection_policy\":{\"type\":\"object\",\"name\":\"UnionRenderers\",\"id\":\"p1305\"},\"data\":{\"type\":\"map\",\"entries\":[[\"x\",[1,1,1,1,1,1,1,1,1,1,1,1,1,1,1,1,1,1,1,1,1,1,1,1,1,1,1,1,1,1,1,1,1,1,1,1,1,1,1,1,1,1,1,1,1,1,1,1,1,1,1,1,1,1,1,1,1,1,1,1,1,1,1,1,1,1,1,1,1,1,1,1,1,1,1,1,1,1,1,1,1,1,1,1,1,1,1,1,1,1,1,1,1,1,1,1,1,1,1,1,1,1,1,1,1,1,1,1,1,1,1,1,1,1,1,1,1,1,1,1,1,1,1,1,1,1,1,1,1,1,1,1,1,1,1,1,1,1,1,1,1,1,1,1,1,1,1,1,1,1,1,1,1,1,1,1,1,1,1,1,1,1,1,1,1,1,1,1,1,1,1,1,1,1,1,1,1,1,1,1,1,1,1,1,1,1,1,1,1,1,1,1,1,1,1,1,1,1,1,1,1,1,1,1,1,1,1,1,1,1,1,1,1,1,1,1,1,1,1,1,1,1,1,1,1,1,1,1,1,1,1,1,1,1,1,1,1,1,1,1,1,1,1,1,1,1,1,1,1,1,1,1,1,1,1,1,1,1,1,1,1,1,1,1,1,1,1,1,1,1]],[\"y\",{\"type\":\"ndarray\",\"array\":{\"type\":\"bytes\",\"data\":\"kWAGAAA1DABwzwsAsHELALBxCwCwcQsAsHELALBxCwCwcQsAsHELALBxCwCA/AoAgPwKAID8CgCA/AoAgPwKAID8CgCA/AoAgPwKAGCuCgBgrgoAwCcJAMAnCQDAJwkAcGQIAHBkCABQFggAIKEHACChBwCgYgcAaBgHANDdBgDQ3QYA6NkGAADWBgDAtgYAwLYGAMC2BgDAtgYAwLYGAMC2BgDAtgYAwLYGAMC2BgDAtgYAwLYGAMC2BgDAtgYAwLYGAPCuBgBYdAYA0GAGANBgBgAAWQYAMFEGADBRBgBgSQYAtDsGAAguBgAILgYAgBoGAIAaBgA0FgYANBYGAED7BQA05AUA6N8FAOjfBQDo3wUA6N8FAOjfBQDo3wUA6N8FAOjfBQDo3wUA6N8FAOjfBQCm2wUAcNUFADzSBQA80gUAYMwFABC9BQDMugUA2LgFANi4BQDwtAUACLEFACCtBQBQpQUAUKUFAFClBQBQpQUAUKUFAFClBQBQpQUAUKUFAFClBQBQpQUAUKUFAFClBQBQpQUAPpQFACySBQD4iQUA+IkFAEB+BQBAfgUAQH4FAOh7BQDoewUAAnsFAAJ7BQACewUAAnsFAAJ7BQACewUAAnsFAAJ7BQACewUAAnsFAAJ7BQAMdgUAmGcFALBjBQCwYwUAGFsFADBXBQAwVwUAMFcFADBXBQAwkgYAMFcFAHeTBgAwVwUAAEYFADhFBQA4RQUAOEUFAKhDBQCoQwUAGjsFAIA5BQAcOQUAIDAFACAwBQAgMAUAIDAFADItBQCUJQUAlCUFAJQlBQCUJQUAECIFAKwhBQD7GAUAvBYFALwWBQC8FgUAvBYFALwWBQC8FgUAvBYFAHgPBQB4DwUAeA8FAHgPBQB4DwUAeA8FAHgPBQB4DwUAeA8FAHgPBQB4DwUAeA8FAHgPBQB4DwUAeA8FAHgPBQB4DwUAeA8FABwOBQAQCQUAEAkFABAJBQAQCQUAEAkFABAJBQAQCQUAEAkFABAJBQDkBwUAHAcFABwHBQAcBwUAHAcFAPAFBQDQAgUAxQEFAEABBQBAAQUAcPkEAIj1BACI9QQACBoGAIj1BAAE8gQAoPEEAKDxBACg8QQAoPEEAKDxBACg8QQAoPEEAKDxBACg8QQAoPEEAKDxBACg8QQAoPEEAKDxBACg8QQAoPEEAKDxBAB08AQA5O4EAOTuBADk7gQA5O4EAOTuBADk7gQA5O4EAOTuBADk7gQA5O4EAOTuBADQ6QQA0OkEANDpBAAm6QQA6OUEAOjlBAAA4gQAGN4EABjeBABc2wQAXNsEAI7WBACO1gQASNYEAOTVBABg0gQAYNIEAGDSBADK0QQAytEEAKTPBAB4zgQAeM4EAPTKBAD0ygQAkMoEAKjGBACoxgQA38MEAOChBQDgoQUA4KEFAEHxBADf7gQA\"},\"shape\":[270],\"dtype\":\"int32\",\"order\":\"little\"}]]}}},\"view\":{\"type\":\"object\",\"name\":\"CDSView\",\"id\":\"p1310\",\"attributes\":{\"filter\":{\"type\":\"object\",\"name\":\"AllIndices\",\"id\":\"p1311\"}}},\"glyph\":{\"type\":\"object\",\"name\":\"Scatter\",\"id\":\"p1306\",\"attributes\":{\"x\":{\"type\":\"field\",\"field\":\"x\"},\"y\":{\"type\":\"field\",\"field\":\"y\"},\"size\":{\"type\":\"value\",\"value\":6},\"line_color\":{\"type\":\"value\",\"value\":\"red\"},\"fill_color\":{\"type\":\"value\",\"value\":\"red\"},\"fill_alpha\":{\"type\":\"value\",\"value\":0.6},\"hatch_color\":{\"type\":\"value\",\"value\":\"red\"}}},\"nonselection_glyph\":{\"type\":\"object\",\"name\":\"Scatter\",\"id\":\"p1307\",\"attributes\":{\"x\":{\"type\":\"field\",\"field\":\"x\"},\"y\":{\"type\":\"field\",\"field\":\"y\"},\"size\":{\"type\":\"value\",\"value\":6},\"line_color\":{\"type\":\"value\",\"value\":\"red\"},\"line_alpha\":{\"type\":\"value\",\"value\":0.1},\"fill_color\":{\"type\":\"value\",\"value\":\"red\"},\"fill_alpha\":{\"type\":\"value\",\"value\":0.1},\"hatch_color\":{\"type\":\"value\",\"value\":\"red\"},\"hatch_alpha\":{\"type\":\"value\",\"value\":0.1}}},\"muted_glyph\":{\"type\":\"object\",\"name\":\"Scatter\",\"id\":\"p1308\",\"attributes\":{\"x\":{\"type\":\"field\",\"field\":\"x\"},\"y\":{\"type\":\"field\",\"field\":\"y\"},\"size\":{\"type\":\"value\",\"value\":6},\"line_color\":{\"type\":\"value\",\"value\":\"red\"},\"line_alpha\":{\"type\":\"value\",\"value\":0.2},\"fill_color\":{\"type\":\"value\",\"value\":\"red\"},\"fill_alpha\":{\"type\":\"value\",\"value\":0.2},\"hatch_color\":{\"type\":\"value\",\"value\":\"red\"},\"hatch_alpha\":{\"type\":\"value\",\"value\":0.2}}}}}],\"toolbar\":{\"type\":\"object\",\"name\":\"Toolbar\",\"id\":\"p1234\",\"attributes\":{\"tools\":[{\"type\":\"object\",\"name\":\"SaveTool\",\"id\":\"p1247\"},{\"id\":\"p1248\"}]}},\"toolbar_location\":null,\"left\":[{\"type\":\"object\",\"name\":\"LinearAxis\",\"id\":\"p1242\",\"attributes\":{\"visible\":false,\"ticker\":{\"type\":\"object\",\"name\":\"BasicTicker\",\"id\":\"p1243\",\"attributes\":{\"mantissas\":[1,2,5]}},\"formatter\":{\"type\":\"object\",\"name\":\"BasicTickFormatter\",\"id\":\"p1244\"},\"axis_label\":\"\",\"major_label_policy\":{\"type\":\"object\",\"name\":\"AllLabels\",\"id\":\"p1245\"}}}],\"below\":[{\"type\":\"object\",\"name\":\"LinearAxis\",\"id\":\"p1237\",\"attributes\":{\"visible\":false,\"ticker\":{\"type\":\"object\",\"name\":\"BasicTicker\",\"id\":\"p1238\",\"attributes\":{\"mantissas\":[1,2,5]}},\"formatter\":{\"type\":\"object\",\"name\":\"BasicTickFormatter\",\"id\":\"p1239\"},\"axis_label\":\"\",\"major_label_policy\":{\"type\":\"object\",\"name\":\"AllLabels\",\"id\":\"p1240\"}}}],\"center\":[{\"type\":\"object\",\"name\":\"Grid\",\"id\":\"p1241\",\"attributes\":{\"axis\":{\"id\":\"p1237\"},\"grid_line_color\":null}},{\"type\":\"object\",\"name\":\"Grid\",\"id\":\"p1246\",\"attributes\":{\"dimension\":1,\"axis\":{\"id\":\"p1242\"},\"grid_line_color\":null}}],\"background_fill_color\":\"#fafafa\"}},0,1]]}}]}};\n  const render_items = [{\"docid\":\"6e59882a-0693-4405-b702-972c4bcc6a8f\",\"roots\":{\"p1314\":\"ea921861-b05c-4d8e-a530-b9db46addf24\"},\"root_ids\":[\"p1314\"]}];\n  void root.Bokeh.embed.embed_items_notebook(docs_json, render_items);\n  }\n  if (root.Bokeh !== undefined) {\n    embed_document(root);\n  } else {\n    let attempts = 0;\n    const timer = setInterval(function(root) {\n      if (root.Bokeh !== undefined) {\n        clearInterval(timer);\n        embed_document(root);\n      } else {\n        attempts++;\n        if (attempts > 100) {\n          clearInterval(timer);\n          console.log(\"Bokeh: ERROR: Unable to run BokehJS code because BokehJS library is missing\");\n        }\n      }\n    }, 10, root)\n  }\n})(window);",
      "application/vnd.bokehjs_exec.v0+json": ""
     },
     "metadata": {
      "application/vnd.bokehjs_exec.v0+json": {
       "id": "p1314"
      }
     },
     "output_type": "display_data"
    }
   ],
   "source": [
    "# Menampilkan Histogram Boxplot\n",
    "histogram_boxplot(df, \"salary_in_usd\", \"Salary in USD\")"
   ]
  },
  {
   "cell_type": "code",
   "execution_count": 37,
   "metadata": {},
   "outputs": [
    {
     "data": {
      "text/html": [
       "<div>\n",
       "<style scoped>\n",
       "    .dataframe tbody tr th:only-of-type {\n",
       "        vertical-align: middle;\n",
       "    }\n",
       "\n",
       "    .dataframe tbody tr th {\n",
       "        vertical-align: top;\n",
       "    }\n",
       "\n",
       "    .dataframe thead th {\n",
       "        text-align: right;\n",
       "    }\n",
       "</style>\n",
       "<table border=\"1\" class=\"dataframe\">\n",
       "  <thead>\n",
       "    <tr style=\"text-align: right;\">\n",
       "      <th></th>\n",
       "      <th>work_year</th>\n",
       "      <th>salary</th>\n",
       "      <th>salary_in_usd</th>\n",
       "      <th>remote_ratio</th>\n",
       "    </tr>\n",
       "  </thead>\n",
       "  <tbody>\n",
       "    <tr>\n",
       "      <th>count</th>\n",
       "      <td>14838.000000</td>\n",
       "      <td>1.483800e+04</td>\n",
       "      <td>14838.000000</td>\n",
       "      <td>14838.000000</td>\n",
       "    </tr>\n",
       "    <tr>\n",
       "      <th>mean</th>\n",
       "      <td>2023.138900</td>\n",
       "      <td>1.650227e+05</td>\n",
       "      <td>149874.718763</td>\n",
       "      <td>32.760480</td>\n",
       "    </tr>\n",
       "    <tr>\n",
       "      <th>std</th>\n",
       "      <td>0.700799</td>\n",
       "      <td>3.562354e+05</td>\n",
       "      <td>69009.181349</td>\n",
       "      <td>46.488278</td>\n",
       "    </tr>\n",
       "    <tr>\n",
       "      <th>min</th>\n",
       "      <td>2020.000000</td>\n",
       "      <td>1.400000e+04</td>\n",
       "      <td>15000.000000</td>\n",
       "      <td>0.000000</td>\n",
       "    </tr>\n",
       "    <tr>\n",
       "      <th>25%</th>\n",
       "      <td>2023.000000</td>\n",
       "      <td>1.021000e+05</td>\n",
       "      <td>102000.000000</td>\n",
       "      <td>0.000000</td>\n",
       "    </tr>\n",
       "    <tr>\n",
       "      <th>50%</th>\n",
       "      <td>2023.000000</td>\n",
       "      <td>1.422000e+05</td>\n",
       "      <td>141300.000000</td>\n",
       "      <td>0.000000</td>\n",
       "    </tr>\n",
       "    <tr>\n",
       "      <th>75%</th>\n",
       "      <td>2024.000000</td>\n",
       "      <td>1.875000e+05</td>\n",
       "      <td>185900.000000</td>\n",
       "      <td>100.000000</td>\n",
       "    </tr>\n",
       "    <tr>\n",
       "      <th>max</th>\n",
       "      <td>2024.000000</td>\n",
       "      <td>3.040000e+07</td>\n",
       "      <td>800000.000000</td>\n",
       "      <td>100.000000</td>\n",
       "    </tr>\n",
       "  </tbody>\n",
       "</table>\n",
       "</div>"
      ],
      "text/plain": [
       "          work_year        salary  salary_in_usd  remote_ratio\n",
       "count  14838.000000  1.483800e+04   14838.000000  14838.000000\n",
       "mean    2023.138900  1.650227e+05  149874.718763     32.760480\n",
       "std        0.700799  3.562354e+05   69009.181349     46.488278\n",
       "min     2020.000000  1.400000e+04   15000.000000      0.000000\n",
       "25%     2023.000000  1.021000e+05  102000.000000      0.000000\n",
       "50%     2023.000000  1.422000e+05  141300.000000      0.000000\n",
       "75%     2024.000000  1.875000e+05  185900.000000    100.000000\n",
       "max     2024.000000  3.040000e+07  800000.000000    100.000000"
      ]
     },
     "execution_count": 37,
     "metadata": {},
     "output_type": "execute_result"
    }
   ],
   "source": [
    "# Melihat Informasi Statistika\n",
    "df.describe()"
   ]
  },
  {
   "cell_type": "code",
   "execution_count": 38,
   "metadata": {},
   "outputs": [
    {
     "data": {
      "text/html": [
       "<div>\n",
       "<style scoped>\n",
       "    .dataframe tbody tr th:only-of-type {\n",
       "        vertical-align: middle;\n",
       "    }\n",
       "\n",
       "    .dataframe tbody tr th {\n",
       "        vertical-align: top;\n",
       "    }\n",
       "\n",
       "    .dataframe thead th {\n",
       "        text-align: right;\n",
       "    }\n",
       "</style>\n",
       "<table border=\"1\" class=\"dataframe\">\n",
       "  <thead>\n",
       "    <tr style=\"text-align: right;\">\n",
       "      <th></th>\n",
       "      <th>work_year</th>\n",
       "      <th>salary</th>\n",
       "      <th>salary_in_usd</th>\n",
       "      <th>remote_ratio</th>\n",
       "    </tr>\n",
       "  </thead>\n",
       "  <tbody>\n",
       "    <tr>\n",
       "      <th>Mean</th>\n",
       "      <td>2023.1389</td>\n",
       "      <td>165022.718965</td>\n",
       "      <td>149874.718763</td>\n",
       "      <td>32.76048</td>\n",
       "    </tr>\n",
       "    <tr>\n",
       "      <th>Median</th>\n",
       "      <td>2023.0</td>\n",
       "      <td>142200.0</td>\n",
       "      <td>141300.0</td>\n",
       "      <td>0.0</td>\n",
       "    </tr>\n",
       "    <tr>\n",
       "      <th>Mode</th>\n",
       "      <td>2023</td>\n",
       "      <td>150000</td>\n",
       "      <td>150000</td>\n",
       "      <td>0</td>\n",
       "    </tr>\n",
       "    <tr>\n",
       "      <th>Evaluasi</th>\n",
       "      <td>Distribusi Normal</td>\n",
       "      <td>Skewness Positif</td>\n",
       "      <td>Skewness Positif</td>\n",
       "      <td>Skewness Positif</td>\n",
       "    </tr>\n",
       "  </tbody>\n",
       "</table>\n",
       "</div>"
      ],
      "text/plain": [
       "                  work_year            salary     salary_in_usd  \\\n",
       "Mean              2023.1389     165022.718965     149874.718763   \n",
       "Median               2023.0          142200.0          141300.0   \n",
       "Mode                   2023            150000            150000   \n",
       "Evaluasi  Distribusi Normal  Skewness Positif  Skewness Positif   \n",
       "\n",
       "              remote_ratio  \n",
       "Mean              32.76048  \n",
       "Median                 0.0  \n",
       "Mode                     0  \n",
       "Evaluasi  Skewness Positif  "
      ]
     },
     "execution_count": 38,
     "metadata": {},
     "output_type": "execute_result"
    }
   ],
   "source": [
    "# Fungsi untuk menghitung mean, median, mode dan mengevaluasi distribusi\n",
    "def evaluate_distribution(col):\n",
    "    mean = col.mean()\n",
    "    median = col.median()\n",
    "    mode = col.mode()[0]  # Ambil mode pertama jika ada beberapa mode\n",
    "    if (abs(mean - median) / mean <= 0.05 and abs(mean - mode) / mean <= 0.05):\n",
    "        evaluasi = 'Distribusi Normal'\n",
    "    elif mean > median:\n",
    "        evaluasi = 'Skewness Positif'\n",
    "    else:\n",
    "        evaluasi = 'Skewness Negatif'\n",
    "    return pd.Series({'Mean': mean, 'Median': median, 'Mode': mode, 'Evaluasi': evaluasi})\n",
    "\n",
    "# Memilih hanya kolom numerik\n",
    "numerical_cols = df.select_dtypes(include=[np.number])\n",
    "\n",
    "# Terapkan fungsi ke setiap kolom numerik dalam DataFrame\n",
    "result = numerical_cols.apply(evaluate_distribution)\n",
    "result"
   ]
  },
  {
   "cell_type": "markdown",
   "metadata": {},
   "source": [
    "***Insight :***\n",
    "\n",
    "Pada sesi ini, akan ditampilkan outlier untuk setiap kolom numerik. Terdapat beberapa kolom yang memiliki outlier, yaitu:\n",
    "\n",
    "- `work_year`\n",
    "\n",
    "- `salary`\n",
    "\n",
    "- `salary_in_usd`\n",
    "\n",
    "Kolom `salary_in_usd` akan digunakan sebagai nilai target atau nilai y. Oleh karena itu, kolom ini akan dijadikan acuan untuk mengurangi nilai outliernya. Visualisasi histogram telah dilakukan pada kolom `salary_in_usd`. Dari gambar tersebut, terlihat bahwa data cenderung miring ke arah kanan, yang menandakan bahwa kolom ini memiliki skewness positif. Hal ini dibuktikan dengan nilai rata-rata yang lebih tinggi dibandingkan nilai median.\n",
    "\n",
    "---"
   ]
  },
  {
   "cell_type": "markdown",
   "metadata": {},
   "source": [
    "#### ***Outlier Handling***\n",
    "\n",
    "---"
   ]
  },
  {
   "cell_type": "markdown",
   "metadata": {},
   "source": [
    "##### **Memisahkan Data Kategorik dan Numerik**\n",
    "\n",
    "---"
   ]
  },
  {
   "cell_type": "code",
   "execution_count": 39,
   "metadata": {},
   "outputs": [],
   "source": [
    "#Melakukan Seleksi Data Kategorik\n",
    "df_kategorik = df.select_dtypes(include=['object', 'bool'])\n",
    "\n",
    "# Melakukan Seleksi Data Numerik\n",
    "df_numerik = df.select_dtypes(exclude=['object', 'bool'])"
   ]
  },
  {
   "cell_type": "markdown",
   "metadata": {},
   "source": [
    "***Insight :***\n",
    "\n",
    "Untuk menangani outlier, langkah pertama yang akan dilakukan adalah memisahkan data kategorikal dan data numerik. Data numerik akan diproses lebih lanjut untuk menangani outlier. Proses ini penting untuk memastikan bahwa analisis data tidak terganggu oleh nilai-nilai ekstrem yang dapat mempengaruhi hasil. Dengan memisahkan kedua jenis data tersebut, kita dapat menerapkan metode penanganan yang tepat untuk masing-masing jenis data. Pada data numerik, penanganan outlier akan dilakukan menggunakan teknik yang sesuai, seperti transformasi data, pemangkasan (*trimming*), atau imputasi. Langkah-langkah ini akan membantu meningkatkan kualitas data dan akurasi model analisis yang akan diterapkan.\n",
    "\n",
    "---"
   ]
  },
  {
   "cell_type": "markdown",
   "metadata": {},
   "source": [
    "##### **Menampilkan Persentase Outlier**\n",
    "\n",
    "---"
   ]
  },
  {
   "cell_type": "code",
   "execution_count": 40,
   "metadata": {},
   "outputs": [],
   "source": [
    "# Fungsi Pengecekan Skewness Data\n",
    "def cek_skewness(data):\n",
    "    skewness_data = pd.DataFrame({'Skewness': data.skew()})\n",
    "    return skewness_data"
   ]
  },
  {
   "cell_type": "code",
   "execution_count": 41,
   "metadata": {},
   "outputs": [],
   "source": [
    "# Melihat Skewness \n",
    "df_skew = cek_skewness(df_numerik)"
   ]
  },
  {
   "cell_type": "code",
   "execution_count": 42,
   "metadata": {},
   "outputs": [],
   "source": [
    "# Fungsi Menghitung Persentase Outlier\n",
    "def calculate_outlier_percentage(data):\n",
    "    q1 = np.percentile(data, 25)\n",
    "    q3 = np.percentile(data, 75)\n",
    "    iqr = q3 - q1\n",
    "    lower_bound = q1 - 1.5 * iqr\n",
    "    upper_bound = q3 + 1.5 * iqr\n",
    "    outliers = data[(data < lower_bound) | (data > upper_bound)]\n",
    "    outlier_percentage = (len(outliers) / len(data)) * 100\n",
    "    return \"{:.2f}%\".format(outlier_percentage)\n",
    "\n",
    "# Fungsi Melihat Hasil Outlier di Setiap Kolom (Data Dictionary)\n",
    "def calculate_outlier_percentage_all_columns(data):\n",
    "    outlier_percentage_dict = {}\n",
    "    for column in data.columns:\n",
    "        outlier_percentage = calculate_outlier_percentage(data[column])\n",
    "        outlier_percentage_dict[column] = outlier_percentage\n",
    "    return outlier_percentage_dict"
   ]
  },
  {
   "cell_type": "code",
   "execution_count": 43,
   "metadata": {},
   "outputs": [
    {
     "data": {
      "text/html": [
       "<div>\n",
       "<style scoped>\n",
       "    .dataframe tbody tr th:only-of-type {\n",
       "        vertical-align: middle;\n",
       "    }\n",
       "\n",
       "    .dataframe tbody tr th {\n",
       "        vertical-align: top;\n",
       "    }\n",
       "\n",
       "    .dataframe thead th {\n",
       "        text-align: right;\n",
       "    }\n",
       "</style>\n",
       "<table border=\"1\" class=\"dataframe\">\n",
       "  <thead>\n",
       "    <tr style=\"text-align: right;\">\n",
       "      <th></th>\n",
       "      <th>Outlier_Percentage_Before</th>\n",
       "      <th>Skewness_Before</th>\n",
       "    </tr>\n",
       "  </thead>\n",
       "  <tbody>\n",
       "    <tr>\n",
       "      <th>work_year</th>\n",
       "      <td>1.97%</td>\n",
       "      <td>-0.807535</td>\n",
       "    </tr>\n",
       "    <tr>\n",
       "      <th>salary</th>\n",
       "      <td>2.20%</td>\n",
       "      <td>50.014242</td>\n",
       "    </tr>\n",
       "    <tr>\n",
       "      <th>salary_in_usd</th>\n",
       "      <td>1.82%</td>\n",
       "      <td>1.522785</td>\n",
       "    </tr>\n",
       "    <tr>\n",
       "      <th>remote_ratio</th>\n",
       "      <td>0.00%</td>\n",
       "      <td>0.734600</td>\n",
       "    </tr>\n",
       "  </tbody>\n",
       "</table>\n",
       "</div>"
      ],
      "text/plain": [
       "              Outlier_Percentage_Before  Skewness_Before\n",
       "work_year                         1.97%        -0.807535\n",
       "salary                            2.20%        50.014242\n",
       "salary_in_usd                     1.82%         1.522785\n",
       "remote_ratio                      0.00%         0.734600"
      ]
     },
     "execution_count": 43,
     "metadata": {},
     "output_type": "execute_result"
    }
   ],
   "source": [
    "# Menampilkan Persentase Outlier\n",
    "df_persentase = calculate_outlier_percentage_all_columns(df_numerik)\n",
    "\n",
    "# Membuat DataFrame dari Hasil Perhitungan\n",
    "numerik_df = pd.DataFrame.from_dict(df_persentase, orient='index', columns=['Outlier_Percentage_Before'])\n",
    "numerik_skew = df_skew.rename(columns={'Skewness': 'Skewness_Before'})\n",
    "\n",
    "# Menggabungkan Kedua DataFrame\n",
    "merged_df = pd.concat([numerik_df, numerik_skew], axis=1)\n",
    "\n",
    "# Menampilkan DataFrame Hasil Penggabungan\n",
    "merged_df"
   ]
  },
  {
   "cell_type": "code",
   "execution_count": 44,
   "metadata": {},
   "outputs": [],
   "source": [
    "# Cek Winsorizer\n",
    "def winsoriser(df):\n",
    "    # Inisialisasi Winsorizer \n",
    "    winsorizer = Winsorizer(\n",
    "        capping_method='iqr',\n",
    "        tail='both',\n",
    "        fold=1.5\n",
    "    )\n",
    "    winsorizer2 = Winsorizer(\n",
    "        capping_method='iqr',\n",
    "        tail='both',\n",
    "        fold=3\n",
    "    )\n",
    "    for column in df.columns:\n",
    "        # Melakukan Censoring \n",
    "        if (abs(df[column].skew())  <= 1) & (abs(df[column].skew()) >= 0.5):\n",
    "            df[column] = winsorizer.fit_transform(df[[column]])\n",
    "        else:\n",
    "            df[column] = winsorizer2.fit_transform(df[[column]])\n",
    "    return df"
   ]
  },
  {
   "cell_type": "code",
   "execution_count": 45,
   "metadata": {},
   "outputs": [],
   "source": [
    "# Winsorizer Data\n",
    "df_numerik = winsoriser(df_numerik)"
   ]
  },
  {
   "cell_type": "code",
   "execution_count": 46,
   "metadata": {},
   "outputs": [],
   "source": [
    "# Melihat Skewness \n",
    "df_skew_new = cek_skewness(df_numerik)"
   ]
  },
  {
   "cell_type": "code",
   "execution_count": 47,
   "metadata": {},
   "outputs": [
    {
     "data": {
      "text/html": [
       "<div>\n",
       "<style scoped>\n",
       "    .dataframe tbody tr th:only-of-type {\n",
       "        vertical-align: middle;\n",
       "    }\n",
       "\n",
       "    .dataframe tbody tr th {\n",
       "        vertical-align: top;\n",
       "    }\n",
       "\n",
       "    .dataframe thead th {\n",
       "        text-align: right;\n",
       "    }\n",
       "</style>\n",
       "<table border=\"1\" class=\"dataframe\">\n",
       "  <thead>\n",
       "    <tr style=\"text-align: right;\">\n",
       "      <th></th>\n",
       "      <th>Outlier_Percentage_Before</th>\n",
       "      <th>Skewness_Before</th>\n",
       "      <th>Outlier_Percentage_After</th>\n",
       "      <th>Skewness_After</th>\n",
       "    </tr>\n",
       "  </thead>\n",
       "  <tbody>\n",
       "    <tr>\n",
       "      <th>work_year</th>\n",
       "      <td>1.97%</td>\n",
       "      <td>-0.807535</td>\n",
       "      <td>0.00%</td>\n",
       "      <td>-0.300619</td>\n",
       "    </tr>\n",
       "    <tr>\n",
       "      <th>salary</th>\n",
       "      <td>2.20%</td>\n",
       "      <td>50.014242</td>\n",
       "      <td>2.20%</td>\n",
       "      <td>1.014835</td>\n",
       "    </tr>\n",
       "    <tr>\n",
       "      <th>salary_in_usd</th>\n",
       "      <td>1.82%</td>\n",
       "      <td>1.522785</td>\n",
       "      <td>1.82%</td>\n",
       "      <td>0.828662</td>\n",
       "    </tr>\n",
       "    <tr>\n",
       "      <th>remote_ratio</th>\n",
       "      <td>0.00%</td>\n",
       "      <td>0.734600</td>\n",
       "      <td>0.00%</td>\n",
       "      <td>0.734600</td>\n",
       "    </tr>\n",
       "  </tbody>\n",
       "</table>\n",
       "</div>"
      ],
      "text/plain": [
       "              Outlier_Percentage_Before  Skewness_Before  \\\n",
       "work_year                         1.97%        -0.807535   \n",
       "salary                            2.20%        50.014242   \n",
       "salary_in_usd                     1.82%         1.522785   \n",
       "remote_ratio                      0.00%         0.734600   \n",
       "\n",
       "              Outlier_Percentage_After  Skewness_After  \n",
       "work_year                        0.00%       -0.300619  \n",
       "salary                           2.20%        1.014835  \n",
       "salary_in_usd                    1.82%        0.828662  \n",
       "remote_ratio                     0.00%        0.734600  "
      ]
     },
     "execution_count": 47,
     "metadata": {},
     "output_type": "execute_result"
    }
   ],
   "source": [
    "# Menampilkan Persentase Outlier\n",
    "df_persentase_winsorizer = calculate_outlier_percentage_all_columns(df_numerik)\n",
    "\n",
    "# Membuat DataFrame dari Hasil Perhitungan\n",
    "numerik_df_winsorizer = pd.DataFrame.from_dict(df_persentase_winsorizer, orient='index', columns=['Outlier_Percentage_After'])\n",
    "numerik_skew_winsorizer = df_skew_new.rename(columns={'Skewness': 'Skewness_After'})\n",
    "\n",
    "# Menggabungkan Kedua DataFrame\n",
    "merged_df1 = pd.concat([numerik_df, numerik_skew, numerik_df_winsorizer, numerik_skew_winsorizer], axis=1)\n",
    "\n",
    "# Menampilkan DataFrame Hasil Penggabungan\n",
    "merged_df1"
   ]
  },
  {
   "cell_type": "code",
   "execution_count": 48,
   "metadata": {},
   "outputs": [],
   "source": [
    "# Menggabungkan Nilai Kategorik dengan Numerik\n",
    "df = pd.concat([df_numerik, df_kategorik], axis=1)"
   ]
  },
  {
   "cell_type": "markdown",
   "metadata": {},
   "source": [
    "***Insight :***\n",
    "\n",
    "Data numerik menunjukkan adanya beberapa nilai outlier dalam kolom gaji (`Salary`). Skewness mencapai 50, yang menunjukkan ketidaksimetrisan yang ekstrem dalam distribusi gaji tersebut. Ketidaksimetrisan semacam itu sering kali terjadi karena variasi besar dalam nilai gaji. Untuk menangani masalah ini, dilakukan metode *capping*. Hasilnya, skewness berhasil dikurangi menjadi -0.5 sampai -1 atau 0.5 sampai 1, yang menunjukkan bahwa data telah mendekati distribusi normal.\n",
    "\n",
    "---"
   ]
  },
  {
   "cell_type": "markdown",
   "metadata": {},
   "source": [
    "### **Statistika Inferensial**\n",
    "\n",
    "---"
   ]
  },
  {
   "cell_type": "markdown",
   "metadata": {},
   "source": [
    "#### **Korelasi Tahun dengan Gaji**\n",
    "\n",
    "---"
   ]
  },
  {
   "cell_type": "markdown",
   "metadata": {},
   "source": [
    "Untuk menguji apakah terdapat pengaruh hubungan antara tahun dengan gaji, hipotesis berikut akan diuji:\n",
    "\n",
    "- H0: Tidak terdapat korelasi antara tahun dengan pertumbuhan gaji.\n",
    "\n",
    "- H1: Terdapat korelasi antara tahun dengan pertumbuhan gaji.\n",
    "\n",
    "---"
   ]
  },
  {
   "cell_type": "code",
   "execution_count": 49,
   "metadata": {},
   "outputs": [
    {
     "data": {
      "text/html": [
       "\n",
       "  <div id=\"b0b09791-d8a4-4958-b915-3e6a9780f538\" data-root-id=\"p1323\" style=\"display: contents;\"></div>\n"
      ]
     },
     "metadata": {},
     "output_type": "display_data"
    },
    {
     "data": {
      "application/javascript": "(function(root) {\n  function embed_document(root) {\n  const docs_json = {\"bd8bf4c3-19bc-408e-8523-dfdcee4c46fe\":{\"version\":\"3.4.1\",\"title\":\"Bokeh Application\",\"roots\":[{\"type\":\"object\",\"name\":\"Figure\",\"id\":\"p1323\",\"attributes\":{\"width\":800,\"height\":400,\"x_range\":{\"type\":\"object\",\"name\":\"DataRange1d\",\"id\":\"p1324\"},\"y_range\":{\"type\":\"object\",\"name\":\"DataRange1d\",\"id\":\"p1325\"},\"x_scale\":{\"type\":\"object\",\"name\":\"LinearScale\",\"id\":\"p1333\"},\"y_scale\":{\"type\":\"object\",\"name\":\"LinearScale\",\"id\":\"p1334\"},\"title\":{\"type\":\"object\",\"name\":\"Title\",\"id\":\"p1326\",\"attributes\":{\"text\":\"Korelasi Tahun dengan Gaji\"}},\"renderers\":[{\"type\":\"object\",\"name\":\"GlyphRenderer\",\"id\":\"p1361\",\"attributes\":{\"data_source\":{\"type\":\"object\",\"name\":\"ColumnDataSource\",\"id\":\"p1320\",\"attributes\":{\"selected\":{\"type\":\"object\",\"name\":\"Selection\",\"id\":\"p1321\",\"attributes\":{\"indices\":[],\"line_indices\":[]}},\"selection_policy\":{\"type\":\"object\",\"name\":\"UnionRenderers\",\"id\":\"p1322\"},\"data\":{\"type\":\"map\",\"entries\":[[\"work_year\",{\"type\":\"ndarray\",\"array\":{\"type\":\"bytes\",\"data\":\"AAAAAACWn0AAAAAAAJifQAAAAAAAnJ9AAAAAAACgn0A=\"},\"shape\":[4],\"dtype\":\"float64\",\"order\":\"little\"}],[\"salary_in_usd\",{\"type\":\"ndarray\",\"array\":{\"type\":\"bytes\",\"data\":\"Zu/Wwr2H+EArgoaTIGgAQRv3l0mJvQJBAAAAACxZAkE=\"},\"shape\":[4],\"dtype\":\"float64\",\"order\":\"little\"}],[\"regression_line\",{\"type\":\"ndarray\",\"array\":{\"type\":\"bytes\",\"data\":\"AOwaqtff+0AAKBEXZxn+QADSfvhCRgFBAA91ZdJ/A0E=\"},\"shape\":[4],\"dtype\":\"float64\",\"order\":\"little\"}]]}}},\"view\":{\"type\":\"object\",\"name\":\"CDSView\",\"id\":\"p1362\",\"attributes\":{\"filter\":{\"type\":\"object\",\"name\":\"AllIndices\",\"id\":\"p1363\"}}},\"glyph\":{\"type\":\"object\",\"name\":\"Scatter\",\"id\":\"p1358\",\"attributes\":{\"x\":{\"type\":\"field\",\"field\":\"work_year\"},\"y\":{\"type\":\"field\",\"field\":\"salary_in_usd\"},\"size\":{\"type\":\"value\",\"value\":10},\"line_color\":{\"type\":\"value\",\"value\":\"navy\"},\"line_alpha\":{\"type\":\"value\",\"value\":0.5},\"fill_color\":{\"type\":\"value\",\"value\":\"navy\"},\"fill_alpha\":{\"type\":\"value\",\"value\":0.5},\"hatch_color\":{\"type\":\"value\",\"value\":\"navy\"},\"hatch_alpha\":{\"type\":\"value\",\"value\":0.5}}},\"nonselection_glyph\":{\"type\":\"object\",\"name\":\"Scatter\",\"id\":\"p1359\",\"attributes\":{\"x\":{\"type\":\"field\",\"field\":\"work_year\"},\"y\":{\"type\":\"field\",\"field\":\"salary_in_usd\"},\"size\":{\"type\":\"value\",\"value\":10},\"line_color\":{\"type\":\"value\",\"value\":\"navy\"},\"line_alpha\":{\"type\":\"value\",\"value\":0.1},\"fill_color\":{\"type\":\"value\",\"value\":\"navy\"},\"fill_alpha\":{\"type\":\"value\",\"value\":0.1},\"hatch_color\":{\"type\":\"value\",\"value\":\"navy\"},\"hatch_alpha\":{\"type\":\"value\",\"value\":0.1}}},\"muted_glyph\":{\"type\":\"object\",\"name\":\"Scatter\",\"id\":\"p1360\",\"attributes\":{\"x\":{\"type\":\"field\",\"field\":\"work_year\"},\"y\":{\"type\":\"field\",\"field\":\"salary_in_usd\"},\"size\":{\"type\":\"value\",\"value\":10},\"line_color\":{\"type\":\"value\",\"value\":\"navy\"},\"line_alpha\":{\"type\":\"value\",\"value\":0.2},\"fill_color\":{\"type\":\"value\",\"value\":\"navy\"},\"fill_alpha\":{\"type\":\"value\",\"value\":0.2},\"hatch_color\":{\"type\":\"value\",\"value\":\"navy\"},\"hatch_alpha\":{\"type\":\"value\",\"value\":0.2}}}}},{\"type\":\"object\",\"name\":\"GlyphRenderer\",\"id\":\"p1372\",\"attributes\":{\"data_source\":{\"id\":\"p1320\"},\"view\":{\"type\":\"object\",\"name\":\"CDSView\",\"id\":\"p1373\",\"attributes\":{\"filter\":{\"type\":\"object\",\"name\":\"AllIndices\",\"id\":\"p1374\"}}},\"glyph\":{\"type\":\"object\",\"name\":\"Line\",\"id\":\"p1369\",\"attributes\":{\"x\":{\"type\":\"field\",\"field\":\"work_year\"},\"y\":{\"type\":\"field\",\"field\":\"regression_line\"},\"line_color\":\"red\",\"line_width\":2}},\"nonselection_glyph\":{\"type\":\"object\",\"name\":\"Line\",\"id\":\"p1370\",\"attributes\":{\"x\":{\"type\":\"field\",\"field\":\"work_year\"},\"y\":{\"type\":\"field\",\"field\":\"regression_line\"},\"line_color\":\"red\",\"line_alpha\":0.1,\"line_width\":2}},\"muted_glyph\":{\"type\":\"object\",\"name\":\"Line\",\"id\":\"p1371\",\"attributes\":{\"x\":{\"type\":\"field\",\"field\":\"work_year\"},\"y\":{\"type\":\"field\",\"field\":\"regression_line\"},\"line_color\":\"red\",\"line_alpha\":0.2,\"line_width\":2}}}}],\"toolbar\":{\"type\":\"object\",\"name\":\"Toolbar\",\"id\":\"p1332\",\"attributes\":{\"tools\":[{\"type\":\"object\",\"name\":\"PanTool\",\"id\":\"p1345\"},{\"type\":\"object\",\"name\":\"BoxZoomTool\",\"id\":\"p1346\",\"attributes\":{\"overlay\":{\"type\":\"object\",\"name\":\"BoxAnnotation\",\"id\":\"p1347\",\"attributes\":{\"syncable\":false,\"level\":\"overlay\",\"visible\":false,\"left\":{\"type\":\"number\",\"value\":\"nan\"},\"right\":{\"type\":\"number\",\"value\":\"nan\"},\"top\":{\"type\":\"number\",\"value\":\"nan\"},\"bottom\":{\"type\":\"number\",\"value\":\"nan\"},\"left_units\":\"canvas\",\"right_units\":\"canvas\",\"top_units\":\"canvas\",\"bottom_units\":\"canvas\",\"line_color\":\"black\",\"line_alpha\":1.0,\"line_width\":2,\"line_dash\":[4,4],\"fill_color\":\"lightgrey\",\"fill_alpha\":0.5}}}},{\"type\":\"object\",\"name\":\"WheelZoomTool\",\"id\":\"p1352\",\"attributes\":{\"renderers\":\"auto\"}},{\"type\":\"object\",\"name\":\"ResetTool\",\"id\":\"p1353\"},{\"type\":\"object\",\"name\":\"SaveTool\",\"id\":\"p1354\"},{\"type\":\"object\",\"name\":\"HoverTool\",\"id\":\"p1376\",\"attributes\":{\"renderers\":\"auto\",\"tooltips\":[[\"Tahun\",\"@work_year\"],[\"Gaji Rata-rata (USD)\",\"@salary_in_usd\"]]}}]}},\"left\":[{\"type\":\"object\",\"name\":\"LinearAxis\",\"id\":\"p1340\",\"attributes\":{\"ticker\":{\"type\":\"object\",\"name\":\"BasicTicker\",\"id\":\"p1341\",\"attributes\":{\"mantissas\":[1,2,5]}},\"formatter\":{\"type\":\"object\",\"name\":\"NumeralTickFormatter\",\"id\":\"p1377\",\"attributes\":{\"format\":\"0\"}},\"axis_label\":\"Gaji Rata-rata (USD)\",\"axis_label_text_font_style\":\"bold\",\"major_label_policy\":{\"type\":\"object\",\"name\":\"AllLabels\",\"id\":\"p1343\"}}}],\"below\":[{\"type\":\"object\",\"name\":\"LinearAxis\",\"id\":\"p1335\",\"attributes\":{\"ticker\":{\"type\":\"object\",\"name\":\"BasicTicker\",\"id\":\"p1336\",\"attributes\":{\"mantissas\":[1,2,5]}},\"formatter\":{\"type\":\"object\",\"name\":\"BasicTickFormatter\",\"id\":\"p1337\"},\"axis_label\":\"Tahun\",\"axis_label_text_font_style\":\"bold\",\"major_label_policy\":{\"type\":\"object\",\"name\":\"AllLabels\",\"id\":\"p1338\"}}}],\"center\":[{\"type\":\"object\",\"name\":\"Grid\",\"id\":\"p1339\",\"attributes\":{\"axis\":{\"id\":\"p1335\"}}},{\"type\":\"object\",\"name\":\"Grid\",\"id\":\"p1344\",\"attributes\":{\"dimension\":1,\"axis\":{\"id\":\"p1340\"}}},{\"type\":\"object\",\"name\":\"Legend\",\"id\":\"p1364\",\"attributes\":{\"location\":\"top_left\",\"click_policy\":\"hide\",\"items\":[{\"type\":\"object\",\"name\":\"LegendItem\",\"id\":\"p1365\",\"attributes\":{\"label\":{\"type\":\"value\",\"value\":\"Gaji Rata-rata (USD)\"},\"renderers\":[{\"id\":\"p1361\"}]}},{\"type\":\"object\",\"name\":\"LegendItem\",\"id\":\"p1375\",\"attributes\":{\"label\":{\"type\":\"value\",\"value\":\"Garis Regresi\"},\"renderers\":[{\"id\":\"p1372\"}]}}]}}]}}]}};\n  const render_items = [{\"docid\":\"bd8bf4c3-19bc-408e-8523-dfdcee4c46fe\",\"roots\":{\"p1323\":\"b0b09791-d8a4-4958-b915-3e6a9780f538\"},\"root_ids\":[\"p1323\"]}];\n  void root.Bokeh.embed.embed_items_notebook(docs_json, render_items);\n  }\n  if (root.Bokeh !== undefined) {\n    embed_document(root);\n  } else {\n    let attempts = 0;\n    const timer = setInterval(function(root) {\n      if (root.Bokeh !== undefined) {\n        clearInterval(timer);\n        embed_document(root);\n      } else {\n        attempts++;\n        if (attempts > 100) {\n          clearInterval(timer);\n          console.log(\"Bokeh: ERROR: Unable to run BokehJS code because BokehJS library is missing\");\n        }\n      }\n    }, 10, root)\n  }\n})(window);",
      "application/vnd.bokehjs_exec.v0+json": ""
     },
     "metadata": {
      "application/vnd.bokehjs_exec.v0+json": {
       "id": "p1323"
      }
     },
     "output_type": "display_data"
    },
    {
     "data": {
      "text/html": [
       "    <style>\n",
       "        .bk-notebook-logo {\n",
       "            display: block;\n",
       "            width: 20px;\n",
       "            height: 20px;\n",
       "            background-image: url(data:image/png;base64,iVBORw0KGgoAAAANSUhEUgAAABQAAAAUCAYAAACNiR0NAAAABHNCSVQICAgIfAhkiAAAAAlwSFlzAAALEgAACxIB0t1+/AAAABx0RVh0U29mdHdhcmUAQWRvYmUgRmlyZXdvcmtzIENTNui8sowAAAOkSURBVDiNjZRtaJVlGMd/1/08zzln5zjP1LWcU9N0NkN8m2CYjpgQYQXqSs0I84OLIC0hkEKoPtiH3gmKoiJDU7QpLgoLjLIQCpEsNJ1vqUOdO7ppbuec5+V+rj4ctwzd8IIbbi6u+8f1539dt3A78eXC7QizUF7gyV1fD1Yqg4JWz84yffhm0qkFqBogB9rM8tZdtwVsPUhWhGcFJngGeWrPzHm5oaMmkfEg1usvLFyc8jLRqDOMru7AyC8saQr7GG7f5fvDeH7Ej8CM66nIF+8yngt6HWaKh7k49Soy9nXurCi1o3qUbS3zWfrYeQDTB/Qj6kX6Ybhw4B+bOYoLKCC9H3Nu/leUTZ1JdRWkkn2ldcCamzrcf47KKXdAJllSlxAOkRgyHsGC/zRday5Qld9DyoM4/q/rUoy/CXh3jzOu3bHUVZeU+DEn8FInkPBFlu3+nW3Nw0mk6vCDiWg8CeJaxEwuHS3+z5RgY+YBR6V1Z1nxSOfoaPa4LASWxxdNp+VWTk7+4vzaou8v8PN+xo+KY2xsw6une2frhw05CTYOmQvsEhjhWjn0bmXPjpE1+kplmmkP3suftwTubK9Vq22qKmrBhpY4jvd5afdRA3wGjFAgcnTK2s4hY0/GPNIb0nErGMCRxWOOX64Z8RAC4oCXdklmEvcL8o0BfkNK4lUg9HTl+oPlQxdNo3Mg4Nv175e/1LDGzZen30MEjRUtmXSfiTVu1kK8W4txyV6BMKlbgk3lMwYCiusNy9fVfvvwMxv8Ynl6vxoByANLTWplvuj/nF9m2+PDtt1eiHPBr1oIfhCChQMBw6Aw0UulqTKZdfVvfG7VcfIqLG9bcldL/+pdWTLxLUy8Qq38heUIjh4XlzZxzQm19lLFlr8vdQ97rjZVOLf8nclzckbcD4wxXMidpX30sFd37Fv/GtwwhzhxGVAprjbg0gCAEeIgwCZyTV2Z1REEW8O4py0wsjeloKoMr6iCY6dP92H6Vw/oTyICIthibxjm/DfN9lVz8IqtqKYLUXfoKVMVQVVJOElGjrnnUt9T9wbgp8AyYKaGlqingHZU/uG2NTZSVqwHQTWkx9hxjkpWDaCg6Ckj5qebgBVbT3V3NNXMSiWSDdGV3hrtzla7J+duwPOToIg42ChPQOQjspnSlp1V+Gjdged7+8UN5CRAV7a5EdFNwCjEaBR27b3W890TE7g24NAP/mMDXRWrGoFPQI9ls/MWO2dWFAar/xcOIImbbpA3zgAAAABJRU5ErkJggg==);\n",
       "        }\n",
       "    </style>\n",
       "    <div>\n",
       "        <a href=\"https://bokeh.org\" target=\"_blank\" class=\"bk-notebook-logo\"></a>\n",
       "        <span id=\"aa1e4650-7046-49f1-98c7-c941627e9051\">Loading BokehJS ...</span>\n",
       "    </div>\n"
      ]
     },
     "metadata": {},
     "output_type": "display_data"
    },
    {
     "data": {
      "application/javascript": "'use strict';\n(function(root) {\n  function now() {\n    return new Date();\n  }\n\n  const force = true;\n\n  if (typeof root._bokeh_onload_callbacks === \"undefined\" || force === true) {\n    root._bokeh_onload_callbacks = [];\n    root._bokeh_is_loading = undefined;\n  }\n\nconst JS_MIME_TYPE = 'application/javascript';\n  const HTML_MIME_TYPE = 'text/html';\n  const EXEC_MIME_TYPE = 'application/vnd.bokehjs_exec.v0+json';\n  const CLASS_NAME = 'output_bokeh rendered_html';\n\n  /**\n   * Render data to the DOM node\n   */\n  function render(props, node) {\n    const script = document.createElement(\"script\");\n    node.appendChild(script);\n  }\n\n  /**\n   * Handle when an output is cleared or removed\n   */\n  function handleClearOutput(event, handle) {\n    function drop(id) {\n      const view = Bokeh.index.get_by_id(id)\n      if (view != null) {\n        view.model.document.clear()\n        Bokeh.index.delete(view)\n      }\n    }\n\n    const cell = handle.cell;\n\n    const id = cell.output_area._bokeh_element_id;\n    const server_id = cell.output_area._bokeh_server_id;\n\n    // Clean up Bokeh references\n    if (id != null) {\n      drop(id)\n    }\n\n    if (server_id !== undefined) {\n      // Clean up Bokeh references\n      const cmd_clean = \"from bokeh.io.state import curstate; print(curstate().uuid_to_server['\" + server_id + \"'].get_sessions()[0].document.roots[0]._id)\";\n      cell.notebook.kernel.execute(cmd_clean, {\n        iopub: {\n          output: function(msg) {\n            const id = msg.content.text.trim()\n            drop(id)\n          }\n        }\n      });\n      // Destroy server and session\n      const cmd_destroy = \"import bokeh.io.notebook as ion; ion.destroy_server('\" + server_id + \"')\";\n      cell.notebook.kernel.execute(cmd_destroy);\n    }\n  }\n\n  /**\n   * Handle when a new output is added\n   */\n  function handleAddOutput(event, handle) {\n    const output_area = handle.output_area;\n    const output = handle.output;\n\n    // limit handleAddOutput to display_data with EXEC_MIME_TYPE content only\n    if ((output.output_type != \"display_data\") || (!Object.prototype.hasOwnProperty.call(output.data, EXEC_MIME_TYPE))) {\n      return\n    }\n\n    const toinsert = output_area.element.find(\".\" + CLASS_NAME.split(' ')[0]);\n\n    if (output.metadata[EXEC_MIME_TYPE][\"id\"] !== undefined) {\n      toinsert[toinsert.length - 1].firstChild.textContent = output.data[JS_MIME_TYPE];\n      // store reference to embed id on output_area\n      output_area._bokeh_element_id = output.metadata[EXEC_MIME_TYPE][\"id\"];\n    }\n    if (output.metadata[EXEC_MIME_TYPE][\"server_id\"] !== undefined) {\n      const bk_div = document.createElement(\"div\");\n      bk_div.innerHTML = output.data[HTML_MIME_TYPE];\n      const script_attrs = bk_div.children[0].attributes;\n      for (let i = 0; i < script_attrs.length; i++) {\n        toinsert[toinsert.length - 1].firstChild.setAttribute(script_attrs[i].name, script_attrs[i].value);\n        toinsert[toinsert.length - 1].firstChild.textContent = bk_div.children[0].textContent\n      }\n      // store reference to server id on output_area\n      output_area._bokeh_server_id = output.metadata[EXEC_MIME_TYPE][\"server_id\"];\n    }\n  }\n\n  function register_renderer(events, OutputArea) {\n\n    function append_mime(data, metadata, element) {\n      // create a DOM node to render to\n      const toinsert = this.create_output_subarea(\n        metadata,\n        CLASS_NAME,\n        EXEC_MIME_TYPE\n      );\n      this.keyboard_manager.register_events(toinsert);\n      // Render to node\n      const props = {data: data, metadata: metadata[EXEC_MIME_TYPE]};\n      render(props, toinsert[toinsert.length - 1]);\n      element.append(toinsert);\n      return toinsert\n    }\n\n    /* Handle when an output is cleared or removed */\n    events.on('clear_output.CodeCell', handleClearOutput);\n    events.on('delete.Cell', handleClearOutput);\n\n    /* Handle when a new output is added */\n    events.on('output_added.OutputArea', handleAddOutput);\n\n    /**\n     * Register the mime type and append_mime function with output_area\n     */\n    OutputArea.prototype.register_mime_type(EXEC_MIME_TYPE, append_mime, {\n      /* Is output safe? */\n      safe: true,\n      /* Index of renderer in `output_area.display_order` */\n      index: 0\n    });\n  }\n\n  // register the mime type if in Jupyter Notebook environment and previously unregistered\n  if (root.Jupyter !== undefined) {\n    const events = require('base/js/events');\n    const OutputArea = require('notebook/js/outputarea').OutputArea;\n\n    if (OutputArea.prototype.mime_types().indexOf(EXEC_MIME_TYPE) == -1) {\n      register_renderer(events, OutputArea);\n    }\n  }\n  if (typeof (root._bokeh_timeout) === \"undefined\" || force === true) {\n    root._bokeh_timeout = Date.now() + 5000;\n    root._bokeh_failed_load = false;\n  }\n\n  const NB_LOAD_WARNING = {'data': {'text/html':\n     \"<div style='background-color: #fdd'>\\n\"+\n     \"<p>\\n\"+\n     \"BokehJS does not appear to have successfully loaded. If loading BokehJS from CDN, this \\n\"+\n     \"may be due to a slow or bad network connection. Possible fixes:\\n\"+\n     \"</p>\\n\"+\n     \"<ul>\\n\"+\n     \"<li>re-rerun `output_notebook()` to attempt to load from CDN again, or</li>\\n\"+\n     \"<li>use INLINE resources instead, as so:</li>\\n\"+\n     \"</ul>\\n\"+\n     \"<code>\\n\"+\n     \"from bokeh.resources import INLINE\\n\"+\n     \"output_notebook(resources=INLINE)\\n\"+\n     \"</code>\\n\"+\n     \"</div>\"}};\n\n  function display_loaded(error = null) {\n    const el = document.getElementById(\"aa1e4650-7046-49f1-98c7-c941627e9051\");\n    if (el != null) {\n      const html = (() => {\n        if (typeof root.Bokeh === \"undefined\") {\n          if (error == null) {\n            return \"BokehJS is loading ...\";\n          } else {\n            return \"BokehJS failed to load.\";\n          }\n        } else {\n          const prefix = `BokehJS ${root.Bokeh.version}`;\n          if (error == null) {\n            return `${prefix} successfully loaded.`;\n          } else {\n            return `${prefix} <b>encountered errors</b> while loading and may not function as expected.`;\n          }\n        }\n      })();\n      el.innerHTML = html;\n\n      if (error != null) {\n        const wrapper = document.createElement(\"div\");\n        wrapper.style.overflow = \"auto\";\n        wrapper.style.height = \"5em\";\n        wrapper.style.resize = \"vertical\";\n        const content = document.createElement(\"div\");\n        content.style.fontFamily = \"monospace\";\n        content.style.whiteSpace = \"pre-wrap\";\n        content.style.backgroundColor = \"rgb(255, 221, 221)\";\n        content.textContent = error.stack ?? error.toString();\n        wrapper.append(content);\n        el.append(wrapper);\n      }\n    } else if (Date.now() < root._bokeh_timeout) {\n      setTimeout(() => display_loaded(error), 100);\n    }\n  }\n\n  function run_callbacks() {\n    try {\n      root._bokeh_onload_callbacks.forEach(function(callback) {\n        if (callback != null)\n          callback();\n      });\n    } finally {\n      delete root._bokeh_onload_callbacks\n    }\n    console.debug(\"Bokeh: all callbacks have finished\");\n  }\n\n  function load_libs(css_urls, js_urls, callback) {\n    if (css_urls == null) css_urls = [];\n    if (js_urls == null) js_urls = [];\n\n    root._bokeh_onload_callbacks.push(callback);\n    if (root._bokeh_is_loading > 0) {\n      console.debug(\"Bokeh: BokehJS is being loaded, scheduling callback at\", now());\n      return null;\n    }\n    if (js_urls == null || js_urls.length === 0) {\n      run_callbacks();\n      return null;\n    }\n    console.debug(\"Bokeh: BokehJS not loaded, scheduling load and callback at\", now());\n    root._bokeh_is_loading = css_urls.length + js_urls.length;\n\n    function on_load() {\n      root._bokeh_is_loading--;\n      if (root._bokeh_is_loading === 0) {\n        console.debug(\"Bokeh: all BokehJS libraries/stylesheets loaded\");\n        run_callbacks()\n      }\n    }\n\n    function on_error(url) {\n      console.error(\"failed to load \" + url);\n    }\n\n    for (let i = 0; i < css_urls.length; i++) {\n      const url = css_urls[i];\n      const element = document.createElement(\"link\");\n      element.onload = on_load;\n      element.onerror = on_error.bind(null, url);\n      element.rel = \"stylesheet\";\n      element.type = \"text/css\";\n      element.href = url;\n      console.debug(\"Bokeh: injecting link tag for BokehJS stylesheet: \", url);\n      document.body.appendChild(element);\n    }\n\n    for (let i = 0; i < js_urls.length; i++) {\n      const url = js_urls[i];\n      const element = document.createElement('script');\n      element.onload = on_load;\n      element.onerror = on_error.bind(null, url);\n      element.async = false;\n      element.src = url;\n      console.debug(\"Bokeh: injecting script tag for BokehJS library: \", url);\n      document.head.appendChild(element);\n    }\n  };\n\n  function inject_raw_css(css) {\n    const element = document.createElement(\"style\");\n    element.appendChild(document.createTextNode(css));\n    document.body.appendChild(element);\n  }\n\n  const js_urls = [\"https://cdn.bokeh.org/bokeh/release/bokeh-3.4.1.min.js\", \"https://cdn.bokeh.org/bokeh/release/bokeh-gl-3.4.1.min.js\", \"https://cdn.bokeh.org/bokeh/release/bokeh-widgets-3.4.1.min.js\", \"https://cdn.bokeh.org/bokeh/release/bokeh-tables-3.4.1.min.js\", \"https://cdn.bokeh.org/bokeh/release/bokeh-mathjax-3.4.1.min.js\"];\n  const css_urls = [];\n\n  const inline_js = [    function(Bokeh) {\n      Bokeh.set_log_level(\"info\");\n    },\nfunction(Bokeh) {\n    }\n  ];\n\n  function run_inline_js() {\n    if (root.Bokeh !== undefined || force === true) {\n      try {\n            for (let i = 0; i < inline_js.length; i++) {\n      inline_js[i].call(root, root.Bokeh);\n    }\n\n      } catch (error) {display_loaded(error);throw error;\n      }if (force === true) {\n        display_loaded();\n      }} else if (Date.now() < root._bokeh_timeout) {\n      setTimeout(run_inline_js, 100);\n    } else if (!root._bokeh_failed_load) {\n      console.log(\"Bokeh: BokehJS failed to load within specified timeout.\");\n      root._bokeh_failed_load = true;\n    } else if (force !== true) {\n      const cell = $(document.getElementById(\"aa1e4650-7046-49f1-98c7-c941627e9051\")).parents('.cell').data().cell;\n      cell.output_area.append_execute_result(NB_LOAD_WARNING)\n    }\n  }\n\n  if (root._bokeh_is_loading === 0) {\n    console.debug(\"Bokeh: BokehJS loaded, going straight to plotting\");\n    run_inline_js();\n  } else {\n    load_libs(css_urls, js_urls, function() {\n      console.debug(\"Bokeh: BokehJS plotting callback run at\", now());\n      run_inline_js();\n    });\n  }\n}(window));",
      "application/vnd.bokehjs_load.v0+json": ""
     },
     "metadata": {},
     "output_type": "display_data"
    }
   ],
   "source": [
    "# # Menghitung rata-rata gaji untuk setiap tahun\n",
    "avg_salaries_year = df.groupby('work_year')['salary_in_usd'].mean().reset_index()\n",
    "\n",
    "scatter_plot_regression(avg_salaries_year, x_col='work_year', y_col='salary_in_usd', x_label='Tahun', y_label='Gaji Rata-rata (USD)', title='Korelasi Tahun dengan Gaji')"
   ]
  },
  {
   "cell_type": "code",
   "execution_count": 50,
   "metadata": {},
   "outputs": [
    {
     "name": "stdout",
     "output_type": "stream",
     "text": [
      "rho-correlation: 0.08, p-value: 9.745759926855788e-22\n"
     ]
    }
   ],
   "source": [
    "# Menampilkan Informasi Analisis Korelasi\n",
    "corr_rho, pval_s = stats.pearsonr(df['work_year'], df['salary_in_usd'])\n",
    "print(f\"rho-correlation: {corr_rho:.2f}, p-value: {pval_s }\")"
   ]
  },
  {
   "cell_type": "markdown",
   "metadata": {},
   "source": [
    "***Insight :***\n",
    "\n",
    "Berdasarkan hasil pengujian korelasi antara tahun dengan gaji, didapatkan nilai rho-korelasi sebesar 0.08 dan nilai p sebesar 9.745759926855788e-22. Berikut adalah penjelasannya:\n",
    "\n",
    "- Nilai rho-korelasi (0.08): Nilai ini menunjukkan tingkat kekuatan dan arah hubungan linier antara dua variabel. Dalam hal ini, rho-korelasi sebesar 0.08 menunjukkan korelasi yang sangat lemah dan positif antara tahun dan gaji. Artinya, meskipun ada sedikit peningkatan gaji seiring berjalannya waktu, hubungan tersebut sangat lemah.\n",
    "\n",
    "- Nilai p (9.745759926855788e-22): Nilai p yang sangat kecil ini menunjukkan bahwa hasil pengujian statistik sangat signifikan. Dalam konteks hipotesis yang diajukan, nilai p yang sangat kecil ini memungkinkan kita untuk menolak hipotesis nol (H0) yang menyatakan tidak terdapat korelasi antara tahun dengan pertumbuhan gaji.\n",
    "\n",
    "Meskipun hasilnya signifikan secara statistik, kekuatan korelasi yang sangat lemah (rho = 0.08) menunjukkan bahwa tahun hanya memiliki sedikit pengaruh terhadap pertumbuhan gaji. Dari gambar dapat dilihat bahwa terjadi peningkatan gaji untuk setiap tahunnya. Namun, pada tahun 2024 terjadi penurunan. Hal ini bukan disebabkan oleh masalah tertentu, melainkan karena ketika data ini diambil, masih berada di tahun 2024 sehingga data yang diperoleh belum lengkap. Dalam kondisi aktual, meskipun gaji mengalami kenaikan, peningkatannya tidak terlalu besar atau konsisten. Hal ini disebabkan oleh fluktuasi ekonomi, perubahan permintaan tenaga kerja, atau faktor-faktor lain yang tidak terduga seperti wabah.\n",
    "\n",
    "---"
   ]
  },
  {
   "cell_type": "markdown",
   "metadata": {},
   "source": [
    "#### **Korelasi Pengalaman Kerja dengan Gaji**\n",
    "\n",
    "---"
   ]
  },
  {
   "cell_type": "markdown",
   "metadata": {},
   "source": [
    "Untuk menguji apakah terdapat pengaruh hubungan pengalaman kerja dengan gaji, hipotesis berikut akan diuji:\n",
    "\n",
    "- H0: Tidak terdapat korelasi antara pengalaman kerja dengan pertumbuhan gaji.\n",
    "\n",
    "- H1: Terdapat korelasi antara pengalaman kerja dengan pertumbuhan gaji.\n",
    "\n",
    "---"
   ]
  },
  {
   "cell_type": "code",
   "execution_count": 51,
   "metadata": {},
   "outputs": [
    {
     "data": {
      "text/html": [
       "    <style>\n",
       "        .bk-notebook-logo {\n",
       "            display: block;\n",
       "            width: 20px;\n",
       "            height: 20px;\n",
       "            background-image: url(data:image/png;base64,iVBORw0KGgoAAAANSUhEUgAAABQAAAAUCAYAAACNiR0NAAAABHNCSVQICAgIfAhkiAAAAAlwSFlzAAALEgAACxIB0t1+/AAAABx0RVh0U29mdHdhcmUAQWRvYmUgRmlyZXdvcmtzIENTNui8sowAAAOkSURBVDiNjZRtaJVlGMd/1/08zzln5zjP1LWcU9N0NkN8m2CYjpgQYQXqSs0I84OLIC0hkEKoPtiH3gmKoiJDU7QpLgoLjLIQCpEsNJ1vqUOdO7ppbuec5+V+rj4ctwzd8IIbbi6u+8f1539dt3A78eXC7QizUF7gyV1fD1Yqg4JWz84yffhm0qkFqBogB9rM8tZdtwVsPUhWhGcFJngGeWrPzHm5oaMmkfEg1usvLFyc8jLRqDOMru7AyC8saQr7GG7f5fvDeH7Ej8CM66nIF+8yngt6HWaKh7k49Soy9nXurCi1o3qUbS3zWfrYeQDTB/Qj6kX6Ybhw4B+bOYoLKCC9H3Nu/leUTZ1JdRWkkn2ldcCamzrcf47KKXdAJllSlxAOkRgyHsGC/zRday5Qld9DyoM4/q/rUoy/CXh3jzOu3bHUVZeU+DEn8FInkPBFlu3+nW3Nw0mk6vCDiWg8CeJaxEwuHS3+z5RgY+YBR6V1Z1nxSOfoaPa4LASWxxdNp+VWTk7+4vzaou8v8PN+xo+KY2xsw6une2frhw05CTYOmQvsEhjhWjn0bmXPjpE1+kplmmkP3suftwTubK9Vq22qKmrBhpY4jvd5afdRA3wGjFAgcnTK2s4hY0/GPNIb0nErGMCRxWOOX64Z8RAC4oCXdklmEvcL8o0BfkNK4lUg9HTl+oPlQxdNo3Mg4Nv175e/1LDGzZen30MEjRUtmXSfiTVu1kK8W4txyV6BMKlbgk3lMwYCiusNy9fVfvvwMxv8Ynl6vxoByANLTWplvuj/nF9m2+PDtt1eiHPBr1oIfhCChQMBw6Aw0UulqTKZdfVvfG7VcfIqLG9bcldL/+pdWTLxLUy8Qq38heUIjh4XlzZxzQm19lLFlr8vdQ97rjZVOLf8nclzckbcD4wxXMidpX30sFd37Fv/GtwwhzhxGVAprjbg0gCAEeIgwCZyTV2Z1REEW8O4py0wsjeloKoMr6iCY6dP92H6Vw/oTyICIthibxjm/DfN9lVz8IqtqKYLUXfoKVMVQVVJOElGjrnnUt9T9wbgp8AyYKaGlqingHZU/uG2NTZSVqwHQTWkx9hxjkpWDaCg6Ckj5qebgBVbT3V3NNXMSiWSDdGV3hrtzla7J+duwPOToIg42ChPQOQjspnSlp1V+Gjdged7+8UN5CRAV7a5EdFNwCjEaBR27b3W890TE7g24NAP/mMDXRWrGoFPQI9ls/MWO2dWFAar/xcOIImbbpA3zgAAAABJRU5ErkJggg==);\n",
       "        }\n",
       "    </style>\n",
       "    <div>\n",
       "        <a href=\"https://bokeh.org\" target=\"_blank\" class=\"bk-notebook-logo\"></a>\n",
       "        <span id=\"eb0f97e7-54e9-477a-971e-f132d544c029\">Loading BokehJS ...</span>\n",
       "    </div>\n"
      ]
     },
     "metadata": {},
     "output_type": "display_data"
    },
    {
     "data": {
      "application/javascript": "'use strict';\n(function(root) {\n  function now() {\n    return new Date();\n  }\n\n  const force = true;\n\n  if (typeof root._bokeh_onload_callbacks === \"undefined\" || force === true) {\n    root._bokeh_onload_callbacks = [];\n    root._bokeh_is_loading = undefined;\n  }\n\nconst JS_MIME_TYPE = 'application/javascript';\n  const HTML_MIME_TYPE = 'text/html';\n  const EXEC_MIME_TYPE = 'application/vnd.bokehjs_exec.v0+json';\n  const CLASS_NAME = 'output_bokeh rendered_html';\n\n  /**\n   * Render data to the DOM node\n   */\n  function render(props, node) {\n    const script = document.createElement(\"script\");\n    node.appendChild(script);\n  }\n\n  /**\n   * Handle when an output is cleared or removed\n   */\n  function handleClearOutput(event, handle) {\n    function drop(id) {\n      const view = Bokeh.index.get_by_id(id)\n      if (view != null) {\n        view.model.document.clear()\n        Bokeh.index.delete(view)\n      }\n    }\n\n    const cell = handle.cell;\n\n    const id = cell.output_area._bokeh_element_id;\n    const server_id = cell.output_area._bokeh_server_id;\n\n    // Clean up Bokeh references\n    if (id != null) {\n      drop(id)\n    }\n\n    if (server_id !== undefined) {\n      // Clean up Bokeh references\n      const cmd_clean = \"from bokeh.io.state import curstate; print(curstate().uuid_to_server['\" + server_id + \"'].get_sessions()[0].document.roots[0]._id)\";\n      cell.notebook.kernel.execute(cmd_clean, {\n        iopub: {\n          output: function(msg) {\n            const id = msg.content.text.trim()\n            drop(id)\n          }\n        }\n      });\n      // Destroy server and session\n      const cmd_destroy = \"import bokeh.io.notebook as ion; ion.destroy_server('\" + server_id + \"')\";\n      cell.notebook.kernel.execute(cmd_destroy);\n    }\n  }\n\n  /**\n   * Handle when a new output is added\n   */\n  function handleAddOutput(event, handle) {\n    const output_area = handle.output_area;\n    const output = handle.output;\n\n    // limit handleAddOutput to display_data with EXEC_MIME_TYPE content only\n    if ((output.output_type != \"display_data\") || (!Object.prototype.hasOwnProperty.call(output.data, EXEC_MIME_TYPE))) {\n      return\n    }\n\n    const toinsert = output_area.element.find(\".\" + CLASS_NAME.split(' ')[0]);\n\n    if (output.metadata[EXEC_MIME_TYPE][\"id\"] !== undefined) {\n      toinsert[toinsert.length - 1].firstChild.textContent = output.data[JS_MIME_TYPE];\n      // store reference to embed id on output_area\n      output_area._bokeh_element_id = output.metadata[EXEC_MIME_TYPE][\"id\"];\n    }\n    if (output.metadata[EXEC_MIME_TYPE][\"server_id\"] !== undefined) {\n      const bk_div = document.createElement(\"div\");\n      bk_div.innerHTML = output.data[HTML_MIME_TYPE];\n      const script_attrs = bk_div.children[0].attributes;\n      for (let i = 0; i < script_attrs.length; i++) {\n        toinsert[toinsert.length - 1].firstChild.setAttribute(script_attrs[i].name, script_attrs[i].value);\n        toinsert[toinsert.length - 1].firstChild.textContent = bk_div.children[0].textContent\n      }\n      // store reference to server id on output_area\n      output_area._bokeh_server_id = output.metadata[EXEC_MIME_TYPE][\"server_id\"];\n    }\n  }\n\n  function register_renderer(events, OutputArea) {\n\n    function append_mime(data, metadata, element) {\n      // create a DOM node to render to\n      const toinsert = this.create_output_subarea(\n        metadata,\n        CLASS_NAME,\n        EXEC_MIME_TYPE\n      );\n      this.keyboard_manager.register_events(toinsert);\n      // Render to node\n      const props = {data: data, metadata: metadata[EXEC_MIME_TYPE]};\n      render(props, toinsert[toinsert.length - 1]);\n      element.append(toinsert);\n      return toinsert\n    }\n\n    /* Handle when an output is cleared or removed */\n    events.on('clear_output.CodeCell', handleClearOutput);\n    events.on('delete.Cell', handleClearOutput);\n\n    /* Handle when a new output is added */\n    events.on('output_added.OutputArea', handleAddOutput);\n\n    /**\n     * Register the mime type and append_mime function with output_area\n     */\n    OutputArea.prototype.register_mime_type(EXEC_MIME_TYPE, append_mime, {\n      /* Is output safe? */\n      safe: true,\n      /* Index of renderer in `output_area.display_order` */\n      index: 0\n    });\n  }\n\n  // register the mime type if in Jupyter Notebook environment and previously unregistered\n  if (root.Jupyter !== undefined) {\n    const events = require('base/js/events');\n    const OutputArea = require('notebook/js/outputarea').OutputArea;\n\n    if (OutputArea.prototype.mime_types().indexOf(EXEC_MIME_TYPE) == -1) {\n      register_renderer(events, OutputArea);\n    }\n  }\n  if (typeof (root._bokeh_timeout) === \"undefined\" || force === true) {\n    root._bokeh_timeout = Date.now() + 5000;\n    root._bokeh_failed_load = false;\n  }\n\n  const NB_LOAD_WARNING = {'data': {'text/html':\n     \"<div style='background-color: #fdd'>\\n\"+\n     \"<p>\\n\"+\n     \"BokehJS does not appear to have successfully loaded. If loading BokehJS from CDN, this \\n\"+\n     \"may be due to a slow or bad network connection. Possible fixes:\\n\"+\n     \"</p>\\n\"+\n     \"<ul>\\n\"+\n     \"<li>re-rerun `output_notebook()` to attempt to load from CDN again, or</li>\\n\"+\n     \"<li>use INLINE resources instead, as so:</li>\\n\"+\n     \"</ul>\\n\"+\n     \"<code>\\n\"+\n     \"from bokeh.resources import INLINE\\n\"+\n     \"output_notebook(resources=INLINE)\\n\"+\n     \"</code>\\n\"+\n     \"</div>\"}};\n\n  function display_loaded(error = null) {\n    const el = document.getElementById(\"eb0f97e7-54e9-477a-971e-f132d544c029\");\n    if (el != null) {\n      const html = (() => {\n        if (typeof root.Bokeh === \"undefined\") {\n          if (error == null) {\n            return \"BokehJS is loading ...\";\n          } else {\n            return \"BokehJS failed to load.\";\n          }\n        } else {\n          const prefix = `BokehJS ${root.Bokeh.version}`;\n          if (error == null) {\n            return `${prefix} successfully loaded.`;\n          } else {\n            return `${prefix} <b>encountered errors</b> while loading and may not function as expected.`;\n          }\n        }\n      })();\n      el.innerHTML = html;\n\n      if (error != null) {\n        const wrapper = document.createElement(\"div\");\n        wrapper.style.overflow = \"auto\";\n        wrapper.style.height = \"5em\";\n        wrapper.style.resize = \"vertical\";\n        const content = document.createElement(\"div\");\n        content.style.fontFamily = \"monospace\";\n        content.style.whiteSpace = \"pre-wrap\";\n        content.style.backgroundColor = \"rgb(255, 221, 221)\";\n        content.textContent = error.stack ?? error.toString();\n        wrapper.append(content);\n        el.append(wrapper);\n      }\n    } else if (Date.now() < root._bokeh_timeout) {\n      setTimeout(() => display_loaded(error), 100);\n    }\n  }\n\n  function run_callbacks() {\n    try {\n      root._bokeh_onload_callbacks.forEach(function(callback) {\n        if (callback != null)\n          callback();\n      });\n    } finally {\n      delete root._bokeh_onload_callbacks\n    }\n    console.debug(\"Bokeh: all callbacks have finished\");\n  }\n\n  function load_libs(css_urls, js_urls, callback) {\n    if (css_urls == null) css_urls = [];\n    if (js_urls == null) js_urls = [];\n\n    root._bokeh_onload_callbacks.push(callback);\n    if (root._bokeh_is_loading > 0) {\n      console.debug(\"Bokeh: BokehJS is being loaded, scheduling callback at\", now());\n      return null;\n    }\n    if (js_urls == null || js_urls.length === 0) {\n      run_callbacks();\n      return null;\n    }\n    console.debug(\"Bokeh: BokehJS not loaded, scheduling load and callback at\", now());\n    root._bokeh_is_loading = css_urls.length + js_urls.length;\n\n    function on_load() {\n      root._bokeh_is_loading--;\n      if (root._bokeh_is_loading === 0) {\n        console.debug(\"Bokeh: all BokehJS libraries/stylesheets loaded\");\n        run_callbacks()\n      }\n    }\n\n    function on_error(url) {\n      console.error(\"failed to load \" + url);\n    }\n\n    for (let i = 0; i < css_urls.length; i++) {\n      const url = css_urls[i];\n      const element = document.createElement(\"link\");\n      element.onload = on_load;\n      element.onerror = on_error.bind(null, url);\n      element.rel = \"stylesheet\";\n      element.type = \"text/css\";\n      element.href = url;\n      console.debug(\"Bokeh: injecting link tag for BokehJS stylesheet: \", url);\n      document.body.appendChild(element);\n    }\n\n    for (let i = 0; i < js_urls.length; i++) {\n      const url = js_urls[i];\n      const element = document.createElement('script');\n      element.onload = on_load;\n      element.onerror = on_error.bind(null, url);\n      element.async = false;\n      element.src = url;\n      console.debug(\"Bokeh: injecting script tag for BokehJS library: \", url);\n      document.head.appendChild(element);\n    }\n  };\n\n  function inject_raw_css(css) {\n    const element = document.createElement(\"style\");\n    element.appendChild(document.createTextNode(css));\n    document.body.appendChild(element);\n  }\n\n  const js_urls = [\"https://cdn.bokeh.org/bokeh/release/bokeh-3.4.1.min.js\", \"https://cdn.bokeh.org/bokeh/release/bokeh-gl-3.4.1.min.js\", \"https://cdn.bokeh.org/bokeh/release/bokeh-widgets-3.4.1.min.js\", \"https://cdn.bokeh.org/bokeh/release/bokeh-tables-3.4.1.min.js\", \"https://cdn.bokeh.org/bokeh/release/bokeh-mathjax-3.4.1.min.js\"];\n  const css_urls = [];\n\n  const inline_js = [    function(Bokeh) {\n      Bokeh.set_log_level(\"info\");\n    },\nfunction(Bokeh) {\n    }\n  ];\n\n  function run_inline_js() {\n    if (root.Bokeh !== undefined || force === true) {\n      try {\n            for (let i = 0; i < inline_js.length; i++) {\n      inline_js[i].call(root, root.Bokeh);\n    }\n\n      } catch (error) {display_loaded(error);throw error;\n      }if (force === true) {\n        display_loaded();\n      }} else if (Date.now() < root._bokeh_timeout) {\n      setTimeout(run_inline_js, 100);\n    } else if (!root._bokeh_failed_load) {\n      console.log(\"Bokeh: BokehJS failed to load within specified timeout.\");\n      root._bokeh_failed_load = true;\n    } else if (force !== true) {\n      const cell = $(document.getElementById(\"eb0f97e7-54e9-477a-971e-f132d544c029\")).parents('.cell').data().cell;\n      cell.output_area.append_execute_result(NB_LOAD_WARNING)\n    }\n  }\n\n  if (root._bokeh_is_loading === 0) {\n    console.debug(\"Bokeh: BokehJS loaded, going straight to plotting\");\n    run_inline_js();\n  } else {\n    load_libs(css_urls, js_urls, function() {\n      console.debug(\"Bokeh: BokehJS plotting callback run at\", now());\n      run_inline_js();\n    });\n  }\n}(window));",
      "application/vnd.bokehjs_load.v0+json": ""
     },
     "metadata": {},
     "output_type": "display_data"
    },
    {
     "data": {
      "text/html": [
       "\n",
       "  <div id=\"a1bd00b2-a498-4f5b-9da1-d1b418c1cb28\" data-root-id=\"p1384\" style=\"display: contents;\"></div>\n"
      ]
     },
     "metadata": {},
     "output_type": "display_data"
    },
    {
     "data": {
      "application/javascript": "(function(root) {\n  function embed_document(root) {\n  const docs_json = {\"2e55bc31-4acb-4888-b316-8001d94b9a7a\":{\"version\":\"3.4.1\",\"title\":\"Bokeh Application\",\"roots\":[{\"type\":\"object\",\"name\":\"Figure\",\"id\":\"p1384\",\"attributes\":{\"x_range\":{\"type\":\"object\",\"name\":\"FactorRange\",\"id\":\"p1394\",\"attributes\":{\"factors\":[\"EN\",\"EX\",\"MI\",\"SE\"]}},\"y_range\":{\"type\":\"object\",\"name\":\"DataRange1d\",\"id\":\"p1386\",\"attributes\":{\"start\":0,\"end\":233572.3074829932}},\"x_scale\":{\"type\":\"object\",\"name\":\"CategoricalScale\",\"id\":\"p1395\"},\"y_scale\":{\"type\":\"object\",\"name\":\"LinearScale\",\"id\":\"p1396\"},\"title\":{\"type\":\"object\",\"name\":\"Title\",\"id\":\"p1387\",\"attributes\":{\"text\":\"Korelasi Pengalaman Kerja dengan Gaji\",\"text_font_size\":\"12pt\",\"align\":\"center\"}},\"renderers\":[{\"type\":\"object\",\"name\":\"GlyphRenderer\",\"id\":\"p1424\",\"attributes\":{\"data_source\":{\"type\":\"object\",\"name\":\"ColumnDataSource\",\"id\":\"p1381\",\"attributes\":{\"selected\":{\"type\":\"object\",\"name\":\"Selection\",\"id\":\"p1382\",\"attributes\":{\"indices\":[],\"line_indices\":[]}},\"selection_policy\":{\"type\":\"object\",\"name\":\"UnionRenderers\",\"id\":\"p1383\"},\"data\":{\"type\":\"map\",\"entries\":[[\"x\",{\"type\":\"ndarray\",\"array\":[\"EN\",\"EX\",\"MI\",\"SE\"],\"shape\":[4],\"dtype\":\"object\",\"order\":\"little\"}],[\"y\",{\"type\":\"ndarray\",\"array\":{\"type\":\"bytes\",\"data\":\"0Sow9jxO9kBKCXC3nMIHQQk+AzMsW/5AjfcVuhbyA0E=\"},\"shape\":[4],\"dtype\":\"float64\",\"order\":\"little\"}]]}}},\"view\":{\"type\":\"object\",\"name\":\"CDSView\",\"id\":\"p1425\",\"attributes\":{\"filter\":{\"type\":\"object\",\"name\":\"AllIndices\",\"id\":\"p1426\"}}},\"glyph\":{\"type\":\"object\",\"name\":\"VBar\",\"id\":\"p1421\",\"attributes\":{\"x\":{\"type\":\"field\",\"field\":\"x\"},\"width\":{\"type\":\"value\",\"value\":0.9},\"top\":{\"type\":\"field\",\"field\":\"y\"},\"line_color\":{\"type\":\"value\",\"value\":\"white\"},\"fill_color\":{\"type\":\"field\",\"field\":\"x\",\"transform\":{\"type\":\"object\",\"name\":\"CategoricalColorMapper\",\"id\":\"p1417\",\"attributes\":{\"palette\":[\"#390062\",\"#0cce35\",\"#8cd0a4\",\"#7d6277\"],\"factors\":{\"type\":\"ndarray\",\"array\":[\"EN\",\"EX\",\"MI\",\"SE\"],\"shape\":[4],\"dtype\":\"object\",\"order\":\"little\"}}}}}},\"nonselection_glyph\":{\"type\":\"object\",\"name\":\"VBar\",\"id\":\"p1422\",\"attributes\":{\"x\":{\"type\":\"field\",\"field\":\"x\"},\"width\":{\"type\":\"value\",\"value\":0.9},\"top\":{\"type\":\"field\",\"field\":\"y\"},\"line_color\":{\"type\":\"value\",\"value\":\"white\"},\"line_alpha\":{\"type\":\"value\",\"value\":0.1},\"fill_color\":{\"type\":\"field\",\"field\":\"x\",\"transform\":{\"id\":\"p1417\"}},\"fill_alpha\":{\"type\":\"value\",\"value\":0.1},\"hatch_alpha\":{\"type\":\"value\",\"value\":0.1}}},\"muted_glyph\":{\"type\":\"object\",\"name\":\"VBar\",\"id\":\"p1423\",\"attributes\":{\"x\":{\"type\":\"field\",\"field\":\"x\"},\"width\":{\"type\":\"value\",\"value\":0.9},\"top\":{\"type\":\"field\",\"field\":\"y\"},\"line_color\":{\"type\":\"value\",\"value\":\"white\"},\"line_alpha\":{\"type\":\"value\",\"value\":0.2},\"fill_color\":{\"type\":\"field\",\"field\":\"x\",\"transform\":{\"id\":\"p1417\"}},\"fill_alpha\":{\"type\":\"value\",\"value\":0.2},\"hatch_alpha\":{\"type\":\"value\",\"value\":0.2}}}}}],\"toolbar\":{\"type\":\"object\",\"name\":\"Toolbar\",\"id\":\"p1393\",\"attributes\":{\"tools\":[{\"type\":\"object\",\"name\":\"PanTool\",\"id\":\"p1407\"},{\"type\":\"object\",\"name\":\"BoxZoomTool\",\"id\":\"p1408\",\"attributes\":{\"overlay\":{\"type\":\"object\",\"name\":\"BoxAnnotation\",\"id\":\"p1409\",\"attributes\":{\"syncable\":false,\"level\":\"overlay\",\"visible\":false,\"left\":{\"type\":\"number\",\"value\":\"nan\"},\"right\":{\"type\":\"number\",\"value\":\"nan\"},\"top\":{\"type\":\"number\",\"value\":\"nan\"},\"bottom\":{\"type\":\"number\",\"value\":\"nan\"},\"left_units\":\"canvas\",\"right_units\":\"canvas\",\"top_units\":\"canvas\",\"bottom_units\":\"canvas\",\"line_color\":\"black\",\"line_alpha\":1.0,\"line_width\":2,\"line_dash\":[4,4],\"fill_color\":\"lightgrey\",\"fill_alpha\":0.5}}}},{\"type\":\"object\",\"name\":\"WheelZoomTool\",\"id\":\"p1414\",\"attributes\":{\"renderers\":\"auto\"}},{\"type\":\"object\",\"name\":\"ResetTool\",\"id\":\"p1415\"},{\"type\":\"object\",\"name\":\"SaveTool\",\"id\":\"p1416\"},{\"type\":\"object\",\"name\":\"HoverTool\",\"id\":\"p1429\",\"attributes\":{\"renderers\":\"auto\",\"tooltips\":[[\"Kategori\",\"@x\"],[\"Jumlah\",\"@y{0,0}\"]]}}]}},\"toolbar_location\":\"below\",\"left\":[{\"type\":\"object\",\"name\":\"LinearAxis\",\"id\":\"p1402\",\"attributes\":{\"ticker\":{\"type\":\"object\",\"name\":\"BasicTicker\",\"id\":\"p1403\",\"attributes\":{\"mantissas\":[1,2,5]}},\"formatter\":{\"type\":\"object\",\"name\":\"NumeralTickFormatter\",\"id\":\"p1430\"},\"axis_label\":\"Gaji\",\"axis_label_text_font_style\":\"bold\",\"major_label_policy\":{\"type\":\"object\",\"name\":\"AllLabels\",\"id\":\"p1405\"},\"major_label_text_font_style\":\"bold\",\"axis_line_width\":1.1}}],\"below\":[{\"type\":\"object\",\"name\":\"CategoricalAxis\",\"id\":\"p1397\",\"attributes\":{\"ticker\":{\"type\":\"object\",\"name\":\"CategoricalTicker\",\"id\":\"p1398\"},\"formatter\":{\"type\":\"object\",\"name\":\"CategoricalTickFormatter\",\"id\":\"p1399\"},\"axis_label\":\"Pengalaman Kerja\",\"axis_label_text_font_style\":\"bold\",\"major_label_orientation\":1,\"major_label_policy\":{\"type\":\"object\",\"name\":\"AllLabels\",\"id\":\"p1400\"},\"major_label_text_font_style\":\"bold\",\"axis_line_width\":1.1}}],\"center\":[{\"type\":\"object\",\"name\":\"Grid\",\"id\":\"p1401\",\"attributes\":{\"axis\":{\"id\":\"p1397\"},\"grid_line_color\":null}},{\"type\":\"object\",\"name\":\"Grid\",\"id\":\"p1406\",\"attributes\":{\"dimension\":1,\"axis\":{\"id\":\"p1402\"}}},{\"type\":\"object\",\"name\":\"Legend\",\"id\":\"p1427\",\"attributes\":{\"location\":\"top_center\",\"orientation\":\"horizontal\",\"spacing\":10,\"items\":[{\"type\":\"object\",\"name\":\"LegendItem\",\"id\":\"p1428\",\"attributes\":{\"label\":{\"type\":\"field\",\"field\":\"x\"},\"renderers\":[{\"id\":\"p1424\"}]}}]}}]}}]}};\n  const render_items = [{\"docid\":\"2e55bc31-4acb-4888-b316-8001d94b9a7a\",\"roots\":{\"p1384\":\"a1bd00b2-a498-4f5b-9da1-d1b418c1cb28\"},\"root_ids\":[\"p1384\"]}];\n  void root.Bokeh.embed.embed_items_notebook(docs_json, render_items);\n  }\n  if (root.Bokeh !== undefined) {\n    embed_document(root);\n  } else {\n    let attempts = 0;\n    const timer = setInterval(function(root) {\n      if (root.Bokeh !== undefined) {\n        clearInterval(timer);\n        embed_document(root);\n      } else {\n        attempts++;\n        if (attempts > 100) {\n          clearInterval(timer);\n          console.log(\"Bokeh: ERROR: Unable to run BokehJS code because BokehJS library is missing\");\n        }\n      }\n    }, 10, root)\n  }\n})(window);",
      "application/vnd.bokehjs_exec.v0+json": ""
     },
     "metadata": {
      "application/vnd.bokehjs_exec.v0+json": {
       "id": "p1384"
      }
     },
     "output_type": "display_data"
    }
   ],
   "source": [
    "# # Menghitung rata-rata gaji untuk setiap tahun\n",
    "avg_salaries_experience = df.groupby('experience_level')['salary_in_usd'].mean().reset_index()\n",
    "plot_bar_2_column(avg_salaries_experience, 'experience_level', 'salary_in_usd', title=\"Korelasi Pengalaman Kerja dengan Gaji\", x_label=\"Pengalaman Kerja\", y_label=\"Gaji\")"
   ]
  },
  {
   "cell_type": "code",
   "execution_count": 52,
   "metadata": {},
   "outputs": [
    {
     "name": "stdout",
     "output_type": "stream",
     "text": [
      "tau-correlation: 0.26, p-value: 0.0\n"
     ]
    }
   ],
   "source": [
    "# Menampilkan Bentuk Korelasi\n",
    "corr_tau, pval_k = stats.kendalltau(df['experience_level'], df['salary_in_usd'])\n",
    "print(f\"tau-correlation: {corr_tau:.2f}, p-value: {pval_k}\")"
   ]
  },
  {
   "cell_type": "markdown",
   "metadata": {},
   "source": [
    "***Insight :***\n",
    "\n",
    "Hasil pengujian menunjukkan nilai tau-korelasi sebesar 0.26 dan nilai p sebesar 0.0. Berikut adalah penjelasannya:\n",
    "\n",
    "- Nilai tau-korelasi (0.26): Nilai ini menunjukkan tingkat kekuatan dan arah hubungan antara dua variabel ordinal (seperti pengalaman kerja dan gaji). Dalam hal ini, nilai tau-korelasi sebesar 0.26 menunjukkan korelasi yang moderat antara pengalaman kerja dan gaji. Artinya, terdapat hubungan yang signifikan antara pengalaman kerja dengan pertumbuhan gaji, meskipun kekuatannya tidak sangat kuat.\n",
    "\n",
    "- Nilai p (0.0): Nilai p yang sangat kecil menunjukkan bahwa hasil pengujian statistik ini sangat signifikan secara statistik. Dalam konteks hipotesis yang diajukan, nilai p yang sangat kecil ini memungkinkan kita untuk menolak hipotesis nol (H0) yang menyatakan tidak terdapat korelasi antara pengalaman kerja dengan pertumbuhan gaji.\n",
    "\n",
    "Berdasarkan hasil ini, kita dapat menyimpulkan bahwa terdapat hubungan yang moderat antara pengalaman kerja dan pertumbuhan gaji dalam industri ini. Dengan demikian, pengalaman kerja dapat menjadi faktor yang berpengaruh dalam menentukan tingkat gaji seseorang di bidang ini. Berikut adalah beberapa penjelasan yang mungkin terkait dengan temuan ini:\n",
    "\n",
    "- Nilai Peningkatan Gaji seiring dengan Pengalaman Kerja: Adanya korelasi positif antara pengalaman kerja dan gaji menunjukkan bahwa semakin lama seseorang bekerja di industri data, semakin tinggi kemungkinan mereka mendapatkan gaji yang lebih tinggi. Ini bisa terjadi karena pengalaman kerja biasanya dihubungkan dengan tingkat keahlian dan kontribusi yang lebih besar terhadap perusahaan, yang pada akhirnya dapat menghasilkan pengakuan dan kompensasi yang lebih tinggi.\n",
    "\n",
    "- Penilaian Terhadap Keterampilan dan Kontribusi: Perusahaan mungkin cenderung memberikan kompensasi yang lebih tinggi kepada karyawan yang memiliki pengalaman kerja yang lebih lama karena mereka dianggap memiliki keterampilan dan pengetahuan yang lebih mendalam dalam analisis data, penggunaan alat-alat analisis, dan pemecahan masalah yang kompleks. Pengalaman juga dapat dianggap sebagai indikator potensi bagi karyawan untuk memberikan dampak yang lebih besar pada kesuksesan perusahaan.\n",
    "\n",
    "- Pasar Kerja yang Bersaing: Dalam industri yang kompetitif seperti `Data Science`, permintaan akan profesional yang berpengalaman terus meningkat. Karyawan yang memiliki pengalaman kerja yang solid dalam berbagai proyek dan teknologi mungkin lebih diminati oleh perusahaan-perusahaan yang mencari keunggulan kompetitif dalam analisis data dan pengambilan keputusan berbasis data.\n",
    "\n",
    "---"
   ]
  },
  {
   "cell_type": "markdown",
   "metadata": {},
   "source": [
    "#### **Hubungan Lokasi Pekerjaan dengan Gaji**\n",
    "\n",
    "---"
   ]
  },
  {
   "cell_type": "markdown",
   "metadata": {},
   "source": [
    "Untuk menguji apakah terdapat pengaruh hubungan pengalaman kerja dengan gaji, hipotesis berikut akan diuji:\n",
    "\n",
    "- H0: Tidak terdapat korelasi antara hubungan lokasi pekerjaan dengan pertumbuhan gaji.\n",
    "\n",
    "- H1: Terdapat korelasi antara hubungan lokasi pekerjaan dengan pertumbuhan gaji.\n",
    "\n",
    "---"
   ]
  },
  {
   "cell_type": "code",
   "execution_count": 53,
   "metadata": {},
   "outputs": [
    {
     "data": {
      "text/html": [
       "<div>\n",
       "<style scoped>\n",
       "    .dataframe tbody tr th:only-of-type {\n",
       "        vertical-align: middle;\n",
       "    }\n",
       "\n",
       "    .dataframe tbody tr th {\n",
       "        vertical-align: top;\n",
       "    }\n",
       "\n",
       "    .dataframe thead th {\n",
       "        text-align: right;\n",
       "    }\n",
       "</style>\n",
       "<table border=\"1\" class=\"dataframe\">\n",
       "  <thead>\n",
       "    <tr style=\"text-align: right;\">\n",
       "      <th></th>\n",
       "      <th>company_location</th>\n",
       "      <th>salary_in_usd</th>\n",
       "    </tr>\n",
       "  </thead>\n",
       "  <tbody>\n",
       "    <tr>\n",
       "      <th>0</th>\n",
       "      <td>QA</td>\n",
       "      <td>300000.000000</td>\n",
       "    </tr>\n",
       "    <tr>\n",
       "      <th>1</th>\n",
       "      <td>IL</td>\n",
       "      <td>217332.000000</td>\n",
       "    </tr>\n",
       "    <tr>\n",
       "      <th>2</th>\n",
       "      <td>PR</td>\n",
       "      <td>167500.000000</td>\n",
       "    </tr>\n",
       "    <tr>\n",
       "      <th>3</th>\n",
       "      <td>US</td>\n",
       "      <td>156919.428979</td>\n",
       "    </tr>\n",
       "    <tr>\n",
       "      <th>4</th>\n",
       "      <td>NZ</td>\n",
       "      <td>147681.666667</td>\n",
       "    </tr>\n",
       "  </tbody>\n",
       "</table>\n",
       "</div>"
      ],
      "text/plain": [
       "  company_location  salary_in_usd\n",
       "0               QA  300000.000000\n",
       "1               IL  217332.000000\n",
       "2               PR  167500.000000\n",
       "3               US  156919.428979\n",
       "4               NZ  147681.666667"
      ]
     },
     "execution_count": 53,
     "metadata": {},
     "output_type": "execute_result"
    }
   ],
   "source": [
    "# Misalkan df adalah DataFrame Anda\n",
    "# Menghitung rata-rata gaji untuk setiap lokasi perusahaan\n",
    "avg_salaries = df.groupby('company_location')['salary_in_usd'].mean().reset_index()\n",
    "\n",
    "# Mengurutkan data berdasarkan nilai rata-rata gaji\n",
    "avg_salaries_sorted = avg_salaries.sort_values(by='salary_in_usd', ascending=False)\n",
    "\n",
    "# Memilih 5 baris terbesar\n",
    "top_5_salaries = avg_salaries_sorted.head(5).reset_index(drop=True)\n",
    "\n",
    "# Menghapus baris lainnya (menghapus semua kolom kecuali 5 terbesar)\n",
    "# Dalam konteks ini, kita hanya menyimpan top_5_salaries\n",
    "top_5_salaries"
   ]
  },
  {
   "cell_type": "code",
   "execution_count": 54,
   "metadata": {},
   "outputs": [
    {
     "data": {
      "text/html": [
       "    <style>\n",
       "        .bk-notebook-logo {\n",
       "            display: block;\n",
       "            width: 20px;\n",
       "            height: 20px;\n",
       "            background-image: url(data:image/png;base64,iVBORw0KGgoAAAANSUhEUgAAABQAAAAUCAYAAACNiR0NAAAABHNCSVQICAgIfAhkiAAAAAlwSFlzAAALEgAACxIB0t1+/AAAABx0RVh0U29mdHdhcmUAQWRvYmUgRmlyZXdvcmtzIENTNui8sowAAAOkSURBVDiNjZRtaJVlGMd/1/08zzln5zjP1LWcU9N0NkN8m2CYjpgQYQXqSs0I84OLIC0hkEKoPtiH3gmKoiJDU7QpLgoLjLIQCpEsNJ1vqUOdO7ppbuec5+V+rj4ctwzd8IIbbi6u+8f1539dt3A78eXC7QizUF7gyV1fD1Yqg4JWz84yffhm0qkFqBogB9rM8tZdtwVsPUhWhGcFJngGeWrPzHm5oaMmkfEg1usvLFyc8jLRqDOMru7AyC8saQr7GG7f5fvDeH7Ej8CM66nIF+8yngt6HWaKh7k49Soy9nXurCi1o3qUbS3zWfrYeQDTB/Qj6kX6Ybhw4B+bOYoLKCC9H3Nu/leUTZ1JdRWkkn2ldcCamzrcf47KKXdAJllSlxAOkRgyHsGC/zRday5Qld9DyoM4/q/rUoy/CXh3jzOu3bHUVZeU+DEn8FInkPBFlu3+nW3Nw0mk6vCDiWg8CeJaxEwuHS3+z5RgY+YBR6V1Z1nxSOfoaPa4LASWxxdNp+VWTk7+4vzaou8v8PN+xo+KY2xsw6une2frhw05CTYOmQvsEhjhWjn0bmXPjpE1+kplmmkP3suftwTubK9Vq22qKmrBhpY4jvd5afdRA3wGjFAgcnTK2s4hY0/GPNIb0nErGMCRxWOOX64Z8RAC4oCXdklmEvcL8o0BfkNK4lUg9HTl+oPlQxdNo3Mg4Nv175e/1LDGzZen30MEjRUtmXSfiTVu1kK8W4txyV6BMKlbgk3lMwYCiusNy9fVfvvwMxv8Ynl6vxoByANLTWplvuj/nF9m2+PDtt1eiHPBr1oIfhCChQMBw6Aw0UulqTKZdfVvfG7VcfIqLG9bcldL/+pdWTLxLUy8Qq38heUIjh4XlzZxzQm19lLFlr8vdQ97rjZVOLf8nclzckbcD4wxXMidpX30sFd37Fv/GtwwhzhxGVAprjbg0gCAEeIgwCZyTV2Z1REEW8O4py0wsjeloKoMr6iCY6dP92H6Vw/oTyICIthibxjm/DfN9lVz8IqtqKYLUXfoKVMVQVVJOElGjrnnUt9T9wbgp8AyYKaGlqingHZU/uG2NTZSVqwHQTWkx9hxjkpWDaCg6Ckj5qebgBVbT3V3NNXMSiWSDdGV3hrtzla7J+duwPOToIg42ChPQOQjspnSlp1V+Gjdged7+8UN5CRAV7a5EdFNwCjEaBR27b3W890TE7g24NAP/mMDXRWrGoFPQI9ls/MWO2dWFAar/xcOIImbbpA3zgAAAABJRU5ErkJggg==);\n",
       "        }\n",
       "    </style>\n",
       "    <div>\n",
       "        <a href=\"https://bokeh.org\" target=\"_blank\" class=\"bk-notebook-logo\"></a>\n",
       "        <span id=\"dd7ec27e-8d81-4429-be9c-287fc8ef7de3\">Loading BokehJS ...</span>\n",
       "    </div>\n"
      ]
     },
     "metadata": {},
     "output_type": "display_data"
    },
    {
     "data": {
      "application/javascript": "'use strict';\n(function(root) {\n  function now() {\n    return new Date();\n  }\n\n  const force = true;\n\n  if (typeof root._bokeh_onload_callbacks === \"undefined\" || force === true) {\n    root._bokeh_onload_callbacks = [];\n    root._bokeh_is_loading = undefined;\n  }\n\nconst JS_MIME_TYPE = 'application/javascript';\n  const HTML_MIME_TYPE = 'text/html';\n  const EXEC_MIME_TYPE = 'application/vnd.bokehjs_exec.v0+json';\n  const CLASS_NAME = 'output_bokeh rendered_html';\n\n  /**\n   * Render data to the DOM node\n   */\n  function render(props, node) {\n    const script = document.createElement(\"script\");\n    node.appendChild(script);\n  }\n\n  /**\n   * Handle when an output is cleared or removed\n   */\n  function handleClearOutput(event, handle) {\n    function drop(id) {\n      const view = Bokeh.index.get_by_id(id)\n      if (view != null) {\n        view.model.document.clear()\n        Bokeh.index.delete(view)\n      }\n    }\n\n    const cell = handle.cell;\n\n    const id = cell.output_area._bokeh_element_id;\n    const server_id = cell.output_area._bokeh_server_id;\n\n    // Clean up Bokeh references\n    if (id != null) {\n      drop(id)\n    }\n\n    if (server_id !== undefined) {\n      // Clean up Bokeh references\n      const cmd_clean = \"from bokeh.io.state import curstate; print(curstate().uuid_to_server['\" + server_id + \"'].get_sessions()[0].document.roots[0]._id)\";\n      cell.notebook.kernel.execute(cmd_clean, {\n        iopub: {\n          output: function(msg) {\n            const id = msg.content.text.trim()\n            drop(id)\n          }\n        }\n      });\n      // Destroy server and session\n      const cmd_destroy = \"import bokeh.io.notebook as ion; ion.destroy_server('\" + server_id + \"')\";\n      cell.notebook.kernel.execute(cmd_destroy);\n    }\n  }\n\n  /**\n   * Handle when a new output is added\n   */\n  function handleAddOutput(event, handle) {\n    const output_area = handle.output_area;\n    const output = handle.output;\n\n    // limit handleAddOutput to display_data with EXEC_MIME_TYPE content only\n    if ((output.output_type != \"display_data\") || (!Object.prototype.hasOwnProperty.call(output.data, EXEC_MIME_TYPE))) {\n      return\n    }\n\n    const toinsert = output_area.element.find(\".\" + CLASS_NAME.split(' ')[0]);\n\n    if (output.metadata[EXEC_MIME_TYPE][\"id\"] !== undefined) {\n      toinsert[toinsert.length - 1].firstChild.textContent = output.data[JS_MIME_TYPE];\n      // store reference to embed id on output_area\n      output_area._bokeh_element_id = output.metadata[EXEC_MIME_TYPE][\"id\"];\n    }\n    if (output.metadata[EXEC_MIME_TYPE][\"server_id\"] !== undefined) {\n      const bk_div = document.createElement(\"div\");\n      bk_div.innerHTML = output.data[HTML_MIME_TYPE];\n      const script_attrs = bk_div.children[0].attributes;\n      for (let i = 0; i < script_attrs.length; i++) {\n        toinsert[toinsert.length - 1].firstChild.setAttribute(script_attrs[i].name, script_attrs[i].value);\n        toinsert[toinsert.length - 1].firstChild.textContent = bk_div.children[0].textContent\n      }\n      // store reference to server id on output_area\n      output_area._bokeh_server_id = output.metadata[EXEC_MIME_TYPE][\"server_id\"];\n    }\n  }\n\n  function register_renderer(events, OutputArea) {\n\n    function append_mime(data, metadata, element) {\n      // create a DOM node to render to\n      const toinsert = this.create_output_subarea(\n        metadata,\n        CLASS_NAME,\n        EXEC_MIME_TYPE\n      );\n      this.keyboard_manager.register_events(toinsert);\n      // Render to node\n      const props = {data: data, metadata: metadata[EXEC_MIME_TYPE]};\n      render(props, toinsert[toinsert.length - 1]);\n      element.append(toinsert);\n      return toinsert\n    }\n\n    /* Handle when an output is cleared or removed */\n    events.on('clear_output.CodeCell', handleClearOutput);\n    events.on('delete.Cell', handleClearOutput);\n\n    /* Handle when a new output is added */\n    events.on('output_added.OutputArea', handleAddOutput);\n\n    /**\n     * Register the mime type and append_mime function with output_area\n     */\n    OutputArea.prototype.register_mime_type(EXEC_MIME_TYPE, append_mime, {\n      /* Is output safe? */\n      safe: true,\n      /* Index of renderer in `output_area.display_order` */\n      index: 0\n    });\n  }\n\n  // register the mime type if in Jupyter Notebook environment and previously unregistered\n  if (root.Jupyter !== undefined) {\n    const events = require('base/js/events');\n    const OutputArea = require('notebook/js/outputarea').OutputArea;\n\n    if (OutputArea.prototype.mime_types().indexOf(EXEC_MIME_TYPE) == -1) {\n      register_renderer(events, OutputArea);\n    }\n  }\n  if (typeof (root._bokeh_timeout) === \"undefined\" || force === true) {\n    root._bokeh_timeout = Date.now() + 5000;\n    root._bokeh_failed_load = false;\n  }\n\n  const NB_LOAD_WARNING = {'data': {'text/html':\n     \"<div style='background-color: #fdd'>\\n\"+\n     \"<p>\\n\"+\n     \"BokehJS does not appear to have successfully loaded. If loading BokehJS from CDN, this \\n\"+\n     \"may be due to a slow or bad network connection. Possible fixes:\\n\"+\n     \"</p>\\n\"+\n     \"<ul>\\n\"+\n     \"<li>re-rerun `output_notebook()` to attempt to load from CDN again, or</li>\\n\"+\n     \"<li>use INLINE resources instead, as so:</li>\\n\"+\n     \"</ul>\\n\"+\n     \"<code>\\n\"+\n     \"from bokeh.resources import INLINE\\n\"+\n     \"output_notebook(resources=INLINE)\\n\"+\n     \"</code>\\n\"+\n     \"</div>\"}};\n\n  function display_loaded(error = null) {\n    const el = document.getElementById(\"dd7ec27e-8d81-4429-be9c-287fc8ef7de3\");\n    if (el != null) {\n      const html = (() => {\n        if (typeof root.Bokeh === \"undefined\") {\n          if (error == null) {\n            return \"BokehJS is loading ...\";\n          } else {\n            return \"BokehJS failed to load.\";\n          }\n        } else {\n          const prefix = `BokehJS ${root.Bokeh.version}`;\n          if (error == null) {\n            return `${prefix} successfully loaded.`;\n          } else {\n            return `${prefix} <b>encountered errors</b> while loading and may not function as expected.`;\n          }\n        }\n      })();\n      el.innerHTML = html;\n\n      if (error != null) {\n        const wrapper = document.createElement(\"div\");\n        wrapper.style.overflow = \"auto\";\n        wrapper.style.height = \"5em\";\n        wrapper.style.resize = \"vertical\";\n        const content = document.createElement(\"div\");\n        content.style.fontFamily = \"monospace\";\n        content.style.whiteSpace = \"pre-wrap\";\n        content.style.backgroundColor = \"rgb(255, 221, 221)\";\n        content.textContent = error.stack ?? error.toString();\n        wrapper.append(content);\n        el.append(wrapper);\n      }\n    } else if (Date.now() < root._bokeh_timeout) {\n      setTimeout(() => display_loaded(error), 100);\n    }\n  }\n\n  function run_callbacks() {\n    try {\n      root._bokeh_onload_callbacks.forEach(function(callback) {\n        if (callback != null)\n          callback();\n      });\n    } finally {\n      delete root._bokeh_onload_callbacks\n    }\n    console.debug(\"Bokeh: all callbacks have finished\");\n  }\n\n  function load_libs(css_urls, js_urls, callback) {\n    if (css_urls == null) css_urls = [];\n    if (js_urls == null) js_urls = [];\n\n    root._bokeh_onload_callbacks.push(callback);\n    if (root._bokeh_is_loading > 0) {\n      console.debug(\"Bokeh: BokehJS is being loaded, scheduling callback at\", now());\n      return null;\n    }\n    if (js_urls == null || js_urls.length === 0) {\n      run_callbacks();\n      return null;\n    }\n    console.debug(\"Bokeh: BokehJS not loaded, scheduling load and callback at\", now());\n    root._bokeh_is_loading = css_urls.length + js_urls.length;\n\n    function on_load() {\n      root._bokeh_is_loading--;\n      if (root._bokeh_is_loading === 0) {\n        console.debug(\"Bokeh: all BokehJS libraries/stylesheets loaded\");\n        run_callbacks()\n      }\n    }\n\n    function on_error(url) {\n      console.error(\"failed to load \" + url);\n    }\n\n    for (let i = 0; i < css_urls.length; i++) {\n      const url = css_urls[i];\n      const element = document.createElement(\"link\");\n      element.onload = on_load;\n      element.onerror = on_error.bind(null, url);\n      element.rel = \"stylesheet\";\n      element.type = \"text/css\";\n      element.href = url;\n      console.debug(\"Bokeh: injecting link tag for BokehJS stylesheet: \", url);\n      document.body.appendChild(element);\n    }\n\n    for (let i = 0; i < js_urls.length; i++) {\n      const url = js_urls[i];\n      const element = document.createElement('script');\n      element.onload = on_load;\n      element.onerror = on_error.bind(null, url);\n      element.async = false;\n      element.src = url;\n      console.debug(\"Bokeh: injecting script tag for BokehJS library: \", url);\n      document.head.appendChild(element);\n    }\n  };\n\n  function inject_raw_css(css) {\n    const element = document.createElement(\"style\");\n    element.appendChild(document.createTextNode(css));\n    document.body.appendChild(element);\n  }\n\n  const js_urls = [\"https://cdn.bokeh.org/bokeh/release/bokeh-3.4.1.min.js\", \"https://cdn.bokeh.org/bokeh/release/bokeh-gl-3.4.1.min.js\", \"https://cdn.bokeh.org/bokeh/release/bokeh-widgets-3.4.1.min.js\", \"https://cdn.bokeh.org/bokeh/release/bokeh-tables-3.4.1.min.js\", \"https://cdn.bokeh.org/bokeh/release/bokeh-mathjax-3.4.1.min.js\"];\n  const css_urls = [];\n\n  const inline_js = [    function(Bokeh) {\n      Bokeh.set_log_level(\"info\");\n    },\nfunction(Bokeh) {\n    }\n  ];\n\n  function run_inline_js() {\n    if (root.Bokeh !== undefined || force === true) {\n      try {\n            for (let i = 0; i < inline_js.length; i++) {\n      inline_js[i].call(root, root.Bokeh);\n    }\n\n      } catch (error) {display_loaded(error);throw error;\n      }if (force === true) {\n        display_loaded();\n      }} else if (Date.now() < root._bokeh_timeout) {\n      setTimeout(run_inline_js, 100);\n    } else if (!root._bokeh_failed_load) {\n      console.log(\"Bokeh: BokehJS failed to load within specified timeout.\");\n      root._bokeh_failed_load = true;\n    } else if (force !== true) {\n      const cell = $(document.getElementById(\"dd7ec27e-8d81-4429-be9c-287fc8ef7de3\")).parents('.cell').data().cell;\n      cell.output_area.append_execute_result(NB_LOAD_WARNING)\n    }\n  }\n\n  if (root._bokeh_is_loading === 0) {\n    console.debug(\"Bokeh: BokehJS loaded, going straight to plotting\");\n    run_inline_js();\n  } else {\n    load_libs(css_urls, js_urls, function() {\n      console.debug(\"Bokeh: BokehJS plotting callback run at\", now());\n      run_inline_js();\n    });\n  }\n}(window));",
      "application/vnd.bokehjs_load.v0+json": ""
     },
     "metadata": {},
     "output_type": "display_data"
    },
    {
     "data": {
      "text/html": [
       "\n",
       "  <div id=\"a4fd325a-13d8-4a0d-a5ee-efd255d3c98b\" data-root-id=\"p1435\" style=\"display: contents;\"></div>\n"
      ]
     },
     "metadata": {},
     "output_type": "display_data"
    },
    {
     "data": {
      "application/javascript": "(function(root) {\n  function embed_document(root) {\n  const docs_json = {\"693498cf-8aee-4fb9-b84b-f47753f0b9c7\":{\"version\":\"3.4.1\",\"title\":\"Bokeh Application\",\"roots\":[{\"type\":\"object\",\"name\":\"Figure\",\"id\":\"p1435\",\"attributes\":{\"x_range\":{\"type\":\"object\",\"name\":\"FactorRange\",\"id\":\"p1445\",\"attributes\":{\"factors\":[\"QA\",\"IL\",\"PR\",\"US\",\"NZ\"]}},\"y_range\":{\"type\":\"object\",\"name\":\"DataRange1d\",\"id\":\"p1437\",\"attributes\":{\"start\":0,\"end\":360000.0}},\"x_scale\":{\"type\":\"object\",\"name\":\"CategoricalScale\",\"id\":\"p1446\"},\"y_scale\":{\"type\":\"object\",\"name\":\"LinearScale\",\"id\":\"p1447\"},\"title\":{\"type\":\"object\",\"name\":\"Title\",\"id\":\"p1438\",\"attributes\":{\"text\":\"Korelasi Lokasi Pekerjaan dengan Gaji\",\"text_font_size\":\"12pt\",\"align\":\"center\"}},\"renderers\":[{\"type\":\"object\",\"name\":\"GlyphRenderer\",\"id\":\"p1475\",\"attributes\":{\"data_source\":{\"type\":\"object\",\"name\":\"ColumnDataSource\",\"id\":\"p1432\",\"attributes\":{\"selected\":{\"type\":\"object\",\"name\":\"Selection\",\"id\":\"p1433\",\"attributes\":{\"indices\":[],\"line_indices\":[]}},\"selection_policy\":{\"type\":\"object\",\"name\":\"UnionRenderers\",\"id\":\"p1434\"},\"data\":{\"type\":\"map\",\"entries\":[[\"x\",{\"type\":\"ndarray\",\"array\":[\"QA\",\"IL\",\"PR\",\"US\",\"NZ\"],\"shape\":[5],\"dtype\":\"object\",\"order\":\"little\"}],[\"y\",{\"type\":\"ndarray\",\"array\":{\"type\":\"bytes\",\"data\":\"AAAAAIBPEkEAAAAAoIcKQQAAAABgcgRBn3CMbrsnA0FVVVVVDQcCQQ==\"},\"shape\":[5],\"dtype\":\"float64\",\"order\":\"little\"}]]}}},\"view\":{\"type\":\"object\",\"name\":\"CDSView\",\"id\":\"p1476\",\"attributes\":{\"filter\":{\"type\":\"object\",\"name\":\"AllIndices\",\"id\":\"p1477\"}}},\"glyph\":{\"type\":\"object\",\"name\":\"VBar\",\"id\":\"p1472\",\"attributes\":{\"x\":{\"type\":\"field\",\"field\":\"x\"},\"width\":{\"type\":\"value\",\"value\":0.9},\"top\":{\"type\":\"field\",\"field\":\"y\"},\"line_color\":{\"type\":\"value\",\"value\":\"white\"},\"fill_color\":{\"type\":\"field\",\"field\":\"x\",\"transform\":{\"type\":\"object\",\"name\":\"CategoricalColorMapper\",\"id\":\"p1468\",\"attributes\":{\"palette\":[\"#390062\",\"#0cce35\",\"#8cd0a4\",\"#7d6277\",\"#7248ad\"],\"factors\":{\"type\":\"ndarray\",\"array\":[\"QA\",\"IL\",\"PR\",\"US\",\"NZ\"],\"shape\":[5],\"dtype\":\"object\",\"order\":\"little\"}}}}}},\"nonselection_glyph\":{\"type\":\"object\",\"name\":\"VBar\",\"id\":\"p1473\",\"attributes\":{\"x\":{\"type\":\"field\",\"field\":\"x\"},\"width\":{\"type\":\"value\",\"value\":0.9},\"top\":{\"type\":\"field\",\"field\":\"y\"},\"line_color\":{\"type\":\"value\",\"value\":\"white\"},\"line_alpha\":{\"type\":\"value\",\"value\":0.1},\"fill_color\":{\"type\":\"field\",\"field\":\"x\",\"transform\":{\"id\":\"p1468\"}},\"fill_alpha\":{\"type\":\"value\",\"value\":0.1},\"hatch_alpha\":{\"type\":\"value\",\"value\":0.1}}},\"muted_glyph\":{\"type\":\"object\",\"name\":\"VBar\",\"id\":\"p1474\",\"attributes\":{\"x\":{\"type\":\"field\",\"field\":\"x\"},\"width\":{\"type\":\"value\",\"value\":0.9},\"top\":{\"type\":\"field\",\"field\":\"y\"},\"line_color\":{\"type\":\"value\",\"value\":\"white\"},\"line_alpha\":{\"type\":\"value\",\"value\":0.2},\"fill_color\":{\"type\":\"field\",\"field\":\"x\",\"transform\":{\"id\":\"p1468\"}},\"fill_alpha\":{\"type\":\"value\",\"value\":0.2},\"hatch_alpha\":{\"type\":\"value\",\"value\":0.2}}}}}],\"toolbar\":{\"type\":\"object\",\"name\":\"Toolbar\",\"id\":\"p1444\",\"attributes\":{\"tools\":[{\"type\":\"object\",\"name\":\"PanTool\",\"id\":\"p1458\"},{\"type\":\"object\",\"name\":\"BoxZoomTool\",\"id\":\"p1459\",\"attributes\":{\"overlay\":{\"type\":\"object\",\"name\":\"BoxAnnotation\",\"id\":\"p1460\",\"attributes\":{\"syncable\":false,\"level\":\"overlay\",\"visible\":false,\"left\":{\"type\":\"number\",\"value\":\"nan\"},\"right\":{\"type\":\"number\",\"value\":\"nan\"},\"top\":{\"type\":\"number\",\"value\":\"nan\"},\"bottom\":{\"type\":\"number\",\"value\":\"nan\"},\"left_units\":\"canvas\",\"right_units\":\"canvas\",\"top_units\":\"canvas\",\"bottom_units\":\"canvas\",\"line_color\":\"black\",\"line_alpha\":1.0,\"line_width\":2,\"line_dash\":[4,4],\"fill_color\":\"lightgrey\",\"fill_alpha\":0.5}}}},{\"type\":\"object\",\"name\":\"WheelZoomTool\",\"id\":\"p1465\",\"attributes\":{\"renderers\":\"auto\"}},{\"type\":\"object\",\"name\":\"ResetTool\",\"id\":\"p1466\"},{\"type\":\"object\",\"name\":\"SaveTool\",\"id\":\"p1467\"},{\"type\":\"object\",\"name\":\"HoverTool\",\"id\":\"p1480\",\"attributes\":{\"renderers\":\"auto\",\"tooltips\":[[\"Kategori\",\"@x\"],[\"Jumlah\",\"@y{0,0}\"]]}}]}},\"toolbar_location\":\"below\",\"left\":[{\"type\":\"object\",\"name\":\"LinearAxis\",\"id\":\"p1453\",\"attributes\":{\"ticker\":{\"type\":\"object\",\"name\":\"BasicTicker\",\"id\":\"p1454\",\"attributes\":{\"mantissas\":[1,2,5]}},\"formatter\":{\"type\":\"object\",\"name\":\"NumeralTickFormatter\",\"id\":\"p1481\"},\"axis_label\":\"Gaji\",\"axis_label_text_font_style\":\"bold\",\"major_label_policy\":{\"type\":\"object\",\"name\":\"AllLabels\",\"id\":\"p1456\"},\"major_label_text_font_style\":\"bold\",\"axis_line_width\":1.1}}],\"below\":[{\"type\":\"object\",\"name\":\"CategoricalAxis\",\"id\":\"p1448\",\"attributes\":{\"ticker\":{\"type\":\"object\",\"name\":\"CategoricalTicker\",\"id\":\"p1449\"},\"formatter\":{\"type\":\"object\",\"name\":\"CategoricalTickFormatter\",\"id\":\"p1450\"},\"axis_label\":\"Lokasi Pekerjaan\",\"axis_label_text_font_style\":\"bold\",\"major_label_orientation\":1,\"major_label_policy\":{\"type\":\"object\",\"name\":\"AllLabels\",\"id\":\"p1451\"},\"major_label_text_font_style\":\"bold\",\"axis_line_width\":1.1}}],\"center\":[{\"type\":\"object\",\"name\":\"Grid\",\"id\":\"p1452\",\"attributes\":{\"axis\":{\"id\":\"p1448\"},\"grid_line_color\":null}},{\"type\":\"object\",\"name\":\"Grid\",\"id\":\"p1457\",\"attributes\":{\"dimension\":1,\"axis\":{\"id\":\"p1453\"}}},{\"type\":\"object\",\"name\":\"Legend\",\"id\":\"p1478\",\"attributes\":{\"location\":\"top_center\",\"orientation\":\"horizontal\",\"spacing\":10,\"items\":[{\"type\":\"object\",\"name\":\"LegendItem\",\"id\":\"p1479\",\"attributes\":{\"label\":{\"type\":\"field\",\"field\":\"x\"},\"renderers\":[{\"id\":\"p1475\"}]}}]}}]}}]}};\n  const render_items = [{\"docid\":\"693498cf-8aee-4fb9-b84b-f47753f0b9c7\",\"roots\":{\"p1435\":\"a4fd325a-13d8-4a0d-a5ee-efd255d3c98b\"},\"root_ids\":[\"p1435\"]}];\n  void root.Bokeh.embed.embed_items_notebook(docs_json, render_items);\n  }\n  if (root.Bokeh !== undefined) {\n    embed_document(root);\n  } else {\n    let attempts = 0;\n    const timer = setInterval(function(root) {\n      if (root.Bokeh !== undefined) {\n        clearInterval(timer);\n        embed_document(root);\n      } else {\n        attempts++;\n        if (attempts > 100) {\n          clearInterval(timer);\n          console.log(\"Bokeh: ERROR: Unable to run BokehJS code because BokehJS library is missing\");\n        }\n      }\n    }, 10, root)\n  }\n})(window);",
      "application/vnd.bokehjs_exec.v0+json": ""
     },
     "metadata": {
      "application/vnd.bokehjs_exec.v0+json": {
       "id": "p1435"
      }
     },
     "output_type": "display_data"
    }
   ],
   "source": [
    "plot_bar_2_column(top_5_salaries, 'company_location', 'salary_in_usd', title=\"Korelasi Lokasi Pekerjaan dengan Gaji\", x_label=\"Lokasi Pekerjaan\", y_label=\"Gaji\")"
   ]
  },
  {
   "cell_type": "code",
   "execution_count": 55,
   "metadata": {},
   "outputs": [
    {
     "name": "stdout",
     "output_type": "stream",
     "text": [
      "tau-correlation: 0.24, p-value: 1.8575035385864825e-298\n"
     ]
    }
   ],
   "source": [
    "# Menampilkan Bentuk Korelasi\n",
    "corr_tau, pval_k = stats.kendalltau(df['company_location'], df['salary_in_usd'])\n",
    "print(f\"tau-correlation: {corr_tau:.2f}, p-value: {pval_k}\")"
   ]
  },
  {
   "cell_type": "markdown",
   "metadata": {},
   "source": [
    "***Insight :***\n",
    "\n",
    "Hasil pengujian menunjukkan nilai tau-korelasi sebesar 0.24 dan nilai p sebesar 1.8575035385864825e-298. Berikut adalah penjelasannya:\n",
    "\n",
    "- Nilai tau-korelasi (0.24): Nilai ini menunjukkan tingkat kekuatan dan arah hubungan antara dua variabel ordinal (seperti lokasi pekerjaan dan gaji). Dalam hal ini, nilai tau-korelasi sebesar 0.24 menunjukkan korelasi yang moderat antara lokasi pekerjaan dan gaji. Artinya, terdapat hubungan yang signifikan antara lokasi pekerjaan dengan pertumbuhan gaji.\n",
    "\n",
    "- Nilai p (1.8575035385864825e-298): Nilai p yang sangat kecil menunjukkan bahwa hasil pengujian statistik sangat signifikan secara statistik. Dalam konteks hipotesis yang diajukan, nilai p yang sangat kecil ini memungkinkan kita untuk menolak hipotesis nol (H0) yang menyatakan tidak terdapat korelasi antara lokasi pekerjaan dengan pertumbuhan gaji.\n",
    "\n",
    "Berdasarkan hasil ini, kita dapat menyimpulkan bahwa terdapat hubungan yang moderat antara lokasi pekerjaan dan pertumbuhan gaji dalam industri ini. Dengan demikian, lokasi pekerjaan dapat menjadi faktor yang berpengaruh dalam menentukan tingkat gaji seseorang di bidang ini. Berikut beberapa penjelasan terkait fenomena ini:\n",
    "\n",
    "- Perbedaan Tingkat Hidup: Lokasi pekerjaan dapat memengaruhi tingkat penghasilan seseorang karena perbedaan biaya hidup antar daerah. Misalnya, pekerja di daerah dengan biaya hidup yang tinggi cenderung menerima gaji yang lebih tinggi untuk mencukupi kebutuhan sehari-hari yang lebih mahal.\n",
    "\n",
    "- Pasar Kerja Lokal: Kondisi pasar kerja lokal juga memainkan peran penting. Di daerah dengan permintaan yang tinggi terhadap tenaga kerja di bidang Data Science, gaji cenderung lebih tinggi karena persaingan untuk menarik dan mempertahankan bakat yang berkualitas.\n",
    "\n",
    "- Pengaruh Industri dan Ekosistem Bisnis: Lokasi pekerjaan juga dapat memengaruhi tingkat gaji melalui kehadiran industri dan ekosistem bisnis yang berkembang. Misalnya, daerah yang memiliki banyak perusahaan teknologi atau startup cenderung menawarkan gaji yang lebih kompetitif karena adanya persaingan yang ketat untuk bakat terbaik.\n",
    "\n",
    "- Ketersediaan Bakat Lokal: Faktor lain yang memengaruhi korelasi antara lokasi pekerjaan dan gaji adalah ketersediaan bakat lokal. Di daerah dengan pasokan bakat yang terbatas, perusahaan mungkin cenderung menawarkan gaji yang lebih tinggi untuk menarik karyawan yang berkualitas.\n",
    "    "
   ]
  },
  {
   "cell_type": "markdown",
   "metadata": {},
   "source": [
    "#### **Korelasi Ukuran Perusahaan dengan Gaji**\n",
    "\n",
    "---"
   ]
  },
  {
   "cell_type": "markdown",
   "metadata": {},
   "source": [
    "Untuk menguji apakah terdapat pengaruh hubungan pengalaman kerja dengan gaji, hipotesis berikut akan diuji:\n",
    "\n",
    "- H0: Tidak terdapat korelasi antara ukuran perusahaan dengan pertumbuhan gaji.\n",
    "\n",
    "- H1: Terdapat korelasi antara ukuran perusahaan dengan pertumbuhan gaji.\n",
    "\n",
    "---"
   ]
  },
  {
   "cell_type": "code",
   "execution_count": 56,
   "metadata": {},
   "outputs": [
    {
     "data": {
      "text/html": [
       "    <style>\n",
       "        .bk-notebook-logo {\n",
       "            display: block;\n",
       "            width: 20px;\n",
       "            height: 20px;\n",
       "            background-image: url(data:image/png;base64,iVBORw0KGgoAAAANSUhEUgAAABQAAAAUCAYAAACNiR0NAAAABHNCSVQICAgIfAhkiAAAAAlwSFlzAAALEgAACxIB0t1+/AAAABx0RVh0U29mdHdhcmUAQWRvYmUgRmlyZXdvcmtzIENTNui8sowAAAOkSURBVDiNjZRtaJVlGMd/1/08zzln5zjP1LWcU9N0NkN8m2CYjpgQYQXqSs0I84OLIC0hkEKoPtiH3gmKoiJDU7QpLgoLjLIQCpEsNJ1vqUOdO7ppbuec5+V+rj4ctwzd8IIbbi6u+8f1539dt3A78eXC7QizUF7gyV1fD1Yqg4JWz84yffhm0qkFqBogB9rM8tZdtwVsPUhWhGcFJngGeWrPzHm5oaMmkfEg1usvLFyc8jLRqDOMru7AyC8saQr7GG7f5fvDeH7Ej8CM66nIF+8yngt6HWaKh7k49Soy9nXurCi1o3qUbS3zWfrYeQDTB/Qj6kX6Ybhw4B+bOYoLKCC9H3Nu/leUTZ1JdRWkkn2ldcCamzrcf47KKXdAJllSlxAOkRgyHsGC/zRday5Qld9DyoM4/q/rUoy/CXh3jzOu3bHUVZeU+DEn8FInkPBFlu3+nW3Nw0mk6vCDiWg8CeJaxEwuHS3+z5RgY+YBR6V1Z1nxSOfoaPa4LASWxxdNp+VWTk7+4vzaou8v8PN+xo+KY2xsw6une2frhw05CTYOmQvsEhjhWjn0bmXPjpE1+kplmmkP3suftwTubK9Vq22qKmrBhpY4jvd5afdRA3wGjFAgcnTK2s4hY0/GPNIb0nErGMCRxWOOX64Z8RAC4oCXdklmEvcL8o0BfkNK4lUg9HTl+oPlQxdNo3Mg4Nv175e/1LDGzZen30MEjRUtmXSfiTVu1kK8W4txyV6BMKlbgk3lMwYCiusNy9fVfvvwMxv8Ynl6vxoByANLTWplvuj/nF9m2+PDtt1eiHPBr1oIfhCChQMBw6Aw0UulqTKZdfVvfG7VcfIqLG9bcldL/+pdWTLxLUy8Qq38heUIjh4XlzZxzQm19lLFlr8vdQ97rjZVOLf8nclzckbcD4wxXMidpX30sFd37Fv/GtwwhzhxGVAprjbg0gCAEeIgwCZyTV2Z1REEW8O4py0wsjeloKoMr6iCY6dP92H6Vw/oTyICIthibxjm/DfN9lVz8IqtqKYLUXfoKVMVQVVJOElGjrnnUt9T9wbgp8AyYKaGlqingHZU/uG2NTZSVqwHQTWkx9hxjkpWDaCg6Ckj5qebgBVbT3V3NNXMSiWSDdGV3hrtzla7J+duwPOToIg42ChPQOQjspnSlp1V+Gjdged7+8UN5CRAV7a5EdFNwCjEaBR27b3W890TE7g24NAP/mMDXRWrGoFPQI9ls/MWO2dWFAar/xcOIImbbpA3zgAAAABJRU5ErkJggg==);\n",
       "        }\n",
       "    </style>\n",
       "    <div>\n",
       "        <a href=\"https://bokeh.org\" target=\"_blank\" class=\"bk-notebook-logo\"></a>\n",
       "        <span id=\"cb502fcc-a5b7-4626-90af-e5355c8315d1\">Loading BokehJS ...</span>\n",
       "    </div>\n"
      ]
     },
     "metadata": {},
     "output_type": "display_data"
    },
    {
     "data": {
      "application/javascript": "'use strict';\n(function(root) {\n  function now() {\n    return new Date();\n  }\n\n  const force = true;\n\n  if (typeof root._bokeh_onload_callbacks === \"undefined\" || force === true) {\n    root._bokeh_onload_callbacks = [];\n    root._bokeh_is_loading = undefined;\n  }\n\nconst JS_MIME_TYPE = 'application/javascript';\n  const HTML_MIME_TYPE = 'text/html';\n  const EXEC_MIME_TYPE = 'application/vnd.bokehjs_exec.v0+json';\n  const CLASS_NAME = 'output_bokeh rendered_html';\n\n  /**\n   * Render data to the DOM node\n   */\n  function render(props, node) {\n    const script = document.createElement(\"script\");\n    node.appendChild(script);\n  }\n\n  /**\n   * Handle when an output is cleared or removed\n   */\n  function handleClearOutput(event, handle) {\n    function drop(id) {\n      const view = Bokeh.index.get_by_id(id)\n      if (view != null) {\n        view.model.document.clear()\n        Bokeh.index.delete(view)\n      }\n    }\n\n    const cell = handle.cell;\n\n    const id = cell.output_area._bokeh_element_id;\n    const server_id = cell.output_area._bokeh_server_id;\n\n    // Clean up Bokeh references\n    if (id != null) {\n      drop(id)\n    }\n\n    if (server_id !== undefined) {\n      // Clean up Bokeh references\n      const cmd_clean = \"from bokeh.io.state import curstate; print(curstate().uuid_to_server['\" + server_id + \"'].get_sessions()[0].document.roots[0]._id)\";\n      cell.notebook.kernel.execute(cmd_clean, {\n        iopub: {\n          output: function(msg) {\n            const id = msg.content.text.trim()\n            drop(id)\n          }\n        }\n      });\n      // Destroy server and session\n      const cmd_destroy = \"import bokeh.io.notebook as ion; ion.destroy_server('\" + server_id + \"')\";\n      cell.notebook.kernel.execute(cmd_destroy);\n    }\n  }\n\n  /**\n   * Handle when a new output is added\n   */\n  function handleAddOutput(event, handle) {\n    const output_area = handle.output_area;\n    const output = handle.output;\n\n    // limit handleAddOutput to display_data with EXEC_MIME_TYPE content only\n    if ((output.output_type != \"display_data\") || (!Object.prototype.hasOwnProperty.call(output.data, EXEC_MIME_TYPE))) {\n      return\n    }\n\n    const toinsert = output_area.element.find(\".\" + CLASS_NAME.split(' ')[0]);\n\n    if (output.metadata[EXEC_MIME_TYPE][\"id\"] !== undefined) {\n      toinsert[toinsert.length - 1].firstChild.textContent = output.data[JS_MIME_TYPE];\n      // store reference to embed id on output_area\n      output_area._bokeh_element_id = output.metadata[EXEC_MIME_TYPE][\"id\"];\n    }\n    if (output.metadata[EXEC_MIME_TYPE][\"server_id\"] !== undefined) {\n      const bk_div = document.createElement(\"div\");\n      bk_div.innerHTML = output.data[HTML_MIME_TYPE];\n      const script_attrs = bk_div.children[0].attributes;\n      for (let i = 0; i < script_attrs.length; i++) {\n        toinsert[toinsert.length - 1].firstChild.setAttribute(script_attrs[i].name, script_attrs[i].value);\n        toinsert[toinsert.length - 1].firstChild.textContent = bk_div.children[0].textContent\n      }\n      // store reference to server id on output_area\n      output_area._bokeh_server_id = output.metadata[EXEC_MIME_TYPE][\"server_id\"];\n    }\n  }\n\n  function register_renderer(events, OutputArea) {\n\n    function append_mime(data, metadata, element) {\n      // create a DOM node to render to\n      const toinsert = this.create_output_subarea(\n        metadata,\n        CLASS_NAME,\n        EXEC_MIME_TYPE\n      );\n      this.keyboard_manager.register_events(toinsert);\n      // Render to node\n      const props = {data: data, metadata: metadata[EXEC_MIME_TYPE]};\n      render(props, toinsert[toinsert.length - 1]);\n      element.append(toinsert);\n      return toinsert\n    }\n\n    /* Handle when an output is cleared or removed */\n    events.on('clear_output.CodeCell', handleClearOutput);\n    events.on('delete.Cell', handleClearOutput);\n\n    /* Handle when a new output is added */\n    events.on('output_added.OutputArea', handleAddOutput);\n\n    /**\n     * Register the mime type and append_mime function with output_area\n     */\n    OutputArea.prototype.register_mime_type(EXEC_MIME_TYPE, append_mime, {\n      /* Is output safe? */\n      safe: true,\n      /* Index of renderer in `output_area.display_order` */\n      index: 0\n    });\n  }\n\n  // register the mime type if in Jupyter Notebook environment and previously unregistered\n  if (root.Jupyter !== undefined) {\n    const events = require('base/js/events');\n    const OutputArea = require('notebook/js/outputarea').OutputArea;\n\n    if (OutputArea.prototype.mime_types().indexOf(EXEC_MIME_TYPE) == -1) {\n      register_renderer(events, OutputArea);\n    }\n  }\n  if (typeof (root._bokeh_timeout) === \"undefined\" || force === true) {\n    root._bokeh_timeout = Date.now() + 5000;\n    root._bokeh_failed_load = false;\n  }\n\n  const NB_LOAD_WARNING = {'data': {'text/html':\n     \"<div style='background-color: #fdd'>\\n\"+\n     \"<p>\\n\"+\n     \"BokehJS does not appear to have successfully loaded. If loading BokehJS from CDN, this \\n\"+\n     \"may be due to a slow or bad network connection. Possible fixes:\\n\"+\n     \"</p>\\n\"+\n     \"<ul>\\n\"+\n     \"<li>re-rerun `output_notebook()` to attempt to load from CDN again, or</li>\\n\"+\n     \"<li>use INLINE resources instead, as so:</li>\\n\"+\n     \"</ul>\\n\"+\n     \"<code>\\n\"+\n     \"from bokeh.resources import INLINE\\n\"+\n     \"output_notebook(resources=INLINE)\\n\"+\n     \"</code>\\n\"+\n     \"</div>\"}};\n\n  function display_loaded(error = null) {\n    const el = document.getElementById(\"cb502fcc-a5b7-4626-90af-e5355c8315d1\");\n    if (el != null) {\n      const html = (() => {\n        if (typeof root.Bokeh === \"undefined\") {\n          if (error == null) {\n            return \"BokehJS is loading ...\";\n          } else {\n            return \"BokehJS failed to load.\";\n          }\n        } else {\n          const prefix = `BokehJS ${root.Bokeh.version}`;\n          if (error == null) {\n            return `${prefix} successfully loaded.`;\n          } else {\n            return `${prefix} <b>encountered errors</b> while loading and may not function as expected.`;\n          }\n        }\n      })();\n      el.innerHTML = html;\n\n      if (error != null) {\n        const wrapper = document.createElement(\"div\");\n        wrapper.style.overflow = \"auto\";\n        wrapper.style.height = \"5em\";\n        wrapper.style.resize = \"vertical\";\n        const content = document.createElement(\"div\");\n        content.style.fontFamily = \"monospace\";\n        content.style.whiteSpace = \"pre-wrap\";\n        content.style.backgroundColor = \"rgb(255, 221, 221)\";\n        content.textContent = error.stack ?? error.toString();\n        wrapper.append(content);\n        el.append(wrapper);\n      }\n    } else if (Date.now() < root._bokeh_timeout) {\n      setTimeout(() => display_loaded(error), 100);\n    }\n  }\n\n  function run_callbacks() {\n    try {\n      root._bokeh_onload_callbacks.forEach(function(callback) {\n        if (callback != null)\n          callback();\n      });\n    } finally {\n      delete root._bokeh_onload_callbacks\n    }\n    console.debug(\"Bokeh: all callbacks have finished\");\n  }\n\n  function load_libs(css_urls, js_urls, callback) {\n    if (css_urls == null) css_urls = [];\n    if (js_urls == null) js_urls = [];\n\n    root._bokeh_onload_callbacks.push(callback);\n    if (root._bokeh_is_loading > 0) {\n      console.debug(\"Bokeh: BokehJS is being loaded, scheduling callback at\", now());\n      return null;\n    }\n    if (js_urls == null || js_urls.length === 0) {\n      run_callbacks();\n      return null;\n    }\n    console.debug(\"Bokeh: BokehJS not loaded, scheduling load and callback at\", now());\n    root._bokeh_is_loading = css_urls.length + js_urls.length;\n\n    function on_load() {\n      root._bokeh_is_loading--;\n      if (root._bokeh_is_loading === 0) {\n        console.debug(\"Bokeh: all BokehJS libraries/stylesheets loaded\");\n        run_callbacks()\n      }\n    }\n\n    function on_error(url) {\n      console.error(\"failed to load \" + url);\n    }\n\n    for (let i = 0; i < css_urls.length; i++) {\n      const url = css_urls[i];\n      const element = document.createElement(\"link\");\n      element.onload = on_load;\n      element.onerror = on_error.bind(null, url);\n      element.rel = \"stylesheet\";\n      element.type = \"text/css\";\n      element.href = url;\n      console.debug(\"Bokeh: injecting link tag for BokehJS stylesheet: \", url);\n      document.body.appendChild(element);\n    }\n\n    for (let i = 0; i < js_urls.length; i++) {\n      const url = js_urls[i];\n      const element = document.createElement('script');\n      element.onload = on_load;\n      element.onerror = on_error.bind(null, url);\n      element.async = false;\n      element.src = url;\n      console.debug(\"Bokeh: injecting script tag for BokehJS library: \", url);\n      document.head.appendChild(element);\n    }\n  };\n\n  function inject_raw_css(css) {\n    const element = document.createElement(\"style\");\n    element.appendChild(document.createTextNode(css));\n    document.body.appendChild(element);\n  }\n\n  const js_urls = [\"https://cdn.bokeh.org/bokeh/release/bokeh-3.4.1.min.js\", \"https://cdn.bokeh.org/bokeh/release/bokeh-gl-3.4.1.min.js\", \"https://cdn.bokeh.org/bokeh/release/bokeh-widgets-3.4.1.min.js\", \"https://cdn.bokeh.org/bokeh/release/bokeh-tables-3.4.1.min.js\", \"https://cdn.bokeh.org/bokeh/release/bokeh-mathjax-3.4.1.min.js\"];\n  const css_urls = [];\n\n  const inline_js = [    function(Bokeh) {\n      Bokeh.set_log_level(\"info\");\n    },\nfunction(Bokeh) {\n    }\n  ];\n\n  function run_inline_js() {\n    if (root.Bokeh !== undefined || force === true) {\n      try {\n            for (let i = 0; i < inline_js.length; i++) {\n      inline_js[i].call(root, root.Bokeh);\n    }\n\n      } catch (error) {display_loaded(error);throw error;\n      }if (force === true) {\n        display_loaded();\n      }} else if (Date.now() < root._bokeh_timeout) {\n      setTimeout(run_inline_js, 100);\n    } else if (!root._bokeh_failed_load) {\n      console.log(\"Bokeh: BokehJS failed to load within specified timeout.\");\n      root._bokeh_failed_load = true;\n    } else if (force !== true) {\n      const cell = $(document.getElementById(\"cb502fcc-a5b7-4626-90af-e5355c8315d1\")).parents('.cell').data().cell;\n      cell.output_area.append_execute_result(NB_LOAD_WARNING)\n    }\n  }\n\n  if (root._bokeh_is_loading === 0) {\n    console.debug(\"Bokeh: BokehJS loaded, going straight to plotting\");\n    run_inline_js();\n  } else {\n    load_libs(css_urls, js_urls, function() {\n      console.debug(\"Bokeh: BokehJS plotting callback run at\", now());\n      run_inline_js();\n    });\n  }\n}(window));",
      "application/vnd.bokehjs_load.v0+json": ""
     },
     "metadata": {},
     "output_type": "display_data"
    },
    {
     "data": {
      "text/html": [
       "\n",
       "  <div id=\"a71276af-0b10-4ffc-989e-3b34f8f08340\" data-root-id=\"p1486\" style=\"display: contents;\"></div>\n"
      ]
     },
     "metadata": {},
     "output_type": "display_data"
    },
    {
     "data": {
      "application/javascript": "(function(root) {\n  function embed_document(root) {\n  const docs_json = {\"46d761bc-d0b8-4ae7-a533-e3dbcca29e96\":{\"version\":\"3.4.1\",\"title\":\"Bokeh Application\",\"roots\":[{\"type\":\"object\",\"name\":\"Figure\",\"id\":\"p1486\",\"attributes\":{\"x_range\":{\"type\":\"object\",\"name\":\"FactorRange\",\"id\":\"p1496\",\"attributes\":{\"factors\":[\"L\",\"M\",\"S\"]}},\"y_range\":{\"type\":\"object\",\"name\":\"DataRange1d\",\"id\":\"p1488\",\"attributes\":{\"start\":0,\"end\":181120.5810443177}},\"x_scale\":{\"type\":\"object\",\"name\":\"CategoricalScale\",\"id\":\"p1497\"},\"y_scale\":{\"type\":\"object\",\"name\":\"LinearScale\",\"id\":\"p1498\"},\"title\":{\"type\":\"object\",\"name\":\"Title\",\"id\":\"p1489\",\"attributes\":{\"text\":\"Korelasi Ukuran Perusahaan dengan Gaji\",\"text_font_size\":\"12pt\",\"align\":\"center\"}},\"renderers\":[{\"type\":\"object\",\"name\":\"GlyphRenderer\",\"id\":\"p1526\",\"attributes\":{\"data_source\":{\"type\":\"object\",\"name\":\"ColumnDataSource\",\"id\":\"p1483\",\"attributes\":{\"selected\":{\"type\":\"object\",\"name\":\"Selection\",\"id\":\"p1484\",\"attributes\":{\"indices\":[],\"line_indices\":[]}},\"selection_policy\":{\"type\":\"object\",\"name\":\"UnionRenderers\",\"id\":\"p1485\"},\"data\":{\"type\":\"map\",\"entries\":[[\"x\",{\"type\":\"ndarray\",\"array\":[\"L\",\"M\",\"S\"],\"shape\":[3],\"dtype\":\"object\",\"order\":\"little\"}],[\"y\",{\"type\":\"ndarray\",\"array\":{\"type\":\"bytes\",\"data\":\"xdTJr5MKAUF9zVCKrmwCQTl43xppJfVA\"},\"shape\":[3],\"dtype\":\"float64\",\"order\":\"little\"}]]}}},\"view\":{\"type\":\"object\",\"name\":\"CDSView\",\"id\":\"p1527\",\"attributes\":{\"filter\":{\"type\":\"object\",\"name\":\"AllIndices\",\"id\":\"p1528\"}}},\"glyph\":{\"type\":\"object\",\"name\":\"VBar\",\"id\":\"p1523\",\"attributes\":{\"x\":{\"type\":\"field\",\"field\":\"x\"},\"width\":{\"type\":\"value\",\"value\":0.9},\"top\":{\"type\":\"field\",\"field\":\"y\"},\"line_color\":{\"type\":\"value\",\"value\":\"white\"},\"fill_color\":{\"type\":\"field\",\"field\":\"x\",\"transform\":{\"type\":\"object\",\"name\":\"CategoricalColorMapper\",\"id\":\"p1519\",\"attributes\":{\"palette\":[\"#390062\",\"#0cce35\",\"#8cd0a4\"],\"factors\":{\"type\":\"ndarray\",\"array\":[\"L\",\"M\",\"S\"],\"shape\":[3],\"dtype\":\"object\",\"order\":\"little\"}}}}}},\"nonselection_glyph\":{\"type\":\"object\",\"name\":\"VBar\",\"id\":\"p1524\",\"attributes\":{\"x\":{\"type\":\"field\",\"field\":\"x\"},\"width\":{\"type\":\"value\",\"value\":0.9},\"top\":{\"type\":\"field\",\"field\":\"y\"},\"line_color\":{\"type\":\"value\",\"value\":\"white\"},\"line_alpha\":{\"type\":\"value\",\"value\":0.1},\"fill_color\":{\"type\":\"field\",\"field\":\"x\",\"transform\":{\"id\":\"p1519\"}},\"fill_alpha\":{\"type\":\"value\",\"value\":0.1},\"hatch_alpha\":{\"type\":\"value\",\"value\":0.1}}},\"muted_glyph\":{\"type\":\"object\",\"name\":\"VBar\",\"id\":\"p1525\",\"attributes\":{\"x\":{\"type\":\"field\",\"field\":\"x\"},\"width\":{\"type\":\"value\",\"value\":0.9},\"top\":{\"type\":\"field\",\"field\":\"y\"},\"line_color\":{\"type\":\"value\",\"value\":\"white\"},\"line_alpha\":{\"type\":\"value\",\"value\":0.2},\"fill_color\":{\"type\":\"field\",\"field\":\"x\",\"transform\":{\"id\":\"p1519\"}},\"fill_alpha\":{\"type\":\"value\",\"value\":0.2},\"hatch_alpha\":{\"type\":\"value\",\"value\":0.2}}}}}],\"toolbar\":{\"type\":\"object\",\"name\":\"Toolbar\",\"id\":\"p1495\",\"attributes\":{\"tools\":[{\"type\":\"object\",\"name\":\"PanTool\",\"id\":\"p1509\"},{\"type\":\"object\",\"name\":\"BoxZoomTool\",\"id\":\"p1510\",\"attributes\":{\"overlay\":{\"type\":\"object\",\"name\":\"BoxAnnotation\",\"id\":\"p1511\",\"attributes\":{\"syncable\":false,\"level\":\"overlay\",\"visible\":false,\"left\":{\"type\":\"number\",\"value\":\"nan\"},\"right\":{\"type\":\"number\",\"value\":\"nan\"},\"top\":{\"type\":\"number\",\"value\":\"nan\"},\"bottom\":{\"type\":\"number\",\"value\":\"nan\"},\"left_units\":\"canvas\",\"right_units\":\"canvas\",\"top_units\":\"canvas\",\"bottom_units\":\"canvas\",\"line_color\":\"black\",\"line_alpha\":1.0,\"line_width\":2,\"line_dash\":[4,4],\"fill_color\":\"lightgrey\",\"fill_alpha\":0.5}}}},{\"type\":\"object\",\"name\":\"WheelZoomTool\",\"id\":\"p1516\",\"attributes\":{\"renderers\":\"auto\"}},{\"type\":\"object\",\"name\":\"ResetTool\",\"id\":\"p1517\"},{\"type\":\"object\",\"name\":\"SaveTool\",\"id\":\"p1518\"},{\"type\":\"object\",\"name\":\"HoverTool\",\"id\":\"p1531\",\"attributes\":{\"renderers\":\"auto\",\"tooltips\":[[\"Kategori\",\"@x\"],[\"Jumlah\",\"@y{0,0}\"]]}}]}},\"toolbar_location\":\"below\",\"left\":[{\"type\":\"object\",\"name\":\"LinearAxis\",\"id\":\"p1504\",\"attributes\":{\"ticker\":{\"type\":\"object\",\"name\":\"BasicTicker\",\"id\":\"p1505\",\"attributes\":{\"mantissas\":[1,2,5]}},\"formatter\":{\"type\":\"object\",\"name\":\"NumeralTickFormatter\",\"id\":\"p1532\"},\"axis_label\":\"Gaji\",\"axis_label_text_font_style\":\"bold\",\"major_label_policy\":{\"type\":\"object\",\"name\":\"AllLabels\",\"id\":\"p1507\"},\"major_label_text_font_style\":\"bold\",\"axis_line_width\":1.1}}],\"below\":[{\"type\":\"object\",\"name\":\"CategoricalAxis\",\"id\":\"p1499\",\"attributes\":{\"ticker\":{\"type\":\"object\",\"name\":\"CategoricalTicker\",\"id\":\"p1500\"},\"formatter\":{\"type\":\"object\",\"name\":\"CategoricalTickFormatter\",\"id\":\"p1501\"},\"axis_label\":\"Ukuran Perusahaan\",\"axis_label_text_font_style\":\"bold\",\"major_label_orientation\":1,\"major_label_policy\":{\"type\":\"object\",\"name\":\"AllLabels\",\"id\":\"p1502\"},\"major_label_text_font_style\":\"bold\",\"axis_line_width\":1.1}}],\"center\":[{\"type\":\"object\",\"name\":\"Grid\",\"id\":\"p1503\",\"attributes\":{\"axis\":{\"id\":\"p1499\"},\"grid_line_color\":null}},{\"type\":\"object\",\"name\":\"Grid\",\"id\":\"p1508\",\"attributes\":{\"dimension\":1,\"axis\":{\"id\":\"p1504\"}}},{\"type\":\"object\",\"name\":\"Legend\",\"id\":\"p1529\",\"attributes\":{\"location\":\"top_center\",\"orientation\":\"horizontal\",\"spacing\":10,\"items\":[{\"type\":\"object\",\"name\":\"LegendItem\",\"id\":\"p1530\",\"attributes\":{\"label\":{\"type\":\"field\",\"field\":\"x\"},\"renderers\":[{\"id\":\"p1526\"}]}}]}}]}}]}};\n  const render_items = [{\"docid\":\"46d761bc-d0b8-4ae7-a533-e3dbcca29e96\",\"roots\":{\"p1486\":\"a71276af-0b10-4ffc-989e-3b34f8f08340\"},\"root_ids\":[\"p1486\"]}];\n  void root.Bokeh.embed.embed_items_notebook(docs_json, render_items);\n  }\n  if (root.Bokeh !== undefined) {\n    embed_document(root);\n  } else {\n    let attempts = 0;\n    const timer = setInterval(function(root) {\n      if (root.Bokeh !== undefined) {\n        clearInterval(timer);\n        embed_document(root);\n      } else {\n        attempts++;\n        if (attempts > 100) {\n          clearInterval(timer);\n          console.log(\"Bokeh: ERROR: Unable to run BokehJS code because BokehJS library is missing\");\n        }\n      }\n    }, 10, root)\n  }\n})(window);",
      "application/vnd.bokehjs_exec.v0+json": ""
     },
     "metadata": {
      "application/vnd.bokehjs_exec.v0+json": {
       "id": "p1486"
      }
     },
     "output_type": "display_data"
    }
   ],
   "source": [
    "# Menghitung rata-rata gaji untuk setiap tahun\n",
    "avg_salaries_size = df.groupby('company_size')['salary_in_usd'].mean().reset_index()\n",
    "plot_bar_2_column(avg_salaries_size, 'company_size', 'salary_in_usd', title=\"Korelasi Ukuran Perusahaan dengan Gaji\", x_label=\"Ukuran Perusahaan\", y_label=\"Gaji\")"
   ]
  },
  {
   "cell_type": "code",
   "execution_count": 57,
   "metadata": {},
   "outputs": [
    {
     "name": "stdout",
     "output_type": "stream",
     "text": [
      "tau-correlation: -0.00, p-value: 0.5407196676566941\n"
     ]
    }
   ],
   "source": [
    "# Menampilkan Bentuk Korelasi\n",
    "corr_tau, pval_k = stats.kendalltau(df['company_size'], df['salary_in_usd'])\n",
    "print(f\"tau-correlation: {corr_tau:.2f}, p-value: {pval_k}\")"
   ]
  },
  {
   "cell_type": "markdown",
   "metadata": {},
   "source": [
    "***Insight :***\n",
    "\n",
    "Hasil pengujian menunjukkan nilai tau-korelasi sebesar -0.00 dan nilai p sebesar 0.5407196676566941. Berikut adalah penjelasannya:\n",
    "\n",
    "- Nilai tau-korelasi (-0.00): Nilai ini menunjukkan tingkat kekuatan dan arah hubungan antara dua variabel ordinal (seperti ukuran perusahaan dan gaji). Dalam hal ini, nilai tau-korelasi yang sangat mendekati nol menunjukkan bahwa tidak ada korelasi yang signifikan antara ukuran perusahaan dengan pertumbuhan gaji. Nilai negatif menunjukkan bahwa tidak ada hubungan linier antara variabel-variabel tersebut.\n",
    "\n",
    "- Nilai p (0.5407196676566941): Nilai p yang cukup besar menunjukkan bahwa hasil pengujian statistik tidak signifikan secara statistik. Dalam konteks hipotesis yang diajukan, nilai p yang besar ini menunjukkan bahwa tidak ada cukup bukti untuk menolak hipotesis nol (H0) yang menyatakan tidak terdapat korelasi antara ukuran perusahaan dengan pertumbuhan gaji.\n",
    "\n",
    "Berdasarkan hasil ini, kita tidak dapat menyimpulkan adanya hubungan antara ukuran perusahaan dengan pertumbuhan gaji dalam industri ini. Meskipun ukuran perusahaan mungkin memainkan peran dalam menentukan tingkat gaji di beberapa konteks, temuan ini menunjukkan bahwa dalam konteks ya Berikut beberapa penjelasan terkait fenomena ini:\n",
    "\n",
    "- Fleksibilitas Gaji: Industri Data Science seringkali menawarkan fleksibilitas dalam hal kompensasi, terutama terkait dengan ukuran perusahaan. Meskipun perusahaan besar mungkin memiliki sumber daya yang lebih besar untuk menawarkan gaji yang tinggi, perusahaan kecil atau startup mungkin menawarkan kompensasi yang kompetitif dalam bentuk opsi saham atau peluang pertumbuhan karir yang lebih cepat.\n",
    "\n",
    "- Kebutuhan akan Bakat Berkualitas: Industri Data Science seringkali didorong oleh inovasi dan kebutuhan akan bakat berkualitas. Karena itu, perusahaan, baik besar maupun kecil, mungkin bersaing untuk menarik dan mempertahankan bakat terbaik dengan menawarkan paket kompensasi yang menarik, terlepas dari ukuran perusahaan tersebut.\n",
    "\n",
    "- Pengaruh Faktor-Faktor Lain: Selain ukuran perusahaan, terdapat banyak faktor lain yang dapat memengaruhi tingkat gaji seseorang di bidang Data Science, seperti tingkat pengalaman, lokasi geografis, spesialisasi keterampilan, dan kondisi pasar kerja lokal. Oleh karena itu, pengaruh ukuran perusahaan terhadap pertumbuhan gaji mungkin diimbangi oleh faktor-faktor lain yang lebih signifikan dalam menentukan kompensasi karyawan.\n",
    "\n",
    "- Tren Industri: Tren industri dan ekonomi secara keseluruhan juga dapat memengaruhi hubungan antara ukuran perusahaan dan pertumbuhan gaji. Misalnya, dalam periode di mana startup mengalami pertumbuhan pesat, kompensasi yang ditawarkan oleh perusahaan kecil mungkin lebih kompetitif dibandingkan dengan perusahaan besar yang mungkin memiliki pembatasan anggaran atau struktur kompensasi yang lebih kaku.\n",
    "\n",
    "---"
   ]
  },
  {
   "cell_type": "markdown",
   "metadata": {},
   "source": [
    "## ***Kesimpulan*** \n",
    "\n",
    "---"
   ]
  },
  {
   "cell_type": "markdown",
   "metadata": {},
   "source": [
    "Dengan menganalisis data, dapat disimpulkan bahwa:\n",
    "\n",
    "- Ada korelasi moderat antara pengalaman kerja dan gaji dalam industri Data Science. Semakin tinggi tingkat pengalaman, semakin besar kemungkinan mendapatkan gaji yang lebih tinggi.\n",
    "\n",
    "- Lokasi pekerjaan memainkan peran penting dalam menentukan gaji, dengan perbedaan gaji yang tercermin dari faktor-faktor seperti biaya hidup, persaingan pasar kerja lokal, dan kondisi ekonomi regional.\n",
    "\n",
    "- Tidak ada bukti signifikan yang menunjukkan bahwa ukuran perusahaan secara langsung memengaruhi pertumbuhan gaji dalam industri Data Science, menyoroti pentingnya faktor-faktor lain seperti fleksibilitas kompensasi, kebutuhan akan bakat berkualitas, dan dinamika pasar kerja.\n",
    "\n",
    "- Untuk menjawab pertanyaan 5W + 1 H:\n",
    "\n",
    "Metode | Analisis\n",
    "---|---\n",
    "Who | Ahli data atau analis data yang terampil menjadi sumber daya utama untuk memberikan wawasan dan pemahaman tentang tren gaji dalam dunia Data Science. Mereka memiliki kemampuan untuk mengumpulkan, menganalisis, dan memahami data gaji dari berbagai sumber, serta kemampuan untuk menerapkan teknik analisis statistik yang diperlukan.\n",
    "What | Ya, terdapat perbedaan dalam persepsi nilai antara profesional dengan tingkat pengalaman yang berbeda dalam industri Data Science. Profesional dengan tingkat pengalaman yang lebih tinggi cenderung memiliki nilai gaji yang lebih tinggi dibandingkan dengan profesional pemula atau dengan tingkat pengalaman yang lebih rendah. Ini disebabkan oleh akumulasi pengalaman, keterampilan yang lebih mendalam, serta kontribusi yang lebih besar terhadap perusahaan seiring berjalannya waktu.\n",
    "Where | Lokasi geografis tempat seseorang bekerja mempengaruhi tingkat gaji dalam dunia Data Science. Daerah dengan biaya hidup yang tinggi, seperti kota-kota besar atau pusat teknologi, cenderung menawarkan gaji yang lebih tinggi untuk mengkompensasi biaya hidup yang lebih tinggi. Selain itu, perbedaan dalam kondisi pasar kerja lokal dan ekosistem bisnis juga memengaruhi tingkat gaji di berbagai wilayah.\n",
    "When | Perubahan signifikan dalam tren data gaji dapat terjadi pada berbagai titik waktu, tergantung pada faktor-faktor eksternal dan internal yang memengaruhi pasar kerja. Ini bisa terjadi sebagai respons terhadap perubahan ekonomi global, perubahan kebijakan perusahaan, atau tren industri yang baru muncul. Analisis data secara teratur diperlukan untuk mengidentifikasi dan memahami perubahan-perubahan ini.\n",
    "Why | Perusahaan menggunakan wawasan dari data gaji ini dalam proses perekrutan karyawan untuk beberapa alasan. Pertama, data gaji membantu perusahaan menetapkan standar kompensasi yang adil dan kompetitif untuk menarik dan mempertahankan bakat terbaik. Selain itu, analisis data gaji juga dapat memberikan wawasan tentang tren pasar kerja, permintaan untuk keterampilan tertentu, dan nilai tambah dari karyawan dengan pengalaman atau keterampilan khusus.\n",
    "How | Penggunaan teknik analisis statistik membantu dalam memahami pola atau tren dalam data gaji dengan mengidentifikasi hubungan, pola, atau anomali yang mungkin terjadi. Teknik-teknik seperti korelasi, regresi, dan analisis varians dapat digunakan untuk mengeksplorasi hubungan antara variabel-variabel yang berbeda dalam data gaji, sementara visualisasi data memungkinkan representasi grafis yang jelas dari pola atau tren yang teridentifikasi."
   ]
  }
 ],
 "metadata": {
  "kernelspec": {
   "display_name": "Python 3",
   "language": "python",
   "name": "python3"
  },
  "language_info": {
   "codemirror_mode": {
    "name": "ipython",
    "version": 3
   },
   "file_extension": ".py",
   "mimetype": "text/x-python",
   "name": "python",
   "nbconvert_exporter": "python",
   "pygments_lexer": "ipython3",
   "version": "3.11.9"
  }
 },
 "nbformat": 4,
 "nbformat_minor": 2
}
